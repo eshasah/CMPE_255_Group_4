{
  "nbformat": 4,
  "nbformat_minor": 0,
  "metadata": {
    "colab": {
      "name": "Data Mining Project.ipynb",
      "provenance": [],
      "include_colab_link": true
    },
    "kernelspec": {
      "display_name": "Python 3",
      "name": "python3"
    },
    "language_info": {
      "name": "python"
    }
  },
  "cells": [
    {
      "cell_type": "markdown",
      "metadata": {
        "id": "view-in-github",
        "colab_type": "text"
      },
      "source": [
        "<a href=\"https://colab.research.google.com/github/siddhant-parmar/CMPE_255_Group_4/blob/main/Experiment/Data_Mining_Project.ipynb\" target=\"_parent\"><img src=\"https://colab.research.google.com/assets/colab-badge.svg\" alt=\"Open In Colab\"/></a>"
      ]
    },
    {
      "cell_type": "code",
      "metadata": {
        "id": "hYdAurnN2k8u"
      },
      "source": [
        "import numpy as np \n",
        "import pandas as pd \n",
        "import json\n",
        "import csv\n",
        "import os\n",
        "from pandas import json_normalize \n",
        "from sklearn.preprocessing import OneHotEncoder\n",
        "from sklearn.model_selection import train_test_split\n",
        "from sklearn.metrics import mean_absolute_error\n",
        "from xgboost import XGBRegressor"
      ],
      "execution_count": 2,
      "outputs": []
    },
    {
      "cell_type": "code",
      "metadata": {
        "colab": {
          "resources": {
            "http://localhost:8080/nbextensions/google.colab/files.js": {
              "data": "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",
              "ok": true,
              "headers": [
                [
                  "content-type",
                  "application/javascript"
                ]
              ],
              "status": 200,
              "status_text": ""
            }
          },
          "base_uri": "https://localhost:8080/",
          "height": 74
        },
        "id": "Tw0OXZ619m0u",
        "outputId": "beda5728-42e2-4b24-d46b-b5399b3e8552"
      },
      "source": [
        "from google.colab import files\n",
        "files.upload()\n",
        "\n",
        "! mkdir  ~/.kaggle\n",
        "!cp kaggle.json ~/.kaggle/"
      ],
      "execution_count": 2,
      "outputs": [
        {
          "output_type": "display_data",
          "data": {
            "text/html": [
              "\n",
              "     <input type=\"file\" id=\"files-e1ea6932-6600-41d2-9403-5b1807a4fe94\" name=\"files[]\" multiple disabled\n",
              "        style=\"border:none\" />\n",
              "     <output id=\"result-e1ea6932-6600-41d2-9403-5b1807a4fe94\">\n",
              "      Upload widget is only available when the cell has been executed in the\n",
              "      current browser session. Please rerun this cell to enable.\n",
              "      </output>\n",
              "      <script src=\"/nbextensions/google.colab/files.js\"></script> "
            ],
            "text/plain": [
              "<IPython.core.display.HTML object>"
            ]
          },
          "metadata": {}
        },
        {
          "output_type": "stream",
          "name": "stdout",
          "text": [
            "Saving kaggle.json to kaggle.json\n"
          ]
        }
      ]
    },
    {
      "cell_type": "code",
      "metadata": {
        "id": "4IM-VNLo-4IA"
      },
      "source": [
        "! chmod 600 ~/.kaggle/kaggle.json"
      ],
      "execution_count": 3,
      "outputs": []
    },
    {
      "cell_type": "code",
      "metadata": {
        "colab": {
          "base_uri": "https://localhost:8080/"
        },
        "id": "x0kOZfTo-6IE",
        "outputId": "0818f3b8-f8f9-4203-b2bc-5e5a361d2381"
      },
      "source": [
        "!kaggle datasets download -d yelp-dataset/yelp-dataset"
      ],
      "execution_count": 4,
      "outputs": [
        {
          "output_type": "stream",
          "name": "stdout",
          "text": [
            "Downloading yelp-dataset.zip to /content\n",
            "100% 4.92G/4.92G [01:36<00:00, 48.9MB/s]\n",
            "100% 4.92G/4.92G [01:36<00:00, 54.9MB/s]\n"
          ]
        }
      ]
    },
    {
      "cell_type": "code",
      "metadata": {
        "colab": {
          "base_uri": "https://localhost:8080/"
        },
        "id": "sD-5_1Dx_KQP",
        "outputId": "1e920c71-9388-406a-96a2-1a6a34d9dab3"
      },
      "source": [
        "from zipfile import ZipFile\n",
        "file_name = 'yelp-dataset.zip'\n",
        "with ZipFile(file_name,'r') as zip:\n",
        "   zip.extractall()\n",
        "print('Done')"
      ],
      "execution_count": 5,
      "outputs": [
        {
          "output_type": "stream",
          "name": "stdout",
          "text": [
            "Done\n"
          ]
        }
      ]
    },
    {
      "cell_type": "code",
      "metadata": {
        "colab": {
          "base_uri": "https://localhost:8080/"
        },
        "id": "WPyOwVypS-1l",
        "outputId": "387d1021-2bb5-4831-ab14-ac8d6780a6db"
      },
      "source": [
        "from google.colab import drive\n",
        "drive.mount('/content/drive')"
      ],
      "execution_count": 6,
      "outputs": [
        {
          "output_type": "stream",
          "name": "stdout",
          "text": [
            "Mounted at /content/drive\n"
          ]
        }
      ]
    },
    {
      "cell_type": "code",
      "metadata": {
        "colab": {
          "base_uri": "https://localhost:8080/"
        },
        "id": "rKasEXKmTIXG",
        "outputId": "e100a9a6-e9b7-454f-9a4b-dd5508365bc9"
      },
      "source": [
        "!ls \"/content/drive/My Drive\""
      ],
      "execution_count": 7,
      "outputs": [
        {
          "output_type": "stream",
          "name": "stdout",
          "text": [
            " Accenture\t\t\t      'manoj Biodata.gdoc'\n",
            " AdmitLetterViewer.php\t\t      'Margin Requirements.gslides'\n",
            "'App for Residency.gdoc'\t      'Medicines .gdoc'\n",
            " authorization.docx\t\t      'Mhada letter.gdoc'\n",
            "'bank letter with sign.pdf'\t       MS\n",
            " CNN_Homework.ipynb\t\t       mushrooms.gsheet\n",
            "'Colab Notebooks'\t\t       PART-3.ipynb\n",
            "'Covid vaccine delay.gdoc'\t      'Ranimaa letterhead.gdoc'\n",
            " Demo_7_XGBoost.ipynb\t\t      'resume(ajay)_compressed-converted.gdoc'\n",
            "'DP PICS'\t\t\t       Resume.gdoc\n",
            "'ETS PRACTICE TSET 1.pdf'\t      'Santa Clara I 20 request form.pdf'\n",
            "'financial doc.pdf'\t\t       Scanned\n",
            " FT_CV_AAK.docx\t\t\t      'Single pics'\n",
            "'Fund Main MCQ 11 AM 160 (1).gsheet'  'sjsu finance.pdf'\n",
            "'Fund Main MCQ 11 AM 160.gsheet'      'SOP for Divya Khaini (1).gdoc'\n",
            "'Fund MCQ Batch 7 - 2 PM.gsheet'      'SOP for Divya Khaini.docx'\n",
            "'Graduate result '\t\t      'SOP for Divya Khaini.gdoc'\n",
            "'GRE Assessment Reports.pdf'\t       SOP.gdoc\n",
            "'GRE Magoosh Premium Videos 2017'     'Statement .gdoc'\n",
            "'HOC letter head.gdoc'\t\t      'Statement of finance last 10 yrs .gdoc'\n",
            " HomeWork.gdoc\t\t\t      'Testing Flow.gsheet'\n",
            " Homework_LSTM.ipynb\t\t      'UNIVERSITY TABLE.gdoc'\n",
            "'How to get started with Drive.pdf'   'Untitled Diagram.drawio'\n",
            " IMG_20161126_224558957.jpg\t      'Untitled document (1).gdoc'\n",
            " IMG_20161201_003428433.jpg\t      'Untitled document (2).gdoc'\n",
            " IMG_20180521_130037__01.jpg\t      'Untitled document (3).gdoc'\n",
            " L-2-P-2.ipynb\t\t\t      'Untitled document (4).gdoc'\n",
            "'letter for sindhri sagar.gdoc'       'Untitled document (5).gdoc'\n",
            " letterhead\t\t\t      'Untitled document.gdoc'\n",
            "'List for Quickbooks .gsheet'\t      'Untitled spreadsheet.gsheet'\n",
            " LRSForm.pdf\t\t\t       XGBoost.ipynb\n",
            " LSTM_RNN_Demo.ipynb\n"
          ]
        }
      ]
    },
    {
      "cell_type": "code",
      "metadata": {
        "id": "t-GoYCvTYQid"
      },
      "source": [
        "#review_data = pd.read_json(\"yelp_academic_dataset_review.json\", lines=True)"
      ],
      "execution_count": null,
      "outputs": []
    },
    {
      "cell_type": "markdown",
      "metadata": {
        "id": "ZqsEuiqPNh5C"
      },
      "source": [
        "Selecting only business_id and text from reviews (Feature Selection) and separating them into high risk reviews and remaining reviews in other dataframe"
      ]
    },
    {
      "cell_type": "code",
      "metadata": {
        "id": "TjGAm_xZsuXL"
      },
      "source": [
        "with open(\"yelp_academic_dataset_review.json\") as reviews:\n",
        "    \n",
        "    words = [\"discomfort\",\"ache\",\"death\",\"allergy\",\"diarrhoea\", \"stomach pain\", \"loose motions\", \"loose motion\", \"food poisoning\", \"sick\", \"vomitting\", \"nausea\", \"throw up\", \"threw up\", \"unhygienic\", \"pain\", \"flu\", \"stale\", \"poisioning\"]\n",
        "    count = 0 \n",
        "    \n",
        "    highRiskReviews = pd.DataFrame(columns=['business_id', 'text'])\n",
        "    restReviews = pd.DataFrame(columns=['business_id', 'text'])\n",
        "    \n",
        "    # Iterate through the reviews and save high risk reviews to highRiskReviews\n",
        "    for index,review in enumerate(reviews):\n",
        "        reviewData = json.loads(review)\n",
        "        \n",
        "        if any(word in reviewData['text'] for word in words) and reviewData['stars'] < 2:\n",
        "            dict_rec = {'business_id': reviewData['business_id'], 'text': reviewData['text']}\n",
        "            highRiskReviews = highRiskReviews.append(dict_rec, ignore_index=True)\n",
        "        \n",
        "        if np.random.randint(1,1000) == 1 and not any(word in reviewData['text'] for word in words):\n",
        "            dict_rec = {'business_id': reviewData['business_id'], 'text': reviewData['text']}\n",
        "            restReviews = restReviews.append(dict_rec, ignore_index=True)\n",
        "            count += 1\n",
        "        \n",
        "    print(highRiskReviews.info())\n",
        "    print(restReviews.info())"
      ],
      "execution_count": null,
      "outputs": []
    },
    {
      "cell_type": "code",
      "metadata": {
        "id": "ItQ1dm0Gtsyk"
      },
      "source": [
        "def formatDataFromID(business_ids, highRisk = 0):\n",
        "    \n",
        "    X = pd.DataFrame()\n",
        "\n",
        "    with open(\"yelp_academic_dataset_business.json\") as businesses:\n",
        "        \n",
        "        for business in businesses:\n",
        "\n",
        "            businessData = json.loads(business)\n",
        "\n",
        "            if businessData['business_id'] in business_ids:\n",
        "                if businessData['categories']:\n",
        "                    if 'Food' in businessData['categories'] or 'Restaurants' in businessData['categories']:\n",
        "\n",
        "                        # Drop columns that are unlikely to be useful features (think about dropping review count and number of stars as this will leak data)\n",
        "                        columnsToDrop = [\"hours\", \"name\", \"address\", \"city\", \"state\", \"postal_code\", \"latitude\", \"longitude\", \"is_open\", \"BusinessParking\", \"GoodForMeal\"]\n",
        "                        [businessData.pop(column, None) for column in columnsToDrop]\n",
        "\n",
        "                        # Add in category data, represented as a string list\n",
        "                        categoryColumns = businessData[\"categories\"].split(\",\")\n",
        "                        for category in categoryColumns:\n",
        "                            businessData['category_' + category.strip()] = 1\n",
        "\n",
        "                        # Add in attribute data, represented as a string dict\n",
        "                        if businessData[\"attributes\"]:\n",
        "                            for key,value in businessData[\"attributes\"].items():\n",
        "                                if key == \"Ambience\":\n",
        "                                    if businessData[\"attributes\"][\"Ambience\"] != \"None\":\n",
        "                                        ambienceType = businessData[\"attributes\"].get(key)\n",
        "                                        for key,value in eval(ambienceType).items():\n",
        "                                            if value == 0:\n",
        "                                                businessData['ambience_' + key] = 0\n",
        "                                            else:\n",
        "                                                businessData['ambience_' + key] = 1\n",
        "\n",
        "                        # Assign the target variable (whether the restaurant has a high risk of food poisoning)\n",
        "                        businessData['highRisk'] = highRisk\n",
        "\n",
        "                        X = X.append(json_normalize(businessData, sep='_'), ignore_index=True)\n",
        "        return X\n"
      ],
      "execution_count": null,
      "outputs": []
    },
    {
      "cell_type": "code",
      "metadata": {
        "id": "0oG-h4aStviB"
      },
      "source": [
        "highRiskBusinesses = highRiskReviews['business_id'].tolist()\n",
        "normalBusinesses = restReviews['business_id'].tolist()\n",
        "\n",
        "X_highRisk = formatDataFromID(highRiskBusinesses, 1)\n",
        "X_normal = formatDataFromID(normalBusinesses)"
      ],
      "execution_count": null,
      "outputs": []
    },
    {
      "cell_type": "code",
      "metadata": {
        "id": "WUQnkqwY4u7N"
      },
      "source": [
        "X_highRisk.head()"
      ],
      "execution_count": null,
      "outputs": []
    },
    {
      "cell_type": "code",
      "metadata": {
        "id": "_dUvwR_iK7KU"
      },
      "source": [
        "type(X_highRisk)"
      ],
      "execution_count": null,
      "outputs": []
    },
    {
      "cell_type": "code",
      "metadata": {
        "id": "LWLTiO55ietD"
      },
      "source": [
        "print(X_highRisk.shape)\n",
        "print(X_normal.shape)"
      ],
      "execution_count": null,
      "outputs": []
    },
    {
      "cell_type": "markdown",
      "metadata": {
        "id": "EZB_jW1vmivZ"
      },
      "source": [
        "Merging high Risk and normal data together to be fed into the algorithm"
      ]
    },
    {
      "cell_type": "code",
      "metadata": {
        "id": "TmNQ1eR4mdxk"
      },
      "source": [
        "X = pd.concat([X_highRisk, X_normal], ignore_index=True)"
      ],
      "execution_count": null,
      "outputs": []
    },
    {
      "cell_type": "code",
      "metadata": {
        "id": "dZlRMgl8pgCe"
      },
      "source": [
        "X.shape"
      ],
      "execution_count": null,
      "outputs": []
    },
    {
      "cell_type": "markdown",
      "metadata": {
        "id": "Y1az2aK4m131"
      },
      "source": [
        "Encoding Business_id for easy understanding "
      ]
    },
    {
      "cell_type": "code",
      "metadata": {
        "id": "rA-JTtIHm1VP"
      },
      "source": [
        "from sklearn.preprocessing import LabelEncoder\n",
        "\n",
        "le = LabelEncoder()\n",
        "X['business_id'] = le.fit_transform(X['business_id'])"
      ],
      "execution_count": null,
      "outputs": []
    },
    {
      "cell_type": "code",
      "metadata": {
        "id": "_1De4arBpl-b"
      },
      "source": [
        "X.shape"
      ],
      "execution_count": null,
      "outputs": []
    },
    {
      "cell_type": "code",
      "metadata": {
        "id": "4NqpBM1-K-Re"
      },
      "source": [
        "X_clean = X.drop(['attributes_Ambience', 'categories', 'category_Restaurants', 'attributes_BusinessParking','attributes_BikeParking', 'attributes_Music'], axis=1)\n",
        "\n",
        "cols_with_missing = [col for col in X.columns if X[col].isnull().sum() > X.shape[0]*0.9]\n",
        "X_clean = X_clean.drop(cols_with_missing, axis=1)\n",
        "\n",
        "X_clean = X_clean.fillna(0)"
      ],
      "execution_count": null,
      "outputs": []
    },
    {
      "cell_type": "markdown",
      "metadata": {
        "id": "2t1HktpbMky0"
      },
      "source": [
        "Only considering those businesses which have atleast 2 reviews of food poisoning"
      ]
    },
    {
      "cell_type": "code",
      "metadata": {
        "id": "5ovH-XmsLnKM"
      },
      "source": [
        "counts = X_clean['business_id'].value_counts()\n",
        "res = X_clean[X_clean['business_id'].isin(counts[counts > 1].index)]"
      ],
      "execution_count": null,
      "outputs": []
    },
    {
      "cell_type": "code",
      "metadata": {
        "id": "3Q6GRp4JLv3m"
      },
      "source": [
        "res.shape"
      ],
      "execution_count": null,
      "outputs": []
    },
    {
      "cell_type": "markdown",
      "metadata": {
        "id": "cU_PeyjrEWcz"
      },
      "source": [
        "Splitting the dataset into train and test set"
      ]
    },
    {
      "cell_type": "code",
      "metadata": {
        "id": "_oC6tzgvEuOn"
      },
      "source": [
        "Y = res['highRisk']\n",
        "X = res.iloc[:, res.columns != 'highRisk']\n",
        "\n",
        "print(X.shape)\n",
        "print(Y.shape)\n",
        "print(X.head())"
      ],
      "execution_count": null,
      "outputs": []
    },
    {
      "cell_type": "code",
      "metadata": {
        "id": "7E1d6ZZLV8kC"
      },
      "source": [
        "objects = (X.dtypes == 'object')\n",
        "object_cols = list(objects[objects].index)\n",
        "\n",
        "# Drop high cardinality objects\n",
        "low_cardinality_cols = [col for col in object_cols if X[col].nunique() < 10]\n",
        "\n",
        "# Columns to be dropped from the dataset\n",
        "high_cardinality_cols = list(set(object_cols)-set(low_cardinality_cols))\n",
        "\n",
        "# Change the column data to be strings, this doesn't matter as they will be OH encoded\n",
        "for col in object_cols:\n",
        "    X[col] = X[col].astype(str)\n",
        "\n",
        "X = X.drop(high_cardinality_cols, axis=1)\n",
        "\n",
        "# OH encode the data\n",
        "OH_encoder = OneHotEncoder(handle_unknown=\"ignore\", sparse=False)\n",
        "OH_cols = pd.DataFrame(OH_encoder.fit_transform(X[low_cardinality_cols]))\n",
        "\n",
        "# Put the index back in\n",
        "OH_cols.index = X.index\n",
        "\n",
        "# Drop the columns that have been OH encoded\n",
        "num_X = X.drop(low_cardinality_cols, axis=1)\n",
        "OH_X = pd.concat([num_X, OH_cols], axis=1)"
      ],
      "execution_count": null,
      "outputs": []
    },
    {
      "cell_type": "code",
      "metadata": {
        "id": "3ZfaHcgqDQ8k"
      },
      "source": [
        "from sklearn.model_selection import train_test_split\n",
        "\n",
        "X_train, X_test, Y_train, Y_test = train_test_split(OH_X, Y, test_size=0.3)"
      ],
      "execution_count": null,
      "outputs": []
    },
    {
      "cell_type": "code",
      "metadata": {
        "id": "4UPT9zaMEcSt"
      },
      "source": [
        "import xgboost as xgb\n",
        "\n",
        "model = xgb.XGBClassifier(n_estimators=500)\n",
        "model.fit(X_train, Y_train,early_stopping_rounds=10, eval_set=[(X_test, Y_test)], verbose=False)\n",
        "predictions = model.predict(X_test)\n",
        "print(\"Mean absolute error: {:.2f}\".format(mean_absolute_error(predictions, Y_test)))\n",
        "print(\"Score for XGBoost model is {:.2f}% \".format(model.score(X_test, Y_test)*100))"
      ],
      "execution_count": null,
      "outputs": []
    },
    {
      "cell_type": "code",
      "metadata": {
        "id": "twy2GnrewAgy"
      },
      "source": [
        "from sklearn import tree\n",
        "\n",
        "DT = tree.DecisionTreeClassifier(criterion='entropy', random_state=0)\n",
        "DT.fit(X_train, Y_train)\n",
        "y_pred = DT.predict(X_test)\n",
        "print(\"Decision Tree\")\n",
        "print('Accuracy Score: {:.2f}%'.format(metrics.accuracy_score(Y_test,y_pred)*100))\n",
        "print('Confusion Matrix: ',metrics.confusion_matrix(Y_test,y_pred))"
      ],
      "execution_count": null,
      "outputs": []
    },
    {
      "cell_type": "code",
      "metadata": {
        "id": "aDEXilvZXVQ0"
      },
      "source": [
        "from sklearn.ensemble import RandomForestClassifier\n",
        "\n",
        "RF = RandomForestClassifier(n_estimators=100, criterion='gini')\n",
        "RF.fit(X_train, Y_train)\n",
        "y_pred = RF.predict(X_test)\n",
        "print('For Random Forest algorithm')\n",
        "print('Accuracy Score: {:.2f}%'.format(metrics.accuracy_score(Y_test,y_pred)*100))\n",
        "print('Confusion Matrix: ',metrics.confusion_matrix(Y_test,y_pred))"
      ],
      "execution_count": null,
      "outputs": []
    }
  ]
}