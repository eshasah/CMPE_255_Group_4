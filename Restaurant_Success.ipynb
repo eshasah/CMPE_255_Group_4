{
  "nbformat": 4,
  "nbformat_minor": 5,
  "metadata": {
    "colab": {
      "name": "Restaurant_Success.ipynb",
      "provenance": [],
      "collapsed_sections": [],
      "include_colab_link": true
    },
    "kernelspec": {
      "display_name": "Python 3",
      "language": "python",
      "name": "python3"
    },
    "language_info": {
      "codemirror_mode": {
        "name": "ipython",
        "version": 3
      },
      "file_extension": ".py",
      "mimetype": "text/x-python",
      "name": "python",
      "nbconvert_exporter": "python",
      "pygments_lexer": "ipython3",
      "version": "3.8.8"
    }
  },
  "cells": [
    {
      "cell_type": "markdown",
      "metadata": {
        "id": "view-in-github",
        "colab_type": "text"
      },
      "source": [
        "<a href=\"https://colab.research.google.com/github/siddhant-parmar/CMPE_255_Group_4/blob/main/Restaurant_Success.ipynb\" target=\"_parent\"><img src=\"https://colab.research.google.com/assets/colab-badge.svg\" alt=\"Open In Colab\"/></a>"
      ]
    },
    {
      "cell_type": "code",
      "metadata": {
        "colab": {
          "base_uri": "https://localhost:8080/"
        },
        "id": "I9PeVhA7gqlA",
        "outputId": "c159caa2-7c4a-4324-f58b-b999dc65ec58"
      },
      "source": [
        "from google.colab import drive\n",
        "drive.mount('/content/drive')"
      ],
      "id": "I9PeVhA7gqlA",
      "execution_count": null,
      "outputs": [
        {
          "name": "stdout",
          "output_type": "stream",
          "text": [
            "Mounted at /content/drive\n"
          ]
        }
      ]
    },
    {
      "cell_type": "markdown",
      "metadata": {
        "id": "6beb3735"
      },
      "source": [
        "# PART 1: EDA and Data Cleaning."
      ],
      "id": "6beb3735"
    },
    {
      "cell_type": "code",
      "metadata": {
        "id": "551891c5"
      },
      "source": [
        "import numpy as np\n",
        "import pandas as pd\n",
        "\n",
        "import matplotlib.pyplot as plt\n",
        "\n",
        "import seaborn as sns\n",
        "sns.set_theme(style=\"whitegrid\", palette=\"pastel\")\n",
        "import os.path"
      ],
      "id": "551891c5",
      "execution_count": null,
      "outputs": []
    },
    {
      "cell_type": "code",
      "metadata": {
        "colab": {
          "base_uri": "https://localhost:8080/"
        },
        "id": "de4bfbfc",
        "outputId": "5568393d-d739-4a63-98e9-f069bd1816d2"
      },
      "source": [
        "comment = \"\"\"RUNNING - Initial EDA and Cleaning.\n",
        "This script will run the initial cleaning and exploratory analysis \n",
        "and generate the following files - \n",
        "1. Plots for various analyses (png)\n",
        "2. Final cleaned data files (csv)\"\"\"\n",
        "print(comment)"
      ],
      "id": "de4bfbfc",
      "execution_count": null,
      "outputs": [
        {
          "name": "stdout",
          "output_type": "stream",
          "text": [
            "RUNNING - Initial EDA and Cleaning.\n",
            "This script will run the initial cleaning and exploratory analysis \n",
            "and generate the following files - \n",
            "1. Plots for various analyses (png)\n",
            "2. Final cleaned data files (csv)\n"
          ]
        }
      ]
    },
    {
      "cell_type": "code",
      "metadata": {
        "colab": {
          "base_uri": "https://localhost:8080/"
        },
        "id": "85734dd5",
        "outputId": "18f6a4fd-0ef9-471b-f6ca-4b3453f6909f"
      },
      "source": [
        "yelp_business_df = pd.read_csv(\"/content/drive/My Drive/converted_data/yelp_academic_dataset_business.csv\")"
      ],
      "id": "85734dd5",
      "execution_count": null,
      "outputs": [
        {
          "name": "stderr",
          "output_type": "stream",
          "text": [
            "/usr/local/lib/python3.7/dist-packages/IPython/core/interactiveshell.py:2718: DtypeWarning: Columns (49) have mixed types.Specify dtype option on import or set low_memory=False.\n",
            "  interactivity=interactivity, compiler=compiler, result=result)\n"
          ]
        }
      ]
    },
    {
      "cell_type": "code",
      "metadata": {
        "colab": {
          "base_uri": "https://localhost:8080/"
        },
        "id": "cNCZ6VL00pA6",
        "outputId": "e50467ec-abf0-4c19-b031-27904f6317d9"
      },
      "source": [
        "yelp_business_df.info()"
      ],
      "id": "cNCZ6VL00pA6",
      "execution_count": null,
      "outputs": [
        {
          "name": "stdout",
          "output_type": "stream",
          "text": [
            "<class 'pandas.core.frame.DataFrame'>\n",
            "RangeIndex: 160585 entries, 0 to 160584\n",
            "Data columns (total 60 columns):\n",
            " #   Column                                 Non-Null Count   Dtype  \n",
            "---  ------                                 --------------   -----  \n",
            " 0   attributes.BYOB                        3519 non-null    object \n",
            " 1   attributes.AcceptsInsurance            7168 non-null    object \n",
            " 2   attributes.DriveThru                   6038 non-null    object \n",
            " 3   state                                  160585 non-null  object \n",
            " 4   attributes.HasTV                       44495 non-null   object \n",
            " 5   attributes.DietaryRestrictions         68 non-null      object \n",
            " 6   attributes.RestaurantsCounterService   40 non-null      object \n",
            " 7   attributes.Ambience                    43882 non-null   object \n",
            " 8   postal_code                            160475 non-null  object \n",
            " 9   address                                153859 non-null  object \n",
            " 10  attributes.WheelchairAccessible        29370 non-null   object \n",
            " 11  attributes.HappyHour                   15237 non-null   object \n",
            " 12  attributes.BusinessAcceptsCreditCards  120177 non-null  object \n",
            " 13  attributes.GoodForDancing              4758 non-null    object \n",
            " 14  attributes.BusinessAcceptsBitcoin      17593 non-null   object \n",
            " 15  attributes.NoiseLevel                  39193 non-null   object \n",
            " 16  attributes.HairSpecializesIn           1193 non-null    object \n",
            " 17  attributes.AgesAllowed                 97 non-null      object \n",
            " 18  attributes.Smoking                     4419 non-null    object \n",
            " 19  is_open                                160585 non-null  int64  \n",
            " 20  hours.Saturday                         113021 non-null  object \n",
            " 21  hours.Sunday                           83780 non-null   object \n",
            " 22  attributes.BYOBCorkage                 3667 non-null    object \n",
            " 23  hours.Thursday                         130753 non-null  object \n",
            " 24  hours.Monday                           121672 non-null  object \n",
            " 25  attributes.CoatCheck                   5188 non-null    object \n",
            " 26  attributes.RestaurantsTableService     19400 non-null   object \n",
            " 27  hours.Friday                           130177 non-null  object \n",
            " 28  city                                   160585 non-null  object \n",
            " 29  attributes.BusinessParking             98163 non-null   object \n",
            " 30  attributes.WiFi                        59017 non-null   object \n",
            " 31  hours.Wednesday                        129469 non-null  object \n",
            " 32  latitude                               160585 non-null  float64\n",
            " 33  hours.Tuesday                          126944 non-null  object \n",
            " 34  attributes.GoodForKids                 56850 non-null   object \n",
            " 35  attributes.RestaurantsDelivery         54485 non-null   object \n",
            " 36  attributes.Open24Hours                 42 non-null      object \n",
            " 37  attributes.BikeParking                 76480 non-null   object \n",
            " 38  business_id                            160585 non-null  object \n",
            " 39  stars                                  160585 non-null  float64\n",
            " 40  attributes.OutdoorSeating              50128 non-null   object \n",
            " 41  longitude                              160585 non-null  float64\n",
            " 42  attributes.RestaurantsAttire           40723 non-null   object \n",
            " 43  hours                                  133244 non-null  object \n",
            " 44  attributes.BestNights                  5526 non-null    object \n",
            " 45  attributes.Corkage                     3973 non-null    object \n",
            " 46  categories                             160470 non-null  object \n",
            " 47  review_count                           160585 non-null  int64  \n",
            " 48  attributes.Alcohol                     44443 non-null   object \n",
            " 49  attributes.RestaurantsPriceRange2      92442 non-null   object \n",
            " 50  attributes.ByAppointmentOnly           49748 non-null   object \n",
            " 51  attributes.Music                       7198 non-null    object \n",
            " 52  attributes.RestaurantsReservations     45607 non-null   object \n",
            " 53  attributes.GoodForMeal                 29276 non-null   object \n",
            " 54  name                                   160585 non-null  object \n",
            " 55  attributes                             145593 non-null  object \n",
            " 56  attributes.Caters                      40140 non-null   object \n",
            " 57  attributes.DogsAllowed                 18308 non-null   object \n",
            " 58  attributes.RestaurantsGoodForGroups    45381 non-null   object \n",
            " 59  attributes.RestaurantsTakeOut          58412 non-null   object \n",
            "dtypes: float64(3), int64(2), object(55)\n",
            "memory usage: 73.5+ MB\n"
          ]
        }
      ]
    },
    {
      "cell_type": "markdown",
      "metadata": {
        "id": "uLJc81Y_00V6"
      },
      "source": [
        "Scrub and Explore\n",
        "\n",
        "We will explore the following features for our study -\n",
        "\n",
        "- Stars\n",
        "- Is Open\n",
        "- State and City\n",
        "- Review Count\n",
        "- Name\n",
        "- Neighborhood (Not present in the current dataset hence we will not consider this)\n",
        "- Postal Code\n",
        "- Categories\n",
        "- Latitude/Longitude\n",
        "- Address"
      ],
      "id": "uLJc81Y_00V6"
    },
    {
      "cell_type": "markdown",
      "metadata": {
        "id": "JLXcLo1R1FMi"
      },
      "source": [
        "## 1. Stars"
      ],
      "id": "JLXcLo1R1FMi"
    },
    {
      "cell_type": "code",
      "metadata": {
        "colab": {
          "base_uri": "https://localhost:8080/"
        },
        "id": "zWDxPsBX1IoQ",
        "outputId": "53d85272-dec4-4b64-aa8a-39116f61e264"
      },
      "source": [
        "yelp_business_df.stars.value_counts()"
      ],
      "id": "zWDxPsBX1IoQ",
      "execution_count": null,
      "outputs": [
        {
          "data": {
            "text/plain": [
              "4.0    34056\n",
              "3.5    28835\n",
              "4.5    28072\n",
              "3.0    21583\n",
              "5.0    19953\n",
              "2.5    13720\n",
              "2.0     8523\n",
              "1.5     4157\n",
              "1.0     1686\n",
              "Name: stars, dtype: int64"
            ]
          },
          "execution_count": 7,
          "metadata": {},
          "output_type": "execute_result"
        }
      ]
    },
    {
      "cell_type": "code",
      "metadata": {
        "id": "Wqzx0NfB2ga8"
      },
      "source": [
        "yelp_business_df.stars = yelp_business_df['stars'].astype('category')"
      ],
      "id": "Wqzx0NfB2ga8",
      "execution_count": null,
      "outputs": []
    },
    {
      "cell_type": "code",
      "metadata": {
        "colab": {
          "base_uri": "https://localhost:8080/"
        },
        "id": "1SShANdM5Tfi",
        "outputId": "4ec5bfd3-004f-40b2-ffd9-3aab80f39d4b"
      },
      "source": [
        "yelp_business_df.stars.dtype"
      ],
      "id": "1SShANdM5Tfi",
      "execution_count": null,
      "outputs": [
        {
          "data": {
            "text/plain": [
              "CategoricalDtype(categories=[1.0, 1.5, 2.0, 2.5, 3.0, 3.5, 4.0, 4.5, 5.0], ordered=False)"
            ]
          },
          "execution_count": 9,
          "metadata": {},
          "output_type": "execute_result"
        }
      ]
    },
    {
      "cell_type": "markdown",
      "metadata": {
        "id": "FI38Yitr65kI"
      },
      "source": [
        "## 2. Open/Shut down Businesses"
      ],
      "id": "FI38Yitr65kI"
    },
    {
      "cell_type": "code",
      "metadata": {
        "colab": {
          "base_uri": "https://localhost:8080/"
        },
        "id": "Rg8yERLc5cAp",
        "outputId": "80a8ad00-8005-4178-8778-810c6b3cd566"
      },
      "source": [
        "yelp_business_df.is_open.value_counts()"
      ],
      "id": "Rg8yERLc5cAp",
      "execution_count": null,
      "outputs": [
        {
          "data": {
            "text/plain": [
              "1    123248\n",
              "0     37337\n",
              "Name: is_open, dtype: int64"
            ]
          },
          "execution_count": 10,
          "metadata": {},
          "output_type": "execute_result"
        }
      ]
    },
    {
      "cell_type": "code",
      "metadata": {
        "colab": {
          "base_uri": "https://localhost:8080/",
          "height": 514
        },
        "id": "hBxhEoBy8cmh",
        "outputId": "887b358d-89ff-45ee-bfc4-d93a2dc99ab9"
      },
      "source": [
        "yelp_business_df[yelp_business_df.is_open == 0][['name','city','state']].head(15)"
      ],
      "id": "hBxhEoBy8cmh",
      "execution_count": null,
      "outputs": [
        {
          "data": {
            "text/html": [
              "<div>\n",
              "<style scoped>\n",
              "    .dataframe tbody tr th:only-of-type {\n",
              "        vertical-align: middle;\n",
              "    }\n",
              "\n",
              "    .dataframe tbody tr th {\n",
              "        vertical-align: top;\n",
              "    }\n",
              "\n",
              "    .dataframe thead th {\n",
              "        text-align: right;\n",
              "    }\n",
              "</style>\n",
              "<table border=\"1\" class=\"dataframe\">\n",
              "  <thead>\n",
              "    <tr style=\"text-align: right;\">\n",
              "      <th></th>\n",
              "      <th>name</th>\n",
              "      <th>city</th>\n",
              "      <th>state</th>\n",
              "    </tr>\n",
              "  </thead>\n",
              "  <tbody>\n",
              "    <tr>\n",
              "      <th>9</th>\n",
              "      <td>Capital City Barber Shop</td>\n",
              "      <td>Austin</td>\n",
              "      <td>TX</td>\n",
              "    </tr>\n",
              "    <tr>\n",
              "      <th>14</th>\n",
              "      <td>Uncle Sam's Pawn Shop</td>\n",
              "      <td>Columbus</td>\n",
              "      <td>OH</td>\n",
              "    </tr>\n",
              "    <tr>\n",
              "      <th>17</th>\n",
              "      <td>Saratoga Resort Villas</td>\n",
              "      <td>Kissimmee</td>\n",
              "      <td>FL</td>\n",
              "    </tr>\n",
              "    <tr>\n",
              "      <th>20</th>\n",
              "      <td>Jasmine Nail Spa</td>\n",
              "      <td>Portland</td>\n",
              "      <td>OR</td>\n",
              "    </tr>\n",
              "    <tr>\n",
              "      <th>21</th>\n",
              "      <td>Tire Town Auto Service</td>\n",
              "      <td>Vancouver</td>\n",
              "      <td>BC</td>\n",
              "    </tr>\n",
              "    <tr>\n",
              "      <th>22</th>\n",
              "      <td>Cascade Restaurant</td>\n",
              "      <td>Orlando</td>\n",
              "      <td>FL</td>\n",
              "    </tr>\n",
              "    <tr>\n",
              "      <th>25</th>\n",
              "      <td>Wolf Camera and Image</td>\n",
              "      <td>Atlanta</td>\n",
              "      <td>GA</td>\n",
              "    </tr>\n",
              "    <tr>\n",
              "      <th>35</th>\n",
              "      <td>Espresso Minute</td>\n",
              "      <td>Boston</td>\n",
              "      <td>MA</td>\n",
              "    </tr>\n",
              "    <tr>\n",
              "      <th>38</th>\n",
              "      <td>El Pollo Rey</td>\n",
              "      <td>Austin</td>\n",
              "      <td>TX</td>\n",
              "    </tr>\n",
              "    <tr>\n",
              "      <th>44</th>\n",
              "      <td>Sam's Club</td>\n",
              "      <td>Fern Park</td>\n",
              "      <td>FL</td>\n",
              "    </tr>\n",
              "    <tr>\n",
              "      <th>54</th>\n",
              "      <td>Gigi's Roast Beef &amp; Pizza</td>\n",
              "      <td>Burlington</td>\n",
              "      <td>MA</td>\n",
              "    </tr>\n",
              "    <tr>\n",
              "      <th>65</th>\n",
              "      <td>Olmecas Mexican Restaurant</td>\n",
              "      <td>Austin</td>\n",
              "      <td>TX</td>\n",
              "    </tr>\n",
              "    <tr>\n",
              "      <th>69</th>\n",
              "      <td>Valley Chrysler-Dodge</td>\n",
              "      <td>Boulder</td>\n",
              "      <td>CO</td>\n",
              "    </tr>\n",
              "    <tr>\n",
              "      <th>72</th>\n",
              "      <td>Camp Automotive</td>\n",
              "      <td>Atlanta</td>\n",
              "      <td>GA</td>\n",
              "    </tr>\n",
              "    <tr>\n",
              "      <th>79</th>\n",
              "      <td>CaveMan Cuisine</td>\n",
              "      <td>Austin</td>\n",
              "      <td>TX</td>\n",
              "    </tr>\n",
              "  </tbody>\n",
              "</table>\n",
              "</div>"
            ],
            "text/plain": [
              "                          name        city state\n",
              "9     Capital City Barber Shop      Austin    TX\n",
              "14       Uncle Sam's Pawn Shop    Columbus    OH\n",
              "17      Saratoga Resort Villas   Kissimmee    FL\n",
              "20            Jasmine Nail Spa    Portland    OR\n",
              "21      Tire Town Auto Service   Vancouver    BC\n",
              "22          Cascade Restaurant     Orlando    FL\n",
              "25       Wolf Camera and Image     Atlanta    GA\n",
              "35             Espresso Minute      Boston    MA\n",
              "38                El Pollo Rey      Austin    TX\n",
              "44                  Sam's Club   Fern Park    FL\n",
              "54   Gigi's Roast Beef & Pizza  Burlington    MA\n",
              "65  Olmecas Mexican Restaurant      Austin    TX\n",
              "69       Valley Chrysler-Dodge     Boulder    CO\n",
              "72             Camp Automotive     Atlanta    GA\n",
              "79             CaveMan Cuisine      Austin    TX"
            ]
          },
          "execution_count": 11,
          "metadata": {},
          "output_type": "execute_result"
        }
      ]
    },
    {
      "cell_type": "markdown",
      "metadata": {
        "id": "y-JJ1M-881ai"
      },
      "source": [
        "Validated that these business listings are closed. e.g. https://www.yelp.com/biz/cks-bbq-and-catering-henderson?osq=CK%27S+BBQ+%26+Catering Only working with open businesses in this study."
      ],
      "id": "y-JJ1M-881ai"
    },
    {
      "cell_type": "code",
      "metadata": {
        "id": "pjkjZQ_h8yMz"
      },
      "source": [
        "yelp_business_df = yelp_business_df[yelp_business_df.is_open == 1]"
      ],
      "id": "pjkjZQ_h8yMz",
      "execution_count": null,
      "outputs": []
    },
    {
      "cell_type": "markdown",
      "metadata": {
        "id": "cSmSTEp79R54"
      },
      "source": [
        "## 3. State and City"
      ],
      "id": "cSmSTEp79R54"
    },
    {
      "cell_type": "code",
      "metadata": {
        "colab": {
          "base_uri": "https://localhost:8080/"
        },
        "id": "xEZpdaVh9P3b",
        "outputId": "529a7437-9034-4e06-b0ce-111e58dde35f"
      },
      "source": [
        "yelp_business_df.state.value_counts()"
      ],
      "id": "xEZpdaVh9P3b",
      "execution_count": null,
      "outputs": [
        {
          "data": {
            "text/plain": [
              "MA     27353\n",
              "OR     18806\n",
              "TX     18500\n",
              "FL     17916\n",
              "GA     13824\n",
              "BC     12734\n",
              "OH      9072\n",
              "WA      2575\n",
              "CO      2431\n",
              "CA        12\n",
              "NH         4\n",
              "ON         2\n",
              "NY         2\n",
              "VA         2\n",
              "NC         1\n",
              "DE         1\n",
              "ME         1\n",
              "MI         1\n",
              "NM         1\n",
              "WY         1\n",
              "MN         1\n",
              "DC         1\n",
              "HI         1\n",
              "AZ         1\n",
              "OK         1\n",
              "KY         1\n",
              "ABE        1\n",
              "WI         1\n",
              "KS         1\n",
              "Name: state, dtype: int64"
            ]
          },
          "execution_count": 13,
          "metadata": {},
          "output_type": "execute_result"
        }
      ]
    },
    {
      "cell_type": "code",
      "metadata": {
        "colab": {
          "base_uri": "https://localhost:8080/"
        },
        "id": "m2R4FC_i9oHi",
        "outputId": "28fbbd15-867d-4f90-da5c-6fe358adaa12"
      },
      "source": [
        "print(\"Number of Unique States: \" + str(len(yelp_business_df.state.unique())))"
      ],
      "id": "m2R4FC_i9oHi",
      "execution_count": null,
      "outputs": [
        {
          "name": "stdout",
          "output_type": "stream",
          "text": [
            "Number of Unique States: 29\n"
          ]
        }
      ]
    },
    {
      "cell_type": "code",
      "metadata": {
        "colab": {
          "base_uri": "https://localhost:8080/",
          "height": 421
        },
        "id": "5xvuLS-r-eHr",
        "outputId": "60931453-8c4c-42ad-d597-c3f13335e8e6"
      },
      "source": [
        "yelp_business_df[yelp_business_df.state == 'CA'][['name','city', 'state']]"
      ],
      "id": "5xvuLS-r-eHr",
      "execution_count": null,
      "outputs": [
        {
          "data": {
            "text/html": [
              "<div>\n",
              "<style scoped>\n",
              "    .dataframe tbody tr th:only-of-type {\n",
              "        vertical-align: middle;\n",
              "    }\n",
              "\n",
              "    .dataframe tbody tr th {\n",
              "        vertical-align: top;\n",
              "    }\n",
              "\n",
              "    .dataframe thead th {\n",
              "        text-align: right;\n",
              "    }\n",
              "</style>\n",
              "<table border=\"1\" class=\"dataframe\">\n",
              "  <thead>\n",
              "    <tr style=\"text-align: right;\">\n",
              "      <th></th>\n",
              "      <th>name</th>\n",
              "      <th>city</th>\n",
              "      <th>state</th>\n",
              "    </tr>\n",
              "  </thead>\n",
              "  <tbody>\n",
              "    <tr>\n",
              "      <th>1819</th>\n",
              "      <td>Katia Photography</td>\n",
              "      <td>Portland</td>\n",
              "      <td>CA</td>\n",
              "    </tr>\n",
              "    <tr>\n",
              "      <th>47726</th>\n",
              "      <td>Here We Grow</td>\n",
              "      <td>Atlanta</td>\n",
              "      <td>CA</td>\n",
              "    </tr>\n",
              "    <tr>\n",
              "      <th>70731</th>\n",
              "      <td>Disney Carribean Beach Resort</td>\n",
              "      <td>Orlando</td>\n",
              "      <td>CA</td>\n",
              "    </tr>\n",
              "    <tr>\n",
              "      <th>71354</th>\n",
              "      <td>Vain Spa</td>\n",
              "      <td>Irvine</td>\n",
              "      <td>CA</td>\n",
              "    </tr>\n",
              "    <tr>\n",
              "      <th>95203</th>\n",
              "      <td>Diosa Dreads</td>\n",
              "      <td>Portland</td>\n",
              "      <td>CA</td>\n",
              "    </tr>\n",
              "    <tr>\n",
              "      <th>103921</th>\n",
              "      <td>Kristen Beccia Photography</td>\n",
              "      <td>Austin</td>\n",
              "      <td>CA</td>\n",
              "    </tr>\n",
              "    <tr>\n",
              "      <th>128258</th>\n",
              "      <td>San Jose Jazz Summer Fesitval</td>\n",
              "      <td>San Jose</td>\n",
              "      <td>CA</td>\n",
              "    </tr>\n",
              "    <tr>\n",
              "      <th>130618</th>\n",
              "      <td>New Albany Elite Dental - Andrew E. Skasko, DDS</td>\n",
              "      <td>New Albany</td>\n",
              "      <td>CA</td>\n",
              "    </tr>\n",
              "    <tr>\n",
              "      <th>144056</th>\n",
              "      <td>Samuel Rivera Photography</td>\n",
              "      <td>Orlando</td>\n",
              "      <td>CA</td>\n",
              "    </tr>\n",
              "    <tr>\n",
              "      <th>148696</th>\n",
              "      <td>DMA Academy</td>\n",
              "      <td>Vancouver</td>\n",
              "      <td>CA</td>\n",
              "    </tr>\n",
              "    <tr>\n",
              "      <th>153081</th>\n",
              "      <td>MicroArtistry</td>\n",
              "      <td>Morgan Hill</td>\n",
              "      <td>CA</td>\n",
              "    </tr>\n",
              "    <tr>\n",
              "      <th>153988</th>\n",
              "      <td>Hair By Sarah</td>\n",
              "      <td>Austin</td>\n",
              "      <td>CA</td>\n",
              "    </tr>\n",
              "  </tbody>\n",
              "</table>\n",
              "</div>"
            ],
            "text/plain": [
              "                                                   name         city state\n",
              "1819                                  Katia Photography     Portland    CA\n",
              "47726                                      Here We Grow      Atlanta    CA\n",
              "70731                     Disney Carribean Beach Resort      Orlando    CA\n",
              "71354                                          Vain Spa       Irvine    CA\n",
              "95203                                      Diosa Dreads     Portland    CA\n",
              "103921                       Kristen Beccia Photography       Austin    CA\n",
              "128258                    San Jose Jazz Summer Fesitval     San Jose    CA\n",
              "130618  New Albany Elite Dental - Andrew E. Skasko, DDS   New Albany    CA\n",
              "144056                        Samuel Rivera Photography      Orlando    CA\n",
              "148696                                      DMA Academy    Vancouver    CA\n",
              "153081                                    MicroArtistry  Morgan Hill    CA\n",
              "153988                                    Hair By Sarah       Austin    CA"
            ]
          },
          "execution_count": 15,
          "metadata": {},
          "output_type": "execute_result"
        }
      ]
    },
    {
      "cell_type": "markdown",
      "metadata": {
        "id": "cTRL24_6-Tvn"
      },
      "source": [
        "A lot of invalid data, for example Austin is in Texas, but shown here in California. Another example is that Vancouver is shown in California, USA instead of British Columbia, Canada."
      ],
      "id": "cTRL24_6-Tvn"
    },
    {
      "cell_type": "markdown",
      "metadata": {
        "id": "z4qzI_Ws_CgN"
      },
      "source": [
        "Also there are a lot of invalid states like 'ABE'."
      ],
      "id": "z4qzI_Ws_CgN"
    },
    {
      "cell_type": "markdown",
      "metadata": {
        "id": "WN0E6OQT_Iz5"
      },
      "source": [
        "For this project, we are considering cities and states situated in USA only."
      ],
      "id": "WN0E6OQT_Iz5"
    },
    {
      "cell_type": "markdown",
      "metadata": {
        "id": "Dimthr-l_PtC"
      },
      "source": [
        "### 3.1 Problem 1: Invalid States"
      ],
      "id": "Dimthr-l_PtC"
    },
    {
      "cell_type": "code",
      "metadata": {
        "id": "T7d9R2q0OIpg"
      },
      "source": [
        "USA_states = pd.read_csv('/content/drive/My Drive/converted_data/state_table.csv')"
      ],
      "id": "T7d9R2q0OIpg",
      "execution_count": null,
      "outputs": []
    },
    {
      "cell_type": "markdown",
      "metadata": {
        "id": "0v_48hGqSFPx"
      },
      "source": [
        ""
      ],
      "id": "0v_48hGqSFPx"
    },
    {
      "cell_type": "code",
      "metadata": {
        "colab": {
          "base_uri": "https://localhost:8080/",
          "height": 224
        },
        "id": "9n3tqLmfOQfG",
        "outputId": "85849d6f-7ec3-4bba-c25e-227d07c0399c"
      },
      "source": [
        "USA_states.head() # https://statetable.com/"
      ],
      "id": "9n3tqLmfOQfG",
      "execution_count": null,
      "outputs": [
        {
          "data": {
            "text/html": [
              "<div>\n",
              "<style scoped>\n",
              "    .dataframe tbody tr th:only-of-type {\n",
              "        vertical-align: middle;\n",
              "    }\n",
              "\n",
              "    .dataframe tbody tr th {\n",
              "        vertical-align: top;\n",
              "    }\n",
              "\n",
              "    .dataframe thead th {\n",
              "        text-align: right;\n",
              "    }\n",
              "</style>\n",
              "<table border=\"1\" class=\"dataframe\">\n",
              "  <thead>\n",
              "    <tr style=\"text-align: right;\">\n",
              "      <th></th>\n",
              "      <th>id</th>\n",
              "      <th>name</th>\n",
              "      <th>abbreviation</th>\n",
              "      <th>country</th>\n",
              "      <th>type</th>\n",
              "      <th>sort</th>\n",
              "      <th>status</th>\n",
              "      <th>occupied</th>\n",
              "      <th>notes</th>\n",
              "      <th>fips_state</th>\n",
              "      <th>assoc_press</th>\n",
              "      <th>standard_federal_region</th>\n",
              "      <th>census_region</th>\n",
              "      <th>census_region_name</th>\n",
              "      <th>census_division</th>\n",
              "      <th>census_division_name</th>\n",
              "      <th>circuit_court</th>\n",
              "    </tr>\n",
              "  </thead>\n",
              "  <tbody>\n",
              "    <tr>\n",
              "      <th>0</th>\n",
              "      <td>1</td>\n",
              "      <td>Alabama</td>\n",
              "      <td>AL</td>\n",
              "      <td>USA</td>\n",
              "      <td>state</td>\n",
              "      <td>10</td>\n",
              "      <td>current</td>\n",
              "      <td>occupied</td>\n",
              "      <td>NaN</td>\n",
              "      <td>1.0</td>\n",
              "      <td>Ala.</td>\n",
              "      <td>IV</td>\n",
              "      <td>3.0</td>\n",
              "      <td>South</td>\n",
              "      <td>6.0</td>\n",
              "      <td>East South Central</td>\n",
              "      <td>11</td>\n",
              "    </tr>\n",
              "    <tr>\n",
              "      <th>1</th>\n",
              "      <td>2</td>\n",
              "      <td>Alaska</td>\n",
              "      <td>AK</td>\n",
              "      <td>USA</td>\n",
              "      <td>state</td>\n",
              "      <td>10</td>\n",
              "      <td>current</td>\n",
              "      <td>occupied</td>\n",
              "      <td>NaN</td>\n",
              "      <td>2.0</td>\n",
              "      <td>Alaska</td>\n",
              "      <td>X</td>\n",
              "      <td>4.0</td>\n",
              "      <td>West</td>\n",
              "      <td>9.0</td>\n",
              "      <td>Pacific</td>\n",
              "      <td>9</td>\n",
              "    </tr>\n",
              "    <tr>\n",
              "      <th>2</th>\n",
              "      <td>3</td>\n",
              "      <td>Arizona</td>\n",
              "      <td>AZ</td>\n",
              "      <td>USA</td>\n",
              "      <td>state</td>\n",
              "      <td>10</td>\n",
              "      <td>current</td>\n",
              "      <td>occupied</td>\n",
              "      <td>NaN</td>\n",
              "      <td>4.0</td>\n",
              "      <td>Ariz.</td>\n",
              "      <td>IX</td>\n",
              "      <td>4.0</td>\n",
              "      <td>West</td>\n",
              "      <td>8.0</td>\n",
              "      <td>Mountain</td>\n",
              "      <td>9</td>\n",
              "    </tr>\n",
              "    <tr>\n",
              "      <th>3</th>\n",
              "      <td>4</td>\n",
              "      <td>Arkansas</td>\n",
              "      <td>AR</td>\n",
              "      <td>USA</td>\n",
              "      <td>state</td>\n",
              "      <td>10</td>\n",
              "      <td>current</td>\n",
              "      <td>occupied</td>\n",
              "      <td>NaN</td>\n",
              "      <td>5.0</td>\n",
              "      <td>Ark.</td>\n",
              "      <td>VI</td>\n",
              "      <td>3.0</td>\n",
              "      <td>South</td>\n",
              "      <td>7.0</td>\n",
              "      <td>West South Central</td>\n",
              "      <td>8</td>\n",
              "    </tr>\n",
              "    <tr>\n",
              "      <th>4</th>\n",
              "      <td>5</td>\n",
              "      <td>California</td>\n",
              "      <td>CA</td>\n",
              "      <td>USA</td>\n",
              "      <td>state</td>\n",
              "      <td>10</td>\n",
              "      <td>current</td>\n",
              "      <td>occupied</td>\n",
              "      <td>NaN</td>\n",
              "      <td>6.0</td>\n",
              "      <td>Calif.</td>\n",
              "      <td>IX</td>\n",
              "      <td>4.0</td>\n",
              "      <td>West</td>\n",
              "      <td>9.0</td>\n",
              "      <td>Pacific</td>\n",
              "      <td>9</td>\n",
              "    </tr>\n",
              "  </tbody>\n",
              "</table>\n",
              "</div>"
            ],
            "text/plain": [
              "   id        name  ... census_division_name circuit_court\n",
              "0   1     Alabama  ...   East South Central            11\n",
              "1   2      Alaska  ...              Pacific             9\n",
              "2   3     Arizona  ...             Mountain             9\n",
              "3   4    Arkansas  ...   West South Central             8\n",
              "4   5  California  ...              Pacific             9\n",
              "\n",
              "[5 rows x 17 columns]"
            ]
          },
          "execution_count": 17,
          "metadata": {},
          "output_type": "execute_result"
        }
      ]
    },
    {
      "cell_type": "code",
      "metadata": {
        "id": "M4G0QwE2OdK3"
      },
      "source": [
        "USA_states = USA_states[['name','abbreviation','country','census_region','census_division']]"
      ],
      "id": "M4G0QwE2OdK3",
      "execution_count": null,
      "outputs": []
    },
    {
      "cell_type": "code",
      "metadata": {
        "id": "k3czFkwyOkoa"
      },
      "source": [
        "USA_states = USA_states.rename(index=str, columns={\"name\" : \"State_Name\", \"abbreviation\" : \"State_Abb\"})"
      ],
      "id": "k3czFkwyOkoa",
      "execution_count": null,
      "outputs": []
    },
    {
      "cell_type": "code",
      "metadata": {
        "colab": {
          "base_uri": "https://localhost:8080/",
          "height": 1000
        },
        "id": "72ac8XRnO63p",
        "outputId": "65c46b45-49db-42d2-f65f-ccba2b3a53d8"
      },
      "source": [
        "USA_states.head(60)"
      ],
      "id": "72ac8XRnO63p",
      "execution_count": null,
      "outputs": [
        {
          "data": {
            "text/html": [
              "<div>\n",
              "<style scoped>\n",
              "    .dataframe tbody tr th:only-of-type {\n",
              "        vertical-align: middle;\n",
              "    }\n",
              "\n",
              "    .dataframe tbody tr th {\n",
              "        vertical-align: top;\n",
              "    }\n",
              "\n",
              "    .dataframe thead th {\n",
              "        text-align: right;\n",
              "    }\n",
              "</style>\n",
              "<table border=\"1\" class=\"dataframe\">\n",
              "  <thead>\n",
              "    <tr style=\"text-align: right;\">\n",
              "      <th></th>\n",
              "      <th>State_Name</th>\n",
              "      <th>State_Abb</th>\n",
              "      <th>country</th>\n",
              "      <th>census_region</th>\n",
              "      <th>census_division</th>\n",
              "    </tr>\n",
              "  </thead>\n",
              "  <tbody>\n",
              "    <tr>\n",
              "      <th>0</th>\n",
              "      <td>Alabama</td>\n",
              "      <td>AL</td>\n",
              "      <td>USA</td>\n",
              "      <td>3.0</td>\n",
              "      <td>6.0</td>\n",
              "    </tr>\n",
              "    <tr>\n",
              "      <th>1</th>\n",
              "      <td>Alaska</td>\n",
              "      <td>AK</td>\n",
              "      <td>USA</td>\n",
              "      <td>4.0</td>\n",
              "      <td>9.0</td>\n",
              "    </tr>\n",
              "    <tr>\n",
              "      <th>2</th>\n",
              "      <td>Arizona</td>\n",
              "      <td>AZ</td>\n",
              "      <td>USA</td>\n",
              "      <td>4.0</td>\n",
              "      <td>8.0</td>\n",
              "    </tr>\n",
              "    <tr>\n",
              "      <th>3</th>\n",
              "      <td>Arkansas</td>\n",
              "      <td>AR</td>\n",
              "      <td>USA</td>\n",
              "      <td>3.0</td>\n",
              "      <td>7.0</td>\n",
              "    </tr>\n",
              "    <tr>\n",
              "      <th>4</th>\n",
              "      <td>California</td>\n",
              "      <td>CA</td>\n",
              "      <td>USA</td>\n",
              "      <td>4.0</td>\n",
              "      <td>9.0</td>\n",
              "    </tr>\n",
              "    <tr>\n",
              "      <th>5</th>\n",
              "      <td>Colorado</td>\n",
              "      <td>CO</td>\n",
              "      <td>USA</td>\n",
              "      <td>4.0</td>\n",
              "      <td>8.0</td>\n",
              "    </tr>\n",
              "    <tr>\n",
              "      <th>6</th>\n",
              "      <td>Connecticut</td>\n",
              "      <td>CT</td>\n",
              "      <td>USA</td>\n",
              "      <td>1.0</td>\n",
              "      <td>1.0</td>\n",
              "    </tr>\n",
              "    <tr>\n",
              "      <th>7</th>\n",
              "      <td>Delaware</td>\n",
              "      <td>DE</td>\n",
              "      <td>USA</td>\n",
              "      <td>3.0</td>\n",
              "      <td>5.0</td>\n",
              "    </tr>\n",
              "    <tr>\n",
              "      <th>8</th>\n",
              "      <td>Florida</td>\n",
              "      <td>FL</td>\n",
              "      <td>USA</td>\n",
              "      <td>3.0</td>\n",
              "      <td>5.0</td>\n",
              "    </tr>\n",
              "    <tr>\n",
              "      <th>9</th>\n",
              "      <td>Georgia</td>\n",
              "      <td>GA</td>\n",
              "      <td>USA</td>\n",
              "      <td>3.0</td>\n",
              "      <td>5.0</td>\n",
              "    </tr>\n",
              "    <tr>\n",
              "      <th>10</th>\n",
              "      <td>Hawaii</td>\n",
              "      <td>HI</td>\n",
              "      <td>USA</td>\n",
              "      <td>4.0</td>\n",
              "      <td>9.0</td>\n",
              "    </tr>\n",
              "    <tr>\n",
              "      <th>11</th>\n",
              "      <td>Idaho</td>\n",
              "      <td>ID</td>\n",
              "      <td>USA</td>\n",
              "      <td>4.0</td>\n",
              "      <td>8.0</td>\n",
              "    </tr>\n",
              "    <tr>\n",
              "      <th>12</th>\n",
              "      <td>Illinois</td>\n",
              "      <td>IL</td>\n",
              "      <td>USA</td>\n",
              "      <td>2.0</td>\n",
              "      <td>3.0</td>\n",
              "    </tr>\n",
              "    <tr>\n",
              "      <th>13</th>\n",
              "      <td>Indiana</td>\n",
              "      <td>IN</td>\n",
              "      <td>USA</td>\n",
              "      <td>2.0</td>\n",
              "      <td>3.0</td>\n",
              "    </tr>\n",
              "    <tr>\n",
              "      <th>14</th>\n",
              "      <td>Iowa</td>\n",
              "      <td>IA</td>\n",
              "      <td>USA</td>\n",
              "      <td>2.0</td>\n",
              "      <td>4.0</td>\n",
              "    </tr>\n",
              "    <tr>\n",
              "      <th>15</th>\n",
              "      <td>Kansas</td>\n",
              "      <td>KS</td>\n",
              "      <td>USA</td>\n",
              "      <td>2.0</td>\n",
              "      <td>4.0</td>\n",
              "    </tr>\n",
              "    <tr>\n",
              "      <th>16</th>\n",
              "      <td>Kentucky</td>\n",
              "      <td>KY</td>\n",
              "      <td>USA</td>\n",
              "      <td>3.0</td>\n",
              "      <td>6.0</td>\n",
              "    </tr>\n",
              "    <tr>\n",
              "      <th>17</th>\n",
              "      <td>Louisiana</td>\n",
              "      <td>LA</td>\n",
              "      <td>USA</td>\n",
              "      <td>3.0</td>\n",
              "      <td>7.0</td>\n",
              "    </tr>\n",
              "    <tr>\n",
              "      <th>18</th>\n",
              "      <td>Maine</td>\n",
              "      <td>ME</td>\n",
              "      <td>USA</td>\n",
              "      <td>1.0</td>\n",
              "      <td>1.0</td>\n",
              "    </tr>\n",
              "    <tr>\n",
              "      <th>19</th>\n",
              "      <td>Maryland</td>\n",
              "      <td>MD</td>\n",
              "      <td>USA</td>\n",
              "      <td>3.0</td>\n",
              "      <td>5.0</td>\n",
              "    </tr>\n",
              "    <tr>\n",
              "      <th>20</th>\n",
              "      <td>Massachusetts</td>\n",
              "      <td>MA</td>\n",
              "      <td>USA</td>\n",
              "      <td>1.0</td>\n",
              "      <td>1.0</td>\n",
              "    </tr>\n",
              "    <tr>\n",
              "      <th>21</th>\n",
              "      <td>Michigan</td>\n",
              "      <td>MI</td>\n",
              "      <td>USA</td>\n",
              "      <td>2.0</td>\n",
              "      <td>3.0</td>\n",
              "    </tr>\n",
              "    <tr>\n",
              "      <th>22</th>\n",
              "      <td>Minnesota</td>\n",
              "      <td>MN</td>\n",
              "      <td>USA</td>\n",
              "      <td>2.0</td>\n",
              "      <td>4.0</td>\n",
              "    </tr>\n",
              "    <tr>\n",
              "      <th>23</th>\n",
              "      <td>Mississippi</td>\n",
              "      <td>MS</td>\n",
              "      <td>USA</td>\n",
              "      <td>3.0</td>\n",
              "      <td>6.0</td>\n",
              "    </tr>\n",
              "    <tr>\n",
              "      <th>24</th>\n",
              "      <td>Missouri</td>\n",
              "      <td>MO</td>\n",
              "      <td>USA</td>\n",
              "      <td>2.0</td>\n",
              "      <td>4.0</td>\n",
              "    </tr>\n",
              "    <tr>\n",
              "      <th>25</th>\n",
              "      <td>Montana</td>\n",
              "      <td>MT</td>\n",
              "      <td>USA</td>\n",
              "      <td>4.0</td>\n",
              "      <td>8.0</td>\n",
              "    </tr>\n",
              "    <tr>\n",
              "      <th>26</th>\n",
              "      <td>Nebraska</td>\n",
              "      <td>NE</td>\n",
              "      <td>USA</td>\n",
              "      <td>2.0</td>\n",
              "      <td>4.0</td>\n",
              "    </tr>\n",
              "    <tr>\n",
              "      <th>27</th>\n",
              "      <td>Nevada</td>\n",
              "      <td>NV</td>\n",
              "      <td>USA</td>\n",
              "      <td>4.0</td>\n",
              "      <td>8.0</td>\n",
              "    </tr>\n",
              "    <tr>\n",
              "      <th>28</th>\n",
              "      <td>New Hampshire</td>\n",
              "      <td>NH</td>\n",
              "      <td>USA</td>\n",
              "      <td>1.0</td>\n",
              "      <td>1.0</td>\n",
              "    </tr>\n",
              "    <tr>\n",
              "      <th>29</th>\n",
              "      <td>New Jersey</td>\n",
              "      <td>NJ</td>\n",
              "      <td>USA</td>\n",
              "      <td>1.0</td>\n",
              "      <td>2.0</td>\n",
              "    </tr>\n",
              "    <tr>\n",
              "      <th>30</th>\n",
              "      <td>New Mexico</td>\n",
              "      <td>NM</td>\n",
              "      <td>USA</td>\n",
              "      <td>4.0</td>\n",
              "      <td>8.0</td>\n",
              "    </tr>\n",
              "    <tr>\n",
              "      <th>31</th>\n",
              "      <td>New York</td>\n",
              "      <td>NY</td>\n",
              "      <td>USA</td>\n",
              "      <td>1.0</td>\n",
              "      <td>2.0</td>\n",
              "    </tr>\n",
              "    <tr>\n",
              "      <th>32</th>\n",
              "      <td>North Carolina</td>\n",
              "      <td>NC</td>\n",
              "      <td>USA</td>\n",
              "      <td>3.0</td>\n",
              "      <td>5.0</td>\n",
              "    </tr>\n",
              "    <tr>\n",
              "      <th>33</th>\n",
              "      <td>North Dakota</td>\n",
              "      <td>ND</td>\n",
              "      <td>USA</td>\n",
              "      <td>2.0</td>\n",
              "      <td>4.0</td>\n",
              "    </tr>\n",
              "    <tr>\n",
              "      <th>34</th>\n",
              "      <td>Ohio</td>\n",
              "      <td>OH</td>\n",
              "      <td>USA</td>\n",
              "      <td>2.0</td>\n",
              "      <td>3.0</td>\n",
              "    </tr>\n",
              "    <tr>\n",
              "      <th>35</th>\n",
              "      <td>Oklahoma</td>\n",
              "      <td>OK</td>\n",
              "      <td>USA</td>\n",
              "      <td>3.0</td>\n",
              "      <td>7.0</td>\n",
              "    </tr>\n",
              "    <tr>\n",
              "      <th>36</th>\n",
              "      <td>Oregon</td>\n",
              "      <td>OR</td>\n",
              "      <td>USA</td>\n",
              "      <td>4.0</td>\n",
              "      <td>9.0</td>\n",
              "    </tr>\n",
              "    <tr>\n",
              "      <th>37</th>\n",
              "      <td>Pennsylvania</td>\n",
              "      <td>PA</td>\n",
              "      <td>USA</td>\n",
              "      <td>1.0</td>\n",
              "      <td>2.0</td>\n",
              "    </tr>\n",
              "    <tr>\n",
              "      <th>38</th>\n",
              "      <td>Rhode Island</td>\n",
              "      <td>RI</td>\n",
              "      <td>USA</td>\n",
              "      <td>1.0</td>\n",
              "      <td>1.0</td>\n",
              "    </tr>\n",
              "    <tr>\n",
              "      <th>39</th>\n",
              "      <td>South Carolina</td>\n",
              "      <td>SC</td>\n",
              "      <td>USA</td>\n",
              "      <td>3.0</td>\n",
              "      <td>5.0</td>\n",
              "    </tr>\n",
              "    <tr>\n",
              "      <th>40</th>\n",
              "      <td>South Dakota</td>\n",
              "      <td>SD</td>\n",
              "      <td>USA</td>\n",
              "      <td>2.0</td>\n",
              "      <td>4.0</td>\n",
              "    </tr>\n",
              "    <tr>\n",
              "      <th>41</th>\n",
              "      <td>Tennessee</td>\n",
              "      <td>TN</td>\n",
              "      <td>USA</td>\n",
              "      <td>3.0</td>\n",
              "      <td>6.0</td>\n",
              "    </tr>\n",
              "    <tr>\n",
              "      <th>42</th>\n",
              "      <td>Texas</td>\n",
              "      <td>TX</td>\n",
              "      <td>USA</td>\n",
              "      <td>3.0</td>\n",
              "      <td>7.0</td>\n",
              "    </tr>\n",
              "    <tr>\n",
              "      <th>43</th>\n",
              "      <td>Utah</td>\n",
              "      <td>UT</td>\n",
              "      <td>USA</td>\n",
              "      <td>4.0</td>\n",
              "      <td>8.0</td>\n",
              "    </tr>\n",
              "    <tr>\n",
              "      <th>44</th>\n",
              "      <td>Vermont</td>\n",
              "      <td>VT</td>\n",
              "      <td>USA</td>\n",
              "      <td>1.0</td>\n",
              "      <td>1.0</td>\n",
              "    </tr>\n",
              "    <tr>\n",
              "      <th>45</th>\n",
              "      <td>Virginia</td>\n",
              "      <td>VA</td>\n",
              "      <td>USA</td>\n",
              "      <td>3.0</td>\n",
              "      <td>5.0</td>\n",
              "    </tr>\n",
              "    <tr>\n",
              "      <th>46</th>\n",
              "      <td>Washington</td>\n",
              "      <td>WA</td>\n",
              "      <td>USA</td>\n",
              "      <td>4.0</td>\n",
              "      <td>9.0</td>\n",
              "    </tr>\n",
              "    <tr>\n",
              "      <th>47</th>\n",
              "      <td>West Virginia</td>\n",
              "      <td>WV</td>\n",
              "      <td>USA</td>\n",
              "      <td>3.0</td>\n",
              "      <td>5.0</td>\n",
              "    </tr>\n",
              "    <tr>\n",
              "      <th>48</th>\n",
              "      <td>Wisconsin</td>\n",
              "      <td>WI</td>\n",
              "      <td>USA</td>\n",
              "      <td>2.0</td>\n",
              "      <td>3.0</td>\n",
              "    </tr>\n",
              "    <tr>\n",
              "      <th>49</th>\n",
              "      <td>Wyoming</td>\n",
              "      <td>WY</td>\n",
              "      <td>USA</td>\n",
              "      <td>4.0</td>\n",
              "      <td>8.0</td>\n",
              "    </tr>\n",
              "    <tr>\n",
              "      <th>50</th>\n",
              "      <td>Washington DC</td>\n",
              "      <td>DC</td>\n",
              "      <td>USA</td>\n",
              "      <td>3.0</td>\n",
              "      <td>5.0</td>\n",
              "    </tr>\n",
              "    <tr>\n",
              "      <th>51</th>\n",
              "      <td>Puerto Rico</td>\n",
              "      <td>PR</td>\n",
              "      <td>USA</td>\n",
              "      <td>NaN</td>\n",
              "      <td>NaN</td>\n",
              "    </tr>\n",
              "    <tr>\n",
              "      <th>52</th>\n",
              "      <td>U.S. Virgin Islands</td>\n",
              "      <td>VI</td>\n",
              "      <td>USA</td>\n",
              "      <td>NaN</td>\n",
              "      <td>NaN</td>\n",
              "    </tr>\n",
              "    <tr>\n",
              "      <th>53</th>\n",
              "      <td>American Samoa</td>\n",
              "      <td>AS</td>\n",
              "      <td>USA</td>\n",
              "      <td>NaN</td>\n",
              "      <td>NaN</td>\n",
              "    </tr>\n",
              "    <tr>\n",
              "      <th>54</th>\n",
              "      <td>Guam</td>\n",
              "      <td>GU</td>\n",
              "      <td>USA</td>\n",
              "      <td>NaN</td>\n",
              "      <td>NaN</td>\n",
              "    </tr>\n",
              "    <tr>\n",
              "      <th>55</th>\n",
              "      <td>Northern Mariana Islands</td>\n",
              "      <td>MP</td>\n",
              "      <td>USA</td>\n",
              "      <td>NaN</td>\n",
              "      <td>NaN</td>\n",
              "    </tr>\n",
              "    <tr>\n",
              "      <th>56</th>\n",
              "      <td>Alberta</td>\n",
              "      <td>AB</td>\n",
              "      <td>Canada</td>\n",
              "      <td>NaN</td>\n",
              "      <td>NaN</td>\n",
              "    </tr>\n",
              "    <tr>\n",
              "      <th>57</th>\n",
              "      <td>British Columbia</td>\n",
              "      <td>BC</td>\n",
              "      <td>Canada</td>\n",
              "      <td>NaN</td>\n",
              "      <td>NaN</td>\n",
              "    </tr>\n",
              "    <tr>\n",
              "      <th>58</th>\n",
              "      <td>Manitoba</td>\n",
              "      <td>MB</td>\n",
              "      <td>Canada</td>\n",
              "      <td>NaN</td>\n",
              "      <td>NaN</td>\n",
              "    </tr>\n",
              "    <tr>\n",
              "      <th>59</th>\n",
              "      <td>New Brunswick</td>\n",
              "      <td>NB</td>\n",
              "      <td>Canada</td>\n",
              "      <td>NaN</td>\n",
              "      <td>NaN</td>\n",
              "    </tr>\n",
              "  </tbody>\n",
              "</table>\n",
              "</div>"
            ],
            "text/plain": [
              "                  State_Name State_Abb country  census_region  census_division\n",
              "0                    Alabama        AL     USA            3.0              6.0\n",
              "1                     Alaska        AK     USA            4.0              9.0\n",
              "2                    Arizona        AZ     USA            4.0              8.0\n",
              "3                   Arkansas        AR     USA            3.0              7.0\n",
              "4                 California        CA     USA            4.0              9.0\n",
              "5                   Colorado        CO     USA            4.0              8.0\n",
              "6                Connecticut        CT     USA            1.0              1.0\n",
              "7                   Delaware        DE     USA            3.0              5.0\n",
              "8                    Florida        FL     USA            3.0              5.0\n",
              "9                    Georgia        GA     USA            3.0              5.0\n",
              "10                    Hawaii        HI     USA            4.0              9.0\n",
              "11                     Idaho        ID     USA            4.0              8.0\n",
              "12                  Illinois        IL     USA            2.0              3.0\n",
              "13                   Indiana        IN     USA            2.0              3.0\n",
              "14                      Iowa        IA     USA            2.0              4.0\n",
              "15                    Kansas        KS     USA            2.0              4.0\n",
              "16                  Kentucky        KY     USA            3.0              6.0\n",
              "17                 Louisiana        LA     USA            3.0              7.0\n",
              "18                     Maine        ME     USA            1.0              1.0\n",
              "19                  Maryland        MD     USA            3.0              5.0\n",
              "20             Massachusetts        MA     USA            1.0              1.0\n",
              "21                  Michigan        MI     USA            2.0              3.0\n",
              "22                 Minnesota        MN     USA            2.0              4.0\n",
              "23               Mississippi        MS     USA            3.0              6.0\n",
              "24                  Missouri        MO     USA            2.0              4.0\n",
              "25                   Montana        MT     USA            4.0              8.0\n",
              "26                  Nebraska        NE     USA            2.0              4.0\n",
              "27                    Nevada        NV     USA            4.0              8.0\n",
              "28             New Hampshire        NH     USA            1.0              1.0\n",
              "29                New Jersey        NJ     USA            1.0              2.0\n",
              "30                New Mexico        NM     USA            4.0              8.0\n",
              "31                  New York        NY     USA            1.0              2.0\n",
              "32            North Carolina        NC     USA            3.0              5.0\n",
              "33              North Dakota        ND     USA            2.0              4.0\n",
              "34                      Ohio        OH     USA            2.0              3.0\n",
              "35                  Oklahoma        OK     USA            3.0              7.0\n",
              "36                    Oregon        OR     USA            4.0              9.0\n",
              "37              Pennsylvania        PA     USA            1.0              2.0\n",
              "38              Rhode Island        RI     USA            1.0              1.0\n",
              "39            South Carolina        SC     USA            3.0              5.0\n",
              "40              South Dakota        SD     USA            2.0              4.0\n",
              "41                 Tennessee        TN     USA            3.0              6.0\n",
              "42                     Texas        TX     USA            3.0              7.0\n",
              "43                      Utah        UT     USA            4.0              8.0\n",
              "44                   Vermont        VT     USA            1.0              1.0\n",
              "45                  Virginia        VA     USA            3.0              5.0\n",
              "46                Washington        WA     USA            4.0              9.0\n",
              "47             West Virginia        WV     USA            3.0              5.0\n",
              "48                 Wisconsin        WI     USA            2.0              3.0\n",
              "49                   Wyoming        WY     USA            4.0              8.0\n",
              "50             Washington DC        DC     USA            3.0              5.0\n",
              "51               Puerto Rico        PR     USA            NaN              NaN\n",
              "52       U.S. Virgin Islands        VI     USA            NaN              NaN\n",
              "53            American Samoa        AS     USA            NaN              NaN\n",
              "54                      Guam        GU     USA            NaN              NaN\n",
              "55  Northern Mariana Islands        MP     USA            NaN              NaN\n",
              "56                   Alberta        AB  Canada            NaN              NaN\n",
              "57          British Columbia        BC  Canada            NaN              NaN\n",
              "58                  Manitoba        MB  Canada            NaN              NaN\n",
              "59             New Brunswick        NB  Canada            NaN              NaN"
            ]
          },
          "execution_count": 20,
          "metadata": {},
          "output_type": "execute_result"
        }
      ]
    },
    {
      "cell_type": "code",
      "metadata": {
        "id": "gUG-TNEDPB6p"
      },
      "source": [
        "yelp_business_df = pd.merge(yelp_business_df, USA_states, left_on='state', right_on='State_Abb', how='left')"
      ],
      "id": "gUG-TNEDPB6p",
      "execution_count": null,
      "outputs": []
    },
    {
      "cell_type": "code",
      "metadata": {
        "colab": {
          "base_uri": "https://localhost:8080/",
          "height": 366
        },
        "id": "4zNSVWP9PM4O",
        "outputId": "6fc7c42c-dda8-444c-de6b-9b03f12eed21"
      },
      "source": [
        "yelp_business_df.head(3)"
      ],
      "id": "4zNSVWP9PM4O",
      "execution_count": null,
      "outputs": [
        {
          "data": {
            "text/html": [
              "<div>\n",
              "<style scoped>\n",
              "    .dataframe tbody tr th:only-of-type {\n",
              "        vertical-align: middle;\n",
              "    }\n",
              "\n",
              "    .dataframe tbody tr th {\n",
              "        vertical-align: top;\n",
              "    }\n",
              "\n",
              "    .dataframe thead th {\n",
              "        text-align: right;\n",
              "    }\n",
              "</style>\n",
              "<table border=\"1\" class=\"dataframe\">\n",
              "  <thead>\n",
              "    <tr style=\"text-align: right;\">\n",
              "      <th></th>\n",
              "      <th>attributes.BYOB</th>\n",
              "      <th>attributes.AcceptsInsurance</th>\n",
              "      <th>attributes.DriveThru</th>\n",
              "      <th>state</th>\n",
              "      <th>attributes.HasTV</th>\n",
              "      <th>attributes.DietaryRestrictions</th>\n",
              "      <th>attributes.RestaurantsCounterService</th>\n",
              "      <th>attributes.Ambience</th>\n",
              "      <th>postal_code</th>\n",
              "      <th>address</th>\n",
              "      <th>attributes.WheelchairAccessible</th>\n",
              "      <th>attributes.HappyHour</th>\n",
              "      <th>attributes.BusinessAcceptsCreditCards</th>\n",
              "      <th>attributes.GoodForDancing</th>\n",
              "      <th>attributes.BusinessAcceptsBitcoin</th>\n",
              "      <th>attributes.NoiseLevel</th>\n",
              "      <th>attributes.HairSpecializesIn</th>\n",
              "      <th>attributes.AgesAllowed</th>\n",
              "      <th>attributes.Smoking</th>\n",
              "      <th>is_open</th>\n",
              "      <th>hours.Saturday</th>\n",
              "      <th>hours.Sunday</th>\n",
              "      <th>attributes.BYOBCorkage</th>\n",
              "      <th>hours.Thursday</th>\n",
              "      <th>hours.Monday</th>\n",
              "      <th>attributes.CoatCheck</th>\n",
              "      <th>attributes.RestaurantsTableService</th>\n",
              "      <th>hours.Friday</th>\n",
              "      <th>city</th>\n",
              "      <th>attributes.BusinessParking</th>\n",
              "      <th>attributes.WiFi</th>\n",
              "      <th>hours.Wednesday</th>\n",
              "      <th>latitude</th>\n",
              "      <th>hours.Tuesday</th>\n",
              "      <th>attributes.GoodForKids</th>\n",
              "      <th>attributes.RestaurantsDelivery</th>\n",
              "      <th>attributes.Open24Hours</th>\n",
              "      <th>attributes.BikeParking</th>\n",
              "      <th>business_id</th>\n",
              "      <th>stars</th>\n",
              "      <th>attributes.OutdoorSeating</th>\n",
              "      <th>longitude</th>\n",
              "      <th>attributes.RestaurantsAttire</th>\n",
              "      <th>hours</th>\n",
              "      <th>attributes.BestNights</th>\n",
              "      <th>attributes.Corkage</th>\n",
              "      <th>categories</th>\n",
              "      <th>review_count</th>\n",
              "      <th>attributes.Alcohol</th>\n",
              "      <th>attributes.RestaurantsPriceRange2</th>\n",
              "      <th>attributes.ByAppointmentOnly</th>\n",
              "      <th>attributes.Music</th>\n",
              "      <th>attributes.RestaurantsReservations</th>\n",
              "      <th>attributes.GoodForMeal</th>\n",
              "      <th>name</th>\n",
              "      <th>attributes</th>\n",
              "      <th>attributes.Caters</th>\n",
              "      <th>attributes.DogsAllowed</th>\n",
              "      <th>attributes.RestaurantsGoodForGroups</th>\n",
              "      <th>attributes.RestaurantsTakeOut</th>\n",
              "      <th>State_Name</th>\n",
              "      <th>State_Abb</th>\n",
              "      <th>country</th>\n",
              "      <th>census_region</th>\n",
              "      <th>census_division</th>\n",
              "    </tr>\n",
              "  </thead>\n",
              "  <tbody>\n",
              "    <tr>\n",
              "      <th>0</th>\n",
              "      <td>NaN</td>\n",
              "      <td>NaN</td>\n",
              "      <td>NaN</td>\n",
              "      <td>CO</td>\n",
              "      <td>True</td>\n",
              "      <td>NaN</td>\n",
              "      <td>NaN</td>\n",
              "      <td>{'touristy': False, 'hipster': False, 'romanti...</td>\n",
              "      <td>80302</td>\n",
              "      <td>921 Pearl St</td>\n",
              "      <td>True</td>\n",
              "      <td>True</td>\n",
              "      <td>True</td>\n",
              "      <td>NaN</td>\n",
              "      <td>False</td>\n",
              "      <td>u'average'</td>\n",
              "      <td>NaN</td>\n",
              "      <td>NaN</td>\n",
              "      <td>NaN</td>\n",
              "      <td>1</td>\n",
              "      <td>11:0-23:0</td>\n",
              "      <td>11:0-23:0</td>\n",
              "      <td>NaN</td>\n",
              "      <td>11:0-23:0</td>\n",
              "      <td>11:0-23:0</td>\n",
              "      <td>NaN</td>\n",
              "      <td>True</td>\n",
              "      <td>11:0-23:0</td>\n",
              "      <td>Boulder</td>\n",
              "      <td>{'garage': False, 'street': True, 'validated':...</td>\n",
              "      <td>u'free'</td>\n",
              "      <td>11:0-23:0</td>\n",
              "      <td>40.017544</td>\n",
              "      <td>11:0-23:0</td>\n",
              "      <td>NaN</td>\n",
              "      <td>None</td>\n",
              "      <td>NaN</td>\n",
              "      <td>True</td>\n",
              "      <td>6iYb2HFDywm3zjuRg0shjw</td>\n",
              "      <td>4.0</td>\n",
              "      <td>True</td>\n",
              "      <td>-105.283348</td>\n",
              "      <td>'casual'</td>\n",
              "      <td>{'Monday': '11:0-23:0', 'Tuesday': '11:0-23:0'...</td>\n",
              "      <td>NaN</td>\n",
              "      <td>NaN</td>\n",
              "      <td>Gastropubs, Food, Beer Gardens, Restaurants, B...</td>\n",
              "      <td>86</td>\n",
              "      <td>'beer_and_wine'</td>\n",
              "      <td>2</td>\n",
              "      <td>NaN</td>\n",
              "      <td>NaN</td>\n",
              "      <td>False</td>\n",
              "      <td>{'dessert': False, 'latenight': False, 'lunch'...</td>\n",
              "      <td>Oskar Blues Taproom</td>\n",
              "      <td>{'RestaurantsTableService': 'True', 'WiFi': \"u...</td>\n",
              "      <td>True</td>\n",
              "      <td>False</td>\n",
              "      <td>True</td>\n",
              "      <td>True</td>\n",
              "      <td>Colorado</td>\n",
              "      <td>CO</td>\n",
              "      <td>USA</td>\n",
              "      <td>4.0</td>\n",
              "      <td>8.0</td>\n",
              "    </tr>\n",
              "    <tr>\n",
              "      <th>1</th>\n",
              "      <td>NaN</td>\n",
              "      <td>NaN</td>\n",
              "      <td>NaN</td>\n",
              "      <td>OR</td>\n",
              "      <td>False</td>\n",
              "      <td>NaN</td>\n",
              "      <td>NaN</td>\n",
              "      <td>{'romantic': False, 'intimate': False, 'touris...</td>\n",
              "      <td>97218</td>\n",
              "      <td>7000 NE Airport Way</td>\n",
              "      <td>NaN</td>\n",
              "      <td>NaN</td>\n",
              "      <td>True</td>\n",
              "      <td>NaN</td>\n",
              "      <td>NaN</td>\n",
              "      <td>u'average'</td>\n",
              "      <td>NaN</td>\n",
              "      <td>NaN</td>\n",
              "      <td>NaN</td>\n",
              "      <td>1</td>\n",
              "      <td>5:0-18:0</td>\n",
              "      <td>5:0-18:0</td>\n",
              "      <td>NaN</td>\n",
              "      <td>5:0-18:0</td>\n",
              "      <td>5:0-18:0</td>\n",
              "      <td>NaN</td>\n",
              "      <td>NaN</td>\n",
              "      <td>5:0-18:0</td>\n",
              "      <td>Portland</td>\n",
              "      <td>{'garage': True, 'street': False, 'validated':...</td>\n",
              "      <td>u'free'</td>\n",
              "      <td>5:0-18:0</td>\n",
              "      <td>45.588906</td>\n",
              "      <td>5:0-17:0</td>\n",
              "      <td>True</td>\n",
              "      <td>False</td>\n",
              "      <td>NaN</td>\n",
              "      <td>False</td>\n",
              "      <td>tCbdrRPZA0oiIYSmHG3J0w</td>\n",
              "      <td>4.0</td>\n",
              "      <td>False</td>\n",
              "      <td>-122.593331</td>\n",
              "      <td>u'casual'</td>\n",
              "      <td>{'Monday': '5:0-18:0', 'Tuesday': '5:0-17:0', ...</td>\n",
              "      <td>NaN</td>\n",
              "      <td>NaN</td>\n",
              "      <td>Salad, Soup, Sandwiches, Delis, Restaurants, C...</td>\n",
              "      <td>126</td>\n",
              "      <td>u'beer_and_wine'</td>\n",
              "      <td>2</td>\n",
              "      <td>False</td>\n",
              "      <td>NaN</td>\n",
              "      <td>False</td>\n",
              "      <td>{'dessert': False, 'latenight': False, 'lunch'...</td>\n",
              "      <td>Flying Elephants at PDX</td>\n",
              "      <td>{'RestaurantsTakeOut': 'True', 'RestaurantsAtt...</td>\n",
              "      <td>True</td>\n",
              "      <td>NaN</td>\n",
              "      <td>False</td>\n",
              "      <td>True</td>\n",
              "      <td>Oregon</td>\n",
              "      <td>OR</td>\n",
              "      <td>USA</td>\n",
              "      <td>4.0</td>\n",
              "      <td>9.0</td>\n",
              "    </tr>\n",
              "    <tr>\n",
              "      <th>2</th>\n",
              "      <td>NaN</td>\n",
              "      <td>NaN</td>\n",
              "      <td>NaN</td>\n",
              "      <td>OR</td>\n",
              "      <td>NaN</td>\n",
              "      <td>NaN</td>\n",
              "      <td>NaN</td>\n",
              "      <td>NaN</td>\n",
              "      <td>97214</td>\n",
              "      <td>4720 Hawthorne Ave</td>\n",
              "      <td>NaN</td>\n",
              "      <td>NaN</td>\n",
              "      <td>True</td>\n",
              "      <td>NaN</td>\n",
              "      <td>NaN</td>\n",
              "      <td>NaN</td>\n",
              "      <td>NaN</td>\n",
              "      <td>NaN</td>\n",
              "      <td>NaN</td>\n",
              "      <td>1</td>\n",
              "      <td>11:0-18:0</td>\n",
              "      <td>11:0-18:0</td>\n",
              "      <td>NaN</td>\n",
              "      <td>11:0-18:0</td>\n",
              "      <td>NaN</td>\n",
              "      <td>NaN</td>\n",
              "      <td>NaN</td>\n",
              "      <td>11:0-18:0</td>\n",
              "      <td>Portland</td>\n",
              "      <td>{'garage': False, 'street': True, 'validated':...</td>\n",
              "      <td>NaN</td>\n",
              "      <td>NaN</td>\n",
              "      <td>45.511907</td>\n",
              "      <td>NaN</td>\n",
              "      <td>NaN</td>\n",
              "      <td>NaN</td>\n",
              "      <td>NaN</td>\n",
              "      <td>False</td>\n",
              "      <td>bvN78flM8NLprQ1a1y5dRg</td>\n",
              "      <td>4.5</td>\n",
              "      <td>NaN</td>\n",
              "      <td>-122.613693</td>\n",
              "      <td>NaN</td>\n",
              "      <td>{'Thursday': '11:0-18:0', 'Friday': '11:0-18:0...</td>\n",
              "      <td>NaN</td>\n",
              "      <td>NaN</td>\n",
              "      <td>Antiques, Fashion, Used, Vintage &amp; Consignment...</td>\n",
              "      <td>13</td>\n",
              "      <td>NaN</td>\n",
              "      <td>2</td>\n",
              "      <td>False</td>\n",
              "      <td>NaN</td>\n",
              "      <td>NaN</td>\n",
              "      <td>NaN</td>\n",
              "      <td>The Reclaimory</td>\n",
              "      <td>{'BusinessAcceptsCreditCards': 'True', 'Restau...</td>\n",
              "      <td>NaN</td>\n",
              "      <td>NaN</td>\n",
              "      <td>NaN</td>\n",
              "      <td>NaN</td>\n",
              "      <td>Oregon</td>\n",
              "      <td>OR</td>\n",
              "      <td>USA</td>\n",
              "      <td>4.0</td>\n",
              "      <td>9.0</td>\n",
              "    </tr>\n",
              "  </tbody>\n",
              "</table>\n",
              "</div>"
            ],
            "text/plain": [
              "  attributes.BYOB attributes.AcceptsInsurance  ... census_region census_division\n",
              "0             NaN                         NaN  ...           4.0             8.0\n",
              "1             NaN                         NaN  ...           4.0             9.0\n",
              "2             NaN                         NaN  ...           4.0             9.0\n",
              "\n",
              "[3 rows x 65 columns]"
            ]
          },
          "execution_count": 22,
          "metadata": {},
          "output_type": "execute_result"
        }
      ]
    },
    {
      "cell_type": "code",
      "metadata": {
        "colab": {
          "base_uri": "https://localhost:8080/",
          "height": 80
        },
        "id": "3aIh3NlzPR0o",
        "outputId": "97de2664-d4a8-45ac-a0ee-63e5226956a3"
      },
      "source": [
        "yelp_business_df[yelp_business_df.State_Abb.isna()][['address','city', 'state']]"
      ],
      "id": "3aIh3NlzPR0o",
      "execution_count": null,
      "outputs": [
        {
          "data": {
            "text/html": [
              "<div>\n",
              "<style scoped>\n",
              "    .dataframe tbody tr th:only-of-type {\n",
              "        vertical-align: middle;\n",
              "    }\n",
              "\n",
              "    .dataframe tbody tr th {\n",
              "        vertical-align: top;\n",
              "    }\n",
              "\n",
              "    .dataframe thead th {\n",
              "        text-align: right;\n",
              "    }\n",
              "</style>\n",
              "<table border=\"1\" class=\"dataframe\">\n",
              "  <thead>\n",
              "    <tr style=\"text-align: right;\">\n",
              "      <th></th>\n",
              "      <th>address</th>\n",
              "      <th>city</th>\n",
              "      <th>state</th>\n",
              "    </tr>\n",
              "  </thead>\n",
              "  <tbody>\n",
              "    <tr>\n",
              "      <th>99193</th>\n",
              "      <td>1698 Robson Street</td>\n",
              "      <td>Vancouver</td>\n",
              "      <td>ABE</td>\n",
              "    </tr>\n",
              "  </tbody>\n",
              "</table>\n",
              "</div>"
            ],
            "text/plain": [
              "                  address       city state\n",
              "99193  1698 Robson Street  Vancouver   ABE"
            ]
          },
          "execution_count": 23,
          "metadata": {},
          "output_type": "execute_result"
        }
      ]
    },
    {
      "cell_type": "markdown",
      "metadata": {
        "id": "7LI2S4NKPnFn"
      },
      "source": [
        "This business are have an invalid state, hence we will drop these rows. For this project we will only consider states from USA and remove those from Canada."
      ],
      "id": "7LI2S4NKPnFn"
    },
    {
      "cell_type": "code",
      "metadata": {
        "colab": {
          "base_uri": "https://localhost:8080/"
        },
        "id": "W5XsHsfRRTiz",
        "outputId": "42721a11-fb4b-4183-bd41-2c7cac49f414"
      },
      "source": [
        "yelp_business_df.country.value_counts()"
      ],
      "id": "W5XsHsfRRTiz",
      "execution_count": null,
      "outputs": [
        {
          "data": {
            "text/plain": [
              "USA       110511\n",
              "Canada     12736\n",
              "Name: country, dtype: int64"
            ]
          },
          "execution_count": 24,
          "metadata": {},
          "output_type": "execute_result"
        }
      ]
    },
    {
      "cell_type": "code",
      "metadata": {
        "id": "a1kGveVJmcwf"
      },
      "source": [
        "yelp_business_df = yelp_business_df[yelp_business_df.country == 'USA']"
      ],
      "id": "a1kGveVJmcwf",
      "execution_count": null,
      "outputs": []
    },
    {
      "cell_type": "code",
      "metadata": {
        "id": "1r5XrCKwoVEJ"
      },
      "source": [
        "yelp_business_df = yelp_business_df.drop(['State_Name','country'], axis=1)"
      ],
      "id": "1r5XrCKwoVEJ",
      "execution_count": null,
      "outputs": []
    },
    {
      "cell_type": "code",
      "metadata": {
        "colab": {
          "base_uri": "https://localhost:8080/"
        },
        "id": "2xU4rVhQmkTo",
        "outputId": "51e1a051-c84f-42a0-de21-34ff0919c94e"
      },
      "source": [
        "yelp_business_df.info()"
      ],
      "id": "2xU4rVhQmkTo",
      "execution_count": null,
      "outputs": [
        {
          "name": "stdout",
          "output_type": "stream",
          "text": [
            "<class 'pandas.core.frame.DataFrame'>\n",
            "Int64Index: 110511 entries, 0 to 123247\n",
            "Data columns (total 63 columns):\n",
            " #   Column                                 Non-Null Count   Dtype   \n",
            "---  ------                                 --------------   -----   \n",
            " 0   attributes.BYOB                        3062 non-null    object  \n",
            " 1   attributes.AcceptsInsurance            6346 non-null    object  \n",
            " 2   attributes.DriveThru                   5010 non-null    object  \n",
            " 3   state                                  110511 non-null  object  \n",
            " 4   attributes.HasTV                       25183 non-null   object  \n",
            " 5   attributes.DietaryRestrictions         33 non-null      object  \n",
            " 6   attributes.RestaurantsCounterService   27 non-null      object  \n",
            " 7   attributes.Ambience                    24600 non-null   object  \n",
            " 8   postal_code                            110500 non-null  object  \n",
            " 9   address                                104819 non-null  object  \n",
            " 10  attributes.WheelchairAccessible        22216 non-null   object  \n",
            " 11  attributes.HappyHour                   10254 non-null   object  \n",
            " 12  attributes.BusinessAcceptsCreditCards  90491 non-null   object  \n",
            " 13  attributes.GoodForDancing              3295 non-null    object  \n",
            " 14  attributes.BusinessAcceptsBitcoin      14765 non-null   object  \n",
            " 15  attributes.NoiseLevel                  21472 non-null   object  \n",
            " 16  attributes.HairSpecializesIn           1011 non-null    object  \n",
            " 17  attributes.AgesAllowed                 66 non-null      object  \n",
            " 18  attributes.Smoking                     3168 non-null    object  \n",
            " 19  is_open                                110511 non-null  int64   \n",
            " 20  hours.Saturday                         78156 non-null   object  \n",
            " 21  hours.Sunday                           56728 non-null   object  \n",
            " 22  attributes.BYOBCorkage                 1913 non-null    object  \n",
            " 23  hours.Thursday                         93245 non-null   object  \n",
            " 24  hours.Monday                           88035 non-null   object  \n",
            " 25  attributes.CoatCheck                   3887 non-null    object  \n",
            " 26  attributes.RestaurantsTableService     12808 non-null   object  \n",
            " 27  hours.Friday                           92566 non-null   object  \n",
            " 28  city                                   110511 non-null  object  \n",
            " 29  attributes.BusinessParking             60347 non-null   object  \n",
            " 30  attributes.WiFi                        38590 non-null   object  \n",
            " 31  hours.Wednesday                        92374 non-null   object  \n",
            " 32  latitude                               110511 non-null  float64 \n",
            " 33  hours.Tuesday                          90879 non-null   object  \n",
            " 34  attributes.GoodForKids                 32611 non-null   object  \n",
            " 35  attributes.RestaurantsDelivery         32230 non-null   object  \n",
            " 36  attributes.Open24Hours                 31 non-null      object  \n",
            " 37  attributes.BikeParking                 51827 non-null   object  \n",
            " 38  business_id                            110511 non-null  object  \n",
            " 39  stars                                  110511 non-null  category\n",
            " 40  attributes.OutdoorSeating              26957 non-null   object  \n",
            " 41  longitude                              110511 non-null  float64 \n",
            " 42  attributes.RestaurantsAttire           20794 non-null   object  \n",
            " 43  hours                                  94908 non-null   object  \n",
            " 44  attributes.BestNights                  4188 non-null    object  \n",
            " 45  attributes.Corkage                     2849 non-null    object  \n",
            " 46  categories                             110415 non-null  object  \n",
            " 47  review_count                           110511 non-null  int64   \n",
            " 48  attributes.Alcohol                     23982 non-null   object  \n",
            " 49  attributes.RestaurantsPriceRange2      54725 non-null   object  \n",
            " 50  attributes.ByAppointmentOnly           40374 non-null   object  \n",
            " 51  attributes.Music                       5237 non-null    object  \n",
            " 52  attributes.RestaurantsReservations     24783 non-null   object  \n",
            " 53  attributes.GoodForMeal                 19305 non-null   object  \n",
            " 54  name                                   110511 non-null  object  \n",
            " 55  attributes                             99234 non-null   object  \n",
            " 56  attributes.Caters                      24653 non-null   object  \n",
            " 57  attributes.DogsAllowed                 14291 non-null   object  \n",
            " 58  attributes.RestaurantsGoodForGroups    23694 non-null   object  \n",
            " 59  attributes.RestaurantsTakeOut          34099 non-null   object  \n",
            " 60  State_Abb                              110511 non-null  object  \n",
            " 61  census_region                          110511 non-null  float64 \n",
            " 62  census_division                        110511 non-null  float64 \n",
            "dtypes: category(1), float64(4), int64(2), object(56)\n",
            "memory usage: 53.2+ MB\n"
          ]
        }
      ]
    },
    {
      "cell_type": "code",
      "metadata": {
        "colab": {
          "base_uri": "https://localhost:8080/",
          "height": 530
        },
        "id": "hdBHlpvYmwKZ",
        "outputId": "15380e2e-d9ae-4db1-823d-d60011ef0c1a"
      },
      "source": [
        "yelp_business_df.head()"
      ],
      "id": "hdBHlpvYmwKZ",
      "execution_count": null,
      "outputs": [
        {
          "data": {
            "text/html": [
              "<div>\n",
              "<style scoped>\n",
              "    .dataframe tbody tr th:only-of-type {\n",
              "        vertical-align: middle;\n",
              "    }\n",
              "\n",
              "    .dataframe tbody tr th {\n",
              "        vertical-align: top;\n",
              "    }\n",
              "\n",
              "    .dataframe thead th {\n",
              "        text-align: right;\n",
              "    }\n",
              "</style>\n",
              "<table border=\"1\" class=\"dataframe\">\n",
              "  <thead>\n",
              "    <tr style=\"text-align: right;\">\n",
              "      <th></th>\n",
              "      <th>attributes.BYOB</th>\n",
              "      <th>attributes.AcceptsInsurance</th>\n",
              "      <th>attributes.DriveThru</th>\n",
              "      <th>state</th>\n",
              "      <th>attributes.HasTV</th>\n",
              "      <th>attributes.DietaryRestrictions</th>\n",
              "      <th>attributes.RestaurantsCounterService</th>\n",
              "      <th>attributes.Ambience</th>\n",
              "      <th>postal_code</th>\n",
              "      <th>address</th>\n",
              "      <th>attributes.WheelchairAccessible</th>\n",
              "      <th>attributes.HappyHour</th>\n",
              "      <th>attributes.BusinessAcceptsCreditCards</th>\n",
              "      <th>attributes.GoodForDancing</th>\n",
              "      <th>attributes.BusinessAcceptsBitcoin</th>\n",
              "      <th>attributes.NoiseLevel</th>\n",
              "      <th>attributes.HairSpecializesIn</th>\n",
              "      <th>attributes.AgesAllowed</th>\n",
              "      <th>attributes.Smoking</th>\n",
              "      <th>is_open</th>\n",
              "      <th>hours.Saturday</th>\n",
              "      <th>hours.Sunday</th>\n",
              "      <th>attributes.BYOBCorkage</th>\n",
              "      <th>hours.Thursday</th>\n",
              "      <th>hours.Monday</th>\n",
              "      <th>attributes.CoatCheck</th>\n",
              "      <th>attributes.RestaurantsTableService</th>\n",
              "      <th>hours.Friday</th>\n",
              "      <th>city</th>\n",
              "      <th>attributes.BusinessParking</th>\n",
              "      <th>attributes.WiFi</th>\n",
              "      <th>hours.Wednesday</th>\n",
              "      <th>latitude</th>\n",
              "      <th>hours.Tuesday</th>\n",
              "      <th>attributes.GoodForKids</th>\n",
              "      <th>attributes.RestaurantsDelivery</th>\n",
              "      <th>attributes.Open24Hours</th>\n",
              "      <th>attributes.BikeParking</th>\n",
              "      <th>business_id</th>\n",
              "      <th>stars</th>\n",
              "      <th>attributes.OutdoorSeating</th>\n",
              "      <th>longitude</th>\n",
              "      <th>attributes.RestaurantsAttire</th>\n",
              "      <th>hours</th>\n",
              "      <th>attributes.BestNights</th>\n",
              "      <th>attributes.Corkage</th>\n",
              "      <th>categories</th>\n",
              "      <th>review_count</th>\n",
              "      <th>attributes.Alcohol</th>\n",
              "      <th>attributes.RestaurantsPriceRange2</th>\n",
              "      <th>attributes.ByAppointmentOnly</th>\n",
              "      <th>attributes.Music</th>\n",
              "      <th>attributes.RestaurantsReservations</th>\n",
              "      <th>attributes.GoodForMeal</th>\n",
              "      <th>name</th>\n",
              "      <th>attributes</th>\n",
              "      <th>attributes.Caters</th>\n",
              "      <th>attributes.DogsAllowed</th>\n",
              "      <th>attributes.RestaurantsGoodForGroups</th>\n",
              "      <th>attributes.RestaurantsTakeOut</th>\n",
              "      <th>State_Abb</th>\n",
              "      <th>census_region</th>\n",
              "      <th>census_division</th>\n",
              "    </tr>\n",
              "  </thead>\n",
              "  <tbody>\n",
              "    <tr>\n",
              "      <th>0</th>\n",
              "      <td>NaN</td>\n",
              "      <td>NaN</td>\n",
              "      <td>NaN</td>\n",
              "      <td>CO</td>\n",
              "      <td>True</td>\n",
              "      <td>NaN</td>\n",
              "      <td>NaN</td>\n",
              "      <td>{'touristy': False, 'hipster': False, 'romanti...</td>\n",
              "      <td>80302</td>\n",
              "      <td>921 Pearl St</td>\n",
              "      <td>True</td>\n",
              "      <td>True</td>\n",
              "      <td>True</td>\n",
              "      <td>NaN</td>\n",
              "      <td>False</td>\n",
              "      <td>u'average'</td>\n",
              "      <td>NaN</td>\n",
              "      <td>NaN</td>\n",
              "      <td>NaN</td>\n",
              "      <td>1</td>\n",
              "      <td>11:0-23:0</td>\n",
              "      <td>11:0-23:0</td>\n",
              "      <td>NaN</td>\n",
              "      <td>11:0-23:0</td>\n",
              "      <td>11:0-23:0</td>\n",
              "      <td>NaN</td>\n",
              "      <td>True</td>\n",
              "      <td>11:0-23:0</td>\n",
              "      <td>Boulder</td>\n",
              "      <td>{'garage': False, 'street': True, 'validated':...</td>\n",
              "      <td>u'free'</td>\n",
              "      <td>11:0-23:0</td>\n",
              "      <td>40.017544</td>\n",
              "      <td>11:0-23:0</td>\n",
              "      <td>NaN</td>\n",
              "      <td>None</td>\n",
              "      <td>NaN</td>\n",
              "      <td>True</td>\n",
              "      <td>6iYb2HFDywm3zjuRg0shjw</td>\n",
              "      <td>4.0</td>\n",
              "      <td>True</td>\n",
              "      <td>-105.283348</td>\n",
              "      <td>'casual'</td>\n",
              "      <td>{'Monday': '11:0-23:0', 'Tuesday': '11:0-23:0'...</td>\n",
              "      <td>NaN</td>\n",
              "      <td>NaN</td>\n",
              "      <td>Gastropubs, Food, Beer Gardens, Restaurants, B...</td>\n",
              "      <td>86</td>\n",
              "      <td>'beer_and_wine'</td>\n",
              "      <td>2</td>\n",
              "      <td>NaN</td>\n",
              "      <td>NaN</td>\n",
              "      <td>False</td>\n",
              "      <td>{'dessert': False, 'latenight': False, 'lunch'...</td>\n",
              "      <td>Oskar Blues Taproom</td>\n",
              "      <td>{'RestaurantsTableService': 'True', 'WiFi': \"u...</td>\n",
              "      <td>True</td>\n",
              "      <td>False</td>\n",
              "      <td>True</td>\n",
              "      <td>True</td>\n",
              "      <td>CO</td>\n",
              "      <td>4.0</td>\n",
              "      <td>8.0</td>\n",
              "    </tr>\n",
              "    <tr>\n",
              "      <th>1</th>\n",
              "      <td>NaN</td>\n",
              "      <td>NaN</td>\n",
              "      <td>NaN</td>\n",
              "      <td>OR</td>\n",
              "      <td>False</td>\n",
              "      <td>NaN</td>\n",
              "      <td>NaN</td>\n",
              "      <td>{'romantic': False, 'intimate': False, 'touris...</td>\n",
              "      <td>97218</td>\n",
              "      <td>7000 NE Airport Way</td>\n",
              "      <td>NaN</td>\n",
              "      <td>NaN</td>\n",
              "      <td>True</td>\n",
              "      <td>NaN</td>\n",
              "      <td>NaN</td>\n",
              "      <td>u'average'</td>\n",
              "      <td>NaN</td>\n",
              "      <td>NaN</td>\n",
              "      <td>NaN</td>\n",
              "      <td>1</td>\n",
              "      <td>5:0-18:0</td>\n",
              "      <td>5:0-18:0</td>\n",
              "      <td>NaN</td>\n",
              "      <td>5:0-18:0</td>\n",
              "      <td>5:0-18:0</td>\n",
              "      <td>NaN</td>\n",
              "      <td>NaN</td>\n",
              "      <td>5:0-18:0</td>\n",
              "      <td>Portland</td>\n",
              "      <td>{'garage': True, 'street': False, 'validated':...</td>\n",
              "      <td>u'free'</td>\n",
              "      <td>5:0-18:0</td>\n",
              "      <td>45.588906</td>\n",
              "      <td>5:0-17:0</td>\n",
              "      <td>True</td>\n",
              "      <td>False</td>\n",
              "      <td>NaN</td>\n",
              "      <td>False</td>\n",
              "      <td>tCbdrRPZA0oiIYSmHG3J0w</td>\n",
              "      <td>4.0</td>\n",
              "      <td>False</td>\n",
              "      <td>-122.593331</td>\n",
              "      <td>u'casual'</td>\n",
              "      <td>{'Monday': '5:0-18:0', 'Tuesday': '5:0-17:0', ...</td>\n",
              "      <td>NaN</td>\n",
              "      <td>NaN</td>\n",
              "      <td>Salad, Soup, Sandwiches, Delis, Restaurants, C...</td>\n",
              "      <td>126</td>\n",
              "      <td>u'beer_and_wine'</td>\n",
              "      <td>2</td>\n",
              "      <td>False</td>\n",
              "      <td>NaN</td>\n",
              "      <td>False</td>\n",
              "      <td>{'dessert': False, 'latenight': False, 'lunch'...</td>\n",
              "      <td>Flying Elephants at PDX</td>\n",
              "      <td>{'RestaurantsTakeOut': 'True', 'RestaurantsAtt...</td>\n",
              "      <td>True</td>\n",
              "      <td>NaN</td>\n",
              "      <td>False</td>\n",
              "      <td>True</td>\n",
              "      <td>OR</td>\n",
              "      <td>4.0</td>\n",
              "      <td>9.0</td>\n",
              "    </tr>\n",
              "    <tr>\n",
              "      <th>2</th>\n",
              "      <td>NaN</td>\n",
              "      <td>NaN</td>\n",
              "      <td>NaN</td>\n",
              "      <td>OR</td>\n",
              "      <td>NaN</td>\n",
              "      <td>NaN</td>\n",
              "      <td>NaN</td>\n",
              "      <td>NaN</td>\n",
              "      <td>97214</td>\n",
              "      <td>4720 Hawthorne Ave</td>\n",
              "      <td>NaN</td>\n",
              "      <td>NaN</td>\n",
              "      <td>True</td>\n",
              "      <td>NaN</td>\n",
              "      <td>NaN</td>\n",
              "      <td>NaN</td>\n",
              "      <td>NaN</td>\n",
              "      <td>NaN</td>\n",
              "      <td>NaN</td>\n",
              "      <td>1</td>\n",
              "      <td>11:0-18:0</td>\n",
              "      <td>11:0-18:0</td>\n",
              "      <td>NaN</td>\n",
              "      <td>11:0-18:0</td>\n",
              "      <td>NaN</td>\n",
              "      <td>NaN</td>\n",
              "      <td>NaN</td>\n",
              "      <td>11:0-18:0</td>\n",
              "      <td>Portland</td>\n",
              "      <td>{'garage': False, 'street': True, 'validated':...</td>\n",
              "      <td>NaN</td>\n",
              "      <td>NaN</td>\n",
              "      <td>45.511907</td>\n",
              "      <td>NaN</td>\n",
              "      <td>NaN</td>\n",
              "      <td>NaN</td>\n",
              "      <td>NaN</td>\n",
              "      <td>False</td>\n",
              "      <td>bvN78flM8NLprQ1a1y5dRg</td>\n",
              "      <td>4.5</td>\n",
              "      <td>NaN</td>\n",
              "      <td>-122.613693</td>\n",
              "      <td>NaN</td>\n",
              "      <td>{'Thursday': '11:0-18:0', 'Friday': '11:0-18:0...</td>\n",
              "      <td>NaN</td>\n",
              "      <td>NaN</td>\n",
              "      <td>Antiques, Fashion, Used, Vintage &amp; Consignment...</td>\n",
              "      <td>13</td>\n",
              "      <td>NaN</td>\n",
              "      <td>2</td>\n",
              "      <td>False</td>\n",
              "      <td>NaN</td>\n",
              "      <td>NaN</td>\n",
              "      <td>NaN</td>\n",
              "      <td>The Reclaimory</td>\n",
              "      <td>{'BusinessAcceptsCreditCards': 'True', 'Restau...</td>\n",
              "      <td>NaN</td>\n",
              "      <td>NaN</td>\n",
              "      <td>NaN</td>\n",
              "      <td>NaN</td>\n",
              "      <td>OR</td>\n",
              "      <td>4.0</td>\n",
              "      <td>9.0</td>\n",
              "    </tr>\n",
              "    <tr>\n",
              "      <th>3</th>\n",
              "      <td>NaN</td>\n",
              "      <td>NaN</td>\n",
              "      <td>NaN</td>\n",
              "      <td>FL</td>\n",
              "      <td>NaN</td>\n",
              "      <td>NaN</td>\n",
              "      <td>NaN</td>\n",
              "      <td>NaN</td>\n",
              "      <td>32763</td>\n",
              "      <td>2566 Enterprise Rd</td>\n",
              "      <td>NaN</td>\n",
              "      <td>NaN</td>\n",
              "      <td>True</td>\n",
              "      <td>NaN</td>\n",
              "      <td>NaN</td>\n",
              "      <td>NaN</td>\n",
              "      <td>NaN</td>\n",
              "      <td>NaN</td>\n",
              "      <td>NaN</td>\n",
              "      <td>1</td>\n",
              "      <td>NaN</td>\n",
              "      <td>NaN</td>\n",
              "      <td>NaN</td>\n",
              "      <td>NaN</td>\n",
              "      <td>NaN</td>\n",
              "      <td>NaN</td>\n",
              "      <td>NaN</td>\n",
              "      <td>NaN</td>\n",
              "      <td>Orange City</td>\n",
              "      <td>NaN</td>\n",
              "      <td>NaN</td>\n",
              "      <td>NaN</td>\n",
              "      <td>28.914482</td>\n",
              "      <td>NaN</td>\n",
              "      <td>True</td>\n",
              "      <td>NaN</td>\n",
              "      <td>NaN</td>\n",
              "      <td>NaN</td>\n",
              "      <td>oaepsyvc0J17qwi8cfrOWg</td>\n",
              "      <td>3.0</td>\n",
              "      <td>NaN</td>\n",
              "      <td>-81.295979</td>\n",
              "      <td>NaN</td>\n",
              "      <td>NaN</td>\n",
              "      <td>NaN</td>\n",
              "      <td>NaN</td>\n",
              "      <td>Beauty &amp; Spas, Hair Salons</td>\n",
              "      <td>8</td>\n",
              "      <td>NaN</td>\n",
              "      <td>1</td>\n",
              "      <td>False</td>\n",
              "      <td>NaN</td>\n",
              "      <td>NaN</td>\n",
              "      <td>NaN</td>\n",
              "      <td>Great Clips</td>\n",
              "      <td>{'RestaurantsPriceRange2': '1', 'BusinessAccep...</td>\n",
              "      <td>NaN</td>\n",
              "      <td>NaN</td>\n",
              "      <td>NaN</td>\n",
              "      <td>NaN</td>\n",
              "      <td>FL</td>\n",
              "      <td>3.0</td>\n",
              "      <td>5.0</td>\n",
              "    </tr>\n",
              "    <tr>\n",
              "      <th>4</th>\n",
              "      <td>NaN</td>\n",
              "      <td>NaN</td>\n",
              "      <td>NaN</td>\n",
              "      <td>GA</td>\n",
              "      <td>NaN</td>\n",
              "      <td>NaN</td>\n",
              "      <td>NaN</td>\n",
              "      <td>NaN</td>\n",
              "      <td>30316</td>\n",
              "      <td>1046 Memorial Dr SE</td>\n",
              "      <td>NaN</td>\n",
              "      <td>NaN</td>\n",
              "      <td>True</td>\n",
              "      <td>NaN</td>\n",
              "      <td>NaN</td>\n",
              "      <td>NaN</td>\n",
              "      <td>NaN</td>\n",
              "      <td>NaN</td>\n",
              "      <td>NaN</td>\n",
              "      <td>1</td>\n",
              "      <td>9:0-11:0</td>\n",
              "      <td>NaN</td>\n",
              "      <td>NaN</td>\n",
              "      <td>16:0-19:0</td>\n",
              "      <td>16:0-19:0</td>\n",
              "      <td>NaN</td>\n",
              "      <td>NaN</td>\n",
              "      <td>16:0-19:0</td>\n",
              "      <td>Atlanta</td>\n",
              "      <td>{'garage': False, 'street': False, 'validated'...</td>\n",
              "      <td>NaN</td>\n",
              "      <td>16:0-19:0</td>\n",
              "      <td>33.747027</td>\n",
              "      <td>16:0-19:0</td>\n",
              "      <td>False</td>\n",
              "      <td>NaN</td>\n",
              "      <td>NaN</td>\n",
              "      <td>NaN</td>\n",
              "      <td>PE9uqAjdw0E4-8mjGl3wVA</td>\n",
              "      <td>4.0</td>\n",
              "      <td>NaN</td>\n",
              "      <td>-84.353424</td>\n",
              "      <td>NaN</td>\n",
              "      <td>{'Monday': '16:0-19:0', 'Tuesday': '16:0-19:0'...</td>\n",
              "      <td>NaN</td>\n",
              "      <td>NaN</td>\n",
              "      <td>Gyms, Active Life, Interval Training Gyms, Fit...</td>\n",
              "      <td>14</td>\n",
              "      <td>NaN</td>\n",
              "      <td>NaN</td>\n",
              "      <td>NaN</td>\n",
              "      <td>NaN</td>\n",
              "      <td>NaN</td>\n",
              "      <td>NaN</td>\n",
              "      <td>Crossfit Terminus</td>\n",
              "      <td>{'GoodForKids': 'False', 'BusinessParking': \"{...</td>\n",
              "      <td>NaN</td>\n",
              "      <td>NaN</td>\n",
              "      <td>NaN</td>\n",
              "      <td>NaN</td>\n",
              "      <td>GA</td>\n",
              "      <td>3.0</td>\n",
              "      <td>5.0</td>\n",
              "    </tr>\n",
              "  </tbody>\n",
              "</table>\n",
              "</div>"
            ],
            "text/plain": [
              "  attributes.BYOB attributes.AcceptsInsurance  ... census_region census_division\n",
              "0             NaN                         NaN  ...           4.0             8.0\n",
              "1             NaN                         NaN  ...           4.0             9.0\n",
              "2             NaN                         NaN  ...           4.0             9.0\n",
              "3             NaN                         NaN  ...           3.0             5.0\n",
              "4             NaN                         NaN  ...           3.0             5.0\n",
              "\n",
              "[5 rows x 63 columns]"
            ]
          },
          "execution_count": 28,
          "metadata": {},
          "output_type": "execute_result"
        }
      ]
    },
    {
      "cell_type": "markdown",
      "metadata": {
        "id": "Y3ElAW3zNFPI"
      },
      "source": [
        "### 3.2 Wrong City/State combination"
      ],
      "id": "Y3ElAW3zNFPI"
    },
    {
      "cell_type": "code",
      "metadata": {
        "id": "1kO1gmUSojvc"
      },
      "source": [
        "uscities = pd.read_csv('/content/drive/My Drive/converted_data/uscities.csv')"
      ],
      "id": "1kO1gmUSojvc",
      "execution_count": null,
      "outputs": []
    },
    {
      "cell_type": "code",
      "metadata": {
        "colab": {
          "base_uri": "https://localhost:8080/",
          "height": 819
        },
        "id": "qh7PLd03wAio",
        "outputId": "7008078d-4be8-491a-81d2-b3a5a90a1c90"
      },
      "source": [
        "uscities.head()"
      ],
      "id": "qh7PLd03wAio",
      "execution_count": null,
      "outputs": [
        {
          "data": {
            "text/html": [
              "<div>\n",
              "<style scoped>\n",
              "    .dataframe tbody tr th:only-of-type {\n",
              "        vertical-align: middle;\n",
              "    }\n",
              "\n",
              "    .dataframe tbody tr th {\n",
              "        vertical-align: top;\n",
              "    }\n",
              "\n",
              "    .dataframe thead th {\n",
              "        text-align: right;\n",
              "    }\n",
              "</style>\n",
              "<table border=\"1\" class=\"dataframe\">\n",
              "  <thead>\n",
              "    <tr style=\"text-align: right;\">\n",
              "      <th></th>\n",
              "      <th>city</th>\n",
              "      <th>city_ascii</th>\n",
              "      <th>state_id</th>\n",
              "      <th>state_name</th>\n",
              "      <th>county_fips</th>\n",
              "      <th>county_name</th>\n",
              "      <th>lat</th>\n",
              "      <th>lng</th>\n",
              "      <th>population</th>\n",
              "      <th>density</th>\n",
              "      <th>source</th>\n",
              "      <th>military</th>\n",
              "      <th>incorporated</th>\n",
              "      <th>timezone</th>\n",
              "      <th>ranking</th>\n",
              "      <th>zips</th>\n",
              "      <th>id</th>\n",
              "    </tr>\n",
              "  </thead>\n",
              "  <tbody>\n",
              "    <tr>\n",
              "      <th>0</th>\n",
              "      <td>New York</td>\n",
              "      <td>New York</td>\n",
              "      <td>NY</td>\n",
              "      <td>New York</td>\n",
              "      <td>36061</td>\n",
              "      <td>New York</td>\n",
              "      <td>40.6943</td>\n",
              "      <td>-73.9249</td>\n",
              "      <td>18713220</td>\n",
              "      <td>10715</td>\n",
              "      <td>polygon</td>\n",
              "      <td>False</td>\n",
              "      <td>True</td>\n",
              "      <td>America/New_York</td>\n",
              "      <td>1</td>\n",
              "      <td>11229 11226 11225 11224 11222 11221 11220 1138...</td>\n",
              "      <td>1840034016</td>\n",
              "    </tr>\n",
              "    <tr>\n",
              "      <th>1</th>\n",
              "      <td>Los Angeles</td>\n",
              "      <td>Los Angeles</td>\n",
              "      <td>CA</td>\n",
              "      <td>California</td>\n",
              "      <td>6037</td>\n",
              "      <td>Los Angeles</td>\n",
              "      <td>34.1139</td>\n",
              "      <td>-118.4068</td>\n",
              "      <td>12750807</td>\n",
              "      <td>3276</td>\n",
              "      <td>polygon</td>\n",
              "      <td>False</td>\n",
              "      <td>True</td>\n",
              "      <td>America/Los_Angeles</td>\n",
              "      <td>1</td>\n",
              "      <td>90291 90293 90292 91316 91311 90037 90031 9000...</td>\n",
              "      <td>1840020491</td>\n",
              "    </tr>\n",
              "    <tr>\n",
              "      <th>2</th>\n",
              "      <td>Chicago</td>\n",
              "      <td>Chicago</td>\n",
              "      <td>IL</td>\n",
              "      <td>Illinois</td>\n",
              "      <td>17031</td>\n",
              "      <td>Cook</td>\n",
              "      <td>41.8373</td>\n",
              "      <td>-87.6862</td>\n",
              "      <td>8604203</td>\n",
              "      <td>4574</td>\n",
              "      <td>polygon</td>\n",
              "      <td>False</td>\n",
              "      <td>True</td>\n",
              "      <td>America/Chicago</td>\n",
              "      <td>1</td>\n",
              "      <td>60018 60649 60641 60640 60643 60642 60645 6064...</td>\n",
              "      <td>1840000494</td>\n",
              "    </tr>\n",
              "    <tr>\n",
              "      <th>3</th>\n",
              "      <td>Miami</td>\n",
              "      <td>Miami</td>\n",
              "      <td>FL</td>\n",
              "      <td>Florida</td>\n",
              "      <td>12086</td>\n",
              "      <td>Miami-Dade</td>\n",
              "      <td>25.7839</td>\n",
              "      <td>-80.2102</td>\n",
              "      <td>6445545</td>\n",
              "      <td>5019</td>\n",
              "      <td>polygon</td>\n",
              "      <td>False</td>\n",
              "      <td>True</td>\n",
              "      <td>America/New_York</td>\n",
              "      <td>1</td>\n",
              "      <td>33129 33125 33126 33127 33128 33149 33144 3314...</td>\n",
              "      <td>1840015149</td>\n",
              "    </tr>\n",
              "    <tr>\n",
              "      <th>4</th>\n",
              "      <td>Dallas</td>\n",
              "      <td>Dallas</td>\n",
              "      <td>TX</td>\n",
              "      <td>Texas</td>\n",
              "      <td>48113</td>\n",
              "      <td>Dallas</td>\n",
              "      <td>32.7936</td>\n",
              "      <td>-96.7662</td>\n",
              "      <td>5743938</td>\n",
              "      <td>1526</td>\n",
              "      <td>polygon</td>\n",
              "      <td>False</td>\n",
              "      <td>True</td>\n",
              "      <td>America/Chicago</td>\n",
              "      <td>1</td>\n",
              "      <td>75287 75098 75233 75254 75251 75252 75253 7503...</td>\n",
              "      <td>1840019440</td>\n",
              "    </tr>\n",
              "  </tbody>\n",
              "</table>\n",
              "</div>"
            ],
            "text/plain": [
              "          city  ...          id\n",
              "0     New York  ...  1840034016\n",
              "1  Los Angeles  ...  1840020491\n",
              "2      Chicago  ...  1840000494\n",
              "3        Miami  ...  1840015149\n",
              "4       Dallas  ...  1840019440\n",
              "\n",
              "[5 rows x 17 columns]"
            ]
          },
          "execution_count": 30,
          "metadata": {},
          "output_type": "execute_result"
        }
      ]
    },
    {
      "cell_type": "code",
      "metadata": {
        "id": "MdEMmoYgwGAW"
      },
      "source": [
        "uscities.city = uscities.city.str.lower()"
      ],
      "id": "MdEMmoYgwGAW",
      "execution_count": null,
      "outputs": []
    },
    {
      "cell_type": "code",
      "metadata": {
        "id": "OM04FU1DwJio"
      },
      "source": [
        "uscities = uscities.drop(['city_ascii','county_fips','lat','lng','source','incorporated','timezone','id'], axis=1)"
      ],
      "id": "OM04FU1DwJio",
      "execution_count": null,
      "outputs": []
    },
    {
      "cell_type": "code",
      "metadata": {
        "colab": {
          "base_uri": "https://localhost:8080/",
          "height": 204
        },
        "id": "gVjh0M_qwOSQ",
        "outputId": "facdaa6d-711e-4cb6-d0d2-91f107031c40"
      },
      "source": [
        "yelp_business_df[['city','state']].head()"
      ],
      "id": "gVjh0M_qwOSQ",
      "execution_count": null,
      "outputs": [
        {
          "data": {
            "text/html": [
              "<div>\n",
              "<style scoped>\n",
              "    .dataframe tbody tr th:only-of-type {\n",
              "        vertical-align: middle;\n",
              "    }\n",
              "\n",
              "    .dataframe tbody tr th {\n",
              "        vertical-align: top;\n",
              "    }\n",
              "\n",
              "    .dataframe thead th {\n",
              "        text-align: right;\n",
              "    }\n",
              "</style>\n",
              "<table border=\"1\" class=\"dataframe\">\n",
              "  <thead>\n",
              "    <tr style=\"text-align: right;\">\n",
              "      <th></th>\n",
              "      <th>city</th>\n",
              "      <th>state</th>\n",
              "    </tr>\n",
              "  </thead>\n",
              "  <tbody>\n",
              "    <tr>\n",
              "      <th>0</th>\n",
              "      <td>Boulder</td>\n",
              "      <td>CO</td>\n",
              "    </tr>\n",
              "    <tr>\n",
              "      <th>1</th>\n",
              "      <td>Portland</td>\n",
              "      <td>OR</td>\n",
              "    </tr>\n",
              "    <tr>\n",
              "      <th>2</th>\n",
              "      <td>Portland</td>\n",
              "      <td>OR</td>\n",
              "    </tr>\n",
              "    <tr>\n",
              "      <th>3</th>\n",
              "      <td>Orange City</td>\n",
              "      <td>FL</td>\n",
              "    </tr>\n",
              "    <tr>\n",
              "      <th>4</th>\n",
              "      <td>Atlanta</td>\n",
              "      <td>GA</td>\n",
              "    </tr>\n",
              "  </tbody>\n",
              "</table>\n",
              "</div>"
            ],
            "text/plain": [
              "          city state\n",
              "0      Boulder    CO\n",
              "1     Portland    OR\n",
              "2     Portland    OR\n",
              "3  Orange City    FL\n",
              "4      Atlanta    GA"
            ]
          },
          "execution_count": 33,
          "metadata": {},
          "output_type": "execute_result"
        }
      ]
    },
    {
      "cell_type": "code",
      "metadata": {
        "id": "UUU397OjwVq9"
      },
      "source": [
        "yelp_business_df.city = yelp_business_df.city.str.lower()"
      ],
      "id": "UUU397OjwVq9",
      "execution_count": null,
      "outputs": []
    },
    {
      "cell_type": "code",
      "metadata": {
        "id": "YZL7pGnvwgZL"
      },
      "source": [
        "yelp_business_df = pd.merge(yelp_business_df, uscities, left_on=['city','state'], right_on=['city','state_id'], how='left')"
      ],
      "id": "YZL7pGnvwgZL",
      "execution_count": null,
      "outputs": []
    },
    {
      "cell_type": "code",
      "metadata": {
        "colab": {
          "base_uri": "https://localhost:8080/",
          "height": 204
        },
        "id": "6I-VBn32woAs",
        "outputId": "b3f6fcad-2e45-48de-e66d-1febf3344460"
      },
      "source": [
        "yelp_business_df[yelp_business_df.state_id.isna()][['city','state']].head()"
      ],
      "id": "6I-VBn32woAs",
      "execution_count": null,
      "outputs": [
        {
          "data": {
            "text/html": [
              "<div>\n",
              "<style scoped>\n",
              "    .dataframe tbody tr th:only-of-type {\n",
              "        vertical-align: middle;\n",
              "    }\n",
              "\n",
              "    .dataframe tbody tr th {\n",
              "        vertical-align: top;\n",
              "    }\n",
              "\n",
              "    .dataframe thead th {\n",
              "        text-align: right;\n",
              "    }\n",
              "</style>\n",
              "<table border=\"1\" class=\"dataframe\">\n",
              "  <thead>\n",
              "    <tr style=\"text-align: right;\">\n",
              "      <th></th>\n",
              "      <th>city</th>\n",
              "      <th>state</th>\n",
              "    </tr>\n",
              "  </thead>\n",
              "  <tbody>\n",
              "    <tr>\n",
              "      <th>22</th>\n",
              "      <td>needham</td>\n",
              "      <td>MA</td>\n",
              "    </tr>\n",
              "    <tr>\n",
              "      <th>25</th>\n",
              "      <td>jamaica plain</td>\n",
              "      <td>MA</td>\n",
              "    </tr>\n",
              "    <tr>\n",
              "      <th>34</th>\n",
              "      <td>brookline</td>\n",
              "      <td>MA</td>\n",
              "    </tr>\n",
              "    <tr>\n",
              "      <th>40</th>\n",
              "      <td>allston</td>\n",
              "      <td>MA</td>\n",
              "    </tr>\n",
              "    <tr>\n",
              "      <th>56</th>\n",
              "      <td>swampscott</td>\n",
              "      <td>MA</td>\n",
              "    </tr>\n",
              "  </tbody>\n",
              "</table>\n",
              "</div>"
            ],
            "text/plain": [
              "             city state\n",
              "22        needham    MA\n",
              "25  jamaica plain    MA\n",
              "34      brookline    MA\n",
              "40        allston    MA\n",
              "56     swampscott    MA"
            ]
          },
          "execution_count": 36,
          "metadata": {},
          "output_type": "execute_result"
        }
      ]
    },
    {
      "cell_type": "code",
      "metadata": {
        "colab": {
          "base_uri": "https://localhost:8080/",
          "height": 421
        },
        "id": "L8jMO8Wdw38r",
        "outputId": "6f7da04c-d466-4956-ed44-fcef859e7779"
      },
      "source": [
        "yelp_business_df[yelp_business_df.state == 'CA'][['city','state_id','state']]"
      ],
      "id": "L8jMO8Wdw38r",
      "execution_count": null,
      "outputs": [
        {
          "data": {
            "text/html": [
              "<div>\n",
              "<style scoped>\n",
              "    .dataframe tbody tr th:only-of-type {\n",
              "        vertical-align: middle;\n",
              "    }\n",
              "\n",
              "    .dataframe tbody tr th {\n",
              "        vertical-align: top;\n",
              "    }\n",
              "\n",
              "    .dataframe thead th {\n",
              "        text-align: right;\n",
              "    }\n",
              "</style>\n",
              "<table border=\"1\" class=\"dataframe\">\n",
              "  <thead>\n",
              "    <tr style=\"text-align: right;\">\n",
              "      <th></th>\n",
              "      <th>city</th>\n",
              "      <th>state_id</th>\n",
              "      <th>state</th>\n",
              "    </tr>\n",
              "  </thead>\n",
              "  <tbody>\n",
              "    <tr>\n",
              "      <th>1285</th>\n",
              "      <td>portland</td>\n",
              "      <td>NaN</td>\n",
              "      <td>CA</td>\n",
              "    </tr>\n",
              "    <tr>\n",
              "      <th>32927</th>\n",
              "      <td>atlanta</td>\n",
              "      <td>NaN</td>\n",
              "      <td>CA</td>\n",
              "    </tr>\n",
              "    <tr>\n",
              "      <th>48709</th>\n",
              "      <td>orlando</td>\n",
              "      <td>NaN</td>\n",
              "      <td>CA</td>\n",
              "    </tr>\n",
              "    <tr>\n",
              "      <th>49148</th>\n",
              "      <td>irvine</td>\n",
              "      <td>CA</td>\n",
              "      <td>CA</td>\n",
              "    </tr>\n",
              "    <tr>\n",
              "      <th>65543</th>\n",
              "      <td>portland</td>\n",
              "      <td>NaN</td>\n",
              "      <td>CA</td>\n",
              "    </tr>\n",
              "    <tr>\n",
              "      <th>71502</th>\n",
              "      <td>austin</td>\n",
              "      <td>NaN</td>\n",
              "      <td>CA</td>\n",
              "    </tr>\n",
              "    <tr>\n",
              "      <th>88253</th>\n",
              "      <td>san jose</td>\n",
              "      <td>CA</td>\n",
              "      <td>CA</td>\n",
              "    </tr>\n",
              "    <tr>\n",
              "      <th>89888</th>\n",
              "      <td>new albany</td>\n",
              "      <td>NaN</td>\n",
              "      <td>CA</td>\n",
              "    </tr>\n",
              "    <tr>\n",
              "      <th>99163</th>\n",
              "      <td>orlando</td>\n",
              "      <td>NaN</td>\n",
              "      <td>CA</td>\n",
              "    </tr>\n",
              "    <tr>\n",
              "      <th>102371</th>\n",
              "      <td>vancouver</td>\n",
              "      <td>NaN</td>\n",
              "      <td>CA</td>\n",
              "    </tr>\n",
              "    <tr>\n",
              "      <th>105411</th>\n",
              "      <td>morgan hill</td>\n",
              "      <td>CA</td>\n",
              "      <td>CA</td>\n",
              "    </tr>\n",
              "    <tr>\n",
              "      <th>106026</th>\n",
              "      <td>austin</td>\n",
              "      <td>NaN</td>\n",
              "      <td>CA</td>\n",
              "    </tr>\n",
              "  </tbody>\n",
              "</table>\n",
              "</div>"
            ],
            "text/plain": [
              "               city state_id state\n",
              "1285       portland      NaN    CA\n",
              "32927       atlanta      NaN    CA\n",
              "48709       orlando      NaN    CA\n",
              "49148        irvine       CA    CA\n",
              "65543      portland      NaN    CA\n",
              "71502        austin      NaN    CA\n",
              "88253      san jose       CA    CA\n",
              "89888    new albany      NaN    CA\n",
              "99163       orlando      NaN    CA\n",
              "102371    vancouver      NaN    CA\n",
              "105411  morgan hill       CA    CA\n",
              "106026       austin      NaN    CA"
            ]
          },
          "execution_count": 37,
          "metadata": {},
          "output_type": "execute_result"
        }
      ]
    },
    {
      "cell_type": "markdown",
      "metadata": {
        "id": "11rqZs4AxFIv"
      },
      "source": [
        "There are some obvious errors like marking Austin in CA or marking Vancouver as in CA. Instead of going into fixing the errors, we will drop these very few rows for now."
      ],
      "id": "11rqZs4AxFIv"
    },
    {
      "cell_type": "code",
      "metadata": {
        "id": "qlaB8loZxU9J"
      },
      "source": [
        "yelp_business_df = yelp_business_df[pd.notnull(yelp_business_df.state_id)]"
      ],
      "id": "qlaB8loZxU9J",
      "execution_count": null,
      "outputs": []
    },
    {
      "cell_type": "code",
      "metadata": {
        "id": "FvyY-gf9xeL2"
      },
      "source": [
        "yelp_business_df = yelp_business_df.drop(['state_id'], axis=1)"
      ],
      "id": "FvyY-gf9xeL2",
      "execution_count": null,
      "outputs": []
    },
    {
      "cell_type": "code",
      "metadata": {
        "colab": {
          "base_uri": "https://localhost:8080/"
        },
        "id": "zUzmakx6xk8F",
        "outputId": "1cfb1b67-242a-41e1-edf4-d03090587f4b"
      },
      "source": [
        "yelp_business_df.city.isnull().value_counts()"
      ],
      "id": "zUzmakx6xk8F",
      "execution_count": null,
      "outputs": [
        {
          "data": {
            "text/plain": [
              "False    97900\n",
              "Name: city, dtype: int64"
            ]
          },
          "execution_count": 40,
          "metadata": {},
          "output_type": "execute_result"
        }
      ]
    },
    {
      "cell_type": "code",
      "metadata": {
        "colab": {
          "base_uri": "https://localhost:8080/"
        },
        "id": "hvkcbJPfxpz4",
        "outputId": "a0202da4-8d27-4411-9c3b-ac8612375c9b"
      },
      "source": [
        "yelp_business_df.state.isnull().value_counts()"
      ],
      "id": "hvkcbJPfxpz4",
      "execution_count": null,
      "outputs": [
        {
          "data": {
            "text/plain": [
              "False    97900\n",
              "Name: state, dtype: int64"
            ]
          },
          "execution_count": 41,
          "metadata": {},
          "output_type": "execute_result"
        }
      ]
    },
    {
      "cell_type": "markdown",
      "metadata": {
        "id": "4mjhfnMX6CHs"
      },
      "source": [
        "## 4. User Reviews"
      ],
      "id": "4mjhfnMX6CHs"
    },
    {
      "cell_type": "code",
      "metadata": {
        "colab": {
          "base_uri": "https://localhost:8080/"
        },
        "id": "T3iJ-_1Fxwny",
        "outputId": "e8497e9f-fddc-4f9a-e563-e0e842d42244"
      },
      "source": [
        "yelp_business_df.review_count.describe()"
      ],
      "id": "T3iJ-_1Fxwny",
      "execution_count": null,
      "outputs": [
        {
          "data": {
            "text/plain": [
              "count    97900.000000\n",
              "mean        58.695332\n",
              "std        150.238462\n",
              "min          5.000000\n",
              "25%          8.000000\n",
              "50%         18.000000\n",
              "75%         48.000000\n",
              "max       9185.000000\n",
              "Name: review_count, dtype: float64"
            ]
          },
          "execution_count": 42,
          "metadata": {},
          "output_type": "execute_result"
        }
      ]
    },
    {
      "cell_type": "code",
      "metadata": {
        "colab": {
          "base_uri": "https://localhost:8080/",
          "height": 285
        },
        "id": "o0YIgJpH6SF2",
        "outputId": "033b40e0-96ab-45fe-e852-cc684bdf09db"
      },
      "source": [
        "sns_plot = sns.boxplot(x = \"stars\", y = \"review_count\", data = yelp_business_df)\n",
        "sns_plot.figure.savefig(\"review-count-boxplot.png\")"
      ],
      "id": "o0YIgJpH6SF2",
      "execution_count": null,
      "outputs": [
        {
          "data": {
            "image/png": "[encoded data removed]",
            "text/plain": [
              "<Figure size 432x288 with 1 Axes>"
            ]
          },
          "metadata": {},
          "output_type": "display_data"
        }
      ]
    },
    {
      "cell_type": "code",
      "metadata": {
        "colab": {
          "base_uri": "https://localhost:8080/",
          "height": 339
        },
        "id": "BKvyA5Hr7OiC",
        "outputId": "9fdfcf22-5837-4729-c8c3-8a85d54c4c01"
      },
      "source": [
        "sns_plot = sns.distplot(yelp_business_df.review_count)\n",
        "sns_plot.figure.savefig(\"review-count-distplot.png\")"
      ],
      "id": "BKvyA5Hr7OiC",
      "execution_count": null,
      "outputs": [
        {
          "name": "stderr",
          "output_type": "stream",
          "text": [
            "/usr/local/lib/python3.7/dist-packages/seaborn/distributions.py:2619: FutureWarning: `distplot` is a deprecated function and will be removed in a future version. Please adapt your code to use either `displot` (a figure-level function with similar flexibility) or `histplot` (an axes-level function for histograms).\n",
            "  warnings.warn(msg, FutureWarning)\n"
          ]
        },
        {
          "data": {
            "image/png": "[encoded data removed]",
            "text/plain": [
              "<Figure size 432x288 with 1 Axes>"
            ]
          },
          "metadata": {},
          "output_type": "display_data"
        }
      ]
    },
    {
      "cell_type": "code",
      "metadata": {
        "colab": {
          "base_uri": "https://localhost:8080/"
        },
        "id": "a77lfW238KJr",
        "outputId": "ed6ede2d-fcf4-49f8-b25f-37f79390f39b"
      },
      "source": [
        "yelp_business_df.review_count.quantile([.75, .9, .95, .99, .999, .9999])"
      ],
      "id": "a77lfW238KJr",
      "execution_count": null,
      "outputs": [
        {
          "data": {
            "text/plain": [
              "0.7500      48.0000\n",
              "0.9000     135.0000\n",
              "0.9500     243.0000\n",
              "0.9900     629.0000\n",
              "0.9990    1698.1010\n",
              "0.9999    4020.9047\n",
              "Name: review_count, dtype: float64"
            ]
          },
          "execution_count": 45,
          "metadata": {},
          "output_type": "execute_result"
        }
      ]
    },
    {
      "cell_type": "code",
      "metadata": {
        "colab": {
          "base_uri": "https://localhost:8080/"
        },
        "id": "A8DIum-R8LMm",
        "outputId": "938fef99-80db-4400-fa84-9724a4e5296b"
      },
      "source": [
        "yelp_business_df.review_count.skew()"
      ],
      "id": "A8DIum-R8LMm",
      "execution_count": null,
      "outputs": [
        {
          "data": {
            "text/plain": [
              "13.372157369457524"
            ]
          },
          "execution_count": 46,
          "metadata": {},
          "output_type": "execute_result"
        }
      ]
    },
    {
      "cell_type": "markdown",
      "metadata": {
        "id": "w6IC0zHmD6BS"
      },
      "source": [
        "There's heavy positive skew in the review_count feature, lets see if this valid data or not."
      ],
      "id": "w6IC0zHmD6BS"
    },
    {
      "cell_type": "code",
      "metadata": {
        "colab": {
          "base_uri": "https://localhost:8080/"
        },
        "id": "fxBdb06hD0W0",
        "outputId": "e9bd0bde-3f1e-4689-d210-5b047e005785"
      },
      "source": [
        "yelp_business_df.sort_values(by=['review_count'], ascending=False).iloc[0]"
      ],
      "id": "fxBdb06hD0W0",
      "execution_count": null,
      "outputs": [
        {
          "data": {
            "text/plain": [
              "attributes.BYOB                                                              NaN\n",
              "attributes.AcceptsInsurance                                                  NaN\n",
              "attributes.DriveThru                                                         NaN\n",
              "state                                                                         OR\n",
              "attributes.HasTV                                                             NaN\n",
              "                                                     ...                        \n",
              "population                                                           2.07478e+06\n",
              "density                                                                     1894\n",
              "military                                                                   False\n",
              "ranking                                                                        1\n",
              "zips                           97227 97221 97220 97229 97203 97202 97201 9720...\n",
              "Name: 44145, Length: 70, dtype: object"
            ]
          },
          "execution_count": 47,
          "metadata": {},
          "output_type": "execute_result"
        }
      ]
    },
    {
      "cell_type": "markdown",
      "metadata": {
        "id": "Cn9SH4-lECZM"
      },
      "source": [
        "Manually validated from yelp the top few businesses and their corresponding review counts. Looks good. Lets see if we can transform the feature to make it more gaussian and better distributed"
      ],
      "id": "Cn9SH4-lECZM"
    },
    {
      "cell_type": "code",
      "metadata": {
        "colab": {
          "base_uri": "https://localhost:8080/",
          "height": 343
        },
        "id": "nJ_k6-TTD_vs",
        "outputId": "1cf66bf0-d34b-419b-82a7-6d02f529ecd6"
      },
      "source": [
        "sns_plot = sns.distplot(np.log10(yelp_business_df.review_count))\n",
        "sns_plot.figure.savefig(\"log-review-count-distplot.png\")"
      ],
      "id": "nJ_k6-TTD_vs",
      "execution_count": null,
      "outputs": [
        {
          "name": "stderr",
          "output_type": "stream",
          "text": [
            "/usr/local/lib/python3.7/dist-packages/seaborn/distributions.py:2619: FutureWarning: `distplot` is a deprecated function and will be removed in a future version. Please adapt your code to use either `displot` (a figure-level function with similar flexibility) or `histplot` (an axes-level function for histograms).\n",
            "  warnings.warn(msg, FutureWarning)\n"
          ]
        },
        {
          "data": {
            "image/png": "[encoded data removed]",
            "text/plain": [
              "<Figure size 432x288 with 1 Axes>"
            ]
          },
          "metadata": {},
          "output_type": "display_data"
        }
      ]
    },
    {
      "cell_type": "code",
      "metadata": {
        "colab": {
          "base_uri": "https://localhost:8080/",
          "height": 285
        },
        "id": "oe2qKCFIELAR",
        "outputId": "57e25f7d-5beb-425f-d264-7a72767c7efc"
      },
      "source": [
        "sns_plot = sns.boxplot(x = yelp_business_df.stars, y=np.log10(yelp_business_df.review_count))\n",
        "sns_plot.figure.savefig(\"log-review-count-boxplot.png\")"
      ],
      "id": "oe2qKCFIELAR",
      "execution_count": null,
      "outputs": [
        {
          "data": {
            "image/png": "[encoded data removed]",
            "text/plain": [
              "<Figure size 432x288 with 1 Axes>"
            ]
          },
          "metadata": {},
          "output_type": "display_data"
        }
      ]
    },
    {
      "cell_type": "markdown",
      "metadata": {
        "id": "NnGatneCEWlW"
      },
      "source": [
        "As we see above, there are usually lesser number of reviews for very low and very high ratings. The inter-quartile range is similar for each of them which implies people generally have concensus on a business' star ratings. The more common star ratings, i.e. 3-4.5 have higher median number of review counts. "
      ],
      "id": "NnGatneCEWlW"
    },
    {
      "cell_type": "code",
      "metadata": {
        "colab": {
          "base_uri": "https://localhost:8080/"
        },
        "id": "jG9emRAiETbk",
        "outputId": "ece83cd2-b151-4ddb-855e-4eda948935a5"
      },
      "source": [
        "np.log10(yelp_business_df.review_count).skew()"
      ],
      "id": "jG9emRAiETbk",
      "execution_count": null,
      "outputs": [
        {
          "data": {
            "text/plain": [
              "0.848677940357736"
            ]
          },
          "execution_count": 50,
          "metadata": {},
          "output_type": "execute_result"
        }
      ]
    },
    {
      "cell_type": "markdown",
      "metadata": {
        "id": "C_8JHrRgEgzC"
      },
      "source": [
        "Log10 transform of review counts looks like a good valid feature to have. Keeping the transform. Making sure correlation with 'stars' remains unaffected before doing the transform."
      ],
      "id": "C_8JHrRgEgzC"
    },
    {
      "cell_type": "code",
      "metadata": {
        "colab": {
          "base_uri": "https://localhost:8080/"
        },
        "id": "ZZuH9Zw-Ee4G",
        "outputId": "51f1304e-d675-4447-c782-3cdb43974351"
      },
      "source": [
        "yelp_business_df.stars.corr(yelp_business_df.review_count)"
      ],
      "id": "ZZuH9Zw-Ee4G",
      "execution_count": null,
      "outputs": [
        {
          "data": {
            "text/plain": [
              "0.03004192363857404"
            ]
          },
          "execution_count": 51,
          "metadata": {},
          "output_type": "execute_result"
        }
      ]
    },
    {
      "cell_type": "code",
      "metadata": {
        "colab": {
          "base_uri": "https://localhost:8080/"
        },
        "id": "wL0nNpKZEjWj",
        "outputId": "d6020dee-3cae-4064-9d22-1d9c189f65eb"
      },
      "source": [
        "yelp_business_df.stars.corr(np.log10(yelp_business_df.review_count))"
      ],
      "id": "wL0nNpKZEjWj",
      "execution_count": null,
      "outputs": [
        {
          "data": {
            "text/plain": [
              "-0.00012420718842806884"
            ]
          },
          "execution_count": 52,
          "metadata": {},
          "output_type": "execute_result"
        }
      ]
    },
    {
      "cell_type": "code",
      "metadata": {
        "id": "k5hH8eOBEjd0"
      },
      "source": [
        "yelp_business_df.review_count = np.log10(yelp_business_df.review_count)"
      ],
      "id": "k5hH8eOBEjd0",
      "execution_count": null,
      "outputs": []
    },
    {
      "cell_type": "code",
      "metadata": {
        "colab": {
          "base_uri": "https://localhost:8080/"
        },
        "id": "dbTMb-tjEjiy",
        "outputId": "a9917956-0270-4ced-eb75-45ed2d2dc348"
      },
      "source": [
        "yelp_business_df.review_count.isnull().value_counts()"
      ],
      "id": "dbTMb-tjEjiy",
      "execution_count": null,
      "outputs": [
        {
          "data": {
            "text/plain": [
              "False    97900\n",
              "Name: review_count, dtype: int64"
            ]
          },
          "execution_count": 54,
          "metadata": {},
          "output_type": "execute_result"
        }
      ]
    },
    {
      "cell_type": "markdown",
      "metadata": {
        "id": "KHW34KvvEyXx"
      },
      "source": [
        "### 5. Name Feature"
      ],
      "id": "KHW34KvvEyXx"
    },
    {
      "cell_type": "code",
      "metadata": {
        "colab": {
          "base_uri": "https://localhost:8080/"
        },
        "id": "LrtpqlYYEjlZ",
        "outputId": "0bd410ca-329c-426e-8e8c-e8fc08854cbd"
      },
      "source": [
        "yelp_business_df.name.head()"
      ],
      "id": "LrtpqlYYEjlZ",
      "execution_count": null,
      "outputs": [
        {
          "data": {
            "text/plain": [
              "0        Oskar Blues Taproom\n",
              "1    Flying Elephants at PDX\n",
              "2             The Reclaimory\n",
              "3                Great Clips\n",
              "4          Crossfit Terminus\n",
              "Name: name, dtype: object"
            ]
          },
          "execution_count": 55,
          "metadata": {},
          "output_type": "execute_result"
        }
      ]
    },
    {
      "cell_type": "code",
      "metadata": {
        "colab": {
          "base_uri": "https://localhost:8080/"
        },
        "id": "VrUNdF0gE8fI",
        "outputId": "49a7a46c-9a37-4d1c-eb47-fea35f18cc77"
      },
      "source": [
        "yelp_business_df.name.isnull().value_counts()"
      ],
      "id": "VrUNdF0gE8fI",
      "execution_count": null,
      "outputs": [
        {
          "data": {
            "text/plain": [
              "False    97900\n",
              "Name: name, dtype: int64"
            ]
          },
          "execution_count": 56,
          "metadata": {},
          "output_type": "execute_result"
        }
      ]
    },
    {
      "cell_type": "code",
      "metadata": {
        "id": "Hr_9mCQjE8hu"
      },
      "source": [
        "yelp_business_df.name = yelp_business_df.name.str.lower()"
      ],
      "id": "Hr_9mCQjE8hu",
      "execution_count": null,
      "outputs": []
    },
    {
      "cell_type": "markdown",
      "metadata": {
        "id": "IC9PRmhaFKAy"
      },
      "source": [
        "## 6. Pin Code"
      ],
      "id": "IC9PRmhaFKAy"
    },
    {
      "cell_type": "code",
      "metadata": {
        "colab": {
          "base_uri": "https://localhost:8080/"
        },
        "id": "_ZMo75iuFNoP",
        "outputId": "9df8c170-b3d9-4e6c-e609-81598d37a55a"
      },
      "source": [
        "yelp_business_df.postal_code.head()"
      ],
      "id": "_ZMo75iuFNoP",
      "execution_count": null,
      "outputs": [
        {
          "data": {
            "text/plain": [
              "0    80302\n",
              "1    97218\n",
              "2    97214\n",
              "3    32763\n",
              "4    30316\n",
              "Name: postal_code, dtype: object"
            ]
          },
          "execution_count": 58,
          "metadata": {},
          "output_type": "execute_result"
        }
      ]
    },
    {
      "cell_type": "code",
      "metadata": {
        "colab": {
          "base_uri": "https://localhost:8080/"
        },
        "id": "ALzjbD3hFNwS",
        "outputId": "829ae8fc-cb4a-4ab8-c5b3-628a8c8e685e"
      },
      "source": [
        "yelp_business_df.postal_code.isnull().value_counts()"
      ],
      "id": "ALzjbD3hFNwS",
      "execution_count": null,
      "outputs": [
        {
          "data": {
            "text/plain": [
              "False    97889\n",
              "True        11\n",
              "Name: postal_code, dtype: int64"
            ]
          },
          "execution_count": 59,
          "metadata": {},
          "output_type": "execute_result"
        }
      ]
    },
    {
      "cell_type": "code",
      "metadata": {
        "colab": {
          "base_uri": "https://localhost:8080/",
          "height": 204
        },
        "id": "_utpf7AdFNzZ",
        "outputId": "0c687128-21cd-4871-cc28-53a8291ccd24"
      },
      "source": [
        "yelp_business_df[yelp_business_df.postal_code.isnull()][['name','address', 'city', 'state']].head()"
      ],
      "id": "_utpf7AdFNzZ",
      "execution_count": null,
      "outputs": [
        {
          "data": {
            "text/html": [
              "<div>\n",
              "<style scoped>\n",
              "    .dataframe tbody tr th:only-of-type {\n",
              "        vertical-align: middle;\n",
              "    }\n",
              "\n",
              "    .dataframe tbody tr th {\n",
              "        vertical-align: top;\n",
              "    }\n",
              "\n",
              "    .dataframe thead th {\n",
              "        text-align: right;\n",
              "    }\n",
              "</style>\n",
              "<table border=\"1\" class=\"dataframe\">\n",
              "  <thead>\n",
              "    <tr style=\"text-align: right;\">\n",
              "      <th></th>\n",
              "      <th>name</th>\n",
              "      <th>address</th>\n",
              "      <th>city</th>\n",
              "      <th>state</th>\n",
              "    </tr>\n",
              "  </thead>\n",
              "  <tbody>\n",
              "    <tr>\n",
              "      <th>7974</th>\n",
              "      <td>davidson mesa scenic overlook</td>\n",
              "      <td>Denver-Boulder Turnpike Hwy 36 Westbound</td>\n",
              "      <td>boulder</td>\n",
              "      <td>CO</td>\n",
              "    </tr>\n",
              "    <tr>\n",
              "      <th>22381</th>\n",
              "      <td>austin tree pros</td>\n",
              "      <td>NaN</td>\n",
              "      <td>austin</td>\n",
              "      <td>TX</td>\n",
              "    </tr>\n",
              "    <tr>\n",
              "      <th>49905</th>\n",
              "      <td>central ohio appliance repair</td>\n",
              "      <td>NaN</td>\n",
              "      <td>columbus</td>\n",
              "      <td>OH</td>\n",
              "    </tr>\n",
              "    <tr>\n",
              "      <th>52430</th>\n",
              "      <td>convelabs</td>\n",
              "      <td>NaN</td>\n",
              "      <td>orlando</td>\n",
              "      <td>FL</td>\n",
              "    </tr>\n",
              "    <tr>\n",
              "      <th>54571</th>\n",
              "      <td>choice home warranty</td>\n",
              "      <td>NaN</td>\n",
              "      <td>austin</td>\n",
              "      <td>TX</td>\n",
              "    </tr>\n",
              "  </tbody>\n",
              "</table>\n",
              "</div>"
            ],
            "text/plain": [
              "                                name  ... state\n",
              "7974   davidson mesa scenic overlook  ...    CO\n",
              "22381               austin tree pros  ...    TX\n",
              "49905  central ohio appliance repair  ...    OH\n",
              "52430                      convelabs  ...    FL\n",
              "54571           choice home warranty  ...    TX\n",
              "\n",
              "[5 rows x 4 columns]"
            ]
          },
          "execution_count": 60,
          "metadata": {},
          "output_type": "execute_result"
        }
      ]
    },
    {
      "cell_type": "markdown",
      "metadata": {
        "id": "Lc8w8wCKFWhQ"
      },
      "source": [
        "Checked on Yelp, looks like the businesses with NaN addresses actually have address missing on Yelp. e.g. https://www.yelp.com/biz/xtreme-cleaning-az-phoenix-2?osq=Xtreme+Cleaning+AZ"
      ],
      "id": "Lc8w8wCKFWhQ"
    },
    {
      "cell_type": "code",
      "metadata": {
        "colab": {
          "base_uri": "https://localhost:8080/",
          "height": 80
        },
        "id": "Ez61R0ZXFN2D",
        "outputId": "bd976a3d-1ef5-4548-b73b-5757a0d93548"
      },
      "source": [
        "yelp_business_df[pd.notnull(yelp_business_df.address) & yelp_business_df.postal_code.isnull()][['name','address', 'city', 'state']].head()"
      ],
      "id": "Ez61R0ZXFN2D",
      "execution_count": null,
      "outputs": [
        {
          "data": {
            "text/html": [
              "<div>\n",
              "<style scoped>\n",
              "    .dataframe tbody tr th:only-of-type {\n",
              "        vertical-align: middle;\n",
              "    }\n",
              "\n",
              "    .dataframe tbody tr th {\n",
              "        vertical-align: top;\n",
              "    }\n",
              "\n",
              "    .dataframe thead th {\n",
              "        text-align: right;\n",
              "    }\n",
              "</style>\n",
              "<table border=\"1\" class=\"dataframe\">\n",
              "  <thead>\n",
              "    <tr style=\"text-align: right;\">\n",
              "      <th></th>\n",
              "      <th>name</th>\n",
              "      <th>address</th>\n",
              "      <th>city</th>\n",
              "      <th>state</th>\n",
              "    </tr>\n",
              "  </thead>\n",
              "  <tbody>\n",
              "    <tr>\n",
              "      <th>7974</th>\n",
              "      <td>davidson mesa scenic overlook</td>\n",
              "      <td>Denver-Boulder Turnpike Hwy 36 Westbound</td>\n",
              "      <td>boulder</td>\n",
              "      <td>CO</td>\n",
              "    </tr>\n",
              "  </tbody>\n",
              "</table>\n",
              "</div>"
            ],
            "text/plain": [
              "                               name  ... state\n",
              "7974  davidson mesa scenic overlook  ...    CO\n",
              "\n",
              "[1 rows x 4 columns]"
            ]
          },
          "execution_count": 61,
          "metadata": {},
          "output_type": "execute_result"
        }
      ]
    },
    {
      "cell_type": "markdown",
      "metadata": {
        "id": "Rgt5Gq5hFZOt"
      },
      "source": [
        "Even the rows where address is not NaN, there are postal_code missing for these listings on Yelp. e.g. https://www.yelp.com/biz/monroe-street-farmers-market-madison?osq=Monroe+Street+Farmer%27s+Market. Replacing all NaN values with 'NOT_AVAILABLE'"
      ],
      "id": "Rgt5Gq5hFZOt"
    },
    {
      "cell_type": "code",
      "metadata": {
        "id": "oWXnS92IFN4a"
      },
      "source": [
        "yelp_business_df.postal_code = yelp_business_df.postal_code.fillna('NOT_AVAILABLE')"
      ],
      "id": "oWXnS92IFN4a",
      "execution_count": null,
      "outputs": []
    },
    {
      "cell_type": "code",
      "metadata": {
        "id": "eLPO9r7DFN6w"
      },
      "source": [
        "yelp_business_df.postal_code = yelp_business_df.postal_code.str.lower()"
      ],
      "id": "eLPO9r7DFN6w",
      "execution_count": null,
      "outputs": []
    },
    {
      "cell_type": "code",
      "metadata": {
        "colab": {
          "base_uri": "https://localhost:8080/"
        },
        "id": "UR31k5lMFN9J",
        "outputId": "e43e6dea-070d-4bf4-e4d7-051a9c55fc3e"
      },
      "source": [
        "yelp_business_df.postal_code.isnull().value_counts()"
      ],
      "id": "UR31k5lMFN9J",
      "execution_count": null,
      "outputs": [
        {
          "data": {
            "text/plain": [
              "False    97900\n",
              "Name: postal_code, dtype: int64"
            ]
          },
          "execution_count": 64,
          "metadata": {},
          "output_type": "execute_result"
        }
      ]
    },
    {
      "cell_type": "markdown",
      "metadata": {
        "id": "1L3vkUGzFuGb"
      },
      "source": [
        "## 7. Categories"
      ],
      "id": "1L3vkUGzFuGb"
    },
    {
      "cell_type": "code",
      "metadata": {
        "colab": {
          "base_uri": "https://localhost:8080/"
        },
        "id": "2OTrJXZQFyA4",
        "outputId": "ce84b2ad-123a-4782-d4aa-bdf99ee5eb14"
      },
      "source": [
        "yelp_business_df.categories.head()"
      ],
      "id": "2OTrJXZQFyA4",
      "execution_count": null,
      "outputs": [
        {
          "data": {
            "text/plain": [
              "0    Gastropubs, Food, Beer Gardens, Restaurants, B...\n",
              "1    Salad, Soup, Sandwiches, Delis, Restaurants, C...\n",
              "2    Antiques, Fashion, Used, Vintage & Consignment...\n",
              "3                           Beauty & Spas, Hair Salons\n",
              "4    Gyms, Active Life, Interval Training Gyms, Fit...\n",
              "Name: categories, dtype: object"
            ]
          },
          "execution_count": 65,
          "metadata": {},
          "output_type": "execute_result"
        }
      ]
    },
    {
      "cell_type": "code",
      "metadata": {
        "colab": {
          "base_uri": "https://localhost:8080/"
        },
        "id": "k-oZxvIpF4PE",
        "outputId": "c5ced09a-7699-4458-cde3-5625137c14b8"
      },
      "source": [
        "yelp_business_df.categories.isnull().value_counts()"
      ],
      "id": "k-oZxvIpF4PE",
      "execution_count": null,
      "outputs": [
        {
          "data": {
            "text/plain": [
              "False    97820\n",
              "True        80\n",
              "Name: categories, dtype: int64"
            ]
          },
          "execution_count": 66,
          "metadata": {},
          "output_type": "execute_result"
        }
      ]
    },
    {
      "cell_type": "code",
      "metadata": {
        "colab": {
          "base_uri": "https://localhost:8080/",
          "height": 204
        },
        "id": "IaHy56loF4R7",
        "outputId": "c75e8876-c74e-406a-f90e-7457e15402d9"
      },
      "source": [
        "yelp_business_df[yelp_business_df.categories.isnull()][['name','city','state']].head()"
      ],
      "id": "IaHy56loF4R7",
      "execution_count": null,
      "outputs": [
        {
          "data": {
            "text/html": [
              "<div>\n",
              "<style scoped>\n",
              "    .dataframe tbody tr th:only-of-type {\n",
              "        vertical-align: middle;\n",
              "    }\n",
              "\n",
              "    .dataframe tbody tr th {\n",
              "        vertical-align: top;\n",
              "    }\n",
              "\n",
              "    .dataframe thead th {\n",
              "        text-align: right;\n",
              "    }\n",
              "</style>\n",
              "<table border=\"1\" class=\"dataframe\">\n",
              "  <thead>\n",
              "    <tr style=\"text-align: right;\">\n",
              "      <th></th>\n",
              "      <th>name</th>\n",
              "      <th>city</th>\n",
              "      <th>state</th>\n",
              "    </tr>\n",
              "  </thead>\n",
              "  <tbody>\n",
              "    <tr>\n",
              "      <th>564</th>\n",
              "      <td>aaa cooper transportation</td>\n",
              "      <td>pflugerville</td>\n",
              "      <td>TX</td>\n",
              "    </tr>\n",
              "    <tr>\n",
              "      <th>1799</th>\n",
              "      <td>value dry of massachusetts</td>\n",
              "      <td>boston</td>\n",
              "      <td>MA</td>\n",
              "    </tr>\n",
              "    <tr>\n",
              "      <th>3046</th>\n",
              "      <td>mail house plus</td>\n",
              "      <td>portland</td>\n",
              "      <td>OR</td>\n",
              "    </tr>\n",
              "    <tr>\n",
              "      <th>3266</th>\n",
              "      <td>praxair distribution</td>\n",
              "      <td>austin</td>\n",
              "      <td>TX</td>\n",
              "    </tr>\n",
              "    <tr>\n",
              "      <th>3654</th>\n",
              "      <td>absolute oil company</td>\n",
              "      <td>peabody</td>\n",
              "      <td>MA</td>\n",
              "    </tr>\n",
              "  </tbody>\n",
              "</table>\n",
              "</div>"
            ],
            "text/plain": [
              "                            name          city state\n",
              "564    aaa cooper transportation  pflugerville    TX\n",
              "1799  value dry of massachusetts        boston    MA\n",
              "3046             mail house plus      portland    OR\n",
              "3266        praxair distribution        austin    TX\n",
              "3654        absolute oil company       peabody    MA"
            ]
          },
          "execution_count": 67,
          "metadata": {},
          "output_type": "execute_result"
        }
      ]
    },
    {
      "cell_type": "code",
      "metadata": {
        "id": "qL4y225nF4Uy"
      },
      "source": [
        "yelp_business_df = yelp_business_df[pd.notnull(yelp_business_df.categories)]"
      ],
      "id": "qL4y225nF4Uy",
      "execution_count": null,
      "outputs": []
    },
    {
      "cell_type": "code",
      "metadata": {
        "colab": {
          "base_uri": "https://localhost:8080/"
        },
        "id": "Dr4vNqdCF4XI",
        "outputId": "d0256a9b-b034-47ac-b323-8de205ec5068"
      },
      "source": [
        "yelp_business_df.categories = yelp_business_df.categories.str.lower()"
      ],
      "id": "Dr4vNqdCF4XI",
      "execution_count": null,
      "outputs": [
        {
          "name": "stderr",
          "output_type": "stream",
          "text": [
            "/usr/local/lib/python3.7/dist-packages/pandas/core/generic.py:5170: SettingWithCopyWarning: \n",
            "A value is trying to be set on a copy of a slice from a DataFrame.\n",
            "Try using .loc[row_indexer,col_indexer] = value instead\n",
            "\n",
            "See the caveats in the documentation: https://pandas.pydata.org/pandas-docs/stable/user_guide/indexing.html#returning-a-view-versus-a-copy\n",
            "  self[name] = value\n"
          ]
        }
      ]
    },
    {
      "cell_type": "code",
      "metadata": {
        "colab": {
          "base_uri": "https://localhost:8080/"
        },
        "id": "1kMUOLqGF4Ze",
        "outputId": "1967ca64-c843-417b-f2d1-574e2ef59241"
      },
      "source": [
        "yelp_business_df.categories.str.contains('restaurant|food').value_counts()"
      ],
      "id": "1kMUOLqGF4Ze",
      "execution_count": null,
      "outputs": [
        {
          "data": {
            "text/plain": [
              "False    66044\n",
              "True     31776\n",
              "Name: categories, dtype: int64"
            ]
          },
          "execution_count": 70,
          "metadata": {},
          "output_type": "execute_result"
        }
      ]
    },
    {
      "cell_type": "markdown",
      "metadata": {
        "id": "pilb2BJeGDHq"
      },
      "source": [
        "Keeping only food/restaurant related listings for our study."
      ],
      "id": "pilb2BJeGDHq"
    },
    {
      "cell_type": "code",
      "metadata": {
        "id": "Pf7xstAUGA6A"
      },
      "source": [
        "yelp_business_df = yelp_business_df[yelp_business_df.categories.str.contains('restaurant|food')]"
      ],
      "id": "Pf7xstAUGA6A",
      "execution_count": null,
      "outputs": []
    },
    {
      "cell_type": "markdown",
      "metadata": {
        "id": "xW_JgjKcG78o"
      },
      "source": [
        "## 8. Longitudes and Latitudes"
      ],
      "id": "xW_JgjKcG78o"
    },
    {
      "cell_type": "code",
      "metadata": {
        "colab": {
          "base_uri": "https://localhost:8080/"
        },
        "id": "wojRLd52G_10",
        "outputId": "9af0a9bb-429f-4137-b6b0-c46ef4ebb845"
      },
      "source": [
        "yelp_business_df.latitude.isnull().value_counts()"
      ],
      "id": "wojRLd52G_10",
      "execution_count": null,
      "outputs": [
        {
          "data": {
            "text/plain": [
              "False    31776\n",
              "Name: latitude, dtype: int64"
            ]
          },
          "execution_count": 72,
          "metadata": {},
          "output_type": "execute_result"
        }
      ]
    },
    {
      "cell_type": "code",
      "metadata": {
        "colab": {
          "base_uri": "https://localhost:8080/"
        },
        "id": "mq3NNwrjHI_Q",
        "outputId": "45cd83ec-b162-4181-eca0-df89b7e373de"
      },
      "source": [
        "yelp_business_df.longitude.isnull().value_counts()"
      ],
      "id": "mq3NNwrjHI_Q",
      "execution_count": null,
      "outputs": [
        {
          "data": {
            "text/plain": [
              "False    31776\n",
              "Name: longitude, dtype: int64"
            ]
          },
          "execution_count": 73,
          "metadata": {},
          "output_type": "execute_result"
        }
      ]
    },
    {
      "cell_type": "code",
      "metadata": {
        "colab": {
          "base_uri": "https://localhost:8080/"
        },
        "id": "UDpBj7y1HJBl",
        "outputId": "27152c56-956e-4a18-87af-935bbdd33e12"
      },
      "source": [
        "yelp_business_df[yelp_business_df.longitude.isnull()]['latitude']"
      ],
      "id": "UDpBj7y1HJBl",
      "execution_count": null,
      "outputs": [
        {
          "data": {
            "text/plain": [
              "Series([], Name: latitude, dtype: float64)"
            ]
          },
          "execution_count": 74,
          "metadata": {},
          "output_type": "execute_result"
        }
      ]
    },
    {
      "cell_type": "code",
      "metadata": {
        "colab": {
          "base_uri": "https://localhost:8080/"
        },
        "id": "yk69ce1pHJD-",
        "outputId": "bbec1ed1-8d23-4162-87ab-3b76cd8f22a9"
      },
      "source": [
        "yelp_business_df[yelp_business_df.latitude.isnull()]['longitude']"
      ],
      "id": "yk69ce1pHJD-",
      "execution_count": null,
      "outputs": [
        {
          "data": {
            "text/plain": [
              "Series([], Name: longitude, dtype: float64)"
            ]
          },
          "execution_count": 75,
          "metadata": {},
          "output_type": "execute_result"
        }
      ]
    },
    {
      "cell_type": "code",
      "metadata": {
        "id": "pXWshNWhHJGW"
      },
      "source": [
        "yelp_business_df = yelp_business_df[pd.notnull(yelp_business_df.latitude) & pd.notnull(yelp_business_df.longitude)]"
      ],
      "id": "pXWshNWhHJGW",
      "execution_count": null,
      "outputs": []
    },
    {
      "cell_type": "code",
      "metadata": {
        "colab": {
          "base_uri": "https://localhost:8080/",
          "height": 297
        },
        "id": "ReDuftstHP6M",
        "outputId": "a582f078-2ca8-4b51-e958-f59a956317b2"
      },
      "source": [
        "yelp_business_df[['latitude','longitude']].describe()"
      ],
      "id": "ReDuftstHP6M",
      "execution_count": null,
      "outputs": [
        {
          "data": {
            "text/html": [
              "<div>\n",
              "<style scoped>\n",
              "    .dataframe tbody tr th:only-of-type {\n",
              "        vertical-align: middle;\n",
              "    }\n",
              "\n",
              "    .dataframe tbody tr th {\n",
              "        vertical-align: top;\n",
              "    }\n",
              "\n",
              "    .dataframe thead th {\n",
              "        text-align: right;\n",
              "    }\n",
              "</style>\n",
              "<table border=\"1\" class=\"dataframe\">\n",
              "  <thead>\n",
              "    <tr style=\"text-align: right;\">\n",
              "      <th></th>\n",
              "      <th>latitude</th>\n",
              "      <th>longitude</th>\n",
              "    </tr>\n",
              "  </thead>\n",
              "  <tbody>\n",
              "    <tr>\n",
              "      <th>count</th>\n",
              "      <td>31776.000000</td>\n",
              "      <td>31776.000000</td>\n",
              "    </tr>\n",
              "    <tr>\n",
              "      <th>mean</th>\n",
              "      <td>36.815213</td>\n",
              "      <td>-91.111962</td>\n",
              "    </tr>\n",
              "    <tr>\n",
              "      <th>std</th>\n",
              "      <td>6.561637</td>\n",
              "      <td>17.530523</td>\n",
              "    </tr>\n",
              "    <tr>\n",
              "      <th>min</th>\n",
              "      <td>28.136102</td>\n",
              "      <td>-123.124627</td>\n",
              "    </tr>\n",
              "    <tr>\n",
              "      <th>25%</th>\n",
              "      <td>30.247626</td>\n",
              "      <td>-97.792184</td>\n",
              "    </tr>\n",
              "    <tr>\n",
              "      <th>50%</th>\n",
              "      <td>39.851498</td>\n",
              "      <td>-84.218776</td>\n",
              "    </tr>\n",
              "    <tr>\n",
              "      <th>75%</th>\n",
              "      <td>42.384192</td>\n",
              "      <td>-81.364596</td>\n",
              "    </tr>\n",
              "    <tr>\n",
              "      <th>max</th>\n",
              "      <td>49.155176</td>\n",
              "      <td>-70.868355</td>\n",
              "    </tr>\n",
              "  </tbody>\n",
              "</table>\n",
              "</div>"
            ],
            "text/plain": [
              "           latitude     longitude\n",
              "count  31776.000000  31776.000000\n",
              "mean      36.815213    -91.111962\n",
              "std        6.561637     17.530523\n",
              "min       28.136102   -123.124627\n",
              "25%       30.247626    -97.792184\n",
              "50%       39.851498    -84.218776\n",
              "75%       42.384192    -81.364596\n",
              "max       49.155176    -70.868355"
            ]
          },
          "execution_count": 77,
          "metadata": {},
          "output_type": "execute_result"
        }
      ]
    },
    {
      "cell_type": "markdown",
      "metadata": {
        "id": "C5KvvJFqHWbY"
      },
      "source": [
        "Got the bounding box i.e. max/min lat longs for continental United States from here - https://en.wikipedia.org/wiki/List_of_extreme_points_of_the_United_States"
      ],
      "id": "C5KvvJFqHWbY"
    },
    {
      "cell_type": "code",
      "metadata": {
        "id": "f5ehc61DHRzU"
      },
      "source": [
        "top = 49.3457868 # north latitude\n",
        "left = -124.7844079 # west longitude\n",
        "right = -66.9513812 # east longitude\n",
        "bottom =  24.7433195 # south latitude"
      ],
      "id": "f5ehc61DHRzU",
      "execution_count": null,
      "outputs": []
    },
    {
      "cell_type": "code",
      "metadata": {
        "colab": {
          "base_uri": "https://localhost:8080/",
          "height": 49
        },
        "id": "oJr5AxpVHR1r",
        "outputId": "1f9147dd-a6a0-426d-94ad-e97fd322f452"
      },
      "source": [
        "yelp_business_df[(yelp_business_df.latitude > top) | (yelp_business_df.latitude < bottom) | (yelp_business_df.longitude > right) | (yelp_business_df.longitude < left)][['name','city','state']]"
      ],
      "id": "oJr5AxpVHR1r",
      "execution_count": null,
      "outputs": [
        {
          "data": {
            "text/html": [
              "<div>\n",
              "<style scoped>\n",
              "    .dataframe tbody tr th:only-of-type {\n",
              "        vertical-align: middle;\n",
              "    }\n",
              "\n",
              "    .dataframe tbody tr th {\n",
              "        vertical-align: top;\n",
              "    }\n",
              "\n",
              "    .dataframe thead th {\n",
              "        text-align: right;\n",
              "    }\n",
              "</style>\n",
              "<table border=\"1\" class=\"dataframe\">\n",
              "  <thead>\n",
              "    <tr style=\"text-align: right;\">\n",
              "      <th></th>\n",
              "      <th>name</th>\n",
              "      <th>city</th>\n",
              "      <th>state</th>\n",
              "    </tr>\n",
              "  </thead>\n",
              "  <tbody>\n",
              "  </tbody>\n",
              "</table>\n",
              "</div>"
            ],
            "text/plain": [
              "Empty DataFrame\n",
              "Columns: [name, city, state]\n",
              "Index: []"
            ]
          },
          "execution_count": 79,
          "metadata": {},
          "output_type": "execute_result"
        }
      ]
    },
    {
      "cell_type": "markdown",
      "metadata": {
        "id": "ReehigAJHcu_"
      },
      "source": [
        "There are 0 business who's latitude/longitude fall outside the bounding box of continental USA. Dropping them"
      ],
      "id": "ReehigAJHcu_"
    },
    {
      "cell_type": "code",
      "metadata": {
        "id": "SKdplI5FHR4K"
      },
      "source": [
        "# Reomve this code (no need)\n",
        "yelp_business_df = yelp_business_df[(yelp_business_df.latitude <= top) & (yelp_business_df.latitude >= bottom) & (yelp_business_df.longitude<=right) & (yelp_business_df.longitude>=left)]"
      ],
      "id": "SKdplI5FHR4K",
      "execution_count": null,
      "outputs": []
    },
    {
      "cell_type": "markdown",
      "metadata": {
        "id": "7Nia23TSH-ex"
      },
      "source": [
        "## 9. Address"
      ],
      "id": "7Nia23TSH-ex"
    },
    {
      "cell_type": "code",
      "metadata": {
        "colab": {
          "base_uri": "https://localhost:8080/"
        },
        "id": "Kp5G2Lv_ICTC",
        "outputId": "552f38b7-ee1c-45a7-fff9-154b51e4f105"
      },
      "source": [
        "yelp_business_df.address.isnull().value_counts()"
      ],
      "id": "Kp5G2Lv_ICTC",
      "execution_count": null,
      "outputs": [
        {
          "data": {
            "text/plain": [
              "False    31287\n",
              "True       489\n",
              "Name: address, dtype: int64"
            ]
          },
          "execution_count": 81,
          "metadata": {},
          "output_type": "execute_result"
        }
      ]
    },
    {
      "cell_type": "code",
      "metadata": {
        "colab": {
          "base_uri": "https://localhost:8080/",
          "height": 204
        },
        "id": "tCkONyhnIEcg",
        "outputId": "6836edad-6614-4a44-b4ea-c0e914d9b921"
      },
      "source": [
        "yelp_business_df[yelp_business_df.address.isnull()][['name','address','city','state']].head()"
      ],
      "id": "tCkONyhnIEcg",
      "execution_count": null,
      "outputs": [
        {
          "data": {
            "text/html": [
              "<div>\n",
              "<style scoped>\n",
              "    .dataframe tbody tr th:only-of-type {\n",
              "        vertical-align: middle;\n",
              "    }\n",
              "\n",
              "    .dataframe tbody tr th {\n",
              "        vertical-align: top;\n",
              "    }\n",
              "\n",
              "    .dataframe thead th {\n",
              "        text-align: right;\n",
              "    }\n",
              "</style>\n",
              "<table border=\"1\" class=\"dataframe\">\n",
              "  <thead>\n",
              "    <tr style=\"text-align: right;\">\n",
              "      <th></th>\n",
              "      <th>name</th>\n",
              "      <th>address</th>\n",
              "      <th>city</th>\n",
              "      <th>state</th>\n",
              "    </tr>\n",
              "  </thead>\n",
              "  <tbody>\n",
              "    <tr>\n",
              "      <th>476</th>\n",
              "      <td>phantom gourmet food festival</td>\n",
              "      <td>NaN</td>\n",
              "      <td>boston</td>\n",
              "      <td>MA</td>\n",
              "    </tr>\n",
              "    <tr>\n",
              "      <th>703</th>\n",
              "      <td>los munchies</td>\n",
              "      <td>NaN</td>\n",
              "      <td>orlando</td>\n",
              "      <td>FL</td>\n",
              "    </tr>\n",
              "    <tr>\n",
              "      <th>784</th>\n",
              "      <td>the north end</td>\n",
              "      <td>NaN</td>\n",
              "      <td>boston</td>\n",
              "      <td>MA</td>\n",
              "    </tr>\n",
              "    <tr>\n",
              "      <th>795</th>\n",
              "      <td>mrbeast burger</td>\n",
              "      <td>NaN</td>\n",
              "      <td>newton</td>\n",
              "      <td>MA</td>\n",
              "    </tr>\n",
              "    <tr>\n",
              "      <th>1447</th>\n",
              "      <td>roxy's gourmet grilled cheese</td>\n",
              "      <td>NaN</td>\n",
              "      <td>boston</td>\n",
              "      <td>MA</td>\n",
              "    </tr>\n",
              "  </tbody>\n",
              "</table>\n",
              "</div>"
            ],
            "text/plain": [
              "                               name address     city state\n",
              "476   phantom gourmet food festival     NaN   boston    MA\n",
              "703                    los munchies     NaN  orlando    FL\n",
              "784                   the north end     NaN   boston    MA\n",
              "795                  mrbeast burger     NaN   newton    MA\n",
              "1447  roxy's gourmet grilled cheese     NaN   boston    MA"
            ]
          },
          "execution_count": 82,
          "metadata": {},
          "output_type": "execute_result"
        }
      ]
    },
    {
      "cell_type": "markdown",
      "metadata": {
        "id": "a3ngyLGPIIAm"
      },
      "source": [
        "As we see a lot of the places above with null address are actually mobile restaurants, like food trucks etc. Marking all these addresses as 'NOT_AVAILABLE'."
      ],
      "id": "a3ngyLGPIIAm"
    },
    {
      "cell_type": "code",
      "metadata": {
        "id": "WxPK4QkZIEjA"
      },
      "source": [
        "yelp_business_df.address = yelp_business_df.address.fillna('NOT_AVAILABLE')"
      ],
      "id": "WxPK4QkZIEjA",
      "execution_count": null,
      "outputs": []
    },
    {
      "cell_type": "code",
      "metadata": {
        "id": "CL-sxrspIEln"
      },
      "source": [
        "yelp_business_df.address = yelp_business_df.address.str.lower()"
      ],
      "id": "CL-sxrspIEln",
      "execution_count": null,
      "outputs": []
    },
    {
      "cell_type": "code",
      "metadata": {
        "colab": {
          "base_uri": "https://localhost:8080/"
        },
        "id": "nblQnUCHIEoQ",
        "outputId": "2fe2740c-b2e9-43ca-ed2b-420bbb117e82"
      },
      "source": [
        "yelp_business_df.address.isnull().value_counts()"
      ],
      "id": "nblQnUCHIEoQ",
      "execution_count": null,
      "outputs": [
        {
          "data": {
            "text/plain": [
              "False    31776\n",
              "Name: address, dtype: int64"
            ]
          },
          "execution_count": 85,
          "metadata": {},
          "output_type": "execute_result"
        }
      ]
    },
    {
      "cell_type": "markdown",
      "metadata": {
        "id": "NPBsEbfNM0KC"
      },
      "source": [
        "# Join Data"
      ],
      "id": "NPBsEbfNM0KC"
    },
    {
      "cell_type": "markdown",
      "metadata": {
        "id": "a1KYwYbpM0KC"
      },
      "source": [
        "## Joining with tip data"
      ],
      "id": "a1KYwYbpM0KC"
    },
    {
      "cell_type": "markdown",
      "metadata": {
        "id": "VT8nhnPrM0KC"
      },
      "source": [
        "Get all user_ids that provided tips for this business"
      ],
      "id": "VT8nhnPrM0KC"
    },
    {
      "cell_type": "code",
      "metadata": {
        "id": "XXF2xbhKM0KD"
      },
      "source": [
        "yelp_tips_df = pd.read_csv('/content/drive/My Drive/converted_data/yelp_academic_dataset_tip.csv')"
      ],
      "id": "XXF2xbhKM0KD",
      "execution_count": null,
      "outputs": []
    },
    {
      "cell_type": "code",
      "metadata": {
        "colab": {
          "base_uri": "https://localhost:8080/",
          "height": 204
        },
        "id": "B-2RJ1F4M0KD",
        "outputId": "edb0add4-6798-48e2-9114-e447e63ebf4f"
      },
      "source": [
        "yelp_tips_df.head()"
      ],
      "id": "B-2RJ1F4M0KD",
      "execution_count": null,
      "outputs": [
        {
          "data": {
            "text/html": [
              "<div>\n",
              "<style scoped>\n",
              "    .dataframe tbody tr th:only-of-type {\n",
              "        vertical-align: middle;\n",
              "    }\n",
              "\n",
              "    .dataframe tbody tr th {\n",
              "        vertical-align: top;\n",
              "    }\n",
              "\n",
              "    .dataframe thead th {\n",
              "        text-align: right;\n",
              "    }\n",
              "</style>\n",
              "<table border=\"1\" class=\"dataframe\">\n",
              "  <thead>\n",
              "    <tr style=\"text-align: right;\">\n",
              "      <th></th>\n",
              "      <th>user_id</th>\n",
              "      <th>date</th>\n",
              "      <th>compliment_count</th>\n",
              "      <th>business_id</th>\n",
              "      <th>text</th>\n",
              "    </tr>\n",
              "  </thead>\n",
              "  <tbody>\n",
              "    <tr>\n",
              "      <th>0</th>\n",
              "      <td>WCjg0jdHXMlwbqS9tZUx8Q</td>\n",
              "      <td>2011-07-22 19:07:35</td>\n",
              "      <td>0</td>\n",
              "      <td>ENwBByjpoa5Gg7tKgxqwLg</td>\n",
              "      <td>Carne asada chips...</td>\n",
              "    </tr>\n",
              "    <tr>\n",
              "      <th>1</th>\n",
              "      <td>42-Z02y9bABShAGZhuSzrQ</td>\n",
              "      <td>2014-09-10 07:33:29</td>\n",
              "      <td>0</td>\n",
              "      <td>jKO4Og6ucdX2-YCTKQVYjg</td>\n",
              "      <td>Best happy hour from 3pm to 6pm! $1 off martin...</td>\n",
              "    </tr>\n",
              "    <tr>\n",
              "      <th>2</th>\n",
              "      <td>5u7E3LYp_3eB8dLuUBazXQ</td>\n",
              "      <td>2013-12-13 23:23:41</td>\n",
              "      <td>0</td>\n",
              "      <td>9Bto7mky640ocgezVKSfVg</td>\n",
              "      <td>Nice people, skilled staff, clean location - b...</td>\n",
              "    </tr>\n",
              "    <tr>\n",
              "      <th>3</th>\n",
              "      <td>wDWoMG5N9oI4DJ-p7z8EBg</td>\n",
              "      <td>2017-07-11 23:07:16</td>\n",
              "      <td>0</td>\n",
              "      <td>XWFjKtRGZ9khRGtGg2ZvaA</td>\n",
              "      <td>1/2-price bowling &amp; the \"Very\" Old Fashion are...</td>\n",
              "    </tr>\n",
              "    <tr>\n",
              "      <th>4</th>\n",
              "      <td>JmuFlorjjRshHTKzTwNtgg</td>\n",
              "      <td>2016-11-30 08:46:36</td>\n",
              "      <td>0</td>\n",
              "      <td>mkrx0VhSMU3p3uhyJGCoWA</td>\n",
              "      <td>Solid gold's. Great sauna. Great staff, too. E...</td>\n",
              "    </tr>\n",
              "  </tbody>\n",
              "</table>\n",
              "</div>"
            ],
            "text/plain": [
              "                  user_id  ...                                               text\n",
              "0  WCjg0jdHXMlwbqS9tZUx8Q  ...                               Carne asada chips...\n",
              "1  42-Z02y9bABShAGZhuSzrQ  ...  Best happy hour from 3pm to 6pm! $1 off martin...\n",
              "2  5u7E3LYp_3eB8dLuUBazXQ  ...  Nice people, skilled staff, clean location - b...\n",
              "3  wDWoMG5N9oI4DJ-p7z8EBg  ...  1/2-price bowling & the \"Very\" Old Fashion are...\n",
              "4  JmuFlorjjRshHTKzTwNtgg  ...  Solid gold's. Great sauna. Great staff, too. E...\n",
              "\n",
              "[5 rows x 5 columns]"
            ]
          },
          "execution_count": 87,
          "metadata": {},
          "output_type": "execute_result"
        }
      ]
    },
    {
      "cell_type": "code",
      "metadata": {
        "id": "yUcl4pzbM0KD"
      },
      "source": [
        "yelp_business_df = yelp_business_df.merge(yelp_tips_df[['business_id','user_id']], left_on='business_id', right_on='business_id', how='left')"
      ],
      "id": "yUcl4pzbM0KD",
      "execution_count": null,
      "outputs": []
    },
    {
      "cell_type": "code",
      "metadata": {
        "id": "bwbHMCz3M0KD"
      },
      "source": [
        "yelp_business_df = yelp_business_df.merge(yelp_business_df.groupby('business_id').apply(lambda x: x['user_id'].unique()).reset_index(), \n",
        "               left_on='business_id', right_on='business_id', how='left')"
      ],
      "id": "bwbHMCz3M0KD",
      "execution_count": null,
      "outputs": []
    },
    {
      "cell_type": "code",
      "metadata": {
        "id": "6jisl7ufM0KD"
      },
      "source": [
        "yelp_business_df = yelp_business_df.drop_duplicates(subset='business_id')"
      ],
      "id": "6jisl7ufM0KD",
      "execution_count": null,
      "outputs": []
    },
    {
      "cell_type": "code",
      "metadata": {
        "colab": {
          "base_uri": "https://localhost:8080/"
        },
        "id": "eOqfi6vxM0KD",
        "outputId": "7429b75c-35b6-43a9-eac6-ade711e8867b"
      },
      "source": [
        "yelp_business_df['users'] = yelp_business_df[0]"
      ],
      "id": "eOqfi6vxM0KD",
      "execution_count": null,
      "outputs": [
        {
          "name": "stderr",
          "output_type": "stream",
          "text": [
            "/usr/local/lib/python3.7/dist-packages/ipykernel_launcher.py:1: SettingWithCopyWarning: \n",
            "A value is trying to be set on a copy of a slice from a DataFrame.\n",
            "Try using .loc[row_indexer,col_indexer] = value instead\n",
            "\n",
            "See the caveats in the documentation: https://pandas.pydata.org/pandas-docs/stable/user_guide/indexing.html#returning-a-view-versus-a-copy\n",
            "  \"\"\"Entry point for launching an IPython kernel.\n"
          ]
        }
      ]
    },
    {
      "cell_type": "code",
      "metadata": {
        "id": "SIQIlHWJM0KD"
      },
      "source": [
        "yelp_business_df = yelp_business_df.drop(['user_id',0], axis=1)"
      ],
      "id": "SIQIlHWJM0KD",
      "execution_count": null,
      "outputs": []
    },
    {
      "cell_type": "markdown",
      "metadata": {
        "id": "iMskLVyaM0KD"
      },
      "source": [
        "## Joining with review data"
      ],
      "id": "iMskLVyaM0KD"
    },
    {
      "cell_type": "markdown",
      "metadata": {
        "id": "z9MyDLKpM0KD"
      },
      "source": [
        "Get all user_ids that provided reviews for this business"
      ],
      "id": "z9MyDLKpM0KD"
    },
    {
      "cell_type": "code",
      "metadata": {
        "id": "mUuTvN9ZM0KD"
      },
      "source": [
        "yelp_reviews_df = pd.read_csv('/content/drive/My Drive/converted_data/yelp_academic_dataset_review.csv')"
      ],
      "id": "mUuTvN9ZM0KD",
      "execution_count": null,
      "outputs": []
    },
    {
      "cell_type": "code",
      "metadata": {
        "colab": {
          "base_uri": "https://localhost:8080/",
          "height": 289
        },
        "id": "J0ilB04kM0KD",
        "outputId": "3530aef1-3f36-4481-bbf3-61958627d782"
      },
      "source": [
        "yelp_reviews_df.head()"
      ],
      "id": "J0ilB04kM0KD",
      "execution_count": null,
      "outputs": [
        {
          "data": {
            "text/html": [
              "<div>\n",
              "<style scoped>\n",
              "    .dataframe tbody tr th:only-of-type {\n",
              "        vertical-align: middle;\n",
              "    }\n",
              "\n",
              "    .dataframe tbody tr th {\n",
              "        vertical-align: top;\n",
              "    }\n",
              "\n",
              "    .dataframe thead th {\n",
              "        text-align: right;\n",
              "    }\n",
              "</style>\n",
              "<table border=\"1\" class=\"dataframe\">\n",
              "  <thead>\n",
              "    <tr style=\"text-align: right;\">\n",
              "      <th></th>\n",
              "      <th>cool</th>\n",
              "      <th>user_id</th>\n",
              "      <th>review_id</th>\n",
              "      <th>text</th>\n",
              "      <th>date</th>\n",
              "      <th>business_id</th>\n",
              "      <th>stars</th>\n",
              "      <th>funny</th>\n",
              "      <th>useful</th>\n",
              "    </tr>\n",
              "  </thead>\n",
              "  <tbody>\n",
              "    <tr>\n",
              "      <th>0</th>\n",
              "      <td>1</td>\n",
              "      <td>ak0TdVmGKo4pwqdJSTLwWw</td>\n",
              "      <td>lWC-xP3rd6obsecCYsGZRg</td>\n",
              "      <td>Apparently Prides Osteria had a rough summer a...</td>\n",
              "      <td>2014-10-11 03:34:02</td>\n",
              "      <td>buF9druCkbuXLX526sGELQ</td>\n",
              "      <td>4.0</td>\n",
              "      <td>1</td>\n",
              "      <td>3</td>\n",
              "    </tr>\n",
              "    <tr>\n",
              "      <th>1</th>\n",
              "      <td>0</td>\n",
              "      <td>YoVfDbnISlW0f7abNQACIg</td>\n",
              "      <td>8bFej1QE5LXp4O05qjGqXA</td>\n",
              "      <td>This store is pretty good. Not as great as Wal...</td>\n",
              "      <td>2015-07-03 20:38:25</td>\n",
              "      <td>RA4V8pr014UyUbDvI-LW2A</td>\n",
              "      <td>4.0</td>\n",
              "      <td>0</td>\n",
              "      <td>1</td>\n",
              "    </tr>\n",
              "    <tr>\n",
              "      <th>2</th>\n",
              "      <td>0</td>\n",
              "      <td>eC5evKn1TWDyHCyQAwguUw</td>\n",
              "      <td>NDhkzczKjLshODbqDoNLSg</td>\n",
              "      <td>I called WVM on the recommendation of a couple...</td>\n",
              "      <td>2013-05-28 20:38:06</td>\n",
              "      <td>_sS2LBIGNT5NQb6PD1Vtjw</td>\n",
              "      <td>5.0</td>\n",
              "      <td>0</td>\n",
              "      <td>0</td>\n",
              "    </tr>\n",
              "    <tr>\n",
              "      <th>3</th>\n",
              "      <td>1</td>\n",
              "      <td>SFQ1jcnGguO0LYWnbbftAA</td>\n",
              "      <td>T5fAqjjFooT4V0OeZyuk1w</td>\n",
              "      <td>I've stayed at many Marriott and Renaissance M...</td>\n",
              "      <td>2010-01-08 02:29:15</td>\n",
              "      <td>0AzLzHfOJgL7ROwhdww2ew</td>\n",
              "      <td>2.0</td>\n",
              "      <td>1</td>\n",
              "      <td>1</td>\n",
              "    </tr>\n",
              "    <tr>\n",
              "      <th>4</th>\n",
              "      <td>0</td>\n",
              "      <td>0kA0PAJ8QFMeveQWHFqz2A</td>\n",
              "      <td>sjm_uUcQVxab_EeLCqsYLg</td>\n",
              "      <td>The food is always great here. The service fro...</td>\n",
              "      <td>2011-07-28 18:05:01</td>\n",
              "      <td>8zehGz9jnxPqXtOc7KaJxA</td>\n",
              "      <td>4.0</td>\n",
              "      <td>0</td>\n",
              "      <td>0</td>\n",
              "    </tr>\n",
              "  </tbody>\n",
              "</table>\n",
              "</div>"
            ],
            "text/plain": [
              "   cool                 user_id               review_id  ... stars funny useful\n",
              "0     1  ak0TdVmGKo4pwqdJSTLwWw  lWC-xP3rd6obsecCYsGZRg  ...   4.0     1      3\n",
              "1     0  YoVfDbnISlW0f7abNQACIg  8bFej1QE5LXp4O05qjGqXA  ...   4.0     0      1\n",
              "2     0  eC5evKn1TWDyHCyQAwguUw  NDhkzczKjLshODbqDoNLSg  ...   5.0     0      0\n",
              "3     1  SFQ1jcnGguO0LYWnbbftAA  T5fAqjjFooT4V0OeZyuk1w  ...   2.0     1      1\n",
              "4     0  0kA0PAJ8QFMeveQWHFqz2A  sjm_uUcQVxab_EeLCqsYLg  ...   4.0     0      0\n",
              "\n",
              "[5 rows x 9 columns]"
            ]
          },
          "execution_count": 94,
          "metadata": {},
          "output_type": "execute_result"
        }
      ]
    },
    {
      "cell_type": "code",
      "metadata": {
        "id": "uJ25ML4XM0KD"
      },
      "source": [
        "yelp_business_df = yelp_business_df.merge(yelp_reviews_df[['business_id','user_id']], left_on='business_id', right_on='business_id', how='left')"
      ],
      "id": "uJ25ML4XM0KD",
      "execution_count": null,
      "outputs": []
    },
    {
      "cell_type": "code",
      "metadata": {
        "id": "vD3PuiBPM0KD"
      },
      "source": [
        "yelp_business_df = yelp_business_df.merge(yelp_business_df.groupby('business_id').apply(lambda x: x['user_id'].unique()).reset_index(), \n",
        "               left_on='business_id', right_on='business_id', how='left')"
      ],
      "id": "vD3PuiBPM0KD",
      "execution_count": null,
      "outputs": []
    },
    {
      "cell_type": "code",
      "metadata": {
        "id": "y6SNQ7y8M0KD"
      },
      "source": [
        "yelp_business_df = yelp_business_df.drop_duplicates(subset='business_id')"
      ],
      "id": "y6SNQ7y8M0KD",
      "execution_count": null,
      "outputs": []
    },
    {
      "cell_type": "code",
      "metadata": {
        "colab": {
          "base_uri": "https://localhost:8080/"
        },
        "id": "_qA6IC7bM0KD",
        "outputId": "d93c6c8b-5491-40d7-f392-6bd53ee6d6ae"
      },
      "source": [
        "yelp_business_df['users2'] = yelp_business_df[0]"
      ],
      "id": "_qA6IC7bM0KD",
      "execution_count": null,
      "outputs": [
        {
          "name": "stderr",
          "output_type": "stream",
          "text": [
            "/usr/local/lib/python3.7/dist-packages/ipykernel_launcher.py:1: SettingWithCopyWarning: \n",
            "A value is trying to be set on a copy of a slice from a DataFrame.\n",
            "Try using .loc[row_indexer,col_indexer] = value instead\n",
            "\n",
            "See the caveats in the documentation: https://pandas.pydata.org/pandas-docs/stable/user_guide/indexing.html#returning-a-view-versus-a-copy\n",
            "  \"\"\"Entry point for launching an IPython kernel.\n"
          ]
        }
      ]
    },
    {
      "cell_type": "code",
      "metadata": {
        "id": "EGjlI_WlM0KD"
      },
      "source": [
        "yelp_business_df = yelp_business_df.drop(['user_id',0], axis=1)"
      ],
      "id": "EGjlI_WlM0KD",
      "execution_count": null,
      "outputs": []
    },
    {
      "cell_type": "code",
      "metadata": {
        "id": "mMZccW01M0KD"
      },
      "source": [
        "yelp_business_df = yelp_business_df.reset_index(drop=True)"
      ],
      "id": "mMZccW01M0KD",
      "execution_count": null,
      "outputs": []
    },
    {
      "cell_type": "markdown",
      "metadata": {
        "id": "ekSu0Dt0M0KE"
      },
      "source": [
        "## Union of all users interacting with this business"
      ],
      "id": "ekSu0Dt0M0KE"
    },
    {
      "cell_type": "code",
      "metadata": {
        "id": "nVTgaRBWM0KE"
      },
      "source": [
        "def union(x):\n",
        "    a = x['users']\n",
        "    b = x['users2']\n",
        "    return list(set(a) | set(b))"
      ],
      "id": "nVTgaRBWM0KE",
      "execution_count": null,
      "outputs": []
    },
    {
      "cell_type": "code",
      "metadata": {
        "id": "DNbI_eV4M0KE"
      },
      "source": [
        "yelp_business_df.users = yelp_business_df.apply(union, axis=1)"
      ],
      "id": "DNbI_eV4M0KE",
      "execution_count": null,
      "outputs": []
    },
    {
      "cell_type": "code",
      "metadata": {
        "id": "HrHmD2T1M0KE"
      },
      "source": [
        "yelp_business_df = yelp_business_df.drop(['users2'], axis=1)"
      ],
      "id": "HrHmD2T1M0KE",
      "execution_count": null,
      "outputs": []
    },
    {
      "cell_type": "markdown",
      "metadata": {
        "id": "Wxd5QKsjM0KE"
      },
      "source": [
        "## Joining user profiles with business"
      ],
      "id": "Wxd5QKsjM0KE"
    },
    {
      "cell_type": "code",
      "metadata": {
        "id": "U3vjedelM0KE"
      },
      "source": [
        "yelp_users_df = pd.read_csv('/content/drive/My Drive/converted_data/yelp_academic_dataset_user.csv')"
      ],
      "id": "U3vjedelM0KE",
      "execution_count": null,
      "outputs": []
    },
    {
      "cell_type": "code",
      "metadata": {
        "colab": {
          "base_uri": "https://localhost:8080/",
          "height": 309
        },
        "id": "zmSHLI38M0KE",
        "outputId": "7653b221-2251-41eb-fb72-b518df405ec8"
      },
      "source": [
        "yelp_users_df.head()"
      ],
      "id": "zmSHLI38M0KE",
      "execution_count": null,
      "outputs": [
        {
          "data": {
            "text/html": [
              "<div>\n",
              "<style scoped>\n",
              "    .dataframe tbody tr th:only-of-type {\n",
              "        vertical-align: middle;\n",
              "    }\n",
              "\n",
              "    .dataframe tbody tr th {\n",
              "        vertical-align: top;\n",
              "    }\n",
              "\n",
              "    .dataframe thead th {\n",
              "        text-align: right;\n",
              "    }\n",
              "</style>\n",
              "<table border=\"1\" class=\"dataframe\">\n",
              "  <thead>\n",
              "    <tr style=\"text-align: right;\">\n",
              "      <th></th>\n",
              "      <th>elite</th>\n",
              "      <th>user_id</th>\n",
              "      <th>compliment_note</th>\n",
              "      <th>compliment_more</th>\n",
              "      <th>compliment_hot</th>\n",
              "      <th>compliment_list</th>\n",
              "      <th>compliment_cool</th>\n",
              "      <th>cool</th>\n",
              "      <th>compliment_photos</th>\n",
              "      <th>fans</th>\n",
              "      <th>compliment_funny</th>\n",
              "      <th>compliment_writer</th>\n",
              "      <th>average_stars</th>\n",
              "      <th>compliment_profile</th>\n",
              "      <th>funny</th>\n",
              "      <th>review_count</th>\n",
              "      <th>name</th>\n",
              "      <th>compliment_plain</th>\n",
              "      <th>compliment_cute</th>\n",
              "      <th>friends</th>\n",
              "      <th>yelping_since</th>\n",
              "      <th>useful</th>\n",
              "    </tr>\n",
              "  </thead>\n",
              "  <tbody>\n",
              "    <tr>\n",
              "      <th>0</th>\n",
              "      <td>2006,2007,2008,2009,2010,2011,2012,2013,2014</td>\n",
              "      <td>q_QQ5kBBwlCcbL1s4NVK3g</td>\n",
              "      <td>1212</td>\n",
              "      <td>163</td>\n",
              "      <td>1710</td>\n",
              "      <td>147</td>\n",
              "      <td>2541</td>\n",
              "      <td>11291</td>\n",
              "      <td>323</td>\n",
              "      <td>1357</td>\n",
              "      <td>2541</td>\n",
              "      <td>815</td>\n",
              "      <td>3.85</td>\n",
              "      <td>190</td>\n",
              "      <td>10030</td>\n",
              "      <td>1220</td>\n",
              "      <td>Jane</td>\n",
              "      <td>5691</td>\n",
              "      <td>361</td>\n",
              "      <td>xBDpTUbai0DXrvxCe3X16Q, 7GPNBO496aecrjJfW6UWtg...</td>\n",
              "      <td>2005-03-14 20:26:35</td>\n",
              "      <td>15038</td>\n",
              "    </tr>\n",
              "    <tr>\n",
              "      <th>1</th>\n",
              "      <td>2007,2008,2009,2010,2011,2012,2013,2014,2015,2...</td>\n",
              "      <td>dIIKEfOgo0KqUfGQvGikPg</td>\n",
              "      <td>1187</td>\n",
              "      <td>87</td>\n",
              "      <td>1632</td>\n",
              "      <td>96</td>\n",
              "      <td>2205</td>\n",
              "      <td>18046</td>\n",
              "      <td>294</td>\n",
              "      <td>1025</td>\n",
              "      <td>2205</td>\n",
              "      <td>472</td>\n",
              "      <td>4.09</td>\n",
              "      <td>94</td>\n",
              "      <td>10289</td>\n",
              "      <td>2136</td>\n",
              "      <td>Gabi</td>\n",
              "      <td>3293</td>\n",
              "      <td>232</td>\n",
              "      <td>XPzYf9_mwG2eXYP2BAGSTA, 2LooM5dcIk2o01nftYdPIg...</td>\n",
              "      <td>2007-08-10 19:01:51</td>\n",
              "      <td>21272</td>\n",
              "    </tr>\n",
              "    <tr>\n",
              "      <th>2</th>\n",
              "      <td>2010,2011</td>\n",
              "      <td>D6ErcUnFALnCQN4b1W_TlA</td>\n",
              "      <td>5</td>\n",
              "      <td>1</td>\n",
              "      <td>22</td>\n",
              "      <td>0</td>\n",
              "      <td>31</td>\n",
              "      <td>130</td>\n",
              "      <td>1</td>\n",
              "      <td>16</td>\n",
              "      <td>31</td>\n",
              "      <td>3</td>\n",
              "      <td>3.76</td>\n",
              "      <td>3</td>\n",
              "      <td>128</td>\n",
              "      <td>119</td>\n",
              "      <td>Jason</td>\n",
              "      <td>20</td>\n",
              "      <td>0</td>\n",
              "      <td>GfB6sC4NJQvSI2ewbQrDNA, jhZtzZNNZJOU2YSZ6jPlXQ...</td>\n",
              "      <td>2007-02-07 15:47:53</td>\n",
              "      <td>188</td>\n",
              "    </tr>\n",
              "    <tr>\n",
              "      <th>3</th>\n",
              "      <td>2009,2010,2011,2012,2013,2014</td>\n",
              "      <td>JnPIjvC0cmooNDfsa9BmXg</td>\n",
              "      <td>1120</td>\n",
              "      <td>129</td>\n",
              "      <td>1180</td>\n",
              "      <td>90</td>\n",
              "      <td>1566</td>\n",
              "      <td>4035</td>\n",
              "      <td>326</td>\n",
              "      <td>420</td>\n",
              "      <td>1566</td>\n",
              "      <td>391</td>\n",
              "      <td>3.77</td>\n",
              "      <td>93</td>\n",
              "      <td>4722</td>\n",
              "      <td>987</td>\n",
              "      <td>Kat</td>\n",
              "      <td>4510</td>\n",
              "      <td>219</td>\n",
              "      <td>HQZPQhKMwRAyS6BCselVWQ, kP2U1s_sjQfHO9grxiyDTA...</td>\n",
              "      <td>2009-02-09 16:14:29</td>\n",
              "      <td>7234</td>\n",
              "    </tr>\n",
              "    <tr>\n",
              "      <th>4</th>\n",
              "      <td>2009,2010,2011</td>\n",
              "      <td>37Hc8hr3cw0iHLoPzLK6Ow</td>\n",
              "      <td>77</td>\n",
              "      <td>19</td>\n",
              "      <td>248</td>\n",
              "      <td>15</td>\n",
              "      <td>310</td>\n",
              "      <td>1124</td>\n",
              "      <td>44</td>\n",
              "      <td>47</td>\n",
              "      <td>310</td>\n",
              "      <td>98</td>\n",
              "      <td>3.72</td>\n",
              "      <td>32</td>\n",
              "      <td>727</td>\n",
              "      <td>495</td>\n",
              "      <td>Christine</td>\n",
              "      <td>131</td>\n",
              "      <td>16</td>\n",
              "      <td>-Q88pZUcrfN0BLBDp-bkAQ, etPn4Pv1Gc4cRZjRgB_BOw...</td>\n",
              "      <td>2008-03-03 04:57:05</td>\n",
              "      <td>1577</td>\n",
              "    </tr>\n",
              "  </tbody>\n",
              "</table>\n",
              "</div>"
            ],
            "text/plain": [
              "                                               elite  ... useful\n",
              "0       2006,2007,2008,2009,2010,2011,2012,2013,2014  ...  15038\n",
              "1  2007,2008,2009,2010,2011,2012,2013,2014,2015,2...  ...  21272\n",
              "2                                          2010,2011  ...    188\n",
              "3                      2009,2010,2011,2012,2013,2014  ...   7234\n",
              "4                                     2009,2010,2011  ...   1577\n",
              "\n",
              "[5 rows x 22 columns]"
            ]
          },
          "execution_count": 105,
          "metadata": {},
          "output_type": "execute_result"
        }
      ]
    },
    {
      "cell_type": "code",
      "metadata": {
        "id": "gspUQED6M0KE"
      },
      "source": [
        "yelp_users_df.yelping_since = yelp_users_df.yelping_since.astype(np.datetime64)"
      ],
      "id": "gspUQED6M0KE",
      "execution_count": null,
      "outputs": []
    },
    {
      "cell_type": "code",
      "metadata": {
        "id": "nzNxoJVrM0KE"
      },
      "source": [
        "yelp_users_df['months_since_yelping'] = ((pd.to_datetime('today') - yelp_users_df.yelping_since)/np.timedelta64(1, 'M'))"
      ],
      "id": "nzNxoJVrM0KE",
      "execution_count": null,
      "outputs": []
    },
    {
      "cell_type": "code",
      "metadata": {
        "colab": {
          "base_uri": "https://localhost:8080/"
        },
        "id": "lz7QkoTHM0KE",
        "outputId": "71f4d260-cde1-48e1-c52b-f476bf11a3ab"
      },
      "source": [
        "yelp_users_df.columns"
      ],
      "id": "lz7QkoTHM0KE",
      "execution_count": null,
      "outputs": [
        {
          "data": {
            "text/plain": [
              "Index(['elite', 'user_id', 'compliment_note', 'compliment_more',\n",
              "       'compliment_hot', 'compliment_list', 'compliment_cool', 'cool',\n",
              "       'compliment_photos', 'fans', 'compliment_funny', 'compliment_writer',\n",
              "       'average_stars', 'compliment_profile', 'funny', 'review_count', 'name',\n",
              "       'compliment_plain', 'compliment_cute', 'friends', 'yelping_since',\n",
              "       'useful', 'months_since_yelping'],\n",
              "      dtype='object')"
            ]
          },
          "execution_count": 108,
          "metadata": {},
          "output_type": "execute_result"
        }
      ]
    },
    {
      "cell_type": "code",
      "metadata": {
        "id": "j6fpROyVM0KE"
      },
      "source": [
        "yelp_users_df['total_compliments'] = yelp_users_df[yelp_users_df.columns[yelp_users_df.columns.to_series().str.contains('compliment')]].sum(axis=1)"
      ],
      "id": "j6fpROyVM0KE",
      "execution_count": null,
      "outputs": []
    },
    {
      "cell_type": "code",
      "metadata": {
        "id": "qLwxBDEgM0KF"
      },
      "source": [
        "def get_user_stats(x):\n",
        "    data = yelp_users_df[yelp_users_df.user_id.isin(x['users'])]\n",
        "    result = x[['business_id']]\n",
        "    result['mean_user_review_counts'] = data.review_count.mean()\n",
        "    result['mean_months_since_yelping'] = data.months_since_yelping.mean()\n",
        "    result['mean_user_fans'] = data.fans.mean()\n",
        "    result['mean_total_compliments'] = data.total_compliments.mean()\n",
        "    return result"
      ],
      "id": "qLwxBDEgM0KF",
      "execution_count": null,
      "outputs": []
    },
    {
      "cell_type": "code",
      "metadata": {
        "colab": {
          "base_uri": "https://localhost:8080/",
          "height": 768
        },
        "id": "0kZXfXSLGpjW",
        "outputId": "66692fcd-2309-4f85-c1a9-2e35cf1f9a3d"
      },
      "source": [
        "yelp_business_df.head()"
      ],
      "id": "0kZXfXSLGpjW",
      "execution_count": null,
      "outputs": [
        {
          "data": {
            "text/html": [
              "<div>\n",
              "<style scoped>\n",
              "    .dataframe tbody tr th:only-of-type {\n",
              "        vertical-align: middle;\n",
              "    }\n",
              "\n",
              "    .dataframe tbody tr th {\n",
              "        vertical-align: top;\n",
              "    }\n",
              "\n",
              "    .dataframe thead th {\n",
              "        text-align: right;\n",
              "    }\n",
              "</style>\n",
              "<table border=\"1\" class=\"dataframe\">\n",
              "  <thead>\n",
              "    <tr style=\"text-align: right;\">\n",
              "      <th></th>\n",
              "      <th>attributes.BYOB</th>\n",
              "      <th>attributes.AcceptsInsurance</th>\n",
              "      <th>attributes.DriveThru</th>\n",
              "      <th>state</th>\n",
              "      <th>attributes.HasTV</th>\n",
              "      <th>attributes.DietaryRestrictions</th>\n",
              "      <th>attributes.RestaurantsCounterService</th>\n",
              "      <th>attributes.Ambience</th>\n",
              "      <th>postal_code</th>\n",
              "      <th>address</th>\n",
              "      <th>attributes.WheelchairAccessible</th>\n",
              "      <th>attributes.HappyHour</th>\n",
              "      <th>attributes.BusinessAcceptsCreditCards</th>\n",
              "      <th>attributes.GoodForDancing</th>\n",
              "      <th>attributes.BusinessAcceptsBitcoin</th>\n",
              "      <th>attributes.NoiseLevel</th>\n",
              "      <th>attributes.HairSpecializesIn</th>\n",
              "      <th>attributes.AgesAllowed</th>\n",
              "      <th>attributes.Smoking</th>\n",
              "      <th>is_open</th>\n",
              "      <th>hours.Saturday</th>\n",
              "      <th>hours.Sunday</th>\n",
              "      <th>attributes.BYOBCorkage</th>\n",
              "      <th>hours.Thursday</th>\n",
              "      <th>hours.Monday</th>\n",
              "      <th>attributes.CoatCheck</th>\n",
              "      <th>attributes.RestaurantsTableService</th>\n",
              "      <th>hours.Friday</th>\n",
              "      <th>city</th>\n",
              "      <th>attributes.BusinessParking</th>\n",
              "      <th>attributes.WiFi</th>\n",
              "      <th>hours.Wednesday</th>\n",
              "      <th>latitude</th>\n",
              "      <th>hours.Tuesday</th>\n",
              "      <th>attributes.GoodForKids</th>\n",
              "      <th>attributes.RestaurantsDelivery</th>\n",
              "      <th>attributes.Open24Hours</th>\n",
              "      <th>attributes.BikeParking</th>\n",
              "      <th>business_id</th>\n",
              "      <th>stars</th>\n",
              "      <th>attributes.OutdoorSeating</th>\n",
              "      <th>longitude</th>\n",
              "      <th>attributes.RestaurantsAttire</th>\n",
              "      <th>hours</th>\n",
              "      <th>attributes.BestNights</th>\n",
              "      <th>attributes.Corkage</th>\n",
              "      <th>categories</th>\n",
              "      <th>review_count</th>\n",
              "      <th>attributes.Alcohol</th>\n",
              "      <th>attributes.RestaurantsPriceRange2</th>\n",
              "      <th>attributes.ByAppointmentOnly</th>\n",
              "      <th>attributes.Music</th>\n",
              "      <th>attributes.RestaurantsReservations</th>\n",
              "      <th>attributes.GoodForMeal</th>\n",
              "      <th>name</th>\n",
              "      <th>attributes</th>\n",
              "      <th>attributes.Caters</th>\n",
              "      <th>attributes.DogsAllowed</th>\n",
              "      <th>attributes.RestaurantsGoodForGroups</th>\n",
              "      <th>attributes.RestaurantsTakeOut</th>\n",
              "      <th>State_Abb</th>\n",
              "      <th>census_region</th>\n",
              "      <th>census_division</th>\n",
              "      <th>state_name</th>\n",
              "      <th>county_name</th>\n",
              "      <th>population</th>\n",
              "      <th>density</th>\n",
              "      <th>military</th>\n",
              "      <th>ranking</th>\n",
              "      <th>zips</th>\n",
              "      <th>users</th>\n",
              "    </tr>\n",
              "  </thead>\n",
              "  <tbody>\n",
              "    <tr>\n",
              "      <th>0</th>\n",
              "      <td>NaN</td>\n",
              "      <td>NaN</td>\n",
              "      <td>NaN</td>\n",
              "      <td>CO</td>\n",
              "      <td>True</td>\n",
              "      <td>NaN</td>\n",
              "      <td>NaN</td>\n",
              "      <td>{'touristy': False, 'hipster': False, 'romanti...</td>\n",
              "      <td>80302</td>\n",
              "      <td>921 pearl st</td>\n",
              "      <td>True</td>\n",
              "      <td>True</td>\n",
              "      <td>True</td>\n",
              "      <td>NaN</td>\n",
              "      <td>False</td>\n",
              "      <td>u'average'</td>\n",
              "      <td>NaN</td>\n",
              "      <td>NaN</td>\n",
              "      <td>NaN</td>\n",
              "      <td>1</td>\n",
              "      <td>11:0-23:0</td>\n",
              "      <td>11:0-23:0</td>\n",
              "      <td>NaN</td>\n",
              "      <td>11:0-23:0</td>\n",
              "      <td>11:0-23:0</td>\n",
              "      <td>NaN</td>\n",
              "      <td>True</td>\n",
              "      <td>11:0-23:0</td>\n",
              "      <td>boulder</td>\n",
              "      <td>{'garage': False, 'street': True, 'validated':...</td>\n",
              "      <td>u'free'</td>\n",
              "      <td>11:0-23:0</td>\n",
              "      <td>40.017544</td>\n",
              "      <td>11:0-23:0</td>\n",
              "      <td>NaN</td>\n",
              "      <td>None</td>\n",
              "      <td>NaN</td>\n",
              "      <td>True</td>\n",
              "      <td>6iYb2HFDywm3zjuRg0shjw</td>\n",
              "      <td>4.0</td>\n",
              "      <td>True</td>\n",
              "      <td>-105.283348</td>\n",
              "      <td>'casual'</td>\n",
              "      <td>{'Monday': '11:0-23:0', 'Tuesday': '11:0-23:0'...</td>\n",
              "      <td>NaN</td>\n",
              "      <td>NaN</td>\n",
              "      <td>gastropubs, food, beer gardens, restaurants, b...</td>\n",
              "      <td>1.934498</td>\n",
              "      <td>'beer_and_wine'</td>\n",
              "      <td>2</td>\n",
              "      <td>NaN</td>\n",
              "      <td>NaN</td>\n",
              "      <td>False</td>\n",
              "      <td>{'dessert': False, 'latenight': False, 'lunch'...</td>\n",
              "      <td>oskar blues taproom</td>\n",
              "      <td>{'RestaurantsTableService': 'True', 'WiFi': \"u...</td>\n",
              "      <td>True</td>\n",
              "      <td>False</td>\n",
              "      <td>True</td>\n",
              "      <td>True</td>\n",
              "      <td>CO</td>\n",
              "      <td>4.0</td>\n",
              "      <td>8.0</td>\n",
              "      <td>Colorado</td>\n",
              "      <td>Boulder</td>\n",
              "      <td>124345.0</td>\n",
              "      <td>1551.0</td>\n",
              "      <td>False</td>\n",
              "      <td>2.0</td>\n",
              "      <td>80310 80304 80305 80302 80303 80301 80307 8030...</td>\n",
              "      <td>[KFEJFhzU3lKEWowFbu6UEw, zulCoemz1-luG1KcCEtJI...</td>\n",
              "    </tr>\n",
              "    <tr>\n",
              "      <th>1</th>\n",
              "      <td>NaN</td>\n",
              "      <td>NaN</td>\n",
              "      <td>NaN</td>\n",
              "      <td>OR</td>\n",
              "      <td>False</td>\n",
              "      <td>NaN</td>\n",
              "      <td>NaN</td>\n",
              "      <td>{'romantic': False, 'intimate': False, 'touris...</td>\n",
              "      <td>97218</td>\n",
              "      <td>7000 ne airport way</td>\n",
              "      <td>NaN</td>\n",
              "      <td>NaN</td>\n",
              "      <td>True</td>\n",
              "      <td>NaN</td>\n",
              "      <td>NaN</td>\n",
              "      <td>u'average'</td>\n",
              "      <td>NaN</td>\n",
              "      <td>NaN</td>\n",
              "      <td>NaN</td>\n",
              "      <td>1</td>\n",
              "      <td>5:0-18:0</td>\n",
              "      <td>5:0-18:0</td>\n",
              "      <td>NaN</td>\n",
              "      <td>5:0-18:0</td>\n",
              "      <td>5:0-18:0</td>\n",
              "      <td>NaN</td>\n",
              "      <td>NaN</td>\n",
              "      <td>5:0-18:0</td>\n",
              "      <td>portland</td>\n",
              "      <td>{'garage': True, 'street': False, 'validated':...</td>\n",
              "      <td>u'free'</td>\n",
              "      <td>5:0-18:0</td>\n",
              "      <td>45.588906</td>\n",
              "      <td>5:0-17:0</td>\n",
              "      <td>True</td>\n",
              "      <td>False</td>\n",
              "      <td>NaN</td>\n",
              "      <td>False</td>\n",
              "      <td>tCbdrRPZA0oiIYSmHG3J0w</td>\n",
              "      <td>4.0</td>\n",
              "      <td>False</td>\n",
              "      <td>-122.593331</td>\n",
              "      <td>u'casual'</td>\n",
              "      <td>{'Monday': '5:0-18:0', 'Tuesday': '5:0-17:0', ...</td>\n",
              "      <td>NaN</td>\n",
              "      <td>NaN</td>\n",
              "      <td>salad, soup, sandwiches, delis, restaurants, c...</td>\n",
              "      <td>2.100371</td>\n",
              "      <td>u'beer_and_wine'</td>\n",
              "      <td>2</td>\n",
              "      <td>False</td>\n",
              "      <td>NaN</td>\n",
              "      <td>False</td>\n",
              "      <td>{'dessert': False, 'latenight': False, 'lunch'...</td>\n",
              "      <td>flying elephants at pdx</td>\n",
              "      <td>{'RestaurantsTakeOut': 'True', 'RestaurantsAtt...</td>\n",
              "      <td>True</td>\n",
              "      <td>NaN</td>\n",
              "      <td>False</td>\n",
              "      <td>True</td>\n",
              "      <td>OR</td>\n",
              "      <td>4.0</td>\n",
              "      <td>9.0</td>\n",
              "      <td>Oregon</td>\n",
              "      <td>Multnomah</td>\n",
              "      <td>2074775.0</td>\n",
              "      <td>1894.0</td>\n",
              "      <td>False</td>\n",
              "      <td>1.0</td>\n",
              "      <td>97227 97221 97220 97229 97203 97202 97201 9720...</td>\n",
              "      <td>[JvQRbZYdMGuuDqTArles2g, KGXEzZqlm9TrO1bLpkgSh...</td>\n",
              "    </tr>\n",
              "    <tr>\n",
              "      <th>2</th>\n",
              "      <td>NaN</td>\n",
              "      <td>NaN</td>\n",
              "      <td>NaN</td>\n",
              "      <td>OH</td>\n",
              "      <td>NaN</td>\n",
              "      <td>NaN</td>\n",
              "      <td>NaN</td>\n",
              "      <td>NaN</td>\n",
              "      <td>43206</td>\n",
              "      <td>740 s high st</td>\n",
              "      <td>NaN</td>\n",
              "      <td>NaN</td>\n",
              "      <td>NaN</td>\n",
              "      <td>NaN</td>\n",
              "      <td>NaN</td>\n",
              "      <td>NaN</td>\n",
              "      <td>NaN</td>\n",
              "      <td>NaN</td>\n",
              "      <td>NaN</td>\n",
              "      <td>1</td>\n",
              "      <td>8:0-14:0</td>\n",
              "      <td>8:0-14:0</td>\n",
              "      <td>NaN</td>\n",
              "      <td>NaN</td>\n",
              "      <td>NaN</td>\n",
              "      <td>NaN</td>\n",
              "      <td>NaN</td>\n",
              "      <td>NaN</td>\n",
              "      <td>columbus</td>\n",
              "      <td>NaN</td>\n",
              "      <td>NaN</td>\n",
              "      <td>NaN</td>\n",
              "      <td>39.947007</td>\n",
              "      <td>NaN</td>\n",
              "      <td>NaN</td>\n",
              "      <td>NaN</td>\n",
              "      <td>NaN</td>\n",
              "      <td>NaN</td>\n",
              "      <td>jFYIsSb7r1QeESVUnXPHBw</td>\n",
              "      <td>4.5</td>\n",
              "      <td>NaN</td>\n",
              "      <td>-82.997471</td>\n",
              "      <td>NaN</td>\n",
              "      <td>{'Saturday': '8:0-14:0', 'Sunday': '8:0-14:0'}</td>\n",
              "      <td>NaN</td>\n",
              "      <td>NaN</td>\n",
              "      <td>breakfast &amp; brunch, restaurants</td>\n",
              "      <td>1.041393</td>\n",
              "      <td>NaN</td>\n",
              "      <td>NaN</td>\n",
              "      <td>NaN</td>\n",
              "      <td>NaN</td>\n",
              "      <td>NaN</td>\n",
              "      <td>NaN</td>\n",
              "      <td>boxwood biscuit</td>\n",
              "      <td>NaN</td>\n",
              "      <td>NaN</td>\n",
              "      <td>NaN</td>\n",
              "      <td>NaN</td>\n",
              "      <td>NaN</td>\n",
              "      <td>OH</td>\n",
              "      <td>2.0</td>\n",
              "      <td>3.0</td>\n",
              "      <td>Ohio</td>\n",
              "      <td>Franklin</td>\n",
              "      <td>1562009.0</td>\n",
              "      <td>1582.0</td>\n",
              "      <td>False</td>\n",
              "      <td>1.0</td>\n",
              "      <td>43026 43109 43054 43220 43221 43222 43223 4322...</td>\n",
              "      <td>[nan, 1Jua4k8nD9izG1Se3FJ7JA, NvHk8zOMVToGSK9c...</td>\n",
              "    </tr>\n",
              "    <tr>\n",
              "      <th>3</th>\n",
              "      <td>NaN</td>\n",
              "      <td>NaN</td>\n",
              "      <td>NaN</td>\n",
              "      <td>CO</td>\n",
              "      <td>NaN</td>\n",
              "      <td>NaN</td>\n",
              "      <td>NaN</td>\n",
              "      <td>NaN</td>\n",
              "      <td>80302</td>\n",
              "      <td>100 clematis dr</td>\n",
              "      <td>True</td>\n",
              "      <td>NaN</td>\n",
              "      <td>True</td>\n",
              "      <td>NaN</td>\n",
              "      <td>False</td>\n",
              "      <td>NaN</td>\n",
              "      <td>NaN</td>\n",
              "      <td>NaN</td>\n",
              "      <td>NaN</td>\n",
              "      <td>1</td>\n",
              "      <td>8:0-20:0</td>\n",
              "      <td>8:0-20:0</td>\n",
              "      <td>NaN</td>\n",
              "      <td>8:0-20:0</td>\n",
              "      <td>8:0-20:0</td>\n",
              "      <td>NaN</td>\n",
              "      <td>NaN</td>\n",
              "      <td>8:0-20:0</td>\n",
              "      <td>boulder</td>\n",
              "      <td>{'garage': False, 'street': True, 'validated':...</td>\n",
              "      <td>NaN</td>\n",
              "      <td>8:0-20:0</td>\n",
              "      <td>39.998449</td>\n",
              "      <td>8:0-20:0</td>\n",
              "      <td>NaN</td>\n",
              "      <td>False</td>\n",
              "      <td>NaN</td>\n",
              "      <td>True</td>\n",
              "      <td>rYs_1pNB_RMtn5WQh55QDA</td>\n",
              "      <td>3.5</td>\n",
              "      <td>NaN</td>\n",
              "      <td>-105.281006</td>\n",
              "      <td>NaN</td>\n",
              "      <td>{'Monday': '8:0-20:0', 'Tuesday': '8:0-20:0', ...</td>\n",
              "      <td>NaN</td>\n",
              "      <td>NaN</td>\n",
              "      <td>food, shopping, convenience stores, souvenir s...</td>\n",
              "      <td>0.698970</td>\n",
              "      <td>NaN</td>\n",
              "      <td>NaN</td>\n",
              "      <td>NaN</td>\n",
              "      <td>NaN</td>\n",
              "      <td>NaN</td>\n",
              "      <td>NaN</td>\n",
              "      <td>chautauqua general store</td>\n",
              "      <td>{'BikeParking': 'True', 'RestaurantsTakeOut': ...</td>\n",
              "      <td>False</td>\n",
              "      <td>True</td>\n",
              "      <td>NaN</td>\n",
              "      <td>True</td>\n",
              "      <td>CO</td>\n",
              "      <td>4.0</td>\n",
              "      <td>8.0</td>\n",
              "      <td>Colorado</td>\n",
              "      <td>Boulder</td>\n",
              "      <td>124345.0</td>\n",
              "      <td>1551.0</td>\n",
              "      <td>False</td>\n",
              "      <td>2.0</td>\n",
              "      <td>80310 80304 80305 80302 80303 80301 80307 8030...</td>\n",
              "      <td>[nan, So1OxJNIZCQBN2AStRCA8Q, AC7VDjPYudKUT13B...</td>\n",
              "    </tr>\n",
              "    <tr>\n",
              "      <th>4</th>\n",
              "      <td>NaN</td>\n",
              "      <td>NaN</td>\n",
              "      <td>NaN</td>\n",
              "      <td>MA</td>\n",
              "      <td>True</td>\n",
              "      <td>NaN</td>\n",
              "      <td>NaN</td>\n",
              "      <td>{'romantic': False, 'intimate': False, 'classy...</td>\n",
              "      <td>01960</td>\n",
              "      <td>474 lowell st</td>\n",
              "      <td>True</td>\n",
              "      <td>NaN</td>\n",
              "      <td>True</td>\n",
              "      <td>NaN</td>\n",
              "      <td>False</td>\n",
              "      <td>'average'</td>\n",
              "      <td>NaN</td>\n",
              "      <td>NaN</td>\n",
              "      <td>NaN</td>\n",
              "      <td>1</td>\n",
              "      <td>11:0-22:0</td>\n",
              "      <td>NaN</td>\n",
              "      <td>NaN</td>\n",
              "      <td>11:0-21:0</td>\n",
              "      <td>11:0-21:0</td>\n",
              "      <td>NaN</td>\n",
              "      <td>False</td>\n",
              "      <td>11:0-22:0</td>\n",
              "      <td>peabody</td>\n",
              "      <td>{'garage': False, 'street': False, 'validated'...</td>\n",
              "      <td>u'free'</td>\n",
              "      <td>11:0-21:0</td>\n",
              "      <td>42.541155</td>\n",
              "      <td>11:0-21:0</td>\n",
              "      <td>True</td>\n",
              "      <td>True</td>\n",
              "      <td>NaN</td>\n",
              "      <td>True</td>\n",
              "      <td>HPA_qyMEddpAEtFof02ixg</td>\n",
              "      <td>4.0</td>\n",
              "      <td>True</td>\n",
              "      <td>-70.973438</td>\n",
              "      <td>u'casual'</td>\n",
              "      <td>{'Monday': '11:0-21:0', 'Tuesday': '11:0-21:0'...</td>\n",
              "      <td>NaN</td>\n",
              "      <td>NaN</td>\n",
              "      <td>food, pizza, restaurants</td>\n",
              "      <td>1.591065</td>\n",
              "      <td>u'none'</td>\n",
              "      <td>2</td>\n",
              "      <td>NaN</td>\n",
              "      <td>NaN</td>\n",
              "      <td>False</td>\n",
              "      <td>NaN</td>\n",
              "      <td>mr g's pizza &amp; subs</td>\n",
              "      <td>{'RestaurantsGoodForGroups': 'True', 'HasTV': ...</td>\n",
              "      <td>True</td>\n",
              "      <td>True</td>\n",
              "      <td>True</td>\n",
              "      <td>True</td>\n",
              "      <td>MA</td>\n",
              "      <td>1.0</td>\n",
              "      <td>1.0</td>\n",
              "      <td>Massachusetts</td>\n",
              "      <td>Essex</td>\n",
              "      <td>53070.0</td>\n",
              "      <td>1262.0</td>\n",
              "      <td>False</td>\n",
              "      <td>3.0</td>\n",
              "      <td>01960 01961</td>\n",
              "      <td>[n6LKHLBr4y4NAs8sUUN1zA, iYJoqK_B1GKvDNv6tc5Ar...</td>\n",
              "    </tr>\n",
              "  </tbody>\n",
              "</table>\n",
              "</div>"
            ],
            "text/plain": [
              "  attributes.BYOB  ...                                              users\n",
              "0             NaN  ...  [KFEJFhzU3lKEWowFbu6UEw, zulCoemz1-luG1KcCEtJI...\n",
              "1             NaN  ...  [JvQRbZYdMGuuDqTArles2g, KGXEzZqlm9TrO1bLpkgSh...\n",
              "2             NaN  ...  [nan, 1Jua4k8nD9izG1Se3FJ7JA, NvHk8zOMVToGSK9c...\n",
              "3             NaN  ...  [nan, So1OxJNIZCQBN2AStRCA8Q, AC7VDjPYudKUT13B...\n",
              "4             NaN  ...  [n6LKHLBr4y4NAs8sUUN1zA, iYJoqK_B1GKvDNv6tc5Ar...\n",
              "\n",
              "[5 rows x 71 columns]"
            ]
          },
          "execution_count": 111,
          "metadata": {},
          "output_type": "execute_result"
        }
      ]
    },
    {
      "cell_type": "code",
      "metadata": {
        "colab": {
          "background_save": true
        },
        "id": "_Z6oZm4lM0KF"
      },
      "source": [
        "yelp_business_df = yelp_business_df.merge(yelp_business_df.apply(get_user_stats, axis=1), left_on='business_id', right_on='business_id', how='left')"
      ],
      "id": "_Z6oZm4lM0KF",
      "execution_count": null,
      "outputs": []
    },
    {
      "cell_type": "code",
      "metadata": {
        "colab": {
          "background_save": true
        },
        "id": "nXZwf9WfM0KF",
        "outputId": "04dd4ca1-80de-4322-e735-c52957086535"
      },
      "source": [
        "yelp_business_df.info()"
      ],
      "id": "nXZwf9WfM0KF",
      "execution_count": null,
      "outputs": [
        {
          "name": "stdout",
          "output_type": "stream",
          "text": [
            "<class 'pandas.core.frame.DataFrame'>\n",
            "Int64Index: 31776 entries, 0 to 31775\n",
            "Data columns (total 75 columns):\n",
            " #   Column                                 Non-Null Count  Dtype   \n",
            "---  ------                                 --------------  -----   \n",
            " 0   attributes.BYOB                        2745 non-null   object  \n",
            " 1   attributes.AcceptsInsurance            54 non-null     object  \n",
            " 2   attributes.DriveThru                   4505 non-null   object  \n",
            " 3   state                                  31776 non-null  object  \n",
            " 4   attributes.HasTV                       21315 non-null  object  \n",
            " 5   attributes.DietaryRestrictions         31 non-null     object  \n",
            " 6   attributes.RestaurantsCounterService   24 non-null     object  \n",
            " 7   attributes.Ambience                    20972 non-null  object  \n",
            " 8   postal_code                            31776 non-null  object  \n",
            " 9   address                                31776 non-null  object  \n",
            " 10  attributes.WheelchairAccessible        10421 non-null  object  \n",
            " 11  attributes.HappyHour                   8730 non-null   object  \n",
            " 12  attributes.BusinessAcceptsCreditCards  29557 non-null  object  \n",
            " 13  attributes.GoodForDancing              2518 non-null   object  \n",
            " 14  attributes.BusinessAcceptsBitcoin      5061 non-null   object  \n",
            " 15  attributes.NoiseLevel                  18010 non-null  object  \n",
            " 16  attributes.HairSpecializesIn           2 non-null      object  \n",
            " 17  attributes.AgesAllowed                 15 non-null     object  \n",
            " 18  attributes.Smoking                     2377 non-null   object  \n",
            " 19  is_open                                31776 non-null  int64   \n",
            " 20  hours.Saturday                         27253 non-null  object  \n",
            " 21  hours.Sunday                           24387 non-null  object  \n",
            " 22  attributes.BYOBCorkage                 1642 non-null   object  \n",
            " 23  hours.Thursday                         27904 non-null  object  \n",
            " 24  hours.Monday                           26021 non-null  object  \n",
            " 25  attributes.CoatCheck                   2987 non-null   object  \n",
            " 26  attributes.RestaurantsTableService     11659 non-null  object  \n",
            " 27  hours.Friday                           28047 non-null  object  \n",
            " 28  city                                   31776 non-null  object  \n",
            " 29  attributes.BusinessParking             28631 non-null  object  \n",
            " 30  attributes.WiFi                        22237 non-null  object  \n",
            " 31  hours.Wednesday                        27464 non-null  object  \n",
            " 32  latitude                               31776 non-null  float64 \n",
            " 33  hours.Tuesday                          26551 non-null  object  \n",
            " 34  attributes.GoodForKids                 20361 non-null  object  \n",
            " 35  attributes.RestaurantsDelivery         27084 non-null  object  \n",
            " 36  attributes.Open24Hours                 20 non-null     object  \n",
            " 37  attributes.BikeParking                 24895 non-null  object  \n",
            " 38  business_id                            31776 non-null  object  \n",
            " 39  stars                                  31776 non-null  category\n",
            " 40  attributes.OutdoorSeating              22844 non-null  object  \n",
            " 41  longitude                              31776 non-null  float64 \n",
            " 42  attributes.RestaurantsAttire           18540 non-null  object  \n",
            " 43  hours                                  28425 non-null  object  \n",
            " 44  attributes.BestNights                  3192 non-null   object  \n",
            " 45  attributes.Corkage                     2562 non-null   object  \n",
            " 46  categories                             31776 non-null  object  \n",
            " 47  review_count                           31776 non-null  float64 \n",
            " 48  attributes.Alcohol                     20382 non-null  object  \n",
            " 49  attributes.RestaurantsPriceRange2      27040 non-null  object  \n",
            " 50  attributes.ByAppointmentOnly           3720 non-null   object  \n",
            " 51  attributes.Music                       3806 non-null   object  \n",
            " 52  attributes.RestaurantsReservations     21344 non-null  object  \n",
            " 53  attributes.GoodForMeal                 17554 non-null  object  \n",
            " 54  name                                   31776 non-null  object  \n",
            " 55  attributes                             31418 non-null  object  \n",
            " 56  attributes.Caters                      22111 non-null  object  \n",
            " 57  attributes.DogsAllowed                 9486 non-null   object  \n",
            " 58  attributes.RestaurantsGoodForGroups    20112 non-null  object  \n",
            " 59  attributes.RestaurantsTakeOut          29084 non-null  object  \n",
            " 60  State_Abb                              31776 non-null  object  \n",
            " 61  census_region                          31776 non-null  float64 \n",
            " 62  census_division                        31776 non-null  float64 \n",
            " 63  state_name                             31776 non-null  object  \n",
            " 64  county_name                            31776 non-null  object  \n",
            " 65  population                             31776 non-null  float64 \n",
            " 66  density                                31776 non-null  float64 \n",
            " 67  military                               31776 non-null  object  \n",
            " 68  ranking                                31776 non-null  float64 \n",
            " 69  zips                                   31776 non-null  object  \n",
            " 70  users                                  31776 non-null  object  \n",
            " 71  mean_user_review_counts                28647 non-null  float64 \n",
            " 72  mean_months_since_yelping              28647 non-null  float64 \n",
            " 73  mean_user_fans                         28647 non-null  float64 \n",
            " 74  mean_total_compliments                 28647 non-null  float64 \n",
            "dtypes: category(1), float64(12), int64(1), object(61)\n",
            "memory usage: 18.2+ MB\n"
          ]
        }
      ]
    },
    {
      "cell_type": "code",
      "metadata": {
        "colab": {
          "background_save": true
        },
        "id": "O3c5IZjbHyOx",
        "outputId": "59a7c51d-fc04-4b80-c461-dc7cc4f98467"
      },
      "source": [
        "yelp_business_df.head()"
      ],
      "id": "O3c5IZjbHyOx",
      "execution_count": null,
      "outputs": [
        {
          "data": {
            "text/html": [
              "<div>\n",
              "<style scoped>\n",
              "    .dataframe tbody tr th:only-of-type {\n",
              "        vertical-align: middle;\n",
              "    }\n",
              "\n",
              "    .dataframe tbody tr th {\n",
              "        vertical-align: top;\n",
              "    }\n",
              "\n",
              "    .dataframe thead th {\n",
              "        text-align: right;\n",
              "    }\n",
              "</style>\n",
              "<table border=\"1\" class=\"dataframe\">\n",
              "  <thead>\n",
              "    <tr style=\"text-align: right;\">\n",
              "      <th></th>\n",
              "      <th>attributes.BYOB</th>\n",
              "      <th>attributes.AcceptsInsurance</th>\n",
              "      <th>attributes.DriveThru</th>\n",
              "      <th>state</th>\n",
              "      <th>attributes.HasTV</th>\n",
              "      <th>attributes.DietaryRestrictions</th>\n",
              "      <th>attributes.RestaurantsCounterService</th>\n",
              "      <th>attributes.Ambience</th>\n",
              "      <th>postal_code</th>\n",
              "      <th>address</th>\n",
              "      <th>attributes.WheelchairAccessible</th>\n",
              "      <th>attributes.HappyHour</th>\n",
              "      <th>attributes.BusinessAcceptsCreditCards</th>\n",
              "      <th>attributes.GoodForDancing</th>\n",
              "      <th>attributes.BusinessAcceptsBitcoin</th>\n",
              "      <th>attributes.NoiseLevel</th>\n",
              "      <th>attributes.HairSpecializesIn</th>\n",
              "      <th>attributes.AgesAllowed</th>\n",
              "      <th>attributes.Smoking</th>\n",
              "      <th>is_open</th>\n",
              "      <th>hours.Saturday</th>\n",
              "      <th>hours.Sunday</th>\n",
              "      <th>attributes.BYOBCorkage</th>\n",
              "      <th>hours.Thursday</th>\n",
              "      <th>hours.Monday</th>\n",
              "      <th>attributes.CoatCheck</th>\n",
              "      <th>attributes.RestaurantsTableService</th>\n",
              "      <th>hours.Friday</th>\n",
              "      <th>city</th>\n",
              "      <th>attributes.BusinessParking</th>\n",
              "      <th>attributes.WiFi</th>\n",
              "      <th>hours.Wednesday</th>\n",
              "      <th>latitude</th>\n",
              "      <th>hours.Tuesday</th>\n",
              "      <th>attributes.GoodForKids</th>\n",
              "      <th>attributes.RestaurantsDelivery</th>\n",
              "      <th>attributes.Open24Hours</th>\n",
              "      <th>attributes.BikeParking</th>\n",
              "      <th>business_id</th>\n",
              "      <th>stars</th>\n",
              "      <th>attributes.OutdoorSeating</th>\n",
              "      <th>longitude</th>\n",
              "      <th>attributes.RestaurantsAttire</th>\n",
              "      <th>hours</th>\n",
              "      <th>attributes.BestNights</th>\n",
              "      <th>attributes.Corkage</th>\n",
              "      <th>categories</th>\n",
              "      <th>review_count</th>\n",
              "      <th>attributes.Alcohol</th>\n",
              "      <th>attributes.RestaurantsPriceRange2</th>\n",
              "      <th>attributes.ByAppointmentOnly</th>\n",
              "      <th>attributes.Music</th>\n",
              "      <th>attributes.RestaurantsReservations</th>\n",
              "      <th>attributes.GoodForMeal</th>\n",
              "      <th>name</th>\n",
              "      <th>attributes</th>\n",
              "      <th>attributes.Caters</th>\n",
              "      <th>attributes.DogsAllowed</th>\n",
              "      <th>attributes.RestaurantsGoodForGroups</th>\n",
              "      <th>attributes.RestaurantsTakeOut</th>\n",
              "      <th>State_Abb</th>\n",
              "      <th>census_region</th>\n",
              "      <th>census_division</th>\n",
              "      <th>state_name</th>\n",
              "      <th>county_name</th>\n",
              "      <th>population</th>\n",
              "      <th>density</th>\n",
              "      <th>military</th>\n",
              "      <th>ranking</th>\n",
              "      <th>zips</th>\n",
              "      <th>users</th>\n",
              "      <th>mean_user_review_counts</th>\n",
              "      <th>mean_months_since_yelping</th>\n",
              "      <th>mean_user_fans</th>\n",
              "      <th>mean_total_compliments</th>\n",
              "    </tr>\n",
              "  </thead>\n",
              "  <tbody>\n",
              "    <tr>\n",
              "      <th>0</th>\n",
              "      <td>NaN</td>\n",
              "      <td>NaN</td>\n",
              "      <td>NaN</td>\n",
              "      <td>CO</td>\n",
              "      <td>True</td>\n",
              "      <td>NaN</td>\n",
              "      <td>NaN</td>\n",
              "      <td>{'touristy': False, 'hipster': False, 'romanti...</td>\n",
              "      <td>80302</td>\n",
              "      <td>921 pearl st</td>\n",
              "      <td>True</td>\n",
              "      <td>True</td>\n",
              "      <td>True</td>\n",
              "      <td>NaN</td>\n",
              "      <td>False</td>\n",
              "      <td>u'average'</td>\n",
              "      <td>NaN</td>\n",
              "      <td>NaN</td>\n",
              "      <td>NaN</td>\n",
              "      <td>1</td>\n",
              "      <td>11:0-23:0</td>\n",
              "      <td>11:0-23:0</td>\n",
              "      <td>NaN</td>\n",
              "      <td>11:0-23:0</td>\n",
              "      <td>11:0-23:0</td>\n",
              "      <td>NaN</td>\n",
              "      <td>True</td>\n",
              "      <td>11:0-23:0</td>\n",
              "      <td>boulder</td>\n",
              "      <td>{'garage': False, 'street': True, 'validated':...</td>\n",
              "      <td>u'free'</td>\n",
              "      <td>11:0-23:0</td>\n",
              "      <td>40.017544</td>\n",
              "      <td>11:0-23:0</td>\n",
              "      <td>NaN</td>\n",
              "      <td>None</td>\n",
              "      <td>NaN</td>\n",
              "      <td>True</td>\n",
              "      <td>6iYb2HFDywm3zjuRg0shjw</td>\n",
              "      <td>4.0</td>\n",
              "      <td>True</td>\n",
              "      <td>-105.283348</td>\n",
              "      <td>'casual'</td>\n",
              "      <td>{'Monday': '11:0-23:0', 'Tuesday': '11:0-23:0'...</td>\n",
              "      <td>NaN</td>\n",
              "      <td>NaN</td>\n",
              "      <td>gastropubs, food, beer gardens, restaurants, b...</td>\n",
              "      <td>1.934498</td>\n",
              "      <td>'beer_and_wine'</td>\n",
              "      <td>2</td>\n",
              "      <td>NaN</td>\n",
              "      <td>NaN</td>\n",
              "      <td>False</td>\n",
              "      <td>{'dessert': False, 'latenight': False, 'lunch'...</td>\n",
              "      <td>oskar blues taproom</td>\n",
              "      <td>{'RestaurantsTableService': 'True', 'WiFi': \"u...</td>\n",
              "      <td>True</td>\n",
              "      <td>False</td>\n",
              "      <td>True</td>\n",
              "      <td>True</td>\n",
              "      <td>CO</td>\n",
              "      <td>4.0</td>\n",
              "      <td>8.0</td>\n",
              "      <td>Colorado</td>\n",
              "      <td>Boulder</td>\n",
              "      <td>124345.0</td>\n",
              "      <td>1551.0</td>\n",
              "      <td>False</td>\n",
              "      <td>2.0</td>\n",
              "      <td>80310 80304 80305 80302 80303 80301 80307 8030...</td>\n",
              "      <td>[KFEJFhzU3lKEWowFbu6UEw, zulCoemz1-luG1KcCEtJI...</td>\n",
              "      <td>52.558824</td>\n",
              "      <td>96.966861</td>\n",
              "      <td>1.970588</td>\n",
              "      <td>14.323529</td>\n",
              "    </tr>\n",
              "    <tr>\n",
              "      <th>1</th>\n",
              "      <td>NaN</td>\n",
              "      <td>NaN</td>\n",
              "      <td>NaN</td>\n",
              "      <td>OR</td>\n",
              "      <td>False</td>\n",
              "      <td>NaN</td>\n",
              "      <td>NaN</td>\n",
              "      <td>{'romantic': False, 'intimate': False, 'touris...</td>\n",
              "      <td>97218</td>\n",
              "      <td>7000 ne airport way</td>\n",
              "      <td>NaN</td>\n",
              "      <td>NaN</td>\n",
              "      <td>True</td>\n",
              "      <td>NaN</td>\n",
              "      <td>NaN</td>\n",
              "      <td>u'average'</td>\n",
              "      <td>NaN</td>\n",
              "      <td>NaN</td>\n",
              "      <td>NaN</td>\n",
              "      <td>1</td>\n",
              "      <td>5:0-18:0</td>\n",
              "      <td>5:0-18:0</td>\n",
              "      <td>NaN</td>\n",
              "      <td>5:0-18:0</td>\n",
              "      <td>5:0-18:0</td>\n",
              "      <td>NaN</td>\n",
              "      <td>NaN</td>\n",
              "      <td>5:0-18:0</td>\n",
              "      <td>portland</td>\n",
              "      <td>{'garage': True, 'street': False, 'validated':...</td>\n",
              "      <td>u'free'</td>\n",
              "      <td>5:0-18:0</td>\n",
              "      <td>45.588906</td>\n",
              "      <td>5:0-17:0</td>\n",
              "      <td>True</td>\n",
              "      <td>False</td>\n",
              "      <td>NaN</td>\n",
              "      <td>False</td>\n",
              "      <td>tCbdrRPZA0oiIYSmHG3J0w</td>\n",
              "      <td>4.0</td>\n",
              "      <td>False</td>\n",
              "      <td>-122.593331</td>\n",
              "      <td>u'casual'</td>\n",
              "      <td>{'Monday': '5:0-18:0', 'Tuesday': '5:0-17:0', ...</td>\n",
              "      <td>NaN</td>\n",
              "      <td>NaN</td>\n",
              "      <td>salad, soup, sandwiches, delis, restaurants, c...</td>\n",
              "      <td>2.100371</td>\n",
              "      <td>u'beer_and_wine'</td>\n",
              "      <td>2</td>\n",
              "      <td>False</td>\n",
              "      <td>NaN</td>\n",
              "      <td>False</td>\n",
              "      <td>{'dessert': False, 'latenight': False, 'lunch'...</td>\n",
              "      <td>flying elephants at pdx</td>\n",
              "      <td>{'RestaurantsTakeOut': 'True', 'RestaurantsAtt...</td>\n",
              "      <td>True</td>\n",
              "      <td>NaN</td>\n",
              "      <td>False</td>\n",
              "      <td>True</td>\n",
              "      <td>OR</td>\n",
              "      <td>4.0</td>\n",
              "      <td>9.0</td>\n",
              "      <td>Oregon</td>\n",
              "      <td>Multnomah</td>\n",
              "      <td>2074775.0</td>\n",
              "      <td>1894.0</td>\n",
              "      <td>False</td>\n",
              "      <td>1.0</td>\n",
              "      <td>97227 97221 97220 97229 97203 97202 97201 9720...</td>\n",
              "      <td>[JvQRbZYdMGuuDqTArles2g, KGXEzZqlm9TrO1bLpkgSh...</td>\n",
              "      <td>309.323529</td>\n",
              "      <td>124.540193</td>\n",
              "      <td>25.843137</td>\n",
              "      <td>625.107843</td>\n",
              "    </tr>\n",
              "    <tr>\n",
              "      <th>2</th>\n",
              "      <td>NaN</td>\n",
              "      <td>NaN</td>\n",
              "      <td>NaN</td>\n",
              "      <td>OH</td>\n",
              "      <td>NaN</td>\n",
              "      <td>NaN</td>\n",
              "      <td>NaN</td>\n",
              "      <td>NaN</td>\n",
              "      <td>43206</td>\n",
              "      <td>740 s high st</td>\n",
              "      <td>NaN</td>\n",
              "      <td>NaN</td>\n",
              "      <td>NaN</td>\n",
              "      <td>NaN</td>\n",
              "      <td>NaN</td>\n",
              "      <td>NaN</td>\n",
              "      <td>NaN</td>\n",
              "      <td>NaN</td>\n",
              "      <td>NaN</td>\n",
              "      <td>1</td>\n",
              "      <td>8:0-14:0</td>\n",
              "      <td>8:0-14:0</td>\n",
              "      <td>NaN</td>\n",
              "      <td>NaN</td>\n",
              "      <td>NaN</td>\n",
              "      <td>NaN</td>\n",
              "      <td>NaN</td>\n",
              "      <td>NaN</td>\n",
              "      <td>columbus</td>\n",
              "      <td>NaN</td>\n",
              "      <td>NaN</td>\n",
              "      <td>NaN</td>\n",
              "      <td>39.947007</td>\n",
              "      <td>NaN</td>\n",
              "      <td>NaN</td>\n",
              "      <td>NaN</td>\n",
              "      <td>NaN</td>\n",
              "      <td>NaN</td>\n",
              "      <td>jFYIsSb7r1QeESVUnXPHBw</td>\n",
              "      <td>4.5</td>\n",
              "      <td>NaN</td>\n",
              "      <td>-82.997471</td>\n",
              "      <td>NaN</td>\n",
              "      <td>{'Saturday': '8:0-14:0', 'Sunday': '8:0-14:0'}</td>\n",
              "      <td>NaN</td>\n",
              "      <td>NaN</td>\n",
              "      <td>breakfast &amp; brunch, restaurants</td>\n",
              "      <td>1.041393</td>\n",
              "      <td>NaN</td>\n",
              "      <td>NaN</td>\n",
              "      <td>NaN</td>\n",
              "      <td>NaN</td>\n",
              "      <td>NaN</td>\n",
              "      <td>NaN</td>\n",
              "      <td>boxwood biscuit</td>\n",
              "      <td>NaN</td>\n",
              "      <td>NaN</td>\n",
              "      <td>NaN</td>\n",
              "      <td>NaN</td>\n",
              "      <td>NaN</td>\n",
              "      <td>OH</td>\n",
              "      <td>2.0</td>\n",
              "      <td>3.0</td>\n",
              "      <td>Ohio</td>\n",
              "      <td>Franklin</td>\n",
              "      <td>1562009.0</td>\n",
              "      <td>1582.0</td>\n",
              "      <td>False</td>\n",
              "      <td>1.0</td>\n",
              "      <td>43026 43109 43054 43220 43221 43222 43223 4322...</td>\n",
              "      <td>[nan, 1Jua4k8nD9izG1Se3FJ7JA, NvHk8zOMVToGSK9c...</td>\n",
              "      <td>148.500000</td>\n",
              "      <td>51.815782</td>\n",
              "      <td>4.500000</td>\n",
              "      <td>30.000000</td>\n",
              "    </tr>\n",
              "    <tr>\n",
              "      <th>3</th>\n",
              "      <td>NaN</td>\n",
              "      <td>NaN</td>\n",
              "      <td>NaN</td>\n",
              "      <td>CO</td>\n",
              "      <td>NaN</td>\n",
              "      <td>NaN</td>\n",
              "      <td>NaN</td>\n",
              "      <td>NaN</td>\n",
              "      <td>80302</td>\n",
              "      <td>100 clematis dr</td>\n",
              "      <td>True</td>\n",
              "      <td>NaN</td>\n",
              "      <td>True</td>\n",
              "      <td>NaN</td>\n",
              "      <td>False</td>\n",
              "      <td>NaN</td>\n",
              "      <td>NaN</td>\n",
              "      <td>NaN</td>\n",
              "      <td>NaN</td>\n",
              "      <td>1</td>\n",
              "      <td>8:0-20:0</td>\n",
              "      <td>8:0-20:0</td>\n",
              "      <td>NaN</td>\n",
              "      <td>8:0-20:0</td>\n",
              "      <td>8:0-20:0</td>\n",
              "      <td>NaN</td>\n",
              "      <td>NaN</td>\n",
              "      <td>8:0-20:0</td>\n",
              "      <td>boulder</td>\n",
              "      <td>{'garage': False, 'street': True, 'validated':...</td>\n",
              "      <td>NaN</td>\n",
              "      <td>8:0-20:0</td>\n",
              "      <td>39.998449</td>\n",
              "      <td>8:0-20:0</td>\n",
              "      <td>NaN</td>\n",
              "      <td>False</td>\n",
              "      <td>NaN</td>\n",
              "      <td>True</td>\n",
              "      <td>rYs_1pNB_RMtn5WQh55QDA</td>\n",
              "      <td>3.5</td>\n",
              "      <td>NaN</td>\n",
              "      <td>-105.281006</td>\n",
              "      <td>NaN</td>\n",
              "      <td>{'Monday': '8:0-20:0', 'Tuesday': '8:0-20:0', ...</td>\n",
              "      <td>NaN</td>\n",
              "      <td>NaN</td>\n",
              "      <td>food, shopping, convenience stores, souvenir s...</td>\n",
              "      <td>0.698970</td>\n",
              "      <td>NaN</td>\n",
              "      <td>NaN</td>\n",
              "      <td>NaN</td>\n",
              "      <td>NaN</td>\n",
              "      <td>NaN</td>\n",
              "      <td>NaN</td>\n",
              "      <td>chautauqua general store</td>\n",
              "      <td>{'BikeParking': 'True', 'RestaurantsTakeOut': ...</td>\n",
              "      <td>False</td>\n",
              "      <td>True</td>\n",
              "      <td>NaN</td>\n",
              "      <td>True</td>\n",
              "      <td>CO</td>\n",
              "      <td>4.0</td>\n",
              "      <td>8.0</td>\n",
              "      <td>Colorado</td>\n",
              "      <td>Boulder</td>\n",
              "      <td>124345.0</td>\n",
              "      <td>1551.0</td>\n",
              "      <td>False</td>\n",
              "      <td>2.0</td>\n",
              "      <td>80310 80304 80305 80302 80303 80301 80307 8030...</td>\n",
              "      <td>[nan, So1OxJNIZCQBN2AStRCA8Q, AC7VDjPYudKUT13B...</td>\n",
              "      <td>62.500000</td>\n",
              "      <td>118.295485</td>\n",
              "      <td>2.000000</td>\n",
              "      <td>0.500000</td>\n",
              "    </tr>\n",
              "    <tr>\n",
              "      <th>4</th>\n",
              "      <td>NaN</td>\n",
              "      <td>NaN</td>\n",
              "      <td>NaN</td>\n",
              "      <td>MA</td>\n",
              "      <td>True</td>\n",
              "      <td>NaN</td>\n",
              "      <td>NaN</td>\n",
              "      <td>{'romantic': False, 'intimate': False, 'classy...</td>\n",
              "      <td>01960</td>\n",
              "      <td>474 lowell st</td>\n",
              "      <td>True</td>\n",
              "      <td>NaN</td>\n",
              "      <td>True</td>\n",
              "      <td>NaN</td>\n",
              "      <td>False</td>\n",
              "      <td>'average'</td>\n",
              "      <td>NaN</td>\n",
              "      <td>NaN</td>\n",
              "      <td>NaN</td>\n",
              "      <td>1</td>\n",
              "      <td>11:0-22:0</td>\n",
              "      <td>NaN</td>\n",
              "      <td>NaN</td>\n",
              "      <td>11:0-21:0</td>\n",
              "      <td>11:0-21:0</td>\n",
              "      <td>NaN</td>\n",
              "      <td>False</td>\n",
              "      <td>11:0-22:0</td>\n",
              "      <td>peabody</td>\n",
              "      <td>{'garage': False, 'street': False, 'validated'...</td>\n",
              "      <td>u'free'</td>\n",
              "      <td>11:0-21:0</td>\n",
              "      <td>42.541155</td>\n",
              "      <td>11:0-21:0</td>\n",
              "      <td>True</td>\n",
              "      <td>True</td>\n",
              "      <td>NaN</td>\n",
              "      <td>True</td>\n",
              "      <td>HPA_qyMEddpAEtFof02ixg</td>\n",
              "      <td>4.0</td>\n",
              "      <td>True</td>\n",
              "      <td>-70.973438</td>\n",
              "      <td>u'casual'</td>\n",
              "      <td>{'Monday': '11:0-21:0', 'Tuesday': '11:0-21:0'...</td>\n",
              "      <td>NaN</td>\n",
              "      <td>NaN</td>\n",
              "      <td>food, pizza, restaurants</td>\n",
              "      <td>1.591065</td>\n",
              "      <td>u'none'</td>\n",
              "      <td>2</td>\n",
              "      <td>NaN</td>\n",
              "      <td>NaN</td>\n",
              "      <td>False</td>\n",
              "      <td>NaN</td>\n",
              "      <td>mr g's pizza &amp; subs</td>\n",
              "      <td>{'RestaurantsGoodForGroups': 'True', 'HasTV': ...</td>\n",
              "      <td>True</td>\n",
              "      <td>True</td>\n",
              "      <td>True</td>\n",
              "      <td>True</td>\n",
              "      <td>MA</td>\n",
              "      <td>1.0</td>\n",
              "      <td>1.0</td>\n",
              "      <td>Massachusetts</td>\n",
              "      <td>Essex</td>\n",
              "      <td>53070.0</td>\n",
              "      <td>1262.0</td>\n",
              "      <td>False</td>\n",
              "      <td>3.0</td>\n",
              "      <td>01960 01961</td>\n",
              "      <td>[n6LKHLBr4y4NAs8sUUN1zA, iYJoqK_B1GKvDNv6tc5Ar...</td>\n",
              "      <td>63.916667</td>\n",
              "      <td>112.956969</td>\n",
              "      <td>5.291667</td>\n",
              "      <td>67.416667</td>\n",
              "    </tr>\n",
              "  </tbody>\n",
              "</table>\n",
              "</div>"
            ],
            "text/plain": [
              "  attributes.BYOB  ... mean_total_compliments\n",
              "0             NaN  ...              14.323529\n",
              "1             NaN  ...             625.107843\n",
              "2             NaN  ...              30.000000\n",
              "3             NaN  ...               0.500000\n",
              "4             NaN  ...              67.416667\n",
              "\n",
              "[5 rows x 75 columns]"
            ]
          },
          "execution_count": null,
          "metadata": {},
          "output_type": "execute_result"
        }
      ]
    },
    {
      "cell_type": "markdown",
      "metadata": {
        "id": "ORojg-IsM0KF"
      },
      "source": [
        "# Writing out cleaned data"
      ],
      "id": "ORojg-IsM0KF"
    },
    {
      "cell_type": "code",
      "metadata": {
        "colab": {
          "background_save": true
        },
        "id": "Uxv8uBCMM0KF"
      },
      "source": [
        "cleaned_cols = ['stars', 'business_id', 'name', 'city', 'state', \n",
        "                'postal_code', 'latitude', 'longitude',\n",
        "               'categories', 'review_count', 'mean_user_review_counts', \n",
        "                'mean_months_since_yelping', 'mean_user_fans', 'mean_total_compliments']"
      ],
      "id": "Uxv8uBCMM0KF",
      "execution_count": null,
      "outputs": []
    },
    {
      "cell_type": "code",
      "metadata": {
        "colab": {
          "background_save": true
        },
        "id": "9BqCi7BShONV",
        "outputId": "21efaa2b-3f9d-43a5-a420-669c6cd381f8"
      },
      "source": [
        "yelp_business_df.head()"
      ],
      "id": "9BqCi7BShONV",
      "execution_count": null,
      "outputs": [
        {
          "data": {
            "text/html": [
              "<div>\n",
              "<style scoped>\n",
              "    .dataframe tbody tr th:only-of-type {\n",
              "        vertical-align: middle;\n",
              "    }\n",
              "\n",
              "    .dataframe tbody tr th {\n",
              "        vertical-align: top;\n",
              "    }\n",
              "\n",
              "    .dataframe thead th {\n",
              "        text-align: right;\n",
              "    }\n",
              "</style>\n",
              "<table border=\"1\" class=\"dataframe\">\n",
              "  <thead>\n",
              "    <tr style=\"text-align: right;\">\n",
              "      <th></th>\n",
              "      <th>attributes.BYOB</th>\n",
              "      <th>attributes.AcceptsInsurance</th>\n",
              "      <th>attributes.DriveThru</th>\n",
              "      <th>state</th>\n",
              "      <th>attributes.HasTV</th>\n",
              "      <th>attributes.DietaryRestrictions</th>\n",
              "      <th>attributes.RestaurantsCounterService</th>\n",
              "      <th>attributes.Ambience</th>\n",
              "      <th>postal_code</th>\n",
              "      <th>address</th>\n",
              "      <th>attributes.WheelchairAccessible</th>\n",
              "      <th>attributes.HappyHour</th>\n",
              "      <th>attributes.BusinessAcceptsCreditCards</th>\n",
              "      <th>attributes.GoodForDancing</th>\n",
              "      <th>attributes.BusinessAcceptsBitcoin</th>\n",
              "      <th>attributes.NoiseLevel</th>\n",
              "      <th>attributes.HairSpecializesIn</th>\n",
              "      <th>attributes.AgesAllowed</th>\n",
              "      <th>attributes.Smoking</th>\n",
              "      <th>is_open</th>\n",
              "      <th>hours.Saturday</th>\n",
              "      <th>hours.Sunday</th>\n",
              "      <th>attributes.BYOBCorkage</th>\n",
              "      <th>hours.Thursday</th>\n",
              "      <th>hours.Monday</th>\n",
              "      <th>attributes.CoatCheck</th>\n",
              "      <th>attributes.RestaurantsTableService</th>\n",
              "      <th>hours.Friday</th>\n",
              "      <th>city</th>\n",
              "      <th>attributes.BusinessParking</th>\n",
              "      <th>attributes.WiFi</th>\n",
              "      <th>hours.Wednesday</th>\n",
              "      <th>latitude</th>\n",
              "      <th>hours.Tuesday</th>\n",
              "      <th>attributes.GoodForKids</th>\n",
              "      <th>attributes.RestaurantsDelivery</th>\n",
              "      <th>attributes.Open24Hours</th>\n",
              "      <th>attributes.BikeParking</th>\n",
              "      <th>business_id</th>\n",
              "      <th>stars</th>\n",
              "      <th>attributes.OutdoorSeating</th>\n",
              "      <th>longitude</th>\n",
              "      <th>attributes.RestaurantsAttire</th>\n",
              "      <th>hours</th>\n",
              "      <th>attributes.BestNights</th>\n",
              "      <th>attributes.Corkage</th>\n",
              "      <th>categories</th>\n",
              "      <th>review_count</th>\n",
              "      <th>attributes.Alcohol</th>\n",
              "      <th>attributes.RestaurantsPriceRange2</th>\n",
              "      <th>attributes.ByAppointmentOnly</th>\n",
              "      <th>attributes.Music</th>\n",
              "      <th>attributes.RestaurantsReservations</th>\n",
              "      <th>attributes.GoodForMeal</th>\n",
              "      <th>name</th>\n",
              "      <th>attributes</th>\n",
              "      <th>attributes.Caters</th>\n",
              "      <th>attributes.DogsAllowed</th>\n",
              "      <th>attributes.RestaurantsGoodForGroups</th>\n",
              "      <th>attributes.RestaurantsTakeOut</th>\n",
              "      <th>State_Abb</th>\n",
              "      <th>census_region</th>\n",
              "      <th>census_division</th>\n",
              "      <th>state_name</th>\n",
              "      <th>county_name</th>\n",
              "      <th>population</th>\n",
              "      <th>density</th>\n",
              "      <th>military</th>\n",
              "      <th>ranking</th>\n",
              "      <th>zips</th>\n",
              "      <th>users</th>\n",
              "      <th>mean_user_review_counts</th>\n",
              "      <th>mean_months_since_yelping</th>\n",
              "      <th>mean_user_fans</th>\n",
              "      <th>mean_total_compliments</th>\n",
              "    </tr>\n",
              "  </thead>\n",
              "  <tbody>\n",
              "    <tr>\n",
              "      <th>0</th>\n",
              "      <td>NaN</td>\n",
              "      <td>NaN</td>\n",
              "      <td>NaN</td>\n",
              "      <td>CO</td>\n",
              "      <td>True</td>\n",
              "      <td>NaN</td>\n",
              "      <td>NaN</td>\n",
              "      <td>{'touristy': False, 'hipster': False, 'romanti...</td>\n",
              "      <td>80302</td>\n",
              "      <td>921 pearl st</td>\n",
              "      <td>True</td>\n",
              "      <td>True</td>\n",
              "      <td>True</td>\n",
              "      <td>NaN</td>\n",
              "      <td>False</td>\n",
              "      <td>u'average'</td>\n",
              "      <td>NaN</td>\n",
              "      <td>NaN</td>\n",
              "      <td>NaN</td>\n",
              "      <td>1</td>\n",
              "      <td>11:0-23:0</td>\n",
              "      <td>11:0-23:0</td>\n",
              "      <td>NaN</td>\n",
              "      <td>11:0-23:0</td>\n",
              "      <td>11:0-23:0</td>\n",
              "      <td>NaN</td>\n",
              "      <td>True</td>\n",
              "      <td>11:0-23:0</td>\n",
              "      <td>boulder</td>\n",
              "      <td>{'garage': False, 'street': True, 'validated':...</td>\n",
              "      <td>u'free'</td>\n",
              "      <td>11:0-23:0</td>\n",
              "      <td>40.017544</td>\n",
              "      <td>11:0-23:0</td>\n",
              "      <td>NaN</td>\n",
              "      <td>None</td>\n",
              "      <td>NaN</td>\n",
              "      <td>True</td>\n",
              "      <td>6iYb2HFDywm3zjuRg0shjw</td>\n",
              "      <td>4.0</td>\n",
              "      <td>True</td>\n",
              "      <td>-105.283348</td>\n",
              "      <td>'casual'</td>\n",
              "      <td>{'Monday': '11:0-23:0', 'Tuesday': '11:0-23:0'...</td>\n",
              "      <td>NaN</td>\n",
              "      <td>NaN</td>\n",
              "      <td>gastropubs, food, beer gardens, restaurants, b...</td>\n",
              "      <td>1.934498</td>\n",
              "      <td>'beer_and_wine'</td>\n",
              "      <td>2</td>\n",
              "      <td>NaN</td>\n",
              "      <td>NaN</td>\n",
              "      <td>False</td>\n",
              "      <td>{'dessert': False, 'latenight': False, 'lunch'...</td>\n",
              "      <td>oskar blues taproom</td>\n",
              "      <td>{'RestaurantsTableService': 'True', 'WiFi': \"u...</td>\n",
              "      <td>True</td>\n",
              "      <td>False</td>\n",
              "      <td>True</td>\n",
              "      <td>True</td>\n",
              "      <td>CO</td>\n",
              "      <td>4.0</td>\n",
              "      <td>8.0</td>\n",
              "      <td>Colorado</td>\n",
              "      <td>Boulder</td>\n",
              "      <td>124345.0</td>\n",
              "      <td>1551.0</td>\n",
              "      <td>False</td>\n",
              "      <td>2.0</td>\n",
              "      <td>80310 80304 80305 80302 80303 80301 80307 8030...</td>\n",
              "      <td>[KFEJFhzU3lKEWowFbu6UEw, zulCoemz1-luG1KcCEtJI...</td>\n",
              "      <td>52.558824</td>\n",
              "      <td>96.966861</td>\n",
              "      <td>1.970588</td>\n",
              "      <td>14.323529</td>\n",
              "    </tr>\n",
              "    <tr>\n",
              "      <th>1</th>\n",
              "      <td>NaN</td>\n",
              "      <td>NaN</td>\n",
              "      <td>NaN</td>\n",
              "      <td>OR</td>\n",
              "      <td>False</td>\n",
              "      <td>NaN</td>\n",
              "      <td>NaN</td>\n",
              "      <td>{'romantic': False, 'intimate': False, 'touris...</td>\n",
              "      <td>97218</td>\n",
              "      <td>7000 ne airport way</td>\n",
              "      <td>NaN</td>\n",
              "      <td>NaN</td>\n",
              "      <td>True</td>\n",
              "      <td>NaN</td>\n",
              "      <td>NaN</td>\n",
              "      <td>u'average'</td>\n",
              "      <td>NaN</td>\n",
              "      <td>NaN</td>\n",
              "      <td>NaN</td>\n",
              "      <td>1</td>\n",
              "      <td>5:0-18:0</td>\n",
              "      <td>5:0-18:0</td>\n",
              "      <td>NaN</td>\n",
              "      <td>5:0-18:0</td>\n",
              "      <td>5:0-18:0</td>\n",
              "      <td>NaN</td>\n",
              "      <td>NaN</td>\n",
              "      <td>5:0-18:0</td>\n",
              "      <td>portland</td>\n",
              "      <td>{'garage': True, 'street': False, 'validated':...</td>\n",
              "      <td>u'free'</td>\n",
              "      <td>5:0-18:0</td>\n",
              "      <td>45.588906</td>\n",
              "      <td>5:0-17:0</td>\n",
              "      <td>True</td>\n",
              "      <td>False</td>\n",
              "      <td>NaN</td>\n",
              "      <td>False</td>\n",
              "      <td>tCbdrRPZA0oiIYSmHG3J0w</td>\n",
              "      <td>4.0</td>\n",
              "      <td>False</td>\n",
              "      <td>-122.593331</td>\n",
              "      <td>u'casual'</td>\n",
              "      <td>{'Monday': '5:0-18:0', 'Tuesday': '5:0-17:0', ...</td>\n",
              "      <td>NaN</td>\n",
              "      <td>NaN</td>\n",
              "      <td>salad, soup, sandwiches, delis, restaurants, c...</td>\n",
              "      <td>2.100371</td>\n",
              "      <td>u'beer_and_wine'</td>\n",
              "      <td>2</td>\n",
              "      <td>False</td>\n",
              "      <td>NaN</td>\n",
              "      <td>False</td>\n",
              "      <td>{'dessert': False, 'latenight': False, 'lunch'...</td>\n",
              "      <td>flying elephants at pdx</td>\n",
              "      <td>{'RestaurantsTakeOut': 'True', 'RestaurantsAtt...</td>\n",
              "      <td>True</td>\n",
              "      <td>NaN</td>\n",
              "      <td>False</td>\n",
              "      <td>True</td>\n",
              "      <td>OR</td>\n",
              "      <td>4.0</td>\n",
              "      <td>9.0</td>\n",
              "      <td>Oregon</td>\n",
              "      <td>Multnomah</td>\n",
              "      <td>2074775.0</td>\n",
              "      <td>1894.0</td>\n",
              "      <td>False</td>\n",
              "      <td>1.0</td>\n",
              "      <td>97227 97221 97220 97229 97203 97202 97201 9720...</td>\n",
              "      <td>[JvQRbZYdMGuuDqTArles2g, KGXEzZqlm9TrO1bLpkgSh...</td>\n",
              "      <td>309.323529</td>\n",
              "      <td>124.540193</td>\n",
              "      <td>25.843137</td>\n",
              "      <td>625.107843</td>\n",
              "    </tr>\n",
              "    <tr>\n",
              "      <th>2</th>\n",
              "      <td>NaN</td>\n",
              "      <td>NaN</td>\n",
              "      <td>NaN</td>\n",
              "      <td>OH</td>\n",
              "      <td>NaN</td>\n",
              "      <td>NaN</td>\n",
              "      <td>NaN</td>\n",
              "      <td>NaN</td>\n",
              "      <td>43206</td>\n",
              "      <td>740 s high st</td>\n",
              "      <td>NaN</td>\n",
              "      <td>NaN</td>\n",
              "      <td>NaN</td>\n",
              "      <td>NaN</td>\n",
              "      <td>NaN</td>\n",
              "      <td>NaN</td>\n",
              "      <td>NaN</td>\n",
              "      <td>NaN</td>\n",
              "      <td>NaN</td>\n",
              "      <td>1</td>\n",
              "      <td>8:0-14:0</td>\n",
              "      <td>8:0-14:0</td>\n",
              "      <td>NaN</td>\n",
              "      <td>NaN</td>\n",
              "      <td>NaN</td>\n",
              "      <td>NaN</td>\n",
              "      <td>NaN</td>\n",
              "      <td>NaN</td>\n",
              "      <td>columbus</td>\n",
              "      <td>NaN</td>\n",
              "      <td>NaN</td>\n",
              "      <td>NaN</td>\n",
              "      <td>39.947007</td>\n",
              "      <td>NaN</td>\n",
              "      <td>NaN</td>\n",
              "      <td>NaN</td>\n",
              "      <td>NaN</td>\n",
              "      <td>NaN</td>\n",
              "      <td>jFYIsSb7r1QeESVUnXPHBw</td>\n",
              "      <td>4.5</td>\n",
              "      <td>NaN</td>\n",
              "      <td>-82.997471</td>\n",
              "      <td>NaN</td>\n",
              "      <td>{'Saturday': '8:0-14:0', 'Sunday': '8:0-14:0'}</td>\n",
              "      <td>NaN</td>\n",
              "      <td>NaN</td>\n",
              "      <td>breakfast &amp; brunch, restaurants</td>\n",
              "      <td>1.041393</td>\n",
              "      <td>NaN</td>\n",
              "      <td>NaN</td>\n",
              "      <td>NaN</td>\n",
              "      <td>NaN</td>\n",
              "      <td>NaN</td>\n",
              "      <td>NaN</td>\n",
              "      <td>boxwood biscuit</td>\n",
              "      <td>NaN</td>\n",
              "      <td>NaN</td>\n",
              "      <td>NaN</td>\n",
              "      <td>NaN</td>\n",
              "      <td>NaN</td>\n",
              "      <td>OH</td>\n",
              "      <td>2.0</td>\n",
              "      <td>3.0</td>\n",
              "      <td>Ohio</td>\n",
              "      <td>Franklin</td>\n",
              "      <td>1562009.0</td>\n",
              "      <td>1582.0</td>\n",
              "      <td>False</td>\n",
              "      <td>1.0</td>\n",
              "      <td>43026 43109 43054 43220 43221 43222 43223 4322...</td>\n",
              "      <td>[nan, 1Jua4k8nD9izG1Se3FJ7JA, NvHk8zOMVToGSK9c...</td>\n",
              "      <td>148.500000</td>\n",
              "      <td>51.815782</td>\n",
              "      <td>4.500000</td>\n",
              "      <td>30.000000</td>\n",
              "    </tr>\n",
              "    <tr>\n",
              "      <th>3</th>\n",
              "      <td>NaN</td>\n",
              "      <td>NaN</td>\n",
              "      <td>NaN</td>\n",
              "      <td>CO</td>\n",
              "      <td>NaN</td>\n",
              "      <td>NaN</td>\n",
              "      <td>NaN</td>\n",
              "      <td>NaN</td>\n",
              "      <td>80302</td>\n",
              "      <td>100 clematis dr</td>\n",
              "      <td>True</td>\n",
              "      <td>NaN</td>\n",
              "      <td>True</td>\n",
              "      <td>NaN</td>\n",
              "      <td>False</td>\n",
              "      <td>NaN</td>\n",
              "      <td>NaN</td>\n",
              "      <td>NaN</td>\n",
              "      <td>NaN</td>\n",
              "      <td>1</td>\n",
              "      <td>8:0-20:0</td>\n",
              "      <td>8:0-20:0</td>\n",
              "      <td>NaN</td>\n",
              "      <td>8:0-20:0</td>\n",
              "      <td>8:0-20:0</td>\n",
              "      <td>NaN</td>\n",
              "      <td>NaN</td>\n",
              "      <td>8:0-20:0</td>\n",
              "      <td>boulder</td>\n",
              "      <td>{'garage': False, 'street': True, 'validated':...</td>\n",
              "      <td>NaN</td>\n",
              "      <td>8:0-20:0</td>\n",
              "      <td>39.998449</td>\n",
              "      <td>8:0-20:0</td>\n",
              "      <td>NaN</td>\n",
              "      <td>False</td>\n",
              "      <td>NaN</td>\n",
              "      <td>True</td>\n",
              "      <td>rYs_1pNB_RMtn5WQh55QDA</td>\n",
              "      <td>3.5</td>\n",
              "      <td>NaN</td>\n",
              "      <td>-105.281006</td>\n",
              "      <td>NaN</td>\n",
              "      <td>{'Monday': '8:0-20:0', 'Tuesday': '8:0-20:0', ...</td>\n",
              "      <td>NaN</td>\n",
              "      <td>NaN</td>\n",
              "      <td>food, shopping, convenience stores, souvenir s...</td>\n",
              "      <td>0.698970</td>\n",
              "      <td>NaN</td>\n",
              "      <td>NaN</td>\n",
              "      <td>NaN</td>\n",
              "      <td>NaN</td>\n",
              "      <td>NaN</td>\n",
              "      <td>NaN</td>\n",
              "      <td>chautauqua general store</td>\n",
              "      <td>{'BikeParking': 'True', 'RestaurantsTakeOut': ...</td>\n",
              "      <td>False</td>\n",
              "      <td>True</td>\n",
              "      <td>NaN</td>\n",
              "      <td>True</td>\n",
              "      <td>CO</td>\n",
              "      <td>4.0</td>\n",
              "      <td>8.0</td>\n",
              "      <td>Colorado</td>\n",
              "      <td>Boulder</td>\n",
              "      <td>124345.0</td>\n",
              "      <td>1551.0</td>\n",
              "      <td>False</td>\n",
              "      <td>2.0</td>\n",
              "      <td>80310 80304 80305 80302 80303 80301 80307 8030...</td>\n",
              "      <td>[nan, So1OxJNIZCQBN2AStRCA8Q, AC7VDjPYudKUT13B...</td>\n",
              "      <td>62.500000</td>\n",
              "      <td>118.295485</td>\n",
              "      <td>2.000000</td>\n",
              "      <td>0.500000</td>\n",
              "    </tr>\n",
              "    <tr>\n",
              "      <th>4</th>\n",
              "      <td>NaN</td>\n",
              "      <td>NaN</td>\n",
              "      <td>NaN</td>\n",
              "      <td>MA</td>\n",
              "      <td>True</td>\n",
              "      <td>NaN</td>\n",
              "      <td>NaN</td>\n",
              "      <td>{'romantic': False, 'intimate': False, 'classy...</td>\n",
              "      <td>01960</td>\n",
              "      <td>474 lowell st</td>\n",
              "      <td>True</td>\n",
              "      <td>NaN</td>\n",
              "      <td>True</td>\n",
              "      <td>NaN</td>\n",
              "      <td>False</td>\n",
              "      <td>'average'</td>\n",
              "      <td>NaN</td>\n",
              "      <td>NaN</td>\n",
              "      <td>NaN</td>\n",
              "      <td>1</td>\n",
              "      <td>11:0-22:0</td>\n",
              "      <td>NaN</td>\n",
              "      <td>NaN</td>\n",
              "      <td>11:0-21:0</td>\n",
              "      <td>11:0-21:0</td>\n",
              "      <td>NaN</td>\n",
              "      <td>False</td>\n",
              "      <td>11:0-22:0</td>\n",
              "      <td>peabody</td>\n",
              "      <td>{'garage': False, 'street': False, 'validated'...</td>\n",
              "      <td>u'free'</td>\n",
              "      <td>11:0-21:0</td>\n",
              "      <td>42.541155</td>\n",
              "      <td>11:0-21:0</td>\n",
              "      <td>True</td>\n",
              "      <td>True</td>\n",
              "      <td>NaN</td>\n",
              "      <td>True</td>\n",
              "      <td>HPA_qyMEddpAEtFof02ixg</td>\n",
              "      <td>4.0</td>\n",
              "      <td>True</td>\n",
              "      <td>-70.973438</td>\n",
              "      <td>u'casual'</td>\n",
              "      <td>{'Monday': '11:0-21:0', 'Tuesday': '11:0-21:0'...</td>\n",
              "      <td>NaN</td>\n",
              "      <td>NaN</td>\n",
              "      <td>food, pizza, restaurants</td>\n",
              "      <td>1.591065</td>\n",
              "      <td>u'none'</td>\n",
              "      <td>2</td>\n",
              "      <td>NaN</td>\n",
              "      <td>NaN</td>\n",
              "      <td>False</td>\n",
              "      <td>NaN</td>\n",
              "      <td>mr g's pizza &amp; subs</td>\n",
              "      <td>{'RestaurantsGoodForGroups': 'True', 'HasTV': ...</td>\n",
              "      <td>True</td>\n",
              "      <td>True</td>\n",
              "      <td>True</td>\n",
              "      <td>True</td>\n",
              "      <td>MA</td>\n",
              "      <td>1.0</td>\n",
              "      <td>1.0</td>\n",
              "      <td>Massachusetts</td>\n",
              "      <td>Essex</td>\n",
              "      <td>53070.0</td>\n",
              "      <td>1262.0</td>\n",
              "      <td>False</td>\n",
              "      <td>3.0</td>\n",
              "      <td>01960 01961</td>\n",
              "      <td>[n6LKHLBr4y4NAs8sUUN1zA, iYJoqK_B1GKvDNv6tc5Ar...</td>\n",
              "      <td>63.916667</td>\n",
              "      <td>112.956969</td>\n",
              "      <td>5.291667</td>\n",
              "      <td>67.416667</td>\n",
              "    </tr>\n",
              "  </tbody>\n",
              "</table>\n",
              "</div>"
            ],
            "text/plain": [
              "  attributes.BYOB  ... mean_total_compliments\n",
              "0             NaN  ...              14.323529\n",
              "1             NaN  ...             625.107843\n",
              "2             NaN  ...              30.000000\n",
              "3             NaN  ...               0.500000\n",
              "4             NaN  ...              67.416667\n",
              "\n",
              "[5 rows x 75 columns]"
            ]
          },
          "execution_count": null,
          "metadata": {},
          "output_type": "execute_result"
        }
      ]
    },
    {
      "cell_type": "code",
      "metadata": {
        "colab": {
          "background_save": true
        },
        "id": "w5iYc3sRM0KF",
        "outputId": "ab27619b-1e3b-4de2-e2ab-049689df3ed0"
      },
      "source": [
        "yelp_business_df[cleaned_cols].head()"
      ],
      "id": "w5iYc3sRM0KF",
      "execution_count": null,
      "outputs": [
        {
          "data": {
            "text/html": [
              "<div>\n",
              "<style scoped>\n",
              "    .dataframe tbody tr th:only-of-type {\n",
              "        vertical-align: middle;\n",
              "    }\n",
              "\n",
              "    .dataframe tbody tr th {\n",
              "        vertical-align: top;\n",
              "    }\n",
              "\n",
              "    .dataframe thead th {\n",
              "        text-align: right;\n",
              "    }\n",
              "</style>\n",
              "<table border=\"1\" class=\"dataframe\">\n",
              "  <thead>\n",
              "    <tr style=\"text-align: right;\">\n",
              "      <th></th>\n",
              "      <th>stars</th>\n",
              "      <th>business_id</th>\n",
              "      <th>name</th>\n",
              "      <th>city</th>\n",
              "      <th>state</th>\n",
              "      <th>postal_code</th>\n",
              "      <th>latitude</th>\n",
              "      <th>longitude</th>\n",
              "      <th>categories</th>\n",
              "      <th>review_count</th>\n",
              "      <th>mean_user_review_counts</th>\n",
              "      <th>mean_months_since_yelping</th>\n",
              "      <th>mean_user_fans</th>\n",
              "      <th>mean_total_compliments</th>\n",
              "    </tr>\n",
              "  </thead>\n",
              "  <tbody>\n",
              "    <tr>\n",
              "      <th>0</th>\n",
              "      <td>4.0</td>\n",
              "      <td>6iYb2HFDywm3zjuRg0shjw</td>\n",
              "      <td>oskar blues taproom</td>\n",
              "      <td>boulder</td>\n",
              "      <td>CO</td>\n",
              "      <td>80302</td>\n",
              "      <td>40.017544</td>\n",
              "      <td>-105.283348</td>\n",
              "      <td>gastropubs, food, beer gardens, restaurants, b...</td>\n",
              "      <td>1.934498</td>\n",
              "      <td>52.558824</td>\n",
              "      <td>96.966861</td>\n",
              "      <td>1.970588</td>\n",
              "      <td>14.323529</td>\n",
              "    </tr>\n",
              "    <tr>\n",
              "      <th>1</th>\n",
              "      <td>4.0</td>\n",
              "      <td>tCbdrRPZA0oiIYSmHG3J0w</td>\n",
              "      <td>flying elephants at pdx</td>\n",
              "      <td>portland</td>\n",
              "      <td>OR</td>\n",
              "      <td>97218</td>\n",
              "      <td>45.588906</td>\n",
              "      <td>-122.593331</td>\n",
              "      <td>salad, soup, sandwiches, delis, restaurants, c...</td>\n",
              "      <td>2.100371</td>\n",
              "      <td>309.323529</td>\n",
              "      <td>124.540193</td>\n",
              "      <td>25.843137</td>\n",
              "      <td>625.107843</td>\n",
              "    </tr>\n",
              "    <tr>\n",
              "      <th>2</th>\n",
              "      <td>4.5</td>\n",
              "      <td>jFYIsSb7r1QeESVUnXPHBw</td>\n",
              "      <td>boxwood biscuit</td>\n",
              "      <td>columbus</td>\n",
              "      <td>OH</td>\n",
              "      <td>43206</td>\n",
              "      <td>39.947007</td>\n",
              "      <td>-82.997471</td>\n",
              "      <td>breakfast &amp; brunch, restaurants</td>\n",
              "      <td>1.041393</td>\n",
              "      <td>148.500000</td>\n",
              "      <td>51.815782</td>\n",
              "      <td>4.500000</td>\n",
              "      <td>30.000000</td>\n",
              "    </tr>\n",
              "    <tr>\n",
              "      <th>3</th>\n",
              "      <td>3.5</td>\n",
              "      <td>rYs_1pNB_RMtn5WQh55QDA</td>\n",
              "      <td>chautauqua general store</td>\n",
              "      <td>boulder</td>\n",
              "      <td>CO</td>\n",
              "      <td>80302</td>\n",
              "      <td>39.998449</td>\n",
              "      <td>-105.281006</td>\n",
              "      <td>food, shopping, convenience stores, souvenir s...</td>\n",
              "      <td>0.698970</td>\n",
              "      <td>62.500000</td>\n",
              "      <td>118.295485</td>\n",
              "      <td>2.000000</td>\n",
              "      <td>0.500000</td>\n",
              "    </tr>\n",
              "    <tr>\n",
              "      <th>4</th>\n",
              "      <td>4.0</td>\n",
              "      <td>HPA_qyMEddpAEtFof02ixg</td>\n",
              "      <td>mr g's pizza &amp; subs</td>\n",
              "      <td>peabody</td>\n",
              "      <td>MA</td>\n",
              "      <td>01960</td>\n",
              "      <td>42.541155</td>\n",
              "      <td>-70.973438</td>\n",
              "      <td>food, pizza, restaurants</td>\n",
              "      <td>1.591065</td>\n",
              "      <td>63.916667</td>\n",
              "      <td>112.956969</td>\n",
              "      <td>5.291667</td>\n",
              "      <td>67.416667</td>\n",
              "    </tr>\n",
              "  </tbody>\n",
              "</table>\n",
              "</div>"
            ],
            "text/plain": [
              "  stars             business_id  ... mean_user_fans mean_total_compliments\n",
              "0   4.0  6iYb2HFDywm3zjuRg0shjw  ...       1.970588              14.323529\n",
              "1   4.0  tCbdrRPZA0oiIYSmHG3J0w  ...      25.843137             625.107843\n",
              "2   4.5  jFYIsSb7r1QeESVUnXPHBw  ...       4.500000              30.000000\n",
              "3   3.5  rYs_1pNB_RMtn5WQh55QDA  ...       2.000000               0.500000\n",
              "4   4.0  HPA_qyMEddpAEtFof02ixg  ...       5.291667              67.416667\n",
              "\n",
              "[5 rows x 14 columns]"
            ]
          },
          "execution_count": null,
          "metadata": {},
          "output_type": "execute_result"
        }
      ]
    },
    {
      "cell_type": "code",
      "metadata": {
        "colab": {
          "background_save": true
        },
        "id": "fsF5MspkM0KF"
      },
      "source": [
        "yelp_business_df[cleaned_cols].to_csv('/content/drive/My Drive/converted_data/1.0-sm-business_cleaned-1.csv', index=False)"
      ],
      "id": "fsF5MspkM0KF",
      "execution_count": null,
      "outputs": []
    },
    {
      "cell_type": "code",
      "metadata": {
        "colab": {
          "background_save": true
        },
        "id": "w5JLF0kvM0KF"
      },
      "source": [
        "yelp_business_df.to_csv('/content/drive/My Drive/converted_data/1.0-sm-business_cleaned-raw.csv', index=False)"
      ],
      "id": "w5JLF0kvM0KF",
      "execution_count": null,
      "outputs": []
    },
    {
      "cell_type": "markdown",
      "metadata": {
        "id": "7dzNjliickyk"
      },
      "source": [
        "# PART 2 : Feature Engineering"
      ],
      "id": "7dzNjliickyk"
    },
    {
      "cell_type": "markdown",
      "metadata": {
        "id": "X3hXtHCmbW7m"
      },
      "source": [
        "# Obtain Data"
      ],
      "id": "X3hXtHCmbW7m"
    },
    {
      "cell_type": "code",
      "metadata": {
        "id": "eg9ybAE3bW7n"
      },
      "source": [
        "data = pd.read_csv('/content/drive/My Drive/converted_data/1.0-sm-business_cleaned-1.csv')"
      ],
      "id": "eg9ybAE3bW7n",
      "execution_count": 143,
      "outputs": []
    },
    {
      "cell_type": "code",
      "metadata": {
        "colab": {
          "base_uri": "https://localhost:8080/",
          "height": 496
        },
        "id": "UesVLfu1bW7n",
        "outputId": "93654db8-9324-47fb-ec51-788cda44c613"
      },
      "source": [
        "data.head()"
      ],
      "id": "UesVLfu1bW7n",
      "execution_count": 144,
      "outputs": [
        {
          "output_type": "execute_result",
          "data": {
            "text/html": [
              "<div>\n",
              "<style scoped>\n",
              "    .dataframe tbody tr th:only-of-type {\n",
              "        vertical-align: middle;\n",
              "    }\n",
              "\n",
              "    .dataframe tbody tr th {\n",
              "        vertical-align: top;\n",
              "    }\n",
              "\n",
              "    .dataframe thead th {\n",
              "        text-align: right;\n",
              "    }\n",
              "</style>\n",
              "<table border=\"1\" class=\"dataframe\">\n",
              "  <thead>\n",
              "    <tr style=\"text-align: right;\">\n",
              "      <th></th>\n",
              "      <th>stars</th>\n",
              "      <th>business_id</th>\n",
              "      <th>name</th>\n",
              "      <th>city</th>\n",
              "      <th>state</th>\n",
              "      <th>postal_code</th>\n",
              "      <th>latitude</th>\n",
              "      <th>longitude</th>\n",
              "      <th>categories</th>\n",
              "      <th>review_count</th>\n",
              "      <th>mean_user_review_counts</th>\n",
              "      <th>mean_months_since_yelping</th>\n",
              "      <th>mean_user_fans</th>\n",
              "      <th>mean_total_compliments</th>\n",
              "    </tr>\n",
              "  </thead>\n",
              "  <tbody>\n",
              "    <tr>\n",
              "      <th>0</th>\n",
              "      <td>4.0</td>\n",
              "      <td>6iYb2HFDywm3zjuRg0shjw</td>\n",
              "      <td>oskar blues taproom</td>\n",
              "      <td>boulder</td>\n",
              "      <td>CO</td>\n",
              "      <td>80302</td>\n",
              "      <td>40.017544</td>\n",
              "      <td>-105.283348</td>\n",
              "      <td>gastropubs, food, beer gardens, restaurants, b...</td>\n",
              "      <td>1.934498</td>\n",
              "      <td>52.558824</td>\n",
              "      <td>96.966861</td>\n",
              "      <td>1.970588</td>\n",
              "      <td>14.323529</td>\n",
              "    </tr>\n",
              "    <tr>\n",
              "      <th>1</th>\n",
              "      <td>4.0</td>\n",
              "      <td>tCbdrRPZA0oiIYSmHG3J0w</td>\n",
              "      <td>flying elephants at pdx</td>\n",
              "      <td>portland</td>\n",
              "      <td>OR</td>\n",
              "      <td>97218</td>\n",
              "      <td>45.588906</td>\n",
              "      <td>-122.593331</td>\n",
              "      <td>salad, soup, sandwiches, delis, restaurants, c...</td>\n",
              "      <td>2.100371</td>\n",
              "      <td>309.323529</td>\n",
              "      <td>124.540193</td>\n",
              "      <td>25.843137</td>\n",
              "      <td>625.107843</td>\n",
              "    </tr>\n",
              "    <tr>\n",
              "      <th>2</th>\n",
              "      <td>4.5</td>\n",
              "      <td>jFYIsSb7r1QeESVUnXPHBw</td>\n",
              "      <td>boxwood biscuit</td>\n",
              "      <td>columbus</td>\n",
              "      <td>OH</td>\n",
              "      <td>43206</td>\n",
              "      <td>39.947007</td>\n",
              "      <td>-82.997471</td>\n",
              "      <td>breakfast &amp; brunch, restaurants</td>\n",
              "      <td>1.041393</td>\n",
              "      <td>148.500000</td>\n",
              "      <td>51.815782</td>\n",
              "      <td>4.500000</td>\n",
              "      <td>30.000000</td>\n",
              "    </tr>\n",
              "    <tr>\n",
              "      <th>3</th>\n",
              "      <td>3.5</td>\n",
              "      <td>rYs_1pNB_RMtn5WQh55QDA</td>\n",
              "      <td>chautauqua general store</td>\n",
              "      <td>boulder</td>\n",
              "      <td>CO</td>\n",
              "      <td>80302</td>\n",
              "      <td>39.998449</td>\n",
              "      <td>-105.281006</td>\n",
              "      <td>food, shopping, convenience stores, souvenir s...</td>\n",
              "      <td>0.698970</td>\n",
              "      <td>62.500000</td>\n",
              "      <td>118.295485</td>\n",
              "      <td>2.000000</td>\n",
              "      <td>0.500000</td>\n",
              "    </tr>\n",
              "    <tr>\n",
              "      <th>4</th>\n",
              "      <td>4.0</td>\n",
              "      <td>HPA_qyMEddpAEtFof02ixg</td>\n",
              "      <td>mr g's pizza &amp; subs</td>\n",
              "      <td>peabody</td>\n",
              "      <td>MA</td>\n",
              "      <td>1960</td>\n",
              "      <td>42.541155</td>\n",
              "      <td>-70.973438</td>\n",
              "      <td>food, pizza, restaurants</td>\n",
              "      <td>1.591065</td>\n",
              "      <td>63.916667</td>\n",
              "      <td>112.956969</td>\n",
              "      <td>5.291667</td>\n",
              "      <td>67.416667</td>\n",
              "    </tr>\n",
              "  </tbody>\n",
              "</table>\n",
              "</div>"
            ],
            "text/plain": [
              "   stars             business_id  ... mean_user_fans mean_total_compliments\n",
              "0    4.0  6iYb2HFDywm3zjuRg0shjw  ...       1.970588              14.323529\n",
              "1    4.0  tCbdrRPZA0oiIYSmHG3J0w  ...      25.843137             625.107843\n",
              "2    4.5  jFYIsSb7r1QeESVUnXPHBw  ...       4.500000              30.000000\n",
              "3    3.5  rYs_1pNB_RMtn5WQh55QDA  ...       2.000000               0.500000\n",
              "4    4.0  HPA_qyMEddpAEtFof02ixg  ...       5.291667              67.416667\n",
              "\n",
              "[5 rows x 14 columns]"
            ]
          },
          "metadata": {},
          "execution_count": 144
        }
      ]
    },
    {
      "cell_type": "code",
      "metadata": {
        "id": "FzjLHZOW4nEx"
      },
      "source": [
        "data = data.dropna()"
      ],
      "id": "FzjLHZOW4nEx",
      "execution_count": 145,
      "outputs": []
    },
    {
      "cell_type": "code",
      "metadata": {
        "colab": {
          "base_uri": "https://localhost:8080/"
        },
        "id": "oEL9Vp8VbW7n",
        "outputId": "7885bc52-76d1-4f9b-8c87-4de50c852899"
      },
      "source": [
        "data.info()"
      ],
      "id": "oEL9Vp8VbW7n",
      "execution_count": 146,
      "outputs": [
        {
          "output_type": "stream",
          "name": "stdout",
          "text": [
            "<class 'pandas.core.frame.DataFrame'>\n",
            "Int64Index: 28647 entries, 0 to 31774\n",
            "Data columns (total 14 columns):\n",
            " #   Column                     Non-Null Count  Dtype  \n",
            "---  ------                     --------------  -----  \n",
            " 0   stars                      28647 non-null  float64\n",
            " 1   business_id                28647 non-null  object \n",
            " 2   name                       28647 non-null  object \n",
            " 3   city                       28647 non-null  object \n",
            " 4   state                      28647 non-null  object \n",
            " 5   postal_code                28647 non-null  int64  \n",
            " 6   latitude                   28647 non-null  float64\n",
            " 7   longitude                  28647 non-null  float64\n",
            " 8   categories                 28647 non-null  object \n",
            " 9   review_count               28647 non-null  float64\n",
            " 10  mean_user_review_counts    28647 non-null  float64\n",
            " 11  mean_months_since_yelping  28647 non-null  float64\n",
            " 12  mean_user_fans             28647 non-null  float64\n",
            " 13  mean_total_compliments     28647 non-null  float64\n",
            "dtypes: float64(8), int64(1), object(5)\n",
            "memory usage: 3.3+ MB\n"
          ]
        }
      ]
    },
    {
      "cell_type": "markdown",
      "metadata": {
        "id": "43ZuSX50bW7o"
      },
      "source": [
        "# Feature Engineering"
      ],
      "id": "43ZuSX50bW7o"
    },
    {
      "cell_type": "markdown",
      "metadata": {
        "id": "no8LkE-ObW7o"
      },
      "source": [
        "## Clustering Lat/Lon to identify closeby businesses"
      ],
      "id": "no8LkE-ObW7o"
    },
    {
      "cell_type": "markdown",
      "metadata": {
        "id": "IE6SjOelbW7o"
      },
      "source": [
        "Using DBSCAN to cluster businesses within a 2km radius i.e. eps=2kms and parameterizing such that every point gets a cluster, no noise i.e. min_samples=1"
      ],
      "id": "IE6SjOelbW7o"
    },
    {
      "cell_type": "code",
      "metadata": {
        "id": "vHJ3EEJ7bW7p"
      },
      "source": [
        "coords = data[['latitude', 'longitude']].values"
      ],
      "id": "vHJ3EEJ7bW7p",
      "execution_count": 147,
      "outputs": []
    },
    {
      "cell_type": "code",
      "metadata": {
        "id": "Ctko-HORbW7p"
      },
      "source": [
        "from sklearn.cluster import DBSCAN"
      ],
      "id": "Ctko-HORbW7p",
      "execution_count": 148,
      "outputs": []
    },
    {
      "cell_type": "code",
      "metadata": {
        "id": "V8nWRXFUbW7p"
      },
      "source": [
        "kms_per_radian = 6371.0088\n",
        "epsilon = 2 / kms_per_radian\n",
        "db = DBSCAN(eps=epsilon, min_samples=1, algorithm='ball_tree', metric='haversine')"
      ],
      "id": "V8nWRXFUbW7p",
      "execution_count": 149,
      "outputs": []
    },
    {
      "cell_type": "code",
      "metadata": {
        "id": "VZjssKNebW7q"
      },
      "source": [
        "labels = db.fit_predict(np.radians(coords))"
      ],
      "id": "VZjssKNebW7q",
      "execution_count": 150,
      "outputs": []
    },
    {
      "cell_type": "code",
      "metadata": {
        "colab": {
          "base_uri": "https://localhost:8080/"
        },
        "id": "z7OrEjQCbW7q",
        "outputId": "f1a9efeb-c272-4e85-eb2a-099305740206"
      },
      "source": [
        "len(set(db.labels_))"
      ],
      "id": "z7OrEjQCbW7q",
      "execution_count": 151,
      "outputs": [
        {
          "output_type": "execute_result",
          "data": {
            "text/plain": [
              "255"
            ]
          },
          "metadata": {},
          "execution_count": 151
        }
      ]
    },
    {
      "cell_type": "code",
      "metadata": {
        "id": "ohWOMEUJbW7q"
      },
      "source": [
        "data['location_cluster'] = labels"
      ],
      "id": "ohWOMEUJbW7q",
      "execution_count": 152,
      "outputs": []
    },
    {
      "cell_type": "code",
      "metadata": {
        "colab": {
          "base_uri": "https://localhost:8080/",
          "height": 496
        },
        "id": "H2CtnLyubW7q",
        "outputId": "5136f1f1-c9a1-492c-b3e1-647531166b92"
      },
      "source": [
        "data.head()"
      ],
      "id": "H2CtnLyubW7q",
      "execution_count": 153,
      "outputs": [
        {
          "output_type": "execute_result",
          "data": {
            "text/html": [
              "<div>\n",
              "<style scoped>\n",
              "    .dataframe tbody tr th:only-of-type {\n",
              "        vertical-align: middle;\n",
              "    }\n",
              "\n",
              "    .dataframe tbody tr th {\n",
              "        vertical-align: top;\n",
              "    }\n",
              "\n",
              "    .dataframe thead th {\n",
              "        text-align: right;\n",
              "    }\n",
              "</style>\n",
              "<table border=\"1\" class=\"dataframe\">\n",
              "  <thead>\n",
              "    <tr style=\"text-align: right;\">\n",
              "      <th></th>\n",
              "      <th>stars</th>\n",
              "      <th>business_id</th>\n",
              "      <th>name</th>\n",
              "      <th>city</th>\n",
              "      <th>state</th>\n",
              "      <th>postal_code</th>\n",
              "      <th>latitude</th>\n",
              "      <th>longitude</th>\n",
              "      <th>categories</th>\n",
              "      <th>review_count</th>\n",
              "      <th>mean_user_review_counts</th>\n",
              "      <th>mean_months_since_yelping</th>\n",
              "      <th>mean_user_fans</th>\n",
              "      <th>mean_total_compliments</th>\n",
              "      <th>location_cluster</th>\n",
              "    </tr>\n",
              "  </thead>\n",
              "  <tbody>\n",
              "    <tr>\n",
              "      <th>0</th>\n",
              "      <td>4.0</td>\n",
              "      <td>6iYb2HFDywm3zjuRg0shjw</td>\n",
              "      <td>oskar blues taproom</td>\n",
              "      <td>boulder</td>\n",
              "      <td>CO</td>\n",
              "      <td>80302</td>\n",
              "      <td>40.017544</td>\n",
              "      <td>-105.283348</td>\n",
              "      <td>gastropubs, food, beer gardens, restaurants, b...</td>\n",
              "      <td>1.934498</td>\n",
              "      <td>52.558824</td>\n",
              "      <td>96.966861</td>\n",
              "      <td>1.970588</td>\n",
              "      <td>14.323529</td>\n",
              "      <td>0</td>\n",
              "    </tr>\n",
              "    <tr>\n",
              "      <th>1</th>\n",
              "      <td>4.0</td>\n",
              "      <td>tCbdrRPZA0oiIYSmHG3J0w</td>\n",
              "      <td>flying elephants at pdx</td>\n",
              "      <td>portland</td>\n",
              "      <td>OR</td>\n",
              "      <td>97218</td>\n",
              "      <td>45.588906</td>\n",
              "      <td>-122.593331</td>\n",
              "      <td>salad, soup, sandwiches, delis, restaurants, c...</td>\n",
              "      <td>2.100371</td>\n",
              "      <td>309.323529</td>\n",
              "      <td>124.540193</td>\n",
              "      <td>25.843137</td>\n",
              "      <td>625.107843</td>\n",
              "      <td>1</td>\n",
              "    </tr>\n",
              "    <tr>\n",
              "      <th>2</th>\n",
              "      <td>4.5</td>\n",
              "      <td>jFYIsSb7r1QeESVUnXPHBw</td>\n",
              "      <td>boxwood biscuit</td>\n",
              "      <td>columbus</td>\n",
              "      <td>OH</td>\n",
              "      <td>43206</td>\n",
              "      <td>39.947007</td>\n",
              "      <td>-82.997471</td>\n",
              "      <td>breakfast &amp; brunch, restaurants</td>\n",
              "      <td>1.041393</td>\n",
              "      <td>148.500000</td>\n",
              "      <td>51.815782</td>\n",
              "      <td>4.500000</td>\n",
              "      <td>30.000000</td>\n",
              "      <td>2</td>\n",
              "    </tr>\n",
              "    <tr>\n",
              "      <th>3</th>\n",
              "      <td>3.5</td>\n",
              "      <td>rYs_1pNB_RMtn5WQh55QDA</td>\n",
              "      <td>chautauqua general store</td>\n",
              "      <td>boulder</td>\n",
              "      <td>CO</td>\n",
              "      <td>80302</td>\n",
              "      <td>39.998449</td>\n",
              "      <td>-105.281006</td>\n",
              "      <td>food, shopping, convenience stores, souvenir s...</td>\n",
              "      <td>0.698970</td>\n",
              "      <td>62.500000</td>\n",
              "      <td>118.295485</td>\n",
              "      <td>2.000000</td>\n",
              "      <td>0.500000</td>\n",
              "      <td>0</td>\n",
              "    </tr>\n",
              "    <tr>\n",
              "      <th>4</th>\n",
              "      <td>4.0</td>\n",
              "      <td>HPA_qyMEddpAEtFof02ixg</td>\n",
              "      <td>mr g's pizza &amp; subs</td>\n",
              "      <td>peabody</td>\n",
              "      <td>MA</td>\n",
              "      <td>1960</td>\n",
              "      <td>42.541155</td>\n",
              "      <td>-70.973438</td>\n",
              "      <td>food, pizza, restaurants</td>\n",
              "      <td>1.591065</td>\n",
              "      <td>63.916667</td>\n",
              "      <td>112.956969</td>\n",
              "      <td>5.291667</td>\n",
              "      <td>67.416667</td>\n",
              "      <td>3</td>\n",
              "    </tr>\n",
              "  </tbody>\n",
              "</table>\n",
              "</div>"
            ],
            "text/plain": [
              "   stars             business_id  ... mean_total_compliments location_cluster\n",
              "0    4.0  6iYb2HFDywm3zjuRg0shjw  ...              14.323529                0\n",
              "1    4.0  tCbdrRPZA0oiIYSmHG3J0w  ...             625.107843                1\n",
              "2    4.5  jFYIsSb7r1QeESVUnXPHBw  ...              30.000000                2\n",
              "3    3.5  rYs_1pNB_RMtn5WQh55QDA  ...               0.500000                0\n",
              "4    4.0  HPA_qyMEddpAEtFof02ixg  ...              67.416667                3\n",
              "\n",
              "[5 rows x 15 columns]"
            ]
          },
          "metadata": {},
          "execution_count": 153
        }
      ]
    },
    {
      "cell_type": "code",
      "metadata": {
        "colab": {
          "base_uri": "https://localhost:8080/",
          "height": 304
        },
        "id": "IVDTg-cTbW7q",
        "outputId": "a4e34d71-ed3c-49fe-c046-9740b6c030c5"
      },
      "source": [
        "sns.scatterplot(x = \"longitude\", y = \"latitude\", hue=\"location_cluster\", data=data)"
      ],
      "id": "IVDTg-cTbW7q",
      "execution_count": 154,
      "outputs": [
        {
          "output_type": "execute_result",
          "data": {
            "text/plain": [
              "<matplotlib.axes._subplots.AxesSubplot at 0x7fee5b18fb50>"
            ]
          },
          "metadata": {},
          "execution_count": 154
        },
        {
          "output_type": "display_data",
          "data": {
            "image/png": "[encoded data removed]",
            "text/plain": [
              "<Figure size 432x288 with 1 Axes>"
            ]
          },
          "metadata": {}
        }
      ]
    },
    {
      "cell_type": "code",
      "metadata": {
        "id": "vX9GH1pKbW7r"
      },
      "source": [
        "# import plotly\n",
        "# plotly.offline.init_notebook_mode(connected=True)\n",
        "\n",
        "# import plotly.offline as py\n",
        "# data['text'] = data['name'] + '' + data['city'] + ', ' + data['state']\n",
        "\n",
        "# scl = [ [0,\"rgb(5, 10, 172)\"],[0.35,\"rgb(40, 60, 190)\"],[0.5,\"rgb(70, 100, 245)\"],\\\n",
        "#     [0.6,\"rgb(90, 120, 245)\"],[0.7,\"rgb(106, 137, 247)\"],[1,\"rgb(220, 220, 220)\"] ]\n",
        "\n",
        "# map_data = [ dict(\n",
        "#         type = 'scattergeo',\n",
        "#         locationmode = 'USA-states',\n",
        "#         lon = data['longitude'],\n",
        "#         lat = data['latitude'],\n",
        "#         text = data['text'],\n",
        "#         mode = 'markers',\n",
        "#         marker = dict(\n",
        "#             size = 8,\n",
        "#             opacity = 0.8,\n",
        "#             reversescale = True,\n",
        "#             autocolorscale = False,\n",
        "#             symbol = 'square',\n",
        "#             line = dict(\n",
        "#                 width=1,\n",
        "#                 color='rgba(102, 102, 102)'\n",
        "#             ),\n",
        "#             colorscale = scl,\n",
        "#             cmin = 0,\n",
        "#             color = data['location_cluster'],\n",
        "#             cmax = data['location_cluster'].max(),\n",
        "#             colorbar=dict(\n",
        "#                 title=\"Restaurants on Yelp\"\n",
        "#             )\n",
        "#         ))]\n",
        "\n",
        "# layout = dict(\n",
        "#         title = 'Restaurants on Yelp <br>(Hover for business names)',\n",
        "#         colorbar = True,\n",
        "#         geo = dict(\n",
        "#             scope='usa',\n",
        "#             projection=dict( type='albers usa' ),\n",
        "#             showland = True,\n",
        "#             landcolor = \"rgb(250, 250, 250)\",\n",
        "#             subunitcolor = \"rgb(217, 217, 217)\",\n",
        "#             countrycolor = \"rgb(217, 217, 217)\",\n",
        "#             countrywidth = 0.5,\n",
        "#             subunitwidth = 0.5\n",
        "#         ),\n",
        "#     )\n",
        "\n",
        "# fig = dict( data=map_data, layout=layout )\n",
        "# py.iplot( fig, validate=False)"
      ],
      "id": "vX9GH1pKbW7r",
      "execution_count": 155,
      "outputs": []
    },
    {
      "cell_type": "markdown",
      "metadata": {
        "id": "jeA48ebvbW7r"
      },
      "source": [
        "## Count of nearby restaurants with similar categories"
      ],
      "id": "jeA48ebvbW7r"
    },
    {
      "cell_type": "code",
      "metadata": {
        "id": "GyDVVvncbW7r"
      },
      "source": [
        "from sklearn.feature_extraction.text import TfidfVectorizer"
      ],
      "id": "GyDVVvncbW7r",
      "execution_count": 156,
      "outputs": []
    },
    {
      "cell_type": "code",
      "metadata": {
        "id": "9kYjVLxTbW7r"
      },
      "source": [
        "vect = TfidfVectorizer(analyzer='word', stop_words='english')"
      ],
      "id": "9kYjVLxTbW7r",
      "execution_count": 157,
      "outputs": []
    },
    {
      "cell_type": "code",
      "metadata": {
        "id": "Sm_x9_cWbW7r"
      },
      "source": [
        "from sklearn.metrics.pairwise import linear_kernel"
      ],
      "id": "Sm_x9_cWbW7r",
      "execution_count": 158,
      "outputs": []
    },
    {
      "cell_type": "code",
      "metadata": {
        "id": "rjGfFQ_ebW7r"
      },
      "source": [
        "def count_similar(a):\n",
        "    sims = np.where(a>0.9)\n",
        "    return len(sims[0])"
      ],
      "id": "rjGfFQ_ebW7r",
      "execution_count": 159,
      "outputs": []
    },
    {
      "cell_type": "code",
      "metadata": {
        "id": "P_SPVeQYbW7s"
      },
      "source": [
        "def get_sim_counts(temp):\n",
        "    X = vect.fit_transform(temp.categories)\n",
        "    cosine_sim = linear_kernel(X)\n",
        "    sim_counts = np.apply_along_axis(count_similar, 1, cosine_sim)\n",
        "    return sim_counts"
      ],
      "id": "P_SPVeQYbW7s",
      "execution_count": 160,
      "outputs": []
    },
    {
      "cell_type": "code",
      "metadata": {
        "id": "PLrzG1TrbW7s"
      },
      "source": [
        "for cluster in data.location_cluster.unique():\n",
        "    temp = data[data.location_cluster == cluster]\n",
        "    sim_counts = get_sim_counts(temp)\n",
        "    data.loc[data.business_id.isin(temp.business_id), 'sim_counts'] = sim_counts"
      ],
      "id": "PLrzG1TrbW7s",
      "execution_count": 161,
      "outputs": []
    },
    {
      "cell_type": "code",
      "metadata": {
        "colab": {
          "base_uri": "https://localhost:8080/"
        },
        "id": "zwWrgzkUbW7s",
        "outputId": "f93fea78-cb8f-49d6-cf86-d44ff6628890"
      },
      "source": [
        "data.sim_counts.describe()"
      ],
      "id": "zwWrgzkUbW7s",
      "execution_count": 162,
      "outputs": [
        {
          "output_type": "execute_result",
          "data": {
            "text/plain": [
              "count    28647.000000\n",
              "mean        15.536321\n",
              "std         31.738220\n",
              "min          1.000000\n",
              "25%          1.000000\n",
              "50%          2.000000\n",
              "75%         13.000000\n",
              "max        230.000000\n",
              "Name: sim_counts, dtype: float64"
            ]
          },
          "metadata": {},
          "execution_count": 162
        }
      ]
    },
    {
      "cell_type": "code",
      "metadata": {
        "colab": {
          "base_uri": "https://localhost:8080/",
          "height": 302
        },
        "id": "Ygc8ae-1bW7s",
        "outputId": "62166141-6d03-4d35-a35b-545db4ebf4fa"
      },
      "source": [
        "sns.boxplot(x='stars', y='sim_counts', data=data)"
      ],
      "id": "Ygc8ae-1bW7s",
      "execution_count": 163,
      "outputs": [
        {
          "output_type": "execute_result",
          "data": {
            "text/plain": [
              "<matplotlib.axes._subplots.AxesSubplot at 0x7fee5cac5590>"
            ]
          },
          "metadata": {},
          "execution_count": 163
        },
        {
          "output_type": "display_data",
          "data": {
            "image/png": "[encoded data removed]",
            "text/plain": [
              "<Figure size 432x288 with 1 Axes>"
            ]
          },
          "metadata": {}
        }
      ]
    },
    {
      "cell_type": "markdown",
      "metadata": {
        "id": "IzE2xj1YbW7s"
      },
      "source": [
        "## Count of nearby restaurants with similar users visiting"
      ],
      "id": "IzE2xj1YbW7s"
    },
    {
      "cell_type": "code",
      "metadata": {
        "id": "G0mo2UVvbW7s"
      },
      "source": [
        "from sklearn.preprocessing import normalize"
      ],
      "id": "G0mo2UVvbW7s",
      "execution_count": 164,
      "outputs": []
    },
    {
      "cell_type": "code",
      "metadata": {
        "id": "gR1yJviFbW7s"
      },
      "source": [
        "def get_user_sim_counts(temp):\n",
        "    X = normalize(temp[['mean_user_review_counts', 'mean_months_since_yelping', 'mean_user_fans', 'mean_total_compliments']])\n",
        "    cosine_sim = linear_kernel(X)\n",
        "    user_sim_counts = np.apply_along_axis(count_similar, 1, cosine_sim)\n",
        "    return user_sim_counts"
      ],
      "id": "gR1yJviFbW7s",
      "execution_count": 165,
      "outputs": []
    },
    {
      "cell_type": "code",
      "metadata": {
        "id": "nYJzQNT5bW7s"
      },
      "source": [
        "for cluster in data.location_cluster.unique():\n",
        "    temp = data[data.location_cluster == cluster]\n",
        "    user_sim_counts = get_user_sim_counts(temp)\n",
        "    data.loc[data.business_id.isin(temp.business_id), 'user_sim_counts'] = user_sim_counts"
      ],
      "id": "nYJzQNT5bW7s",
      "execution_count": 166,
      "outputs": []
    },
    {
      "cell_type": "code",
      "metadata": {
        "colab": {
          "base_uri": "https://localhost:8080/"
        },
        "id": "0DCiBg4SbW7t",
        "outputId": "9a0596a0-a4c2-4d18-f43e-7b3a48bdfe0b"
      },
      "source": [
        "data.user_sim_counts.describe()"
      ],
      "id": "0DCiBg4SbW7t",
      "execution_count": 167,
      "outputs": [
        {
          "output_type": "execute_result",
          "data": {
            "text/plain": [
              "count    28647.000000\n",
              "mean      1422.720459\n",
              "std        810.506099\n",
              "min          1.000000\n",
              "25%        967.000000\n",
              "50%       1398.000000\n",
              "75%       1954.500000\n",
              "max       3453.000000\n",
              "Name: user_sim_counts, dtype: float64"
            ]
          },
          "metadata": {},
          "execution_count": 167
        }
      ]
    },
    {
      "cell_type": "code",
      "metadata": {
        "colab": {
          "base_uri": "https://localhost:8080/",
          "height": 302
        },
        "id": "8mk1gOW8bW7t",
        "outputId": "128772ba-b4a0-4713-bacb-3931e4943c2e"
      },
      "source": [
        "sns.boxplot(x='stars', y='user_sim_counts', data=data)"
      ],
      "id": "8mk1gOW8bW7t",
      "execution_count": 168,
      "outputs": [
        {
          "output_type": "execute_result",
          "data": {
            "text/plain": [
              "<matplotlib.axes._subplots.AxesSubplot at 0x7fee5c9479d0>"
            ]
          },
          "metadata": {},
          "execution_count": 168
        },
        {
          "output_type": "display_data",
          "data": {
            "image/png": "[encoded data removed]",
            "text/plain": [
              "<Figure size 432x288 with 1 Axes>"
            ]
          },
          "metadata": {}
        }
      ]
    },
    {
      "cell_type": "markdown",
      "metadata": {
        "id": "EvOLdtV_bW7t"
      },
      "source": [
        "## Transforming Categorical to Dummies"
      ],
      "id": "EvOLdtV_bW7t"
    },
    {
      "cell_type": "code",
      "metadata": {
        "id": "txaptiYvbW7t"
      },
      "source": [
        "data = pd.get_dummies(data, columns=['city', 'state', 'postal_code'])"
      ],
      "id": "txaptiYvbW7t",
      "execution_count": 170,
      "outputs": []
    },
    {
      "cell_type": "code",
      "metadata": {
        "colab": {
          "base_uri": "https://localhost:8080/",
          "height": 542
        },
        "id": "1xqXG0aBbW7t",
        "outputId": "d67aa21e-1864-4bab-cded-7302042a126b"
      },
      "source": [
        "data.head()"
      ],
      "id": "1xqXG0aBbW7t",
      "execution_count": 171,
      "outputs": [
        {
          "output_type": "execute_result",
          "data": {
            "text/html": [
              "<div>\n",
              "<style scoped>\n",
              "    .dataframe tbody tr th:only-of-type {\n",
              "        vertical-align: middle;\n",
              "    }\n",
              "\n",
              "    .dataframe tbody tr th {\n",
              "        vertical-align: top;\n",
              "    }\n",
              "\n",
              "    .dataframe thead th {\n",
              "        text-align: right;\n",
              "    }\n",
              "</style>\n",
              "<table border=\"1\" class=\"dataframe\">\n",
              "  <thead>\n",
              "    <tr style=\"text-align: right;\">\n",
              "      <th></th>\n",
              "      <th>stars</th>\n",
              "      <th>business_id</th>\n",
              "      <th>name</th>\n",
              "      <th>latitude</th>\n",
              "      <th>longitude</th>\n",
              "      <th>categories</th>\n",
              "      <th>review_count</th>\n",
              "      <th>mean_user_review_counts</th>\n",
              "      <th>mean_months_since_yelping</th>\n",
              "      <th>mean_user_fans</th>\n",
              "      <th>mean_total_compliments</th>\n",
              "      <th>location_cluster</th>\n",
              "      <th>sim_counts</th>\n",
              "      <th>user_sim_counts</th>\n",
              "      <th>city_alafaya</th>\n",
              "      <th>city_aloha</th>\n",
              "      <th>city_alpharetta</th>\n",
              "      <th>city_altamonte springs</th>\n",
              "      <th>city_apopka</th>\n",
              "      <th>city_arvada</th>\n",
              "      <th>city_ashville</th>\n",
              "      <th>city_atlanta</th>\n",
              "      <th>city_austell</th>\n",
              "      <th>city_austin</th>\n",
              "      <th>city_avondale estates</th>\n",
              "      <th>city_bay lake</th>\n",
              "      <th>city_beaverton</th>\n",
              "      <th>city_bee cave</th>\n",
              "      <th>city_belle isle</th>\n",
              "      <th>city_beverly</th>\n",
              "      <th>city_bexley</th>\n",
              "      <th>city_boston</th>\n",
              "      <th>city_boulder</th>\n",
              "      <th>city_braintree</th>\n",
              "      <th>city_brice</th>\n",
              "      <th>city_brockton</th>\n",
              "      <th>city_brookhaven</th>\n",
              "      <th>city_buckhead</th>\n",
              "      <th>city_buda</th>\n",
              "      <th>city_camas</th>\n",
              "      <th>...</th>\n",
              "      <th>postal_code_97212</th>\n",
              "      <th>postal_code_97213</th>\n",
              "      <th>postal_code_97214</th>\n",
              "      <th>postal_code_97215</th>\n",
              "      <th>postal_code_97216</th>\n",
              "      <th>postal_code_97217</th>\n",
              "      <th>postal_code_97218</th>\n",
              "      <th>postal_code_97219</th>\n",
              "      <th>postal_code_97220</th>\n",
              "      <th>postal_code_97221</th>\n",
              "      <th>postal_code_97222</th>\n",
              "      <th>postal_code_97223</th>\n",
              "      <th>postal_code_97224</th>\n",
              "      <th>postal_code_97225</th>\n",
              "      <th>postal_code_97227</th>\n",
              "      <th>postal_code_97229</th>\n",
              "      <th>postal_code_97230</th>\n",
              "      <th>postal_code_97231</th>\n",
              "      <th>postal_code_97232</th>\n",
              "      <th>postal_code_97233</th>\n",
              "      <th>postal_code_97236</th>\n",
              "      <th>postal_code_97239</th>\n",
              "      <th>postal_code_97253</th>\n",
              "      <th>postal_code_97255</th>\n",
              "      <th>postal_code_97258</th>\n",
              "      <th>postal_code_97266</th>\n",
              "      <th>postal_code_97267</th>\n",
              "      <th>postal_code_97381</th>\n",
              "      <th>postal_code_98607</th>\n",
              "      <th>postal_code_98660</th>\n",
              "      <th>postal_code_98661</th>\n",
              "      <th>postal_code_98662</th>\n",
              "      <th>postal_code_98663</th>\n",
              "      <th>postal_code_98664</th>\n",
              "      <th>postal_code_98665</th>\n",
              "      <th>postal_code_98682</th>\n",
              "      <th>postal_code_98683</th>\n",
              "      <th>postal_code_98684</th>\n",
              "      <th>postal_code_98685</th>\n",
              "      <th>postal_code_98686</th>\n",
              "    </tr>\n",
              "  </thead>\n",
              "  <tbody>\n",
              "    <tr>\n",
              "      <th>0</th>\n",
              "      <td>4.0</td>\n",
              "      <td>6iYb2HFDywm3zjuRg0shjw</td>\n",
              "      <td>oskar blues taproom</td>\n",
              "      <td>40.017544</td>\n",
              "      <td>-105.283348</td>\n",
              "      <td>gastropubs, food, beer gardens, restaurants, b...</td>\n",
              "      <td>1.934498</td>\n",
              "      <td>52.558824</td>\n",
              "      <td>96.966861</td>\n",
              "      <td>1.970588</td>\n",
              "      <td>14.323529</td>\n",
              "      <td>0</td>\n",
              "      <td>1.0</td>\n",
              "      <td>209.0</td>\n",
              "      <td>0</td>\n",
              "      <td>0</td>\n",
              "      <td>0</td>\n",
              "      <td>0</td>\n",
              "      <td>0</td>\n",
              "      <td>0</td>\n",
              "      <td>0</td>\n",
              "      <td>0</td>\n",
              "      <td>0</td>\n",
              "      <td>0</td>\n",
              "      <td>0</td>\n",
              "      <td>0</td>\n",
              "      <td>0</td>\n",
              "      <td>0</td>\n",
              "      <td>0</td>\n",
              "      <td>0</td>\n",
              "      <td>0</td>\n",
              "      <td>0</td>\n",
              "      <td>1</td>\n",
              "      <td>0</td>\n",
              "      <td>0</td>\n",
              "      <td>0</td>\n",
              "      <td>0</td>\n",
              "      <td>0</td>\n",
              "      <td>0</td>\n",
              "      <td>0</td>\n",
              "      <td>...</td>\n",
              "      <td>0</td>\n",
              "      <td>0</td>\n",
              "      <td>0</td>\n",
              "      <td>0</td>\n",
              "      <td>0</td>\n",
              "      <td>0</td>\n",
              "      <td>0</td>\n",
              "      <td>0</td>\n",
              "      <td>0</td>\n",
              "      <td>0</td>\n",
              "      <td>0</td>\n",
              "      <td>0</td>\n",
              "      <td>0</td>\n",
              "      <td>0</td>\n",
              "      <td>0</td>\n",
              "      <td>0</td>\n",
              "      <td>0</td>\n",
              "      <td>0</td>\n",
              "      <td>0</td>\n",
              "      <td>0</td>\n",
              "      <td>0</td>\n",
              "      <td>0</td>\n",
              "      <td>0</td>\n",
              "      <td>0</td>\n",
              "      <td>0</td>\n",
              "      <td>0</td>\n",
              "      <td>0</td>\n",
              "      <td>0</td>\n",
              "      <td>0</td>\n",
              "      <td>0</td>\n",
              "      <td>0</td>\n",
              "      <td>0</td>\n",
              "      <td>0</td>\n",
              "      <td>0</td>\n",
              "      <td>0</td>\n",
              "      <td>0</td>\n",
              "      <td>0</td>\n",
              "      <td>0</td>\n",
              "      <td>0</td>\n",
              "      <td>0</td>\n",
              "    </tr>\n",
              "    <tr>\n",
              "      <th>1</th>\n",
              "      <td>4.0</td>\n",
              "      <td>tCbdrRPZA0oiIYSmHG3J0w</td>\n",
              "      <td>flying elephants at pdx</td>\n",
              "      <td>45.588906</td>\n",
              "      <td>-122.593331</td>\n",
              "      <td>salad, soup, sandwiches, delis, restaurants, c...</td>\n",
              "      <td>2.100371</td>\n",
              "      <td>309.323529</td>\n",
              "      <td>124.540193</td>\n",
              "      <td>25.843137</td>\n",
              "      <td>625.107843</td>\n",
              "      <td>1</td>\n",
              "      <td>1.0</td>\n",
              "      <td>1409.0</td>\n",
              "      <td>0</td>\n",
              "      <td>0</td>\n",
              "      <td>0</td>\n",
              "      <td>0</td>\n",
              "      <td>0</td>\n",
              "      <td>0</td>\n",
              "      <td>0</td>\n",
              "      <td>0</td>\n",
              "      <td>0</td>\n",
              "      <td>0</td>\n",
              "      <td>0</td>\n",
              "      <td>0</td>\n",
              "      <td>0</td>\n",
              "      <td>0</td>\n",
              "      <td>0</td>\n",
              "      <td>0</td>\n",
              "      <td>0</td>\n",
              "      <td>0</td>\n",
              "      <td>0</td>\n",
              "      <td>0</td>\n",
              "      <td>0</td>\n",
              "      <td>0</td>\n",
              "      <td>0</td>\n",
              "      <td>0</td>\n",
              "      <td>0</td>\n",
              "      <td>0</td>\n",
              "      <td>...</td>\n",
              "      <td>0</td>\n",
              "      <td>0</td>\n",
              "      <td>0</td>\n",
              "      <td>0</td>\n",
              "      <td>0</td>\n",
              "      <td>0</td>\n",
              "      <td>1</td>\n",
              "      <td>0</td>\n",
              "      <td>0</td>\n",
              "      <td>0</td>\n",
              "      <td>0</td>\n",
              "      <td>0</td>\n",
              "      <td>0</td>\n",
              "      <td>0</td>\n",
              "      <td>0</td>\n",
              "      <td>0</td>\n",
              "      <td>0</td>\n",
              "      <td>0</td>\n",
              "      <td>0</td>\n",
              "      <td>0</td>\n",
              "      <td>0</td>\n",
              "      <td>0</td>\n",
              "      <td>0</td>\n",
              "      <td>0</td>\n",
              "      <td>0</td>\n",
              "      <td>0</td>\n",
              "      <td>0</td>\n",
              "      <td>0</td>\n",
              "      <td>0</td>\n",
              "      <td>0</td>\n",
              "      <td>0</td>\n",
              "      <td>0</td>\n",
              "      <td>0</td>\n",
              "      <td>0</td>\n",
              "      <td>0</td>\n",
              "      <td>0</td>\n",
              "      <td>0</td>\n",
              "      <td>0</td>\n",
              "      <td>0</td>\n",
              "      <td>0</td>\n",
              "    </tr>\n",
              "    <tr>\n",
              "      <th>2</th>\n",
              "      <td>4.5</td>\n",
              "      <td>jFYIsSb7r1QeESVUnXPHBw</td>\n",
              "      <td>boxwood biscuit</td>\n",
              "      <td>39.947007</td>\n",
              "      <td>-82.997471</td>\n",
              "      <td>breakfast &amp; brunch, restaurants</td>\n",
              "      <td>1.041393</td>\n",
              "      <td>148.500000</td>\n",
              "      <td>51.815782</td>\n",
              "      <td>4.500000</td>\n",
              "      <td>30.000000</td>\n",
              "      <td>2</td>\n",
              "      <td>7.0</td>\n",
              "      <td>723.0</td>\n",
              "      <td>0</td>\n",
              "      <td>0</td>\n",
              "      <td>0</td>\n",
              "      <td>0</td>\n",
              "      <td>0</td>\n",
              "      <td>0</td>\n",
              "      <td>0</td>\n",
              "      <td>0</td>\n",
              "      <td>0</td>\n",
              "      <td>0</td>\n",
              "      <td>0</td>\n",
              "      <td>0</td>\n",
              "      <td>0</td>\n",
              "      <td>0</td>\n",
              "      <td>0</td>\n",
              "      <td>0</td>\n",
              "      <td>0</td>\n",
              "      <td>0</td>\n",
              "      <td>0</td>\n",
              "      <td>0</td>\n",
              "      <td>0</td>\n",
              "      <td>0</td>\n",
              "      <td>0</td>\n",
              "      <td>0</td>\n",
              "      <td>0</td>\n",
              "      <td>0</td>\n",
              "      <td>...</td>\n",
              "      <td>0</td>\n",
              "      <td>0</td>\n",
              "      <td>0</td>\n",
              "      <td>0</td>\n",
              "      <td>0</td>\n",
              "      <td>0</td>\n",
              "      <td>0</td>\n",
              "      <td>0</td>\n",
              "      <td>0</td>\n",
              "      <td>0</td>\n",
              "      <td>0</td>\n",
              "      <td>0</td>\n",
              "      <td>0</td>\n",
              "      <td>0</td>\n",
              "      <td>0</td>\n",
              "      <td>0</td>\n",
              "      <td>0</td>\n",
              "      <td>0</td>\n",
              "      <td>0</td>\n",
              "      <td>0</td>\n",
              "      <td>0</td>\n",
              "      <td>0</td>\n",
              "      <td>0</td>\n",
              "      <td>0</td>\n",
              "      <td>0</td>\n",
              "      <td>0</td>\n",
              "      <td>0</td>\n",
              "      <td>0</td>\n",
              "      <td>0</td>\n",
              "      <td>0</td>\n",
              "      <td>0</td>\n",
              "      <td>0</td>\n",
              "      <td>0</td>\n",
              "      <td>0</td>\n",
              "      <td>0</td>\n",
              "      <td>0</td>\n",
              "      <td>0</td>\n",
              "      <td>0</td>\n",
              "      <td>0</td>\n",
              "      <td>0</td>\n",
              "    </tr>\n",
              "    <tr>\n",
              "      <th>3</th>\n",
              "      <td>3.5</td>\n",
              "      <td>rYs_1pNB_RMtn5WQh55QDA</td>\n",
              "      <td>chautauqua general store</td>\n",
              "      <td>39.998449</td>\n",
              "      <td>-105.281006</td>\n",
              "      <td>food, shopping, convenience stores, souvenir s...</td>\n",
              "      <td>0.698970</td>\n",
              "      <td>62.500000</td>\n",
              "      <td>118.295485</td>\n",
              "      <td>2.000000</td>\n",
              "      <td>0.500000</td>\n",
              "      <td>0</td>\n",
              "      <td>1.0</td>\n",
              "      <td>193.0</td>\n",
              "      <td>0</td>\n",
              "      <td>0</td>\n",
              "      <td>0</td>\n",
              "      <td>0</td>\n",
              "      <td>0</td>\n",
              "      <td>0</td>\n",
              "      <td>0</td>\n",
              "      <td>0</td>\n",
              "      <td>0</td>\n",
              "      <td>0</td>\n",
              "      <td>0</td>\n",
              "      <td>0</td>\n",
              "      <td>0</td>\n",
              "      <td>0</td>\n",
              "      <td>0</td>\n",
              "      <td>0</td>\n",
              "      <td>0</td>\n",
              "      <td>0</td>\n",
              "      <td>1</td>\n",
              "      <td>0</td>\n",
              "      <td>0</td>\n",
              "      <td>0</td>\n",
              "      <td>0</td>\n",
              "      <td>0</td>\n",
              "      <td>0</td>\n",
              "      <td>0</td>\n",
              "      <td>...</td>\n",
              "      <td>0</td>\n",
              "      <td>0</td>\n",
              "      <td>0</td>\n",
              "      <td>0</td>\n",
              "      <td>0</td>\n",
              "      <td>0</td>\n",
              "      <td>0</td>\n",
              "      <td>0</td>\n",
              "      <td>0</td>\n",
              "      <td>0</td>\n",
              "      <td>0</td>\n",
              "      <td>0</td>\n",
              "      <td>0</td>\n",
              "      <td>0</td>\n",
              "      <td>0</td>\n",
              "      <td>0</td>\n",
              "      <td>0</td>\n",
              "      <td>0</td>\n",
              "      <td>0</td>\n",
              "      <td>0</td>\n",
              "      <td>0</td>\n",
              "      <td>0</td>\n",
              "      <td>0</td>\n",
              "      <td>0</td>\n",
              "      <td>0</td>\n",
              "      <td>0</td>\n",
              "      <td>0</td>\n",
              "      <td>0</td>\n",
              "      <td>0</td>\n",
              "      <td>0</td>\n",
              "      <td>0</td>\n",
              "      <td>0</td>\n",
              "      <td>0</td>\n",
              "      <td>0</td>\n",
              "      <td>0</td>\n",
              "      <td>0</td>\n",
              "      <td>0</td>\n",
              "      <td>0</td>\n",
              "      <td>0</td>\n",
              "      <td>0</td>\n",
              "    </tr>\n",
              "    <tr>\n",
              "      <th>4</th>\n",
              "      <td>4.0</td>\n",
              "      <td>HPA_qyMEddpAEtFof02ixg</td>\n",
              "      <td>mr g's pizza &amp; subs</td>\n",
              "      <td>42.541155</td>\n",
              "      <td>-70.973438</td>\n",
              "      <td>food, pizza, restaurants</td>\n",
              "      <td>1.591065</td>\n",
              "      <td>63.916667</td>\n",
              "      <td>112.956969</td>\n",
              "      <td>5.291667</td>\n",
              "      <td>67.416667</td>\n",
              "      <td>3</td>\n",
              "      <td>8.0</td>\n",
              "      <td>2016.0</td>\n",
              "      <td>0</td>\n",
              "      <td>0</td>\n",
              "      <td>0</td>\n",
              "      <td>0</td>\n",
              "      <td>0</td>\n",
              "      <td>0</td>\n",
              "      <td>0</td>\n",
              "      <td>0</td>\n",
              "      <td>0</td>\n",
              "      <td>0</td>\n",
              "      <td>0</td>\n",
              "      <td>0</td>\n",
              "      <td>0</td>\n",
              "      <td>0</td>\n",
              "      <td>0</td>\n",
              "      <td>0</td>\n",
              "      <td>0</td>\n",
              "      <td>0</td>\n",
              "      <td>0</td>\n",
              "      <td>0</td>\n",
              "      <td>0</td>\n",
              "      <td>0</td>\n",
              "      <td>0</td>\n",
              "      <td>0</td>\n",
              "      <td>0</td>\n",
              "      <td>0</td>\n",
              "      <td>...</td>\n",
              "      <td>0</td>\n",
              "      <td>0</td>\n",
              "      <td>0</td>\n",
              "      <td>0</td>\n",
              "      <td>0</td>\n",
              "      <td>0</td>\n",
              "      <td>0</td>\n",
              "      <td>0</td>\n",
              "      <td>0</td>\n",
              "      <td>0</td>\n",
              "      <td>0</td>\n",
              "      <td>0</td>\n",
              "      <td>0</td>\n",
              "      <td>0</td>\n",
              "      <td>0</td>\n",
              "      <td>0</td>\n",
              "      <td>0</td>\n",
              "      <td>0</td>\n",
              "      <td>0</td>\n",
              "      <td>0</td>\n",
              "      <td>0</td>\n",
              "      <td>0</td>\n",
              "      <td>0</td>\n",
              "      <td>0</td>\n",
              "      <td>0</td>\n",
              "      <td>0</td>\n",
              "      <td>0</td>\n",
              "      <td>0</td>\n",
              "      <td>0</td>\n",
              "      <td>0</td>\n",
              "      <td>0</td>\n",
              "      <td>0</td>\n",
              "      <td>0</td>\n",
              "      <td>0</td>\n",
              "      <td>0</td>\n",
              "      <td>0</td>\n",
              "      <td>0</td>\n",
              "      <td>0</td>\n",
              "      <td>0</td>\n",
              "      <td>0</td>\n",
              "    </tr>\n",
              "  </tbody>\n",
              "</table>\n",
              "<p>5 rows × 738 columns</p>\n",
              "</div>"
            ],
            "text/plain": [
              "   stars             business_id  ... postal_code_98685  postal_code_98686\n",
              "0    4.0  6iYb2HFDywm3zjuRg0shjw  ...                 0                  0\n",
              "1    4.0  tCbdrRPZA0oiIYSmHG3J0w  ...                 0                  0\n",
              "2    4.5  jFYIsSb7r1QeESVUnXPHBw  ...                 0                  0\n",
              "3    3.5  rYs_1pNB_RMtn5WQh55QDA  ...                 0                  0\n",
              "4    4.0  HPA_qyMEddpAEtFof02ixg  ...                 0                  0\n",
              "\n",
              "[5 rows x 738 columns]"
            ]
          },
          "metadata": {},
          "execution_count": 171
        }
      ]
    },
    {
      "cell_type": "markdown",
      "metadata": {
        "id": "eGs_d-cnbW7t"
      },
      "source": [
        "# Exporting transformed data for Modelling"
      ],
      "id": "eGs_d-cnbW7t"
    },
    {
      "cell_type": "code",
      "metadata": {
        "colab": {
          "base_uri": "https://localhost:8080/",
          "height": 542
        },
        "id": "y-IUr5m1bW7t",
        "outputId": "9c5bc643-8eaa-41d8-c99f-f61286b389e7"
      },
      "source": [
        "data.head()"
      ],
      "id": "y-IUr5m1bW7t",
      "execution_count": 172,
      "outputs": [
        {
          "output_type": "execute_result",
          "data": {
            "text/html": [
              "<div>\n",
              "<style scoped>\n",
              "    .dataframe tbody tr th:only-of-type {\n",
              "        vertical-align: middle;\n",
              "    }\n",
              "\n",
              "    .dataframe tbody tr th {\n",
              "        vertical-align: top;\n",
              "    }\n",
              "\n",
              "    .dataframe thead th {\n",
              "        text-align: right;\n",
              "    }\n",
              "</style>\n",
              "<table border=\"1\" class=\"dataframe\">\n",
              "  <thead>\n",
              "    <tr style=\"text-align: right;\">\n",
              "      <th></th>\n",
              "      <th>stars</th>\n",
              "      <th>business_id</th>\n",
              "      <th>name</th>\n",
              "      <th>latitude</th>\n",
              "      <th>longitude</th>\n",
              "      <th>categories</th>\n",
              "      <th>review_count</th>\n",
              "      <th>mean_user_review_counts</th>\n",
              "      <th>mean_months_since_yelping</th>\n",
              "      <th>mean_user_fans</th>\n",
              "      <th>mean_total_compliments</th>\n",
              "      <th>location_cluster</th>\n",
              "      <th>sim_counts</th>\n",
              "      <th>user_sim_counts</th>\n",
              "      <th>city_alafaya</th>\n",
              "      <th>city_aloha</th>\n",
              "      <th>city_alpharetta</th>\n",
              "      <th>city_altamonte springs</th>\n",
              "      <th>city_apopka</th>\n",
              "      <th>city_arvada</th>\n",
              "      <th>city_ashville</th>\n",
              "      <th>city_atlanta</th>\n",
              "      <th>city_austell</th>\n",
              "      <th>city_austin</th>\n",
              "      <th>city_avondale estates</th>\n",
              "      <th>city_bay lake</th>\n",
              "      <th>city_beaverton</th>\n",
              "      <th>city_bee cave</th>\n",
              "      <th>city_belle isle</th>\n",
              "      <th>city_beverly</th>\n",
              "      <th>city_bexley</th>\n",
              "      <th>city_boston</th>\n",
              "      <th>city_boulder</th>\n",
              "      <th>city_braintree</th>\n",
              "      <th>city_brice</th>\n",
              "      <th>city_brockton</th>\n",
              "      <th>city_brookhaven</th>\n",
              "      <th>city_buckhead</th>\n",
              "      <th>city_buda</th>\n",
              "      <th>city_camas</th>\n",
              "      <th>...</th>\n",
              "      <th>postal_code_97212</th>\n",
              "      <th>postal_code_97213</th>\n",
              "      <th>postal_code_97214</th>\n",
              "      <th>postal_code_97215</th>\n",
              "      <th>postal_code_97216</th>\n",
              "      <th>postal_code_97217</th>\n",
              "      <th>postal_code_97218</th>\n",
              "      <th>postal_code_97219</th>\n",
              "      <th>postal_code_97220</th>\n",
              "      <th>postal_code_97221</th>\n",
              "      <th>postal_code_97222</th>\n",
              "      <th>postal_code_97223</th>\n",
              "      <th>postal_code_97224</th>\n",
              "      <th>postal_code_97225</th>\n",
              "      <th>postal_code_97227</th>\n",
              "      <th>postal_code_97229</th>\n",
              "      <th>postal_code_97230</th>\n",
              "      <th>postal_code_97231</th>\n",
              "      <th>postal_code_97232</th>\n",
              "      <th>postal_code_97233</th>\n",
              "      <th>postal_code_97236</th>\n",
              "      <th>postal_code_97239</th>\n",
              "      <th>postal_code_97253</th>\n",
              "      <th>postal_code_97255</th>\n",
              "      <th>postal_code_97258</th>\n",
              "      <th>postal_code_97266</th>\n",
              "      <th>postal_code_97267</th>\n",
              "      <th>postal_code_97381</th>\n",
              "      <th>postal_code_98607</th>\n",
              "      <th>postal_code_98660</th>\n",
              "      <th>postal_code_98661</th>\n",
              "      <th>postal_code_98662</th>\n",
              "      <th>postal_code_98663</th>\n",
              "      <th>postal_code_98664</th>\n",
              "      <th>postal_code_98665</th>\n",
              "      <th>postal_code_98682</th>\n",
              "      <th>postal_code_98683</th>\n",
              "      <th>postal_code_98684</th>\n",
              "      <th>postal_code_98685</th>\n",
              "      <th>postal_code_98686</th>\n",
              "    </tr>\n",
              "  </thead>\n",
              "  <tbody>\n",
              "    <tr>\n",
              "      <th>0</th>\n",
              "      <td>4.0</td>\n",
              "      <td>6iYb2HFDywm3zjuRg0shjw</td>\n",
              "      <td>oskar blues taproom</td>\n",
              "      <td>40.017544</td>\n",
              "      <td>-105.283348</td>\n",
              "      <td>gastropubs, food, beer gardens, restaurants, b...</td>\n",
              "      <td>1.934498</td>\n",
              "      <td>52.558824</td>\n",
              "      <td>96.966861</td>\n",
              "      <td>1.970588</td>\n",
              "      <td>14.323529</td>\n",
              "      <td>0</td>\n",
              "      <td>1.0</td>\n",
              "      <td>209.0</td>\n",
              "      <td>0</td>\n",
              "      <td>0</td>\n",
              "      <td>0</td>\n",
              "      <td>0</td>\n",
              "      <td>0</td>\n",
              "      <td>0</td>\n",
              "      <td>0</td>\n",
              "      <td>0</td>\n",
              "      <td>0</td>\n",
              "      <td>0</td>\n",
              "      <td>0</td>\n",
              "      <td>0</td>\n",
              "      <td>0</td>\n",
              "      <td>0</td>\n",
              "      <td>0</td>\n",
              "      <td>0</td>\n",
              "      <td>0</td>\n",
              "      <td>0</td>\n",
              "      <td>1</td>\n",
              "      <td>0</td>\n",
              "      <td>0</td>\n",
              "      <td>0</td>\n",
              "      <td>0</td>\n",
              "      <td>0</td>\n",
              "      <td>0</td>\n",
              "      <td>0</td>\n",
              "      <td>...</td>\n",
              "      <td>0</td>\n",
              "      <td>0</td>\n",
              "      <td>0</td>\n",
              "      <td>0</td>\n",
              "      <td>0</td>\n",
              "      <td>0</td>\n",
              "      <td>0</td>\n",
              "      <td>0</td>\n",
              "      <td>0</td>\n",
              "      <td>0</td>\n",
              "      <td>0</td>\n",
              "      <td>0</td>\n",
              "      <td>0</td>\n",
              "      <td>0</td>\n",
              "      <td>0</td>\n",
              "      <td>0</td>\n",
              "      <td>0</td>\n",
              "      <td>0</td>\n",
              "      <td>0</td>\n",
              "      <td>0</td>\n",
              "      <td>0</td>\n",
              "      <td>0</td>\n",
              "      <td>0</td>\n",
              "      <td>0</td>\n",
              "      <td>0</td>\n",
              "      <td>0</td>\n",
              "      <td>0</td>\n",
              "      <td>0</td>\n",
              "      <td>0</td>\n",
              "      <td>0</td>\n",
              "      <td>0</td>\n",
              "      <td>0</td>\n",
              "      <td>0</td>\n",
              "      <td>0</td>\n",
              "      <td>0</td>\n",
              "      <td>0</td>\n",
              "      <td>0</td>\n",
              "      <td>0</td>\n",
              "      <td>0</td>\n",
              "      <td>0</td>\n",
              "    </tr>\n",
              "    <tr>\n",
              "      <th>1</th>\n",
              "      <td>4.0</td>\n",
              "      <td>tCbdrRPZA0oiIYSmHG3J0w</td>\n",
              "      <td>flying elephants at pdx</td>\n",
              "      <td>45.588906</td>\n",
              "      <td>-122.593331</td>\n",
              "      <td>salad, soup, sandwiches, delis, restaurants, c...</td>\n",
              "      <td>2.100371</td>\n",
              "      <td>309.323529</td>\n",
              "      <td>124.540193</td>\n",
              "      <td>25.843137</td>\n",
              "      <td>625.107843</td>\n",
              "      <td>1</td>\n",
              "      <td>1.0</td>\n",
              "      <td>1409.0</td>\n",
              "      <td>0</td>\n",
              "      <td>0</td>\n",
              "      <td>0</td>\n",
              "      <td>0</td>\n",
              "      <td>0</td>\n",
              "      <td>0</td>\n",
              "      <td>0</td>\n",
              "      <td>0</td>\n",
              "      <td>0</td>\n",
              "      <td>0</td>\n",
              "      <td>0</td>\n",
              "      <td>0</td>\n",
              "      <td>0</td>\n",
              "      <td>0</td>\n",
              "      <td>0</td>\n",
              "      <td>0</td>\n",
              "      <td>0</td>\n",
              "      <td>0</td>\n",
              "      <td>0</td>\n",
              "      <td>0</td>\n",
              "      <td>0</td>\n",
              "      <td>0</td>\n",
              "      <td>0</td>\n",
              "      <td>0</td>\n",
              "      <td>0</td>\n",
              "      <td>0</td>\n",
              "      <td>...</td>\n",
              "      <td>0</td>\n",
              "      <td>0</td>\n",
              "      <td>0</td>\n",
              "      <td>0</td>\n",
              "      <td>0</td>\n",
              "      <td>0</td>\n",
              "      <td>1</td>\n",
              "      <td>0</td>\n",
              "      <td>0</td>\n",
              "      <td>0</td>\n",
              "      <td>0</td>\n",
              "      <td>0</td>\n",
              "      <td>0</td>\n",
              "      <td>0</td>\n",
              "      <td>0</td>\n",
              "      <td>0</td>\n",
              "      <td>0</td>\n",
              "      <td>0</td>\n",
              "      <td>0</td>\n",
              "      <td>0</td>\n",
              "      <td>0</td>\n",
              "      <td>0</td>\n",
              "      <td>0</td>\n",
              "      <td>0</td>\n",
              "      <td>0</td>\n",
              "      <td>0</td>\n",
              "      <td>0</td>\n",
              "      <td>0</td>\n",
              "      <td>0</td>\n",
              "      <td>0</td>\n",
              "      <td>0</td>\n",
              "      <td>0</td>\n",
              "      <td>0</td>\n",
              "      <td>0</td>\n",
              "      <td>0</td>\n",
              "      <td>0</td>\n",
              "      <td>0</td>\n",
              "      <td>0</td>\n",
              "      <td>0</td>\n",
              "      <td>0</td>\n",
              "    </tr>\n",
              "    <tr>\n",
              "      <th>2</th>\n",
              "      <td>4.5</td>\n",
              "      <td>jFYIsSb7r1QeESVUnXPHBw</td>\n",
              "      <td>boxwood biscuit</td>\n",
              "      <td>39.947007</td>\n",
              "      <td>-82.997471</td>\n",
              "      <td>breakfast &amp; brunch, restaurants</td>\n",
              "      <td>1.041393</td>\n",
              "      <td>148.500000</td>\n",
              "      <td>51.815782</td>\n",
              "      <td>4.500000</td>\n",
              "      <td>30.000000</td>\n",
              "      <td>2</td>\n",
              "      <td>7.0</td>\n",
              "      <td>723.0</td>\n",
              "      <td>0</td>\n",
              "      <td>0</td>\n",
              "      <td>0</td>\n",
              "      <td>0</td>\n",
              "      <td>0</td>\n",
              "      <td>0</td>\n",
              "      <td>0</td>\n",
              "      <td>0</td>\n",
              "      <td>0</td>\n",
              "      <td>0</td>\n",
              "      <td>0</td>\n",
              "      <td>0</td>\n",
              "      <td>0</td>\n",
              "      <td>0</td>\n",
              "      <td>0</td>\n",
              "      <td>0</td>\n",
              "      <td>0</td>\n",
              "      <td>0</td>\n",
              "      <td>0</td>\n",
              "      <td>0</td>\n",
              "      <td>0</td>\n",
              "      <td>0</td>\n",
              "      <td>0</td>\n",
              "      <td>0</td>\n",
              "      <td>0</td>\n",
              "      <td>0</td>\n",
              "      <td>...</td>\n",
              "      <td>0</td>\n",
              "      <td>0</td>\n",
              "      <td>0</td>\n",
              "      <td>0</td>\n",
              "      <td>0</td>\n",
              "      <td>0</td>\n",
              "      <td>0</td>\n",
              "      <td>0</td>\n",
              "      <td>0</td>\n",
              "      <td>0</td>\n",
              "      <td>0</td>\n",
              "      <td>0</td>\n",
              "      <td>0</td>\n",
              "      <td>0</td>\n",
              "      <td>0</td>\n",
              "      <td>0</td>\n",
              "      <td>0</td>\n",
              "      <td>0</td>\n",
              "      <td>0</td>\n",
              "      <td>0</td>\n",
              "      <td>0</td>\n",
              "      <td>0</td>\n",
              "      <td>0</td>\n",
              "      <td>0</td>\n",
              "      <td>0</td>\n",
              "      <td>0</td>\n",
              "      <td>0</td>\n",
              "      <td>0</td>\n",
              "      <td>0</td>\n",
              "      <td>0</td>\n",
              "      <td>0</td>\n",
              "      <td>0</td>\n",
              "      <td>0</td>\n",
              "      <td>0</td>\n",
              "      <td>0</td>\n",
              "      <td>0</td>\n",
              "      <td>0</td>\n",
              "      <td>0</td>\n",
              "      <td>0</td>\n",
              "      <td>0</td>\n",
              "    </tr>\n",
              "    <tr>\n",
              "      <th>3</th>\n",
              "      <td>3.5</td>\n",
              "      <td>rYs_1pNB_RMtn5WQh55QDA</td>\n",
              "      <td>chautauqua general store</td>\n",
              "      <td>39.998449</td>\n",
              "      <td>-105.281006</td>\n",
              "      <td>food, shopping, convenience stores, souvenir s...</td>\n",
              "      <td>0.698970</td>\n",
              "      <td>62.500000</td>\n",
              "      <td>118.295485</td>\n",
              "      <td>2.000000</td>\n",
              "      <td>0.500000</td>\n",
              "      <td>0</td>\n",
              "      <td>1.0</td>\n",
              "      <td>193.0</td>\n",
              "      <td>0</td>\n",
              "      <td>0</td>\n",
              "      <td>0</td>\n",
              "      <td>0</td>\n",
              "      <td>0</td>\n",
              "      <td>0</td>\n",
              "      <td>0</td>\n",
              "      <td>0</td>\n",
              "      <td>0</td>\n",
              "      <td>0</td>\n",
              "      <td>0</td>\n",
              "      <td>0</td>\n",
              "      <td>0</td>\n",
              "      <td>0</td>\n",
              "      <td>0</td>\n",
              "      <td>0</td>\n",
              "      <td>0</td>\n",
              "      <td>0</td>\n",
              "      <td>1</td>\n",
              "      <td>0</td>\n",
              "      <td>0</td>\n",
              "      <td>0</td>\n",
              "      <td>0</td>\n",
              "      <td>0</td>\n",
              "      <td>0</td>\n",
              "      <td>0</td>\n",
              "      <td>...</td>\n",
              "      <td>0</td>\n",
              "      <td>0</td>\n",
              "      <td>0</td>\n",
              "      <td>0</td>\n",
              "      <td>0</td>\n",
              "      <td>0</td>\n",
              "      <td>0</td>\n",
              "      <td>0</td>\n",
              "      <td>0</td>\n",
              "      <td>0</td>\n",
              "      <td>0</td>\n",
              "      <td>0</td>\n",
              "      <td>0</td>\n",
              "      <td>0</td>\n",
              "      <td>0</td>\n",
              "      <td>0</td>\n",
              "      <td>0</td>\n",
              "      <td>0</td>\n",
              "      <td>0</td>\n",
              "      <td>0</td>\n",
              "      <td>0</td>\n",
              "      <td>0</td>\n",
              "      <td>0</td>\n",
              "      <td>0</td>\n",
              "      <td>0</td>\n",
              "      <td>0</td>\n",
              "      <td>0</td>\n",
              "      <td>0</td>\n",
              "      <td>0</td>\n",
              "      <td>0</td>\n",
              "      <td>0</td>\n",
              "      <td>0</td>\n",
              "      <td>0</td>\n",
              "      <td>0</td>\n",
              "      <td>0</td>\n",
              "      <td>0</td>\n",
              "      <td>0</td>\n",
              "      <td>0</td>\n",
              "      <td>0</td>\n",
              "      <td>0</td>\n",
              "    </tr>\n",
              "    <tr>\n",
              "      <th>4</th>\n",
              "      <td>4.0</td>\n",
              "      <td>HPA_qyMEddpAEtFof02ixg</td>\n",
              "      <td>mr g's pizza &amp; subs</td>\n",
              "      <td>42.541155</td>\n",
              "      <td>-70.973438</td>\n",
              "      <td>food, pizza, restaurants</td>\n",
              "      <td>1.591065</td>\n",
              "      <td>63.916667</td>\n",
              "      <td>112.956969</td>\n",
              "      <td>5.291667</td>\n",
              "      <td>67.416667</td>\n",
              "      <td>3</td>\n",
              "      <td>8.0</td>\n",
              "      <td>2016.0</td>\n",
              "      <td>0</td>\n",
              "      <td>0</td>\n",
              "      <td>0</td>\n",
              "      <td>0</td>\n",
              "      <td>0</td>\n",
              "      <td>0</td>\n",
              "      <td>0</td>\n",
              "      <td>0</td>\n",
              "      <td>0</td>\n",
              "      <td>0</td>\n",
              "      <td>0</td>\n",
              "      <td>0</td>\n",
              "      <td>0</td>\n",
              "      <td>0</td>\n",
              "      <td>0</td>\n",
              "      <td>0</td>\n",
              "      <td>0</td>\n",
              "      <td>0</td>\n",
              "      <td>0</td>\n",
              "      <td>0</td>\n",
              "      <td>0</td>\n",
              "      <td>0</td>\n",
              "      <td>0</td>\n",
              "      <td>0</td>\n",
              "      <td>0</td>\n",
              "      <td>0</td>\n",
              "      <td>...</td>\n",
              "      <td>0</td>\n",
              "      <td>0</td>\n",
              "      <td>0</td>\n",
              "      <td>0</td>\n",
              "      <td>0</td>\n",
              "      <td>0</td>\n",
              "      <td>0</td>\n",
              "      <td>0</td>\n",
              "      <td>0</td>\n",
              "      <td>0</td>\n",
              "      <td>0</td>\n",
              "      <td>0</td>\n",
              "      <td>0</td>\n",
              "      <td>0</td>\n",
              "      <td>0</td>\n",
              "      <td>0</td>\n",
              "      <td>0</td>\n",
              "      <td>0</td>\n",
              "      <td>0</td>\n",
              "      <td>0</td>\n",
              "      <td>0</td>\n",
              "      <td>0</td>\n",
              "      <td>0</td>\n",
              "      <td>0</td>\n",
              "      <td>0</td>\n",
              "      <td>0</td>\n",
              "      <td>0</td>\n",
              "      <td>0</td>\n",
              "      <td>0</td>\n",
              "      <td>0</td>\n",
              "      <td>0</td>\n",
              "      <td>0</td>\n",
              "      <td>0</td>\n",
              "      <td>0</td>\n",
              "      <td>0</td>\n",
              "      <td>0</td>\n",
              "      <td>0</td>\n",
              "      <td>0</td>\n",
              "      <td>0</td>\n",
              "      <td>0</td>\n",
              "    </tr>\n",
              "  </tbody>\n",
              "</table>\n",
              "<p>5 rows × 738 columns</p>\n",
              "</div>"
            ],
            "text/plain": [
              "   stars             business_id  ... postal_code_98685  postal_code_98686\n",
              "0    4.0  6iYb2HFDywm3zjuRg0shjw  ...                 0                  0\n",
              "1    4.0  tCbdrRPZA0oiIYSmHG3J0w  ...                 0                  0\n",
              "2    4.5  jFYIsSb7r1QeESVUnXPHBw  ...                 0                  0\n",
              "3    3.5  rYs_1pNB_RMtn5WQh55QDA  ...                 0                  0\n",
              "4    4.0  HPA_qyMEddpAEtFof02ixg  ...                 0                  0\n",
              "\n",
              "[5 rows x 738 columns]"
            ]
          },
          "metadata": {},
          "execution_count": 172
        }
      ]
    },
    {
      "cell_type": "code",
      "metadata": {
        "colab": {
          "base_uri": "https://localhost:8080/"
        },
        "id": "bam-JBqcbW7t",
        "outputId": "394a8ccf-e8f4-4588-adc3-a63da1194ebe"
      },
      "source": [
        "data.info()"
      ],
      "id": "bam-JBqcbW7t",
      "execution_count": 173,
      "outputs": [
        {
          "output_type": "stream",
          "name": "stdout",
          "text": [
            "<class 'pandas.core.frame.DataFrame'>\n",
            "Int64Index: 28647 entries, 0 to 31774\n",
            "Columns: 738 entries, stars to postal_code_98686\n",
            "dtypes: float64(10), int64(1), object(3), uint8(724)\n",
            "memory usage: 24.3+ MB\n"
          ]
        }
      ]
    },
    {
      "cell_type": "code",
      "metadata": {
        "id": "asnI44TsbW7t"
      },
      "source": [
        "data.stars = (data.stars * 2).astype(np.int)"
      ],
      "id": "asnI44TsbW7t",
      "execution_count": 174,
      "outputs": []
    },
    {
      "cell_type": "code",
      "metadata": {
        "colab": {
          "base_uri": "https://localhost:8080/"
        },
        "id": "m8INKJ7-bW7t",
        "outputId": "9aafc5c0-e672-43d5-9480-5f8e1a8bde35"
      },
      "source": [
        "data.stars.value_counts()"
      ],
      "id": "m8INKJ7-bW7t",
      "execution_count": 175,
      "outputs": [
        {
          "output_type": "execute_result",
          "data": {
            "text/plain": [
              "8     7776\n",
              "7     6238\n",
              "9     5045\n",
              "6     3836\n",
              "5     2295\n",
              "4     1618\n",
              "10    1079\n",
              "3      652\n",
              "2      108\n",
              "Name: stars, dtype: int64"
            ]
          },
          "metadata": {},
          "execution_count": 175
        }
      ]
    },
    {
      "cell_type": "code",
      "metadata": {
        "colab": {
          "base_uri": "https://localhost:8080/"
        },
        "id": "Gst4cXqDbW7t",
        "outputId": "1c181209-26d9-4478-a21f-d23822f8fadb"
      },
      "source": [
        "data.info()"
      ],
      "id": "Gst4cXqDbW7t",
      "execution_count": 176,
      "outputs": [
        {
          "output_type": "stream",
          "name": "stdout",
          "text": [
            "<class 'pandas.core.frame.DataFrame'>\n",
            "Int64Index: 28647 entries, 0 to 31774\n",
            "Columns: 738 entries, stars to postal_code_98686\n",
            "dtypes: float64(9), int64(2), object(3), uint8(724)\n",
            "memory usage: 24.3+ MB\n"
          ]
        }
      ]
    },
    {
      "cell_type": "code",
      "metadata": {
        "colab": {
          "base_uri": "https://localhost:8080/",
          "height": 204
        },
        "id": "7NI8HdbebW7t",
        "outputId": "446d09a1-f7bf-4695-9f26-986c2ad581cd"
      },
      "source": [
        "data.select_dtypes(include='object').head()"
      ],
      "id": "7NI8HdbebW7t",
      "execution_count": 177,
      "outputs": [
        {
          "output_type": "execute_result",
          "data": {
            "text/html": [
              "<div>\n",
              "<style scoped>\n",
              "    .dataframe tbody tr th:only-of-type {\n",
              "        vertical-align: middle;\n",
              "    }\n",
              "\n",
              "    .dataframe tbody tr th {\n",
              "        vertical-align: top;\n",
              "    }\n",
              "\n",
              "    .dataframe thead th {\n",
              "        text-align: right;\n",
              "    }\n",
              "</style>\n",
              "<table border=\"1\" class=\"dataframe\">\n",
              "  <thead>\n",
              "    <tr style=\"text-align: right;\">\n",
              "      <th></th>\n",
              "      <th>business_id</th>\n",
              "      <th>name</th>\n",
              "      <th>categories</th>\n",
              "    </tr>\n",
              "  </thead>\n",
              "  <tbody>\n",
              "    <tr>\n",
              "      <th>0</th>\n",
              "      <td>6iYb2HFDywm3zjuRg0shjw</td>\n",
              "      <td>oskar blues taproom</td>\n",
              "      <td>gastropubs, food, beer gardens, restaurants, b...</td>\n",
              "    </tr>\n",
              "    <tr>\n",
              "      <th>1</th>\n",
              "      <td>tCbdrRPZA0oiIYSmHG3J0w</td>\n",
              "      <td>flying elephants at pdx</td>\n",
              "      <td>salad, soup, sandwiches, delis, restaurants, c...</td>\n",
              "    </tr>\n",
              "    <tr>\n",
              "      <th>2</th>\n",
              "      <td>jFYIsSb7r1QeESVUnXPHBw</td>\n",
              "      <td>boxwood biscuit</td>\n",
              "      <td>breakfast &amp; brunch, restaurants</td>\n",
              "    </tr>\n",
              "    <tr>\n",
              "      <th>3</th>\n",
              "      <td>rYs_1pNB_RMtn5WQh55QDA</td>\n",
              "      <td>chautauqua general store</td>\n",
              "      <td>food, shopping, convenience stores, souvenir s...</td>\n",
              "    </tr>\n",
              "    <tr>\n",
              "      <th>4</th>\n",
              "      <td>HPA_qyMEddpAEtFof02ixg</td>\n",
              "      <td>mr g's pizza &amp; subs</td>\n",
              "      <td>food, pizza, restaurants</td>\n",
              "    </tr>\n",
              "  </tbody>\n",
              "</table>\n",
              "</div>"
            ],
            "text/plain": [
              "              business_id  ...                                         categories\n",
              "0  6iYb2HFDywm3zjuRg0shjw  ...  gastropubs, food, beer gardens, restaurants, b...\n",
              "1  tCbdrRPZA0oiIYSmHG3J0w  ...  salad, soup, sandwiches, delis, restaurants, c...\n",
              "2  jFYIsSb7r1QeESVUnXPHBw  ...                    breakfast & brunch, restaurants\n",
              "3  rYs_1pNB_RMtn5WQh55QDA  ...  food, shopping, convenience stores, souvenir s...\n",
              "4  HPA_qyMEddpAEtFof02ixg  ...                           food, pizza, restaurants\n",
              "\n",
              "[5 rows x 3 columns]"
            ]
          },
          "metadata": {},
          "execution_count": 177
        }
      ]
    },
    {
      "cell_type": "code",
      "metadata": {
        "id": "2lM88lgIbW7t"
      },
      "source": [
        "from scipy.sparse import csr_matrix, save_npz"
      ],
      "id": "2lM88lgIbW7t",
      "execution_count": 178,
      "outputs": []
    },
    {
      "cell_type": "code",
      "metadata": {
        "id": "zFJyfvUAbW7t"
      },
      "source": [
        "csr = csr_matrix(data.drop(['name','business_id', 'categories','stars'], axis=1).values)"
      ],
      "id": "zFJyfvUAbW7t",
      "execution_count": 179,
      "outputs": []
    },
    {
      "cell_type": "code",
      "metadata": {
        "id": "6hPZGyScbW7u"
      },
      "source": [
        "save_npz(matrix=csr, file='/content/drive/My Drive/converted_data/1.4-sm-feature-engineered-location.npz')"
      ],
      "id": "6hPZGyScbW7u",
      "execution_count": 180,
      "outputs": []
    },
    {
      "cell_type": "code",
      "metadata": {
        "id": "CoXojk1ibW7u"
      },
      "source": [
        "data.stars.to_csv('/content/drive/My Drive/converted_data/1.4-sm-feature-engineered-location-labels.csv', index=False, header=True)"
      ],
      "id": "CoXojk1ibW7u",
      "execution_count": 181,
      "outputs": []
    },
    {
      "cell_type": "code",
      "metadata": {
        "id": "a-j_eoJ8bW7u"
      },
      "source": [
        "data.drop(['name','business_id', 'categories','stars'], axis=1).to_csv('/content/drive/My Drive/converted_data/1.4-sm-feature-engineered-location.csv', index=False)"
      ],
      "id": "a-j_eoJ8bW7u",
      "execution_count": 182,
      "outputs": []
    },
    {
      "cell_type": "code",
      "metadata": {
        "id": "lCqIWRembW7u"
      },
      "source": [
        ""
      ],
      "id": "lCqIWRembW7u",
      "execution_count": 182,
      "outputs": []
    },
    {
      "cell_type": "markdown",
      "metadata": {
        "id": "EIZHi9modEMt"
      },
      "source": [
        "# PART 3 : Modelling"
      ],
      "id": "EIZHi9modEMt"
    },
    {
      "cell_type": "code",
      "metadata": {
        "id": "ypxg4Oh9cN2f"
      },
      "source": [
        "import numpy as np\n",
        "import pandas as pd\n",
        "\n",
        "import matplotlib.pyplot as plt\n",
        "\n",
        "import seaborn as sns\n",
        "sns.set(style=\"whitegrid\")"
      ],
      "id": "ypxg4Oh9cN2f",
      "execution_count": 183,
      "outputs": []
    },
    {
      "cell_type": "code",
      "metadata": {
        "colab": {
          "base_uri": "https://localhost:8080/"
        },
        "id": "-4Kn9xMOcN2h",
        "outputId": "85180f94-24df-4431-ad32-c5fae7a7ca16"
      },
      "source": [
        "comment = \"\"\"RUNNING - Modelling with Location-Specific Feature Engineered data.\n",
        "This script will run the model training for location-specific feature engineered data\n",
        "that I have generated in previous notebook\n",
        "NOTE: This script needs the output files of 1.4-sm-feature-engineering-location \n",
        "AND it will fail for the downsampled dataset.\n",
        "\"\"\"\n",
        "print(comment)\n",
        "from time import sleep\n",
        "sleep(5)"
      ],
      "id": "-4Kn9xMOcN2h",
      "execution_count": 184,
      "outputs": [
        {
          "output_type": "stream",
          "name": "stdout",
          "text": [
            "RUNNING - Modelling with Location-Specific Feature Engineered data.\n",
            "This script will run the model training for location-specific feature engineered data\n",
            "that I have generated in previous notebook\n",
            "NOTE: This script needs the output files of 1.4-sm-feature-engineering-location \n",
            "AND it will fail for the downsampled dataset.\n",
            "\n"
          ]
        }
      ]
    },
    {
      "cell_type": "markdown",
      "metadata": {
        "id": "Xposr6aicN2i"
      },
      "source": [
        "# Obtain Data"
      ],
      "id": "Xposr6aicN2i"
    },
    {
      "cell_type": "code",
      "metadata": {
        "id": "Or7sYqCwcN2j"
      },
      "source": [
        "from scipy.sparse import csr_matrix, load_npz"
      ],
      "id": "Or7sYqCwcN2j",
      "execution_count": 185,
      "outputs": []
    },
    {
      "cell_type": "code",
      "metadata": {
        "id": "Ra-fO1a7cN2j"
      },
      "source": [
        "train = load_npz('/content/drive/My Drive/converted_data/1.4-sm-feature-engineered-location.npz')\n",
        "# train = pd.read_csv('1.1-am-feature-engineered-1.csv')"
      ],
      "id": "Ra-fO1a7cN2j",
      "execution_count": 186,
      "outputs": []
    },
    {
      "cell_type": "code",
      "metadata": {
        "colab": {
          "base_uri": "https://localhost:8080/"
        },
        "id": "pMHVroGncN2j",
        "outputId": "7c4e1c04-de2c-401a-be3e-3e0442023868"
      },
      "source": [
        "train.shape"
      ],
      "id": "pMHVroGncN2j",
      "execution_count": 187,
      "outputs": [
        {
          "output_type": "execute_result",
          "data": {
            "text/plain": [
              "(28647, 734)"
            ]
          },
          "metadata": {},
          "execution_count": 187
        }
      ]
    },
    {
      "cell_type": "code",
      "metadata": {
        "id": "3x9NXWrOcN2k"
      },
      "source": [
        "labels = pd.read_csv('/content/drive/My Drive/converted_data/1.4-sm-feature-engineered-location-labels.csv', )"
      ],
      "id": "3x9NXWrOcN2k",
      "execution_count": 188,
      "outputs": []
    },
    {
      "cell_type": "code",
      "metadata": {
        "colab": {
          "base_uri": "https://localhost:8080/"
        },
        "id": "G0tqYGSrcN2k",
        "outputId": "9a348d5d-3634-4feb-9950-eeb60691fcec"
      },
      "source": [
        "labels.info()"
      ],
      "id": "G0tqYGSrcN2k",
      "execution_count": 189,
      "outputs": [
        {
          "output_type": "stream",
          "name": "stdout",
          "text": [
            "<class 'pandas.core.frame.DataFrame'>\n",
            "RangeIndex: 28647 entries, 0 to 28646\n",
            "Data columns (total 1 columns):\n",
            " #   Column  Non-Null Count  Dtype\n",
            "---  ------  --------------  -----\n",
            " 0   stars   28647 non-null  int64\n",
            "dtypes: int64(1)\n",
            "memory usage: 223.9 KB\n"
          ]
        }
      ]
    },
    {
      "cell_type": "code",
      "metadata": {
        "colab": {
          "base_uri": "https://localhost:8080/"
        },
        "id": "XCGMsZqPcN2l",
        "outputId": "415eeb24-3b2f-4d93-be63-1b748a6084e6"
      },
      "source": [
        "labels.stars.values"
      ],
      "id": "XCGMsZqPcN2l",
      "execution_count": 190,
      "outputs": [
        {
          "output_type": "execute_result",
          "data": {
            "text/plain": [
              "array([8, 8, 9, ..., 6, 6, 9])"
            ]
          },
          "metadata": {},
          "execution_count": 190
        }
      ]
    },
    {
      "cell_type": "markdown",
      "metadata": {
        "id": "scYesteocN2l"
      },
      "source": [
        "### Modelling label as binary"
      ],
      "id": "scYesteocN2l"
    },
    {
      "cell_type": "markdown",
      "metadata": {
        "id": "IImDgLtqcN2l"
      },
      "source": [
        "Here I am defining the success measure of a restaurant as being a star rating of >= 3.5 (i.e. label >=7)"
      ],
      "id": "IImDgLtqcN2l"
    },
    {
      "cell_type": "code",
      "metadata": {
        "id": "uhEZK4y4cN2m"
      },
      "source": [
        "labels = labels >= 7"
      ],
      "id": "uhEZK4y4cN2m",
      "execution_count": 191,
      "outputs": []
    },
    {
      "cell_type": "code",
      "metadata": {
        "id": "BO3hAxqMcN2m"
      },
      "source": [
        "labels = labels.astype(np.int)"
      ],
      "id": "BO3hAxqMcN2m",
      "execution_count": 192,
      "outputs": []
    },
    {
      "cell_type": "code",
      "metadata": {
        "colab": {
          "base_uri": "https://localhost:8080/"
        },
        "id": "kzRMBlzXcN2m",
        "outputId": "6f98cb60-1e67-40cd-a38c-5c62124e2656"
      },
      "source": [
        "labels.stars.value_counts()"
      ],
      "id": "kzRMBlzXcN2m",
      "execution_count": 193,
      "outputs": [
        {
          "output_type": "execute_result",
          "data": {
            "text/plain": [
              "1    20138\n",
              "0     8509\n",
              "Name: stars, dtype: int64"
            ]
          },
          "metadata": {},
          "execution_count": 193
        }
      ]
    },
    {
      "cell_type": "markdown",
      "metadata": {
        "id": "1-IYkYtjcN2m"
      },
      "source": [
        "# Setup for Modelling"
      ],
      "id": "1-IYkYtjcN2m"
    },
    {
      "cell_type": "markdown",
      "metadata": {
        "id": "JofZsSxBcN2m"
      },
      "source": [
        "## Splitting data"
      ],
      "id": "JofZsSxBcN2m"
    },
    {
      "cell_type": "code",
      "metadata": {
        "id": "sNb-kB_icN2m"
      },
      "source": [
        "X = train\n",
        "y = labels.stars.values"
      ],
      "id": "sNb-kB_icN2m",
      "execution_count": 194,
      "outputs": []
    },
    {
      "cell_type": "code",
      "metadata": {
        "id": "IzeExgFtcN2n"
      },
      "source": [
        "from sklearn.model_selection import train_test_split"
      ],
      "id": "IzeExgFtcN2n",
      "execution_count": 195,
      "outputs": []
    },
    {
      "cell_type": "code",
      "metadata": {
        "id": "2ExLdn3CcN2n"
      },
      "source": [
        "X_train, X_cv, y_train, y_cv = train_test_split( \n",
        "              X, y, test_size = 0.4, random_state = 42, stratify = y) "
      ],
      "id": "2ExLdn3CcN2n",
      "execution_count": 196,
      "outputs": []
    },
    {
      "cell_type": "code",
      "metadata": {
        "id": "w1eBWtDecN2n"
      },
      "source": [
        "X_cv, X_test, y_cv, y_test = train_test_split(X_cv, y_cv, test_size=0.1, random_state=42, stratify=y_cv)"
      ],
      "id": "w1eBWtDecN2n",
      "execution_count": 197,
      "outputs": []
    },
    {
      "cell_type": "code",
      "metadata": {
        "colab": {
          "base_uri": "https://localhost:8080/"
        },
        "id": "c5l_37NwcN2n",
        "outputId": "b7edef8b-e7aa-4672-93fd-89e97a4f9cb4"
      },
      "source": [
        "print(X_train.shape)\n",
        "print(X_cv.shape)\n",
        "print(X_test.shape)"
      ],
      "id": "c5l_37NwcN2n",
      "execution_count": 198,
      "outputs": [
        {
          "output_type": "stream",
          "name": "stdout",
          "text": [
            "(17188, 734)\n",
            "(10313, 734)\n",
            "(1146, 734)\n"
          ]
        }
      ]
    },
    {
      "cell_type": "code",
      "metadata": {
        "colab": {
          "base_uri": "https://localhost:8080/"
        },
        "id": "k8S6ZvLBcN2n",
        "outputId": "c541c8e7-e5b9-45fe-bbc6-2db8b9b63bc2"
      },
      "source": [
        "y_train"
      ],
      "id": "k8S6ZvLBcN2n",
      "execution_count": 199,
      "outputs": [
        {
          "output_type": "execute_result",
          "data": {
            "text/plain": [
              "array([1, 1, 1, ..., 1, 1, 1])"
            ]
          },
          "metadata": {},
          "execution_count": 199
        }
      ]
    },
    {
      "cell_type": "markdown",
      "metadata": {
        "id": "zK-KjvVlcN2n"
      },
      "source": [
        "## Training Function"
      ],
      "id": "zK-KjvVlcN2n"
    },
    {
      "cell_type": "code",
      "metadata": {
        "id": "RtIoezMScN2n"
      },
      "source": [
        "from sklearn.model_selection import GridSearchCV, RandomizedSearchCV"
      ],
      "id": "RtIoezMScN2n",
      "execution_count": 200,
      "outputs": []
    },
    {
      "cell_type": "code",
      "metadata": {
        "id": "YQ_35BaPcN2n"
      },
      "source": [
        "def trainModelGrid(estimator, params, train, y, cv=5):\n",
        "    model = GridSearchCV(estimator, params, n_jobs=-1, scoring='accuracy',cv=cv)\n",
        "    model.fit(train, y)\n",
        "    return model"
      ],
      "id": "YQ_35BaPcN2n",
      "execution_count": 201,
      "outputs": []
    },
    {
      "cell_type": "code",
      "metadata": {
        "id": "L0RfEc1QcN2o"
      },
      "source": [
        "def trainModelRandom(estimator, params, train, y, cv=5, n_iter=5):\n",
        "    model = RandomizedSearchCV(estimator, params, n_jobs=-1, scoring='accuracy',cv=cv, n_iter=n_iter)\n",
        "    model.fit(train, y)\n",
        "    return model"
      ],
      "id": "L0RfEc1QcN2o",
      "execution_count": 202,
      "outputs": []
    },
    {
      "cell_type": "markdown",
      "metadata": {
        "id": "yDxigh8AcN2o"
      },
      "source": [
        "# Part 3 :Modelling"
      ],
      "id": "yDxigh8AcN2o"
    },
    {
      "cell_type": "markdown",
      "metadata": {
        "id": "Yks_HxcMcN2o"
      },
      "source": [
        "## Lasso Regression"
      ],
      "id": "Yks_HxcMcN2o"
    },
    {
      "cell_type": "code",
      "metadata": {
        "id": "Y9BuTEe2cN2o"
      },
      "source": [
        "from sklearn.linear_model import LogisticRegression"
      ],
      "id": "Y9BuTEe2cN2o",
      "execution_count": 203,
      "outputs": []
    },
    {
      "cell_type": "code",
      "metadata": {
        "id": "ZEjDGBY4cN2o"
      },
      "source": [
        "logreg = LogisticRegression(penalty='l1', dual=False, solver='liblinear', random_state=0)"
      ],
      "id": "ZEjDGBY4cN2o",
      "execution_count": 204,
      "outputs": []
    },
    {
      "cell_type": "code",
      "metadata": {
        "id": "Y39WieWvcN2o"
      },
      "source": [
        "import scipy.stats as st"
      ],
      "id": "Y39WieWvcN2o",
      "execution_count": 205,
      "outputs": []
    },
    {
      "cell_type": "code",
      "metadata": {
        "id": "cJBIW4RscN2o"
      },
      "source": [
        "params_dist = {  \n",
        "    \"max_iter\": st.randint(100,300),\n",
        "    \"C\": st.uniform(1.1, 3.0)\n",
        "}\n",
        "params_grid = {  \n",
        "    \"max_iter\": [200, 210, 220],\n",
        "    \"C\": [1.2, 1.3, 1.4, 1.5, 1.6, 1.7]\n",
        "}"
      ],
      "id": "cJBIW4RscN2o",
      "execution_count": 206,
      "outputs": []
    },
    {
      "cell_type": "code",
      "metadata": {
        "colab": {
          "base_uri": "https://localhost:8080/"
        },
        "id": "BB_AqxHMcN2o",
        "outputId": "cd3216d7-043b-44c6-f835-e7d5cd60aaa8"
      },
      "source": [
        "%%time \n",
        "model = trainModelRandom(logreg, params_dist, X_train, y_train)"
      ],
      "id": "BB_AqxHMcN2o",
      "execution_count": 207,
      "outputs": [
        {
          "output_type": "stream",
          "name": "stdout",
          "text": [
            "CPU times: user 847 ms, sys: 354 ms, total: 1.2 s\n",
            "Wall time: 10 s\n"
          ]
        }
      ]
    },
    {
      "cell_type": "code",
      "metadata": {
        "colab": {
          "base_uri": "https://localhost:8080/"
        },
        "id": "vN8et71dcN2o",
        "outputId": "b6e29cfc-219a-415d-b67c-a8e4cbbaac0c"
      },
      "source": [
        "model.best_score_"
      ],
      "id": "vN8et71dcN2o",
      "execution_count": 208,
      "outputs": [
        {
          "output_type": "execute_result",
          "data": {
            "text/plain": [
              "0.7200371754321915"
            ]
          },
          "metadata": {},
          "execution_count": 208
        }
      ]
    },
    {
      "cell_type": "code",
      "metadata": {
        "colab": {
          "base_uri": "https://localhost:8080/"
        },
        "id": "Bj5zCuhUcN2o",
        "outputId": "8581578e-2544-4884-9e28-9ddfa0b0500a"
      },
      "source": [
        "model.best_estimator_"
      ],
      "id": "Bj5zCuhUcN2o",
      "execution_count": 209,
      "outputs": [
        {
          "output_type": "execute_result",
          "data": {
            "text/plain": [
              "LogisticRegression(C=3.5383629443815123, max_iter=248, penalty='l1',\n",
              "                   random_state=0, solver='liblinear')"
            ]
          },
          "metadata": {},
          "execution_count": 209
        }
      ]
    },
    {
      "cell_type": "code",
      "metadata": {
        "id": "SYHNwCj3cN2o"
      },
      "source": [
        "cvPredicted = model.best_estimator_.predict(X_cv)"
      ],
      "id": "SYHNwCj3cN2o",
      "execution_count": 210,
      "outputs": []
    },
    {
      "cell_type": "code",
      "metadata": {
        "id": "8SIy1RmccN2p"
      },
      "source": [
        "from sklearn.metrics import accuracy_score"
      ],
      "id": "8SIy1RmccN2p",
      "execution_count": 211,
      "outputs": []
    },
    {
      "cell_type": "code",
      "metadata": {
        "colab": {
          "base_uri": "https://localhost:8080/"
        },
        "id": "zRsSyDBccN2p",
        "outputId": "f3d32869-4b6f-48f5-96ec-e5fd0acf7e0f"
      },
      "source": [
        "accuracy_score(y_cv, cvPredicted)"
      ],
      "id": "zRsSyDBccN2p",
      "execution_count": 212,
      "outputs": [
        {
          "output_type": "execute_result",
          "data": {
            "text/plain": [
              "0.7182197226801125"
            ]
          },
          "metadata": {},
          "execution_count": 212
        }
      ]
    },
    {
      "cell_type": "markdown",
      "metadata": {
        "id": "XHvouzhBcN2p"
      },
      "source": [
        "## Decision Tree"
      ],
      "id": "XHvouzhBcN2p"
    },
    {
      "cell_type": "code",
      "metadata": {
        "id": "cpgTw0bNcN2p"
      },
      "source": [
        "from sklearn.tree import DecisionTreeClassifier"
      ],
      "id": "cpgTw0bNcN2p",
      "execution_count": 213,
      "outputs": []
    },
    {
      "cell_type": "code",
      "metadata": {
        "id": "lGzYtXIBcN2p"
      },
      "source": [
        "dt = DecisionTreeClassifier(random_state=0)"
      ],
      "id": "lGzYtXIBcN2p",
      "execution_count": 214,
      "outputs": []
    },
    {
      "cell_type": "code",
      "metadata": {
        "id": "NqSOGV7ecN2p"
      },
      "source": [
        "params_grid = {\n",
        "    \"max_depth\" : np.arange(1, 25, 1)\n",
        "}"
      ],
      "id": "NqSOGV7ecN2p",
      "execution_count": 215,
      "outputs": []
    },
    {
      "cell_type": "code",
      "metadata": {
        "id": "hg3mIQ4vcN2p"
      },
      "source": [
        "%%time\n",
        "model = trainModelGrid(dt, params_grid, X_train, y_train)"
      ],
      "id": "hg3mIQ4vcN2p",
      "execution_count": null,
      "outputs": []
    },
    {
      "cell_type": "code",
      "metadata": {
        "id": "dP0A7xxScN2p"
      },
      "source": [
        "model.best_score_"
      ],
      "id": "dP0A7xxScN2p",
      "execution_count": null,
      "outputs": []
    },
    {
      "cell_type": "code",
      "metadata": {
        "id": "Wj-rDQREcN2p"
      },
      "source": [
        "model.best_estimator_"
      ],
      "id": "Wj-rDQREcN2p",
      "execution_count": null,
      "outputs": []
    },
    {
      "cell_type": "code",
      "metadata": {
        "id": "8YpbWurocN2p"
      },
      "source": [
        "cvPredicted = model.best_estimator_.predict(X_cv)"
      ],
      "id": "8YpbWurocN2p",
      "execution_count": null,
      "outputs": []
    },
    {
      "cell_type": "code",
      "metadata": {
        "id": "vRxS9eB1cN2p"
      },
      "source": [
        "accuracy_score(y_cv, cvPredicted)"
      ],
      "id": "vRxS9eB1cN2p",
      "execution_count": null,
      "outputs": []
    },
    {
      "cell_type": "code",
      "metadata": {
        "id": "8UED-66ocN2p"
      },
      "source": [
        "model.cv_results_['mean_test_score']"
      ],
      "id": "8UED-66ocN2p",
      "execution_count": null,
      "outputs": []
    },
    {
      "cell_type": "code",
      "metadata": {
        "id": "VzkgMMtZcN2p"
      },
      "source": [
        "np.argmax(model.cv_results_['mean_test_score'])"
      ],
      "id": "VzkgMMtZcN2p",
      "execution_count": null,
      "outputs": []
    },
    {
      "cell_type": "code",
      "metadata": {
        "id": "7MOEb3MwcN2p"
      },
      "source": [
        "sns.lineplot(x=np.arange(1,25,1), y=model.cv_results_['mean_test_score'])"
      ],
      "id": "7MOEb3MwcN2p",
      "execution_count": null,
      "outputs": []
    },
    {
      "cell_type": "code",
      "metadata": {
        "id": "8XxVaJu6cN2p"
      },
      "source": [
        "model.best_estimator_.fit(X_train, y_train)"
      ],
      "id": "8XxVaJu6cN2p",
      "execution_count": null,
      "outputs": []
    },
    {
      "cell_type": "code",
      "metadata": {
        "id": "oCgOeO_-cN2p"
      },
      "source": [
        "from sklearn.externals.six import StringIO  \n",
        "from IPython.display import Image  \n",
        "from sklearn.tree import export_graphviz\n",
        "import pydotplus"
      ],
      "id": "oCgOeO_-cN2p",
      "execution_count": null,
      "outputs": []
    },
    {
      "cell_type": "code",
      "metadata": {
        "id": "aF3kywG-cN2p"
      },
      "source": [
        "dot_data = StringIO()\n",
        "\n",
        "export_graphviz(model.best_estimator_, out_file=dot_data,  \n",
        "                filled=True, rounded=True,\n",
        "                special_characters=True)\n",
        "\n",
        "graph = pydotplus.graph_from_dot_data(dot_data.getvalue()) \n",
        "graph.write_png('../models/dtree-graph.png')\n",
        "Image(graph.create_png())"
      ],
      "id": "aF3kywG-cN2p",
      "execution_count": null,
      "outputs": []
    },
    {
      "cell_type": "markdown",
      "metadata": {
        "id": "c88wXs8kcN2q"
      },
      "source": [
        "## Gradient Boosted Trees"
      ],
      "id": "c88wXs8kcN2q"
    },
    {
      "cell_type": "code",
      "metadata": {
        "id": "9jwFTtbXcN2q"
      },
      "source": [
        "from xgboost.sklearn import XGBClassifier"
      ],
      "id": "9jwFTtbXcN2q",
      "execution_count": null,
      "outputs": []
    },
    {
      "cell_type": "code",
      "metadata": {
        "id": "O7PLG3GIcN2q"
      },
      "source": [
        "xgb = XGBClassifier(random_state=0)"
      ],
      "id": "O7PLG3GIcN2q",
      "execution_count": null,
      "outputs": []
    },
    {
      "cell_type": "code",
      "metadata": {
        "id": "qEtlIdFIcN2q"
      },
      "source": [
        "one_to_left = st.beta(10, 1)  \n",
        "from_zero_positive = st.expon(0, 50)\n",
        "\n",
        "params_dist = {  \n",
        "    \"n_estimators\": st.randint(3, 40),\n",
        "    \"max_depth\": st.randint(3, 40),\n",
        "    \"learning_rate\": st.uniform(0.05, 0.4),\n",
        "    \"colsample_bytree\": one_to_left,\n",
        "    \"subsample\": one_to_left,\n",
        "    \"gamma\": st.uniform(0, 10),\n",
        "    'reg_alpha': from_zero_positive,\n",
        "    \"min_child_weight\": from_zero_positive,\n",
        "}"
      ],
      "id": "qEtlIdFIcN2q",
      "execution_count": null,
      "outputs": []
    },
    {
      "cell_type": "code",
      "metadata": {
        "id": "n52RtyYGcN2q"
      },
      "source": [
        "%%time\n",
        "model = trainModelRandom(xgb, params_dist, X_train, y_train, cv=20, n_iter=50)"
      ],
      "id": "n52RtyYGcN2q",
      "execution_count": null,
      "outputs": []
    },
    {
      "cell_type": "code",
      "metadata": {
        "id": "bC2gpFQbcN2q"
      },
      "source": [
        "model.best_score_"
      ],
      "id": "bC2gpFQbcN2q",
      "execution_count": null,
      "outputs": []
    },
    {
      "cell_type": "code",
      "metadata": {
        "id": "WVb4rGUbcN2q"
      },
      "source": [
        "model.best_estimator_"
      ],
      "id": "WVb4rGUbcN2q",
      "execution_count": null,
      "outputs": []
    },
    {
      "cell_type": "code",
      "metadata": {
        "id": "Qh0ws0Z4cN2q"
      },
      "source": [
        "cvPredicted = model.best_estimator_.predict(X_cv)"
      ],
      "id": "Qh0ws0Z4cN2q",
      "execution_count": null,
      "outputs": []
    },
    {
      "cell_type": "code",
      "metadata": {
        "id": "Y3DqBAo5cN2q"
      },
      "source": [
        "accuracy_score(y_cv, cvPredicted)"
      ],
      "id": "Y3DqBAo5cN2q",
      "execution_count": null,
      "outputs": []
    },
    {
      "cell_type": "markdown",
      "metadata": {
        "id": "KjzsK4wScN2q"
      },
      "source": [
        "## Random Forest Classifier"
      ],
      "id": "KjzsK4wScN2q"
    },
    {
      "cell_type": "code",
      "metadata": {
        "id": "Xhrk9YGacN2q"
      },
      "source": [
        "from sklearn.ensemble import RandomForestClassifier"
      ],
      "id": "Xhrk9YGacN2q",
      "execution_count": null,
      "outputs": []
    },
    {
      "cell_type": "code",
      "metadata": {
        "id": "Z3icpWS2cN2q"
      },
      "source": [
        "rf = RandomForestClassifier(random_state=0)"
      ],
      "id": "Z3icpWS2cN2q",
      "execution_count": null,
      "outputs": []
    },
    {
      "cell_type": "code",
      "metadata": {
        "id": "LoLvUPTncN2q"
      },
      "source": [
        "params_dist = {  \n",
        "    \"n_estimators\": st.randint(3, 40),\n",
        "    \"max_depth\": st.randint(3, 40)\n",
        "}"
      ],
      "id": "LoLvUPTncN2q",
      "execution_count": null,
      "outputs": []
    },
    {
      "cell_type": "code",
      "metadata": {
        "id": "ax9HylovcN2r"
      },
      "source": [
        "%%time\n",
        "model = trainModelRandom(rf, params_dist, X_train, y_train)"
      ],
      "id": "ax9HylovcN2r",
      "execution_count": null,
      "outputs": []
    },
    {
      "cell_type": "code",
      "metadata": {
        "id": "9C0LA9ZkcN2r"
      },
      "source": [
        "model.best_score_"
      ],
      "id": "9C0LA9ZkcN2r",
      "execution_count": null,
      "outputs": []
    },
    {
      "cell_type": "code",
      "metadata": {
        "id": "i_VAtEhlcN2r"
      },
      "source": [
        "model.best_estimator_"
      ],
      "id": "i_VAtEhlcN2r",
      "execution_count": null,
      "outputs": []
    },
    {
      "cell_type": "code",
      "metadata": {
        "id": "UbXh3MN0cN2r"
      },
      "source": [
        "cvPredicted = model.best_estimator_.predict(X_cv)"
      ],
      "id": "UbXh3MN0cN2r",
      "execution_count": null,
      "outputs": []
    },
    {
      "cell_type": "code",
      "metadata": {
        "id": "ZZD6XO1HcN2r"
      },
      "source": [
        "accuracy_score(y_cv, cvPredicted)"
      ],
      "id": "ZZD6XO1HcN2r",
      "execution_count": null,
      "outputs": []
    },
    {
      "cell_type": "markdown",
      "metadata": {
        "id": "PMxJLNDJcN2r"
      },
      "source": [
        "## Support Vector Classifier"
      ],
      "id": "PMxJLNDJcN2r"
    },
    {
      "cell_type": "code",
      "metadata": {
        "id": "TjulxImdcN2r"
      },
      "source": [
        "from sklearn.svm import LinearSVC"
      ],
      "id": "TjulxImdcN2r",
      "execution_count": null,
      "outputs": []
    },
    {
      "cell_type": "code",
      "metadata": {
        "id": "YDFeh_iDcN2r"
      },
      "source": [
        "svc = LinearSVC(dual=False, random_state=0)"
      ],
      "id": "YDFeh_iDcN2r",
      "execution_count": null,
      "outputs": []
    },
    {
      "cell_type": "code",
      "metadata": {
        "id": "-QHDQijPcN2r"
      },
      "source": [
        "params = {  \n",
        "    \"C\": [1.2, 1.3, 1.4, 1.5, 1.6, 1.7]\n",
        "}"
      ],
      "id": "-QHDQijPcN2r",
      "execution_count": null,
      "outputs": []
    },
    {
      "cell_type": "code",
      "metadata": {
        "id": "u4ATfSkDcN2r"
      },
      "source": [
        "params_dist = {  \n",
        "    \"C\": st.uniform(1.0, 2.0)\n",
        "}"
      ],
      "id": "u4ATfSkDcN2r",
      "execution_count": null,
      "outputs": []
    },
    {
      "cell_type": "code",
      "metadata": {
        "id": "ZsnAz7nEcN2r"
      },
      "source": [
        "%%time\n",
        "model = trainModelRandom(svc, params_dist, X_train, y_train)"
      ],
      "id": "ZsnAz7nEcN2r",
      "execution_count": null,
      "outputs": []
    },
    {
      "cell_type": "code",
      "metadata": {
        "id": "E6o0oow9cN2r"
      },
      "source": [
        "model.best_score_"
      ],
      "id": "E6o0oow9cN2r",
      "execution_count": null,
      "outputs": []
    },
    {
      "cell_type": "code",
      "metadata": {
        "id": "acgE_QDocN2r"
      },
      "source": [
        "model.best_estimator_"
      ],
      "id": "acgE_QDocN2r",
      "execution_count": null,
      "outputs": []
    },
    {
      "cell_type": "code",
      "metadata": {
        "id": "A52C4prDcN2r"
      },
      "source": [
        "cvPredicted = model.best_estimator_.predict(X_cv)"
      ],
      "id": "A52C4prDcN2r",
      "execution_count": null,
      "outputs": []
    },
    {
      "cell_type": "code",
      "metadata": {
        "id": "xpdhGUfQcN2r"
      },
      "source": [
        "accuracy_score(y_cv, cvPredicted)"
      ],
      "id": "xpdhGUfQcN2r",
      "execution_count": null,
      "outputs": []
    }
  ]
}