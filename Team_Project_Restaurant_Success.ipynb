{
  "nbformat": 4,
  "nbformat_minor": 5,
  "metadata": {
    "kernelspec": {
      "display_name": "Python 3",
      "language": "python",
      "name": "python3"
    },
    "language_info": {
      "codemirror_mode": {
        "name": "ipython",
        "version": 3
      },
      "file_extension": ".py",
      "mimetype": "text/x-python",
      "name": "python",
      "nbconvert_exporter": "python",
      "pygments_lexer": "ipython3",
      "version": "3.8.8"
    },
    "colab": {
      "name": "Team_Project_Restaurant_Success.ipynb",
      "provenance": [],
      "include_colab_link": true
    }
  },
  "cells": [
    {
      "cell_type": "markdown",
      "metadata": {
        "id": "view-in-github",
        "colab_type": "text"
      },
      "source": [
        "<a href=\"https://colab.research.google.com/github/siddhant-parmar/CMPE_255_Group_4/blob/main/Team_Project_Restaurant_Success.ipynb\" target=\"_parent\"><img src=\"https://colab.research.google.com/assets/colab-badge.svg\" alt=\"Open In Colab\"/></a>"
      ]
    },
    {
      "cell_type": "markdown",
      "metadata": {
        "id": "6beb3735"
      },
      "source": [
        "# PART 1: EDA and Data Cleaning."
      ],
      "id": "6beb3735"
    },
    {
      "cell_type": "code",
      "metadata": {
        "id": "551891c5"
      },
      "source": [
        "import numpy as np\n",
        "import pandas as pd\n",
        "\n",
        "import matplotlib.pyplot as plt\n",
        "\n",
        "import seaborn as sns\n",
        "sns.set(style=\"whitegrid\")\n",
        "import os.path"
      ],
      "id": "551891c5",
      "execution_count": null,
      "outputs": []
    },
    {
      "cell_type": "code",
      "metadata": {
        "id": "de4bfbfc",
        "outputId": "eb81830b-dc90-4f37-bd6d-4d187d80faf2"
      },
      "source": [
        "comment = \"\"\"RUNNING - Initial EDA and Cleaning.\n",
        "This script will run the initial cleaning and exploratory analysis \n",
        "and generate the following files - \n",
        "1. Plots for various analyses (png)\n",
        "2. Final cleaned data files (csv)\"\"\"\n",
        "print(comment)"
      ],
      "id": "de4bfbfc",
      "execution_count": null,
      "outputs": [
        {
          "name": "stdout",
          "output_type": "stream",
          "text": [
            "RUNNING - Initial EDA and Cleaning.\n",
            "This script will run the initial cleaning and exploratory analysis \n",
            "and generate the following files - \n",
            "1. Plots for various analyses (png)\n",
            "2. Final cleaned data files (csv)\n"
          ]
        }
      ]
    },
    {
      "cell_type": "code",
      "metadata": {
        "id": "85734dd5"
      },
      "source": [
        ""
      ],
      "id": "85734dd5",
      "execution_count": null,
      "outputs": []
    },
    {
      "cell_type": "markdown",
      "metadata": {
        "id": "935b5d83"
      },
      "source": [
        "# PART 2: Feature Engineering"
      ],
      "id": "935b5d83"
    },
    {
      "cell_type": "code",
      "metadata": {
        "id": "d66e5a9c"
      },
      "source": [
        "# yet to do"
      ],
      "id": "d66e5a9c",
      "execution_count": null,
      "outputs": []
    },
    {
      "cell_type": "markdown",
      "metadata": {
        "id": "f0b88cd9"
      },
      "source": [
        "# PART 3: Modelling"
      ],
      "id": "f0b88cd9"
    },
    {
      "cell_type": "code",
      "metadata": {
        "id": "e380e2aa"
      },
      "source": [
        "# yet to do"
      ],
      "id": "e380e2aa",
      "execution_count": null,
      "outputs": []
    }
  ]
}