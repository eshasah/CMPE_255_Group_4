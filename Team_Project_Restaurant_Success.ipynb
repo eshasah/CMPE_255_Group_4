{
  "nbformat": 4,
  "nbformat_minor": 5,
  "metadata": {
    "kernelspec": {
      "display_name": "Python 3",
      "language": "python",
      "name": "python3"
    },
    "language_info": {
      "codemirror_mode": {
        "name": "ipython",
        "version": 3
      },
      "file_extension": ".py",
      "mimetype": "text/x-python",
      "name": "python",
      "nbconvert_exporter": "python",
      "pygments_lexer": "ipython3",
      "version": "3.8.8"
    },
    "colab": {
      "name": "Team_Project_Restaurant_Success.ipynb",
      "provenance": [],
      "include_colab_link": true
    }
  },
  "cells": [
    {
      "cell_type": "markdown",
      "metadata": {
        "id": "view-in-github",
        "colab_type": "text"
      },
      "source": [
        "<a href=\"https://colab.research.google.com/github/siddhant-parmar/CMPE_255_Group_4/blob/main/Team_Project_Restaurant_Success.ipynb\" target=\"_parent\"><img src=\"https://colab.research.google.com/assets/colab-badge.svg\" alt=\"Open In Colab\"/></a>"
      ]
    },
    {
      "cell_type": "code",
      "metadata": {
        "colab": {
          "base_uri": "https://localhost:8080/"
        },
        "id": "I9PeVhA7gqlA",
        "outputId": "1cfb0ca0-c2e3-4ee2-9904-7c7271b66275"
      },
      "source": [
        "from google.colab import drive\n",
        "drive.mount('/content/drive')"
      ],
      "id": "I9PeVhA7gqlA",
      "execution_count": null,
      "outputs": [
        {
          "output_type": "stream",
          "name": "stdout",
          "text": [
            "Mounted at /content/drive\n"
          ]
        }
      ]
    },
    {
      "cell_type": "markdown",
      "metadata": {
        "id": "6beb3735"
      },
      "source": [
        "# PART 1: EDA and Data Cleaning."
      ],
      "id": "6beb3735"
    },
    {
      "cell_type": "code",
      "metadata": {
        "id": "551891c5"
      },
      "source": [
        "import numpy as np\n",
        "import pandas as pd\n",
        "\n",
        "import matplotlib.pyplot as plt\n",
        "\n",
        "import seaborn as sns\n",
        "sns.set(style=\"whitegrid\")\n",
        "import os.path"
      ],
      "id": "551891c5",
      "execution_count": null,
      "outputs": []
    },
    {
      "cell_type": "code",
      "metadata": {
        "colab": {
          "base_uri": "https://localhost:8080/"
        },
        "id": "de4bfbfc",
        "outputId": "05b0130f-8062-4f1d-a422-39986ddeefaf"
      },
      "source": [
        "comment = \"\"\"RUNNING - Initial EDA and Cleaning.\n",
        "This script will run the initial cleaning and exploratory analysis \n",
        "and generate the following files - \n",
        "1. Plots for various analyses (png)\n",
        "2. Final cleaned data files (csv)\"\"\"\n",
        "print(comment)"
      ],
      "id": "de4bfbfc",
      "execution_count": null,
      "outputs": [
        {
          "output_type": "stream",
          "name": "stdout",
          "text": [
            "RUNNING - Initial EDA and Cleaning.\n",
            "This script will run the initial cleaning and exploratory analysis \n",
            "and generate the following files - \n",
            "1. Plots for various analyses (png)\n",
            "2. Final cleaned data files (csv)\n"
          ]
        }
      ]
    },
    {
      "cell_type": "code",
      "metadata": {
        "id": "85734dd5",
        "colab": {
          "base_uri": "https://localhost:8080/"
        },
        "outputId": "606da4f2-cf46-4ed4-878c-8c4354426097"
      },
      "source": [
        "fpath = '/content/drive/My Drive/converted_data/yelp_academic_dataset_business.csv'\n",
        "business = pd.read_csv(fpath)"
      ],
      "id": "85734dd5",
      "execution_count": null,
      "outputs": [
        {
          "output_type": "stream",
          "name": "stderr",
          "text": [
            "/usr/local/lib/python3.7/dist-packages/IPython/core/interactiveshell.py:2718: DtypeWarning: Columns (49) have mixed types.Specify dtype option on import or set low_memory=False.\n",
            "  interactivity=interactivity, compiler=compiler, result=result)\n"
          ]
        }
      ]
    },
    {
      "cell_type": "markdown",
      "metadata": {
        "id": "935b5d83"
      },
      "source": [
        "# PART 2: Feature Engineering"
      ],
      "id": "935b5d83"
    },
    {
      "cell_type": "code",
      "metadata": {
        "id": "d66e5a9c"
      },
      "source": [
        "# yet to do"
      ],
      "id": "d66e5a9c",
      "execution_count": null,
      "outputs": []
    },
    {
      "cell_type": "markdown",
      "metadata": {
        "id": "f0b88cd9"
      },
      "source": [
        "# PART 3: Modelling"
      ],
      "id": "f0b88cd9"
    },
    {
      "cell_type": "code",
      "metadata": {
        "id": "e380e2aa"
      },
      "source": [
        "# yet to do"
      ],
      "id": "e380e2aa",
      "execution_count": null,
      "outputs": []
    },
    {
      "cell_type": "code",
      "metadata": {
        "id": "qqii7fQLhWg3"
      },
      "source": [
        ""
      ],
      "id": "qqii7fQLhWg3",
      "execution_count": null,
      "outputs": []
    }
  ]
}