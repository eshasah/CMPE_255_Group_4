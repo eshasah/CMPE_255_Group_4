{
  "nbformat": 4,
  "nbformat_minor": 0,
  "metadata": {
    "colab": {
      "name": "Classifier_experiment.ipynb",
      "provenance": [],
      "authorship_tag": "ABX9TyOXp4uPrHwJ/8gg2EtVP3B4",
      "include_colab_link": true
    },
    "kernelspec": {
      "name": "python3",
      "display_name": "Python 3"
    },
    "language_info": {
      "name": "python"
    }
  },
  "cells": [
    {
      "cell_type": "markdown",
      "metadata": {
        "id": "view-in-github",
        "colab_type": "text"
      },
      "source": [
        "<a href=\"https://colab.research.google.com/github/siddhant-parmar/CMPE_255_Group_4/blob/main/Classifier_experiment.ipynb\" target=\"_parent\"><img src=\"https://colab.research.google.com/assets/colab-badge.svg\" alt=\"Open In Colab\"/></a>"
      ]
    },
    {
      "cell_type": "code",
      "metadata": {
        "id": "sTfOkwQiC420",
        "colab": {
          "base_uri": "https://localhost:8080/"
        },
        "outputId": "760463ae-6103-4ceb-974c-6b4188765633"
      },
      "source": [
        "from google.colab import drive\n",
        "drive.mount('/content/drive')"
      ],
      "execution_count": 1,
      "outputs": [
        {
          "output_type": "stream",
          "name": "stdout",
          "text": [
            "Mounted at /content/drive\n"
          ]
        }
      ]
    },
    {
      "cell_type": "code",
      "metadata": {
        "id": "8AlEwwFJURqO"
      },
      "source": [
        "import pandas as pd\n",
        "import numpy as np \n",
        "\n",
        "review_data = pd.read_csv(\"/content/drive/My Drive/cmpe255/yelp_review.csv\")\n",
        "busi_data = pd.read_csv(\"/content/drive/My Drive/cmpe255/yelp_business.csv\")"
      ],
      "execution_count": 3,
      "outputs": []
    },
    {
      "cell_type": "code",
      "metadata": {
        "colab": {
          "base_uri": "https://localhost:8080/",
          "height": 206
        },
        "id": "93h71oeEUh7Y",
        "outputId": "596e6b7f-bac2-4f10-da2d-d47386edd071"
      },
      "source": [
        "review_data = review_data[['business_id', 'text', 'stars']]\n",
        "review_data.head()"
      ],
      "execution_count": 4,
      "outputs": [
        {
          "output_type": "execute_result",
          "data": {
            "text/html": [
              "<div>\n",
              "<style scoped>\n",
              "    .dataframe tbody tr th:only-of-type {\n",
              "        vertical-align: middle;\n",
              "    }\n",
              "\n",
              "    .dataframe tbody tr th {\n",
              "        vertical-align: top;\n",
              "    }\n",
              "\n",
              "    .dataframe thead th {\n",
              "        text-align: right;\n",
              "    }\n",
              "</style>\n",
              "<table border=\"1\" class=\"dataframe\">\n",
              "  <thead>\n",
              "    <tr style=\"text-align: right;\">\n",
              "      <th></th>\n",
              "      <th>business_id</th>\n",
              "      <th>text</th>\n",
              "      <th>stars</th>\n",
              "    </tr>\n",
              "  </thead>\n",
              "  <tbody>\n",
              "    <tr>\n",
              "      <th>0</th>\n",
              "      <td>AEx2SYEUJmTxVVB18LlCwA</td>\n",
              "      <td>Super simple place but amazing nonetheless. It...</td>\n",
              "      <td>5</td>\n",
              "    </tr>\n",
              "    <tr>\n",
              "      <th>1</th>\n",
              "      <td>VR6GpWIda3SfvPC-lg9H3w</td>\n",
              "      <td>Small unassuming place that changes their menu...</td>\n",
              "      <td>5</td>\n",
              "    </tr>\n",
              "    <tr>\n",
              "      <th>2</th>\n",
              "      <td>CKC0-MOWMqoeWf6s-szl8g</td>\n",
              "      <td>Lester's is located in a beautiful neighborhoo...</td>\n",
              "      <td>5</td>\n",
              "    </tr>\n",
              "    <tr>\n",
              "      <th>3</th>\n",
              "      <td>ACFtxLv8pGrrxMm6EgjreA</td>\n",
              "      <td>Love coming here. Yes the place always needs t...</td>\n",
              "      <td>4</td>\n",
              "    </tr>\n",
              "    <tr>\n",
              "      <th>4</th>\n",
              "      <td>s2I_Ni76bjJNK9yG60iD-Q</td>\n",
              "      <td>Had their chocolate almond croissant and it wa...</td>\n",
              "      <td>4</td>\n",
              "    </tr>\n",
              "  </tbody>\n",
              "</table>\n",
              "</div>"
            ],
            "text/plain": [
              "              business_id  ... stars\n",
              "0  AEx2SYEUJmTxVVB18LlCwA  ...     5\n",
              "1  VR6GpWIda3SfvPC-lg9H3w  ...     5\n",
              "2  CKC0-MOWMqoeWf6s-szl8g  ...     5\n",
              "3  ACFtxLv8pGrrxMm6EgjreA  ...     4\n",
              "4  s2I_Ni76bjJNK9yG60iD-Q  ...     4\n",
              "\n",
              "[5 rows x 3 columns]"
            ]
          },
          "metadata": {},
          "execution_count": 4
        }
      ]
    },
    {
      "cell_type": "code",
      "metadata": {
        "colab": {
          "base_uri": "https://localhost:8080/",
          "height": 206
        },
        "id": "Ye8vYRyqUpde",
        "outputId": "38ad0f4d-d635-432b-b2c0-39d859752b64"
      },
      "source": [
        "busi_data = busi_data[busi_data.categories.str.contains('restaurant|food', na=False)]\n",
        "busi_data = busi_data[['business_id', 'name']]\n",
        "busi_data.head()"
      ],
      "execution_count": 5,
      "outputs": [
        {
          "output_type": "execute_result",
          "data": {
            "text/html": [
              "<div>\n",
              "<style scoped>\n",
              "    .dataframe tbody tr th:only-of-type {\n",
              "        vertical-align: middle;\n",
              "    }\n",
              "\n",
              "    .dataframe tbody tr th {\n",
              "        vertical-align: top;\n",
              "    }\n",
              "\n",
              "    .dataframe thead th {\n",
              "        text-align: right;\n",
              "    }\n",
              "</style>\n",
              "<table border=\"1\" class=\"dataframe\">\n",
              "  <thead>\n",
              "    <tr style=\"text-align: right;\">\n",
              "      <th></th>\n",
              "      <th>business_id</th>\n",
              "      <th>name</th>\n",
              "    </tr>\n",
              "  </thead>\n",
              "  <tbody>\n",
              "    <tr>\n",
              "      <th>44</th>\n",
              "      <td>BnuzcebyB1AfxH0kjNWqSg</td>\n",
              "      <td>\"Carrabba's Italian Grill\"</td>\n",
              "    </tr>\n",
              "    <tr>\n",
              "      <th>101</th>\n",
              "      <td>VdlPZg2NAu8t8GkdbPLecg</td>\n",
              "      <td>\"Tandoori Times Indian Bistro\"</td>\n",
              "    </tr>\n",
              "    <tr>\n",
              "      <th>107</th>\n",
              "      <td>QkG3KUXwqZBW18A9k1xqCA</td>\n",
              "      <td>\"Red Lobster\"</td>\n",
              "    </tr>\n",
              "    <tr>\n",
              "      <th>163</th>\n",
              "      <td>xMP2oDrKFqyUrN0Uww85EQ</td>\n",
              "      <td>\"Dockside Seafood Market\"</td>\n",
              "    </tr>\n",
              "    <tr>\n",
              "      <th>274</th>\n",
              "      <td>dPxZI9lrKTl5dvFfnb1_Ig</td>\n",
              "      <td>\"Trattoria Italia\"</td>\n",
              "    </tr>\n",
              "  </tbody>\n",
              "</table>\n",
              "</div>"
            ],
            "text/plain": [
              "                business_id                            name\n",
              "44   BnuzcebyB1AfxH0kjNWqSg      \"Carrabba's Italian Grill\"\n",
              "101  VdlPZg2NAu8t8GkdbPLecg  \"Tandoori Times Indian Bistro\"\n",
              "107  QkG3KUXwqZBW18A9k1xqCA                   \"Red Lobster\"\n",
              "163  xMP2oDrKFqyUrN0Uww85EQ       \"Dockside Seafood Market\"\n",
              "274  dPxZI9lrKTl5dvFfnb1_Ig              \"Trattoria Italia\""
            ]
          },
          "metadata": {},
          "execution_count": 5
        }
      ]
    },
    {
      "cell_type": "code",
      "metadata": {
        "colab": {
          "base_uri": "https://localhost:8080/",
          "height": 223
        },
        "id": "5cLhekR-Vj7C",
        "outputId": "b8412806-3d93-4e84-f636-f1686ff7d088"
      },
      "source": [
        "review_data['business_id'] = review_data['business_id'].astype(str)\n",
        "busi_data['business_id'] = busi_data['business_id'].astype(str)\n",
        "\n",
        "data = review_data.merge(busi_data, on='business_id')\n",
        "print(data.shape)\n",
        "data.head()"
      ],
      "execution_count": 6,
      "outputs": [
        {
          "output_type": "stream",
          "name": "stdout",
          "text": [
            "(248709, 4)\n"
          ]
        },
        {
          "output_type": "execute_result",
          "data": {
            "text/html": [
              "<div>\n",
              "<style scoped>\n",
              "    .dataframe tbody tr th:only-of-type {\n",
              "        vertical-align: middle;\n",
              "    }\n",
              "\n",
              "    .dataframe tbody tr th {\n",
              "        vertical-align: top;\n",
              "    }\n",
              "\n",
              "    .dataframe thead th {\n",
              "        text-align: right;\n",
              "    }\n",
              "</style>\n",
              "<table border=\"1\" class=\"dataframe\">\n",
              "  <thead>\n",
              "    <tr style=\"text-align: right;\">\n",
              "      <th></th>\n",
              "      <th>business_id</th>\n",
              "      <th>text</th>\n",
              "      <th>stars</th>\n",
              "      <th>name</th>\n",
              "    </tr>\n",
              "  </thead>\n",
              "  <tbody>\n",
              "    <tr>\n",
              "      <th>0</th>\n",
              "      <td>RWGI8u00x5GghYCEzpYrIg</td>\n",
              "      <td>This place reminds of St Lawrence Market in To...</td>\n",
              "      <td>4</td>\n",
              "      <td>\"Marché Atwater\"</td>\n",
              "    </tr>\n",
              "    <tr>\n",
              "      <th>1</th>\n",
              "      <td>RWGI8u00x5GghYCEzpYrIg</td>\n",
              "      <td>A very quaint farmers market right by the wate...</td>\n",
              "      <td>4</td>\n",
              "      <td>\"Marché Atwater\"</td>\n",
              "    </tr>\n",
              "    <tr>\n",
              "      <th>2</th>\n",
              "      <td>RWGI8u00x5GghYCEzpYrIg</td>\n",
              "      <td>A must on any Montreal visit if nothing else b...</td>\n",
              "      <td>5</td>\n",
              "      <td>\"Marché Atwater\"</td>\n",
              "    </tr>\n",
              "    <tr>\n",
              "      <th>3</th>\n",
              "      <td>RWGI8u00x5GghYCEzpYrIg</td>\n",
              "      <td>Marche Atwater is a cute little market, they h...</td>\n",
              "      <td>4</td>\n",
              "      <td>\"Marché Atwater\"</td>\n",
              "    </tr>\n",
              "    <tr>\n",
              "      <th>4</th>\n",
              "      <td>RWGI8u00x5GghYCEzpYrIg</td>\n",
              "      <td>Le Coin Gourmand carries the best store bought...</td>\n",
              "      <td>4</td>\n",
              "      <td>\"Marché Atwater\"</td>\n",
              "    </tr>\n",
              "  </tbody>\n",
              "</table>\n",
              "</div>"
            ],
            "text/plain": [
              "              business_id  ...              name\n",
              "0  RWGI8u00x5GghYCEzpYrIg  ...  \"Marché Atwater\"\n",
              "1  RWGI8u00x5GghYCEzpYrIg  ...  \"Marché Atwater\"\n",
              "2  RWGI8u00x5GghYCEzpYrIg  ...  \"Marché Atwater\"\n",
              "3  RWGI8u00x5GghYCEzpYrIg  ...  \"Marché Atwater\"\n",
              "4  RWGI8u00x5GghYCEzpYrIg  ...  \"Marché Atwater\"\n",
              "\n",
              "[5 rows x 4 columns]"
            ]
          },
          "metadata": {},
          "execution_count": 6
        }
      ]
    },
    {
      "cell_type": "code",
      "metadata": {
        "colab": {
          "base_uri": "https://localhost:8080/",
          "height": 241
        },
        "id": "hQrl9hBvVl59",
        "outputId": "c05f931e-4465-4d44-c22f-fd2015000903"
      },
      "source": [
        "import nltk \n",
        "nltk.download('stopwords')\n",
        "from nltk.stem import WordNetLemmatizer\n",
        "from nltk.corpus import wordnet\n",
        "\n",
        "data['text'] = data['text'].astype(str)\n",
        "#print(data.head())\n",
        "data['text'] = data['text'].str.lower()\n",
        "#print(data.head())\n",
        "\n",
        "# stop word removal\n",
        "from nltk.corpus import stopwords\n",
        "stop = stopwords.words('english')\n",
        "\n",
        "data['text'] = data['text'].apply(lambda x: ' '.join([word for word in x.split() if word not in (stop)]))\n",
        "data.head()"
      ],
      "execution_count": 7,
      "outputs": [
        {
          "output_type": "stream",
          "name": "stdout",
          "text": [
            "[nltk_data] Downloading package stopwords to /root/nltk_data...\n",
            "[nltk_data]   Unzipping corpora/stopwords.zip.\n"
          ]
        },
        {
          "output_type": "execute_result",
          "data": {
            "text/html": [
              "<div>\n",
              "<style scoped>\n",
              "    .dataframe tbody tr th:only-of-type {\n",
              "        vertical-align: middle;\n",
              "    }\n",
              "\n",
              "    .dataframe tbody tr th {\n",
              "        vertical-align: top;\n",
              "    }\n",
              "\n",
              "    .dataframe thead th {\n",
              "        text-align: right;\n",
              "    }\n",
              "</style>\n",
              "<table border=\"1\" class=\"dataframe\">\n",
              "  <thead>\n",
              "    <tr style=\"text-align: right;\">\n",
              "      <th></th>\n",
              "      <th>business_id</th>\n",
              "      <th>text</th>\n",
              "      <th>stars</th>\n",
              "      <th>name</th>\n",
              "    </tr>\n",
              "  </thead>\n",
              "  <tbody>\n",
              "    <tr>\n",
              "      <th>0</th>\n",
              "      <td>RWGI8u00x5GghYCEzpYrIg</td>\n",
              "      <td>place reminds st lawrence market toronto veggi...</td>\n",
              "      <td>4</td>\n",
              "      <td>\"Marché Atwater\"</td>\n",
              "    </tr>\n",
              "    <tr>\n",
              "      <th>1</th>\n",
              "      <td>RWGI8u00x5GghYCEzpYrIg</td>\n",
              "      <td>quaint farmers market right waterfront, makes ...</td>\n",
              "      <td>4</td>\n",
              "      <td>\"Marché Atwater\"</td>\n",
              "    </tr>\n",
              "    <tr>\n",
              "      <th>2</th>\n",
              "      <td>RWGI8u00x5GghYCEzpYrIg</td>\n",
              "      <td>must montreal visit nothing else gawk longingl...</td>\n",
              "      <td>5</td>\n",
              "      <td>\"Marché Atwater\"</td>\n",
              "    </tr>\n",
              "    <tr>\n",
              "      <th>3</th>\n",
              "      <td>RWGI8u00x5GghYCEzpYrIg</td>\n",
              "      <td>marche atwater cute little market, booths outs...</td>\n",
              "      <td>4</td>\n",
              "      <td>\"Marché Atwater\"</td>\n",
              "    </tr>\n",
              "    <tr>\n",
              "      <th>4</th>\n",
              "      <td>RWGI8u00x5GghYCEzpYrIg</td>\n",
              "      <td>le coin gourmand carries best store bought chi...</td>\n",
              "      <td>4</td>\n",
              "      <td>\"Marché Atwater\"</td>\n",
              "    </tr>\n",
              "  </tbody>\n",
              "</table>\n",
              "</div>"
            ],
            "text/plain": [
              "              business_id  ...              name\n",
              "0  RWGI8u00x5GghYCEzpYrIg  ...  \"Marché Atwater\"\n",
              "1  RWGI8u00x5GghYCEzpYrIg  ...  \"Marché Atwater\"\n",
              "2  RWGI8u00x5GghYCEzpYrIg  ...  \"Marché Atwater\"\n",
              "3  RWGI8u00x5GghYCEzpYrIg  ...  \"Marché Atwater\"\n",
              "4  RWGI8u00x5GghYCEzpYrIg  ...  \"Marché Atwater\"\n",
              "\n",
              "[5 rows x 4 columns]"
            ]
          },
          "metadata": {},
          "execution_count": 7
        }
      ]
    },
    {
      "cell_type": "code",
      "metadata": {
        "colab": {
          "base_uri": "https://localhost:8080/"
        },
        "id": "O5dL3WAfVxRk",
        "outputId": "ab1a1f86-cd0c-4547-8de2-b53d8c48e0d4"
      },
      "source": [
        "import string\n",
        "import nltk\n",
        "nltk.download('wordnet')\n",
        "nltk.download('punkt')\n",
        "from nltk.stem import WordNetLemmatizer\n",
        "from nltk.corpus import wordnet, stopwords\n",
        "from nltk import pos_tag, word_tokenize\n",
        "nltk.download('averaged_perceptron_tagger')\n",
        "from nltk.tokenize import WhitespaceTokenizer\n",
        "import re\n",
        "\n",
        "def pos_tagger(nltk_tag):\n",
        "    if nltk_tag.startswith('J'):\n",
        "        return wordnet.ADJ\n",
        "    elif nltk_tag.startswith('V'):\n",
        "        return wordnet.VERB\n",
        "    elif nltk_tag.startswith('N'):\n",
        "        return wordnet.NOUN\n",
        "    elif nltk_tag.startswith('R'):\n",
        "        return wordnet.ADV\n",
        "    else:         \n",
        "        return None\n",
        "    \n",
        "    \n",
        "def lemmatize_text(text):\n",
        "    lemmatizer = WordNetLemmatizer()\n",
        "    # lemmatize text\n",
        "    pos_tagged = nltk.pos_tag(nltk.word_tokenize(text))\n",
        "\n",
        "    wordnet_tagged = list(map(lambda x: (x[0], pos_tagger(x[1])), pos_tagged))\n",
        "    # print(wordnet_tagged)\n",
        "\n",
        "    lemmatized_sentence = []\n",
        "    for word, tag in wordnet_tagged:\n",
        "        if tag is None:\n",
        "            # if there is no available tag, append the token as is\n",
        "            lemmatized_sentence.append(word)\n",
        "        else:       \n",
        "            # else use the tag to lemmatize the token\n",
        "            lemmatized_sentence.append(lemmatizer.lemmatize(word, tag))\n",
        "    text = \" \".join(lemmatized_sentence)\n",
        "    return(text)\n",
        "\n",
        "\n",
        "def remove_html_tags(text):\n",
        "    clean = re.compile('<.*?>')\n",
        "    return re.sub(clean, '', text)\n",
        "\n",
        "\n",
        "def clean_text(text):\n",
        "    # remove html tags\n",
        "    text = remove_html_tags(text)\n",
        "    # lower text\n",
        "    text = text.lower()\n",
        "    # unicode characters\n",
        "    text = text.encode('ascii', 'ignore').decode()\n",
        "    # remove digits\n",
        "    text = ''.join([i for i in text if not i.isdigit()])\n",
        "    # remove punctuation\n",
        "    text = text.translate(str.maketrans('', '', string.punctuation))\n",
        "    # remove stop words\n",
        "    stop_words = stopwords.words('english')\n",
        "    text = ' '.join([word for word in text.split(' ') if word not in stop_words])\n",
        "    return text"
      ],
      "execution_count": 8,
      "outputs": [
        {
          "output_type": "stream",
          "name": "stdout",
          "text": [
            "[nltk_data] Downloading package wordnet to /root/nltk_data...\n",
            "[nltk_data]   Unzipping corpora/wordnet.zip.\n",
            "[nltk_data] Downloading package punkt to /root/nltk_data...\n",
            "[nltk_data]   Unzipping tokenizers/punkt.zip.\n",
            "[nltk_data] Downloading package averaged_perceptron_tagger to\n",
            "[nltk_data]     /root/nltk_data...\n",
            "[nltk_data]   Unzipping taggers/averaged_perceptron_tagger.zip.\n"
          ]
        }
      ]
    },
    {
      "cell_type": "code",
      "metadata": {
        "colab": {
          "base_uri": "https://localhost:8080/",
          "height": 206
        },
        "id": "Cs1x9Gw2VyX8",
        "outputId": "742dafdf-53b2-410c-abb0-860421deb113"
      },
      "source": [
        "data['text'] = data.text.apply(clean_text)\n",
        "data.head()"
      ],
      "execution_count": 9,
      "outputs": [
        {
          "output_type": "execute_result",
          "data": {
            "text/html": [
              "<div>\n",
              "<style scoped>\n",
              "    .dataframe tbody tr th:only-of-type {\n",
              "        vertical-align: middle;\n",
              "    }\n",
              "\n",
              "    .dataframe tbody tr th {\n",
              "        vertical-align: top;\n",
              "    }\n",
              "\n",
              "    .dataframe thead th {\n",
              "        text-align: right;\n",
              "    }\n",
              "</style>\n",
              "<table border=\"1\" class=\"dataframe\">\n",
              "  <thead>\n",
              "    <tr style=\"text-align: right;\">\n",
              "      <th></th>\n",
              "      <th>business_id</th>\n",
              "      <th>text</th>\n",
              "      <th>stars</th>\n",
              "      <th>name</th>\n",
              "    </tr>\n",
              "  </thead>\n",
              "  <tbody>\n",
              "    <tr>\n",
              "      <th>0</th>\n",
              "      <td>RWGI8u00x5GghYCEzpYrIg</td>\n",
              "      <td>place reminds st lawrence market toronto veggi...</td>\n",
              "      <td>4</td>\n",
              "      <td>\"Marché Atwater\"</td>\n",
              "    </tr>\n",
              "    <tr>\n",
              "      <th>1</th>\n",
              "      <td>RWGI8u00x5GghYCEzpYrIg</td>\n",
              "      <td>quaint farmers market right waterfront makes g...</td>\n",
              "      <td>4</td>\n",
              "      <td>\"Marché Atwater\"</td>\n",
              "    </tr>\n",
              "    <tr>\n",
              "      <th>2</th>\n",
              "      <td>RWGI8u00x5GghYCEzpYrIg</td>\n",
              "      <td>must montreal visit nothing else gawk longingl...</td>\n",
              "      <td>5</td>\n",
              "      <td>\"Marché Atwater\"</td>\n",
              "    </tr>\n",
              "    <tr>\n",
              "      <th>3</th>\n",
              "      <td>RWGI8u00x5GghYCEzpYrIg</td>\n",
              "      <td>marche atwater cute little market booths outsi...</td>\n",
              "      <td>4</td>\n",
              "      <td>\"Marché Atwater\"</td>\n",
              "    </tr>\n",
              "    <tr>\n",
              "      <th>4</th>\n",
              "      <td>RWGI8u00x5GghYCEzpYrIg</td>\n",
              "      <td>le coin gourmand carries best store bought chi...</td>\n",
              "      <td>4</td>\n",
              "      <td>\"Marché Atwater\"</td>\n",
              "    </tr>\n",
              "  </tbody>\n",
              "</table>\n",
              "</div>"
            ],
            "text/plain": [
              "              business_id  ...              name\n",
              "0  RWGI8u00x5GghYCEzpYrIg  ...  \"Marché Atwater\"\n",
              "1  RWGI8u00x5GghYCEzpYrIg  ...  \"Marché Atwater\"\n",
              "2  RWGI8u00x5GghYCEzpYrIg  ...  \"Marché Atwater\"\n",
              "3  RWGI8u00x5GghYCEzpYrIg  ...  \"Marché Atwater\"\n",
              "4  RWGI8u00x5GghYCEzpYrIg  ...  \"Marché Atwater\"\n",
              "\n",
              "[5 rows x 4 columns]"
            ]
          },
          "metadata": {},
          "execution_count": 9
        }
      ]
    },
    {
      "cell_type": "code",
      "metadata": {
        "id": "FcMNc3sTV3hM"
      },
      "source": [
        "words = [\"discomfort\", \"ache\", \"death\", \"allergy\", \"diarrhoea\", \"infection\", \"stomach\", \"loosemotion\", \"sick\", \"vomit\", \"nausea\", \"throw up\", \"threw up\", \"unhygienic\", \"pain\", \"flu\", \"stale\", \"poision\", \"motion\", \"upset\", \"indigestion\", \"acidity\", \"barf\" ]\n",
        "\n",
        "for w in words:\n",
        "  w = lemmatize_text(w);"
      ],
      "execution_count": 10,
      "outputs": []
    },
    {
      "cell_type": "code",
      "metadata": {
        "colab": {
          "base_uri": "https://localhost:8080/",
          "height": 206
        },
        "id": "6OmG1tjvV8dH",
        "outputId": "c7ee5f61-d6a3-4a79-a19c-7cfd4834df2b"
      },
      "source": [
        "# creating a new feature for food poisoning based on words seen in review text\n",
        "for index,row in data.iterrows() :\n",
        "    if any(word in row['text'] for word in words) and row['stars'] < 3:\n",
        "        data.loc[index,'FP'] = 1\n",
        "    else:\n",
        "        data.loc[index,'FP'] = 0\n",
        "\n",
        "\n",
        "data.head()"
      ],
      "execution_count": 11,
      "outputs": [
        {
          "output_type": "execute_result",
          "data": {
            "text/html": [
              "<div>\n",
              "<style scoped>\n",
              "    .dataframe tbody tr th:only-of-type {\n",
              "        vertical-align: middle;\n",
              "    }\n",
              "\n",
              "    .dataframe tbody tr th {\n",
              "        vertical-align: top;\n",
              "    }\n",
              "\n",
              "    .dataframe thead th {\n",
              "        text-align: right;\n",
              "    }\n",
              "</style>\n",
              "<table border=\"1\" class=\"dataframe\">\n",
              "  <thead>\n",
              "    <tr style=\"text-align: right;\">\n",
              "      <th></th>\n",
              "      <th>business_id</th>\n",
              "      <th>text</th>\n",
              "      <th>stars</th>\n",
              "      <th>name</th>\n",
              "      <th>FP</th>\n",
              "    </tr>\n",
              "  </thead>\n",
              "  <tbody>\n",
              "    <tr>\n",
              "      <th>0</th>\n",
              "      <td>RWGI8u00x5GghYCEzpYrIg</td>\n",
              "      <td>place reminds st lawrence market toronto veggi...</td>\n",
              "      <td>4</td>\n",
              "      <td>\"Marché Atwater\"</td>\n",
              "      <td>0.0</td>\n",
              "    </tr>\n",
              "    <tr>\n",
              "      <th>1</th>\n",
              "      <td>RWGI8u00x5GghYCEzpYrIg</td>\n",
              "      <td>quaint farmers market right waterfront makes g...</td>\n",
              "      <td>4</td>\n",
              "      <td>\"Marché Atwater\"</td>\n",
              "      <td>0.0</td>\n",
              "    </tr>\n",
              "    <tr>\n",
              "      <th>2</th>\n",
              "      <td>RWGI8u00x5GghYCEzpYrIg</td>\n",
              "      <td>must montreal visit nothing else gawk longingl...</td>\n",
              "      <td>5</td>\n",
              "      <td>\"Marché Atwater\"</td>\n",
              "      <td>0.0</td>\n",
              "    </tr>\n",
              "    <tr>\n",
              "      <th>3</th>\n",
              "      <td>RWGI8u00x5GghYCEzpYrIg</td>\n",
              "      <td>marche atwater cute little market booths outsi...</td>\n",
              "      <td>4</td>\n",
              "      <td>\"Marché Atwater\"</td>\n",
              "      <td>0.0</td>\n",
              "    </tr>\n",
              "    <tr>\n",
              "      <th>4</th>\n",
              "      <td>RWGI8u00x5GghYCEzpYrIg</td>\n",
              "      <td>le coin gourmand carries best store bought chi...</td>\n",
              "      <td>4</td>\n",
              "      <td>\"Marché Atwater\"</td>\n",
              "      <td>0.0</td>\n",
              "    </tr>\n",
              "  </tbody>\n",
              "</table>\n",
              "</div>"
            ],
            "text/plain": [
              "              business_id  ...   FP\n",
              "0  RWGI8u00x5GghYCEzpYrIg  ...  0.0\n",
              "1  RWGI8u00x5GghYCEzpYrIg  ...  0.0\n",
              "2  RWGI8u00x5GghYCEzpYrIg  ...  0.0\n",
              "3  RWGI8u00x5GghYCEzpYrIg  ...  0.0\n",
              "4  RWGI8u00x5GghYCEzpYrIg  ...  0.0\n",
              "\n",
              "[5 rows x 5 columns]"
            ]
          },
          "metadata": {},
          "execution_count": 11
        }
      ]
    },
    {
      "cell_type": "code",
      "metadata": {
        "id": "GOTMrtxmWmwI"
      },
      "source": [
        "from sklearn.model_selection import train_test_split\n",
        "\n",
        "# split the data into train and test set\n",
        "train, test = train_test_split(data, test_size=0.2, random_state=42, shuffle=True)"
      ],
      "execution_count": 12,
      "outputs": []
    },
    {
      "cell_type": "code",
      "metadata": {
        "id": "Ffc3PNjdWOTg"
      },
      "source": [
        "train_X = train['text']   # '0' corresponds to Texts/Reviews\n",
        "train_y = train['FP']   # '1' corresponds to Label (1 - positive and 0 - negative)\n",
        "test_X = test['text'] \n",
        "test_y = test['FP']"
      ],
      "execution_count": 13,
      "outputs": []
    },
    {
      "cell_type": "code",
      "metadata": {
        "colab": {
          "base_uri": "https://localhost:8080/"
        },
        "id": "ZidLE7etW66W",
        "outputId": "ead8299d-49ad-46f3-d2a4-f09a33102578"
      },
      "source": [
        "from time import time\n",
        "from sklearn.feature_extraction.text import TfidfVectorizer, CountVectorizer\n",
        "t = time()  # not compulsory\n",
        "\n",
        "# loading CountVectorizer\n",
        "tf_vectorizer = CountVectorizer() # or term frequency\n",
        "\n",
        "X_train_tf = tf_vectorizer.fit_transform(train_X)\n",
        "duration = time() - t\n",
        "print(\"Time taken to extract features from training data : %f seconds\" % (duration))\n",
        "print(\"n_samples: %d, n_features: %d\" % X_train_tf.shape)"
      ],
      "execution_count": 16,
      "outputs": [
        {
          "output_type": "stream",
          "name": "stdout",
          "text": [
            "Time taken to extract features from training data : 12.334680 seconds\n",
            "n_samples: 198967, n_features: 157032\n"
          ]
        }
      ]
    },
    {
      "cell_type": "code",
      "metadata": {
        "colab": {
          "base_uri": "https://localhost:8080/"
        },
        "id": "GuR7v4DoXPDp",
        "outputId": "f23f7421-1e8c-4c7f-ccdb-45dfa11064af"
      },
      "source": [
        "t = time()\n",
        "X_test_tf = tf_vectorizer.transform(test_X)\n",
        "\n",
        "duration = time() - t\n",
        "print(\"Time taken to extract features from test data : %f seconds\" % (duration))\n",
        "print(\"n_samples: %d, n_features: %d\" % X_test_tf.shape)"
      ],
      "execution_count": 18,
      "outputs": [
        {
          "output_type": "stream",
          "name": "stdout",
          "text": [
            "Time taken to extract features from test data : 2.678580 seconds\n",
            "n_samples: 49742, n_features: 157032\n"
          ]
        }
      ]
    },
    {
      "cell_type": "code",
      "metadata": {
        "colab": {
          "base_uri": "https://localhost:8080/"
        },
        "id": "jRoRTORNXWX6",
        "outputId": "9fd93a69-4b06-4fd2-c5d3-c66659b1b4c8"
      },
      "source": [
        "from sklearn.naive_bayes import MultinomialNB\n",
        "from sklearn import metrics\n",
        "# build naive bayes classification model\n",
        "t = time()\n",
        "\n",
        "naive_bayes_classifier = MultinomialNB()\n",
        "naive_bayes_classifier.fit(X_train_tf, train_y)\n",
        "\n",
        "training_time = time() - t\n",
        "print(\"train time: %0.3fs\" % training_time)"
      ],
      "execution_count": 20,
      "outputs": [
        {
          "output_type": "stream",
          "name": "stdout",
          "text": [
            "train time: 0.146s\n"
          ]
        }
      ]
    },
    {
      "cell_type": "code",
      "metadata": {
        "colab": {
          "base_uri": "https://localhost:8080/"
        },
        "id": "hT84QoitXh7D",
        "outputId": "d047ee15-791a-420f-9d39-bde31fad89a7"
      },
      "source": [
        "# predict the new document from the testing dataset\n",
        "t = time()\n",
        "y_pred = naive_bayes_classifier.predict(X_test_tf)\n",
        "\n",
        "test_time = time() - t\n",
        "print(\"Naive Bayes classifier\")\n",
        "print(\"test time:  %0.3fs\" % test_time)\n",
        "\n",
        "# compute the performance measures\n",
        "score_nb = metrics.accuracy_score(test_y, y_pred)\n",
        "print(\"accuracy:   %0.3f\" % score_nb)\n",
        "\n",
        "print(metrics.classification_report(test_y, y_pred,\n",
        "                                            target_names=['Positive', 'Negative']))\n",
        "\n",
        "print(\"confusion matrix:\")\n",
        "print(metrics.confusion_matrix(test_y, y_pred))\n",
        "\n",
        "print('------------------------------')"
      ],
      "execution_count": 26,
      "outputs": [
        {
          "output_type": "stream",
          "name": "stdout",
          "text": [
            "Naive Bayes classifier\n",
            "test time:  0.079s\n",
            "accuracy:   0.974\n",
            "              precision    recall  f1-score   support\n",
            "\n",
            "    Positive       0.99      0.99      0.99     48807\n",
            "    Negative       0.27      0.22      0.24       935\n",
            "\n",
            "    accuracy                           0.97     49742\n",
            "   macro avg       0.63      0.61      0.61     49742\n",
            "weighted avg       0.97      0.97      0.97     49742\n",
            "\n",
            "confusion matrix:\n",
            "[[48231   576]\n",
            " [  727   208]]\n",
            "------------------------------\n"
          ]
        }
      ]
    },
    {
      "cell_type": "code",
      "metadata": {
        "colab": {
          "base_uri": "https://localhost:8080/"
        },
        "id": "ePt-PkvsZ752",
        "outputId": "dae2850c-1e9e-4a5e-be39-795f18ff41a3"
      },
      "source": [
        "# building knn classifier\n",
        "from sklearn.neighbors import KNeighborsClassifier\n",
        "t = time()\n",
        "\n",
        "classifier = KNeighborsClassifier(n_neighbors=150, algorithm='auto')\n",
        "classifier.fit(X_train_tf, train_y)\n",
        "\n",
        "training_time = time() - t\n",
        "print(\"train time: %0.3fs\" % training_time)"
      ],
      "execution_count": 22,
      "outputs": [
        {
          "output_type": "execute_result",
          "data": {
            "text/plain": [
              "KNeighborsClassifier(n_neighbors=150)"
            ]
          },
          "metadata": {},
          "execution_count": 22
        }
      ]
    },
    {
      "cell_type": "code",
      "metadata": {
        "id": "lsrVTolmaYtB"
      },
      "source": [
        "t = time()\n",
        "predicted_labels = classifier.predict(X_test_tf)\n"
      ],
      "execution_count": 27,
      "outputs": []
    },
    {
      "cell_type": "code",
      "metadata": {
        "colab": {
          "base_uri": "https://localhost:8080/"
        },
        "id": "l0aqpWWWamb1",
        "outputId": "d49672ee-e68b-460a-c88e-2dcd2d85ceea"
      },
      "source": [
        "# compute the performance measures\n",
        "print(\"KNN classifier\")\n",
        "test_time = time() - t\n",
        "print(\"test time:  %0.3fs\" % test_time)\n",
        "score_knn = metrics.accuracy_score(test_y, predicted_labels)\n",
        "print(\"accuracy:   %0.3f\" % score_knn)\n",
        "\n",
        "print(metrics.classification_report(test_y, predicted_labels,\n",
        "                                            target_names=['Positive', 'Negative']))\n",
        "\n",
        "print(\"confusion matrix:\")\n",
        "print(metrics.confusion_matrix(test_y, predicted_labels))\n",
        "\n",
        "print('------------------------------')"
      ],
      "execution_count": 28,
      "outputs": [
        {
          "output_type": "stream",
          "name": "stdout",
          "text": [
            "KNN classifier\n",
            "test time:  667.505s\n",
            "accuracy:   0.981\n",
            "              precision    recall  f1-score   support\n",
            "\n",
            "    Positive       0.98      1.00      0.99     48807\n",
            "    Negative       0.00      0.00      0.00       935\n",
            "\n",
            "    accuracy                           0.98     49742\n",
            "   macro avg       0.49      0.50      0.50     49742\n",
            "weighted avg       0.96      0.98      0.97     49742\n",
            "\n",
            "confusion matrix:\n",
            "[[48807     0]\n",
            " [  935     0]]\n",
            "------------------------------\n"
          ]
        },
        {
          "output_type": "stream",
          "name": "stderr",
          "text": [
            "/usr/local/lib/python3.7/dist-packages/sklearn/metrics/_classification.py:1308: UndefinedMetricWarning: Precision and F-score are ill-defined and being set to 0.0 in labels with no predicted samples. Use `zero_division` parameter to control this behavior.\n",
            "  _warn_prf(average, modifier, msg_start, len(result))\n",
            "/usr/local/lib/python3.7/dist-packages/sklearn/metrics/_classification.py:1308: UndefinedMetricWarning: Precision and F-score are ill-defined and being set to 0.0 in labels with no predicted samples. Use `zero_division` parameter to control this behavior.\n",
            "  _warn_prf(average, modifier, msg_start, len(result))\n",
            "/usr/local/lib/python3.7/dist-packages/sklearn/metrics/_classification.py:1308: UndefinedMetricWarning: Precision and F-score are ill-defined and being set to 0.0 in labels with no predicted samples. Use `zero_division` parameter to control this behavior.\n",
            "  _warn_prf(average, modifier, msg_start, len(result))\n"
          ]
        }
      ]
    }
  ]
}